{
 "cells": [
  {
   "cell_type": "markdown",
   "metadata": {},
   "source": [
    "# Numpy \n",
    "## Numpy - element wise functions 元素操作函数\n",
    "对每个元素操作的函数\n",
    "- abs, fabs, sqrt, squre, exp, log, log10, log2, log1p\n",
    "- sign-取符号, ceil-向上取整, floor-向下取整, rint-四舍五入, modf-小数整数分离, isnan, isfinit, isinf\n",
    "- cos,cosh,sin,sinh,tan,tanh,arccos,arccoh,arcsin,arcsinh,arctan,arctanh\n",
    "- add,sustract,multiply,divide,floor_divide,power\n",
    "- maximum,fmax,minimum,fmin,mod,copysign\n",
    "- greater,greater_equal,less,less_equal,equal,not_equal,logical_and,logical_or,logical_xor,logical_not"
   ]
  },
  {
   "cell_type": "code",
   "execution_count": 2,
   "metadata": {
    "collapsed": false
   },
   "outputs": [
    {
     "name": "stdout",
     "output_type": "stream",
     "text": [
      "[0 1 2 3 4 5 6 7 8 9]\n",
      "[0.         1.         1.41421356 1.73205081 2.         2.23606798\n",
      " 2.44948974 2.64575131 2.82842712 3.        ]\n",
      "[1.00000000e+00 2.71828183e+00 7.38905610e+00 2.00855369e+01\n",
      " 5.45981500e+01 1.48413159e+02 4.03428793e+02 1.09663316e+03\n",
      " 2.98095799e+03 8.10308393e+03]\n"
     ]
    }
   ],
   "source": [
    "## 一元函数 unary\n",
    "import numpy as np\n",
    "\n",
    "arr = np.arange(10)\n",
    "print(arr)\n",
    "# 开平方\n",
    "print(np.sqrt(arr))\n",
    "# 指数函数\n",
    "print(np.exp(arr))"
   ]
  },
  {
   "cell_type": "code",
   "execution_count": 3,
   "metadata": {
    "collapsed": false
   },
   "outputs": [
    {
     "name": "stdout",
     "output_type": "stream",
     "text": [
      "[-0.35233803 -1.56877642  1.69968217  1.20562621  0.40802483 -0.91186135\n",
      " -1.31666442 -0.12981717]\n",
      "[-0.5529226  -1.09425143 -1.10740299  1.86792047  0.72381972  1.5985426\n",
      "  0.54179412 -0.28744764]\n",
      "[-0.35233803 -1.09425143  1.69968217  1.86792047  0.72381972  1.5985426\n",
      "  0.54179412 -0.12981717]\n"
     ]
    }
   ],
   "source": [
    "## binary 二元函数\n",
    "# randn = random + normal 随机正态分布\n",
    "x = np.random.randn(8)\n",
    "y = np.random.randn(8)\n",
    "print(x)\n",
    "print(y)\n",
    "# 求最大值\n",
    "print(np.maximum(x,y))"
   ]
  },
  {
   "cell_type": "markdown",
   "metadata": {},
   "source": [
    "## inplace \"原位\"操作\n",
    "- 所有的操作都是“就地”操作,不允许进行移动\n",
    "- 尤其适合内存不足的情况"
   ]
  },
  {
   "cell_type": "code",
   "execution_count": 5,
   "metadata": {
    "collapsed": false
   },
   "outputs": [
    {
     "name": "stdout",
     "output_type": "stream",
     "text": [
      "[       nan        nan 1.30371859 1.09801011 0.63876821        nan\n",
      "        nan        nan]\n",
      "[-0.35233803 -1.56877642  1.69968217  1.20562621  0.40802483 -0.91186135\n",
      " -1.31666442 -0.12981717]\n",
      "[       nan        nan 1.30371859 1.09801011 0.63876821        nan\n",
      "        nan        nan]\n",
      "[       nan        nan 1.30371859 1.09801011 0.63876821        nan\n",
      "        nan        nan]\n"
     ]
    },
    {
     "name": "stderr",
     "output_type": "stream",
     "text": [
      "C:\\Anaconda3\\envs\\python3\\lib\\site-packages\\ipykernel_launcher.py:4: RuntimeWarning: invalid value encountered in sqrt\n",
      "  after removing the cwd from sys.path.\n",
      "C:\\Anaconda3\\envs\\python3\\lib\\site-packages\\ipykernel_launcher.py:7: RuntimeWarning: invalid value encountered in sqrt\n",
      "  import sys\n"
     ]
    }
   ],
   "source": [
    "## inplace \"原位\"操作\n",
    "# 所有的操作都是“就地”操作,不允许进行移动\n",
    "arr = np.array([-0.35233803, -1.56877642,  1.69968217,  1.20562621,  0.40802483, -0.91186135, -1.31666442, -0.12981717])\n",
    "print(np.sqrt(arr))\n",
    "print(arr)\n",
    "# inplace “原位”操作\n",
    "print(np.sqrt(arr,arr))\n",
    "# 改变了原数组的值\n",
    "print(arr)\n",
    "# nan - not a number"
   ]
  },
  {
   "cell_type": "markdown",
   "metadata": {},
   "source": [
    "## Numpy - array function 数组操作函数\n",
    "- sum-求和,mean-均值,\n",
    "- std-标准差,var-方差\n",
    "- min-最小值,max-最大值,argmin-最小值元素,argmax-最大值元素\n",
    "- cumsum-累加求和,cumprod-累加乘积"
   ]
  },
  {
   "cell_type": "code",
   "execution_count": 12,
   "metadata": {
    "collapsed": false
   },
   "outputs": [
    {
     "name": "stdout",
     "output_type": "stream",
     "text": [
      "[[-0.52483718  0.07750143 -0.15198024 -0.26957984]\n",
      " [-0.74371785 -0.45853156 -1.27812063  0.73037314]\n",
      " [-1.00775661  0.52795874  0.1662487   1.49585349]\n",
      " [-0.07365622 -0.94438777 -0.22697649  1.14764035]\n",
      " [ 0.28538996  0.89246024 -0.17646771 -1.75689404]]\n",
      "-0.11447400477916383\n",
      "-0.11447400477916383\n",
      "-2.2894800955832766\n",
      "-2.2894800955832766\n",
      "8\n",
      "[-0.21722396 -0.43749923  0.29557608 -0.02434503 -0.18887789]\n",
      "[-2.06457791  0.09500108 -1.66729636  1.3473931 ]\n",
      "[-0.52483718 -0.44733575 -0.59931598 -0.86889583 -1.61261368 -2.07114525\n",
      " -3.34926588 -2.61889274 -3.62664935 -3.09869061 -2.9324419  -1.43658841\n",
      " -1.51024464 -2.4546324  -2.68160889 -1.53396855 -1.24857859 -0.35611835\n",
      " -0.53258606 -2.2894801 ]\n",
      "[[-0.52483718  0.07750143 -0.15198024 -0.26957984]\n",
      " [-1.26855504 -0.38103013 -1.43010087  0.4607933 ]\n",
      " [-2.27631165  0.14692861 -1.26385217  1.95664679]\n",
      " [-2.34996787 -0.79745916 -1.49082865  3.10428713]\n",
      " [-2.06457791  0.09500108 -1.66729636  1.3473931 ]]\n"
     ]
    }
   ],
   "source": [
    "arr = np.random.randn(5,4)\n",
    "print(arr)\n",
    "# 求均值\n",
    "print(arr.mean())\n",
    "print(np.mean(arr))\n",
    "# 求和\n",
    "print(arr.sum())\n",
    "print(np.sum(arr))\n",
    "# 条件求和\n",
    "print((arr > 0).sum())\n",
    "# 按某个坐标轴求均值\n",
    "print(arr.mean(axis=1))\n",
    "# 按某个坐标轴求和\n",
    "print(arr.sum(axis=0))\n",
    "# 求累加和\n",
    "print(arr.cumsum())\n",
    "print(arr.cumsum(axis=0))"
   ]
  },
  {
   "cell_type": "code",
   "execution_count": 14,
   "metadata": {
    "collapsed": false
   },
   "outputs": [
    {
     "name": "stdout",
     "output_type": "stream",
     "text": [
      "True\n",
      "False\n"
     ]
    }
   ],
   "source": [
    "# 布尔数组的函数\n",
    "bools = np.array([False,False,True,False])\n",
    "# 任何一个元素为真，返回真\n",
    "print(bools.any())\n",
    "# 所有元素为真，返回真\n",
    "print(bools.all())"
   ]
  },
  {
   "cell_type": "code",
   "execution_count": 18,
   "metadata": {
    "collapsed": false
   },
   "outputs": [
    {
     "name": "stdout",
     "output_type": "stream",
     "text": [
      "[ 0.33552324  2.37094047 -0.11068084  0.5453685  -0.79519909  1.00856127]\n",
      "[-0.79519909 -0.11068084  0.33552324  0.5453685   1.00856127  2.37094047]\n",
      "[[ 1.01277269  0.34842224 -1.54738896]\n",
      " [-1.0206474  -1.75021605 -0.70490509]\n",
      " [-2.51853057  0.53660079  0.63093401]\n",
      " [-0.58978646  0.23575388 -1.57938108]\n",
      " [-0.26224745 -1.17084857 -0.64633248]]\n",
      "--------------------\n",
      "[[-2.51853057 -1.75021605 -1.57938108]\n",
      " [-1.0206474  -1.17084857 -1.54738896]\n",
      " [-0.58978646  0.23575388 -0.70490509]\n",
      " [-0.26224745  0.34842224 -0.64633248]\n",
      " [ 1.01277269  0.53660079  0.63093401]]\n"
     ]
    }
   ],
   "source": [
    "# 排序\n",
    "arr = np.random.randn(6)\n",
    "print(arr)\n",
    "arr.sort()\n",
    "print(arr)\n",
    "# 按某个坐标轴排序\n",
    "arr = np.random.randn(5,3)\n",
    "print(arr)\n",
    "arr.sort(0)\n",
    "print('-'*20)\n",
    "print(arr)"
   ]
  },
  {
   "cell_type": "markdown",
   "metadata": {},
   "source": [
    "## Numpy - set function 集合操作函数\n",
    "- unique(x)-列表去重排序\n",
    "- intersect1d(x,y)-排序交集\n",
    "- union1d(x,y)-排序并集\n",
    "- in1d(x,y)-判断x的每个元素是否在y中\n",
    "- setdiff1d(x,y)-(x-y)的差集\n",
    "- setxor1d(x,y)-补集"
   ]
  },
  {
   "cell_type": "code",
   "execution_count": 21,
   "metadata": {
    "collapsed": false
   },
   "outputs": [
    {
     "name": "stdout",
     "output_type": "stream",
     "text": [
      "['Bob' 'Joe' 'Will']\n",
      "[1 2 3 4]\n",
      "[ True False False  True  True False  True]\n",
      "[ True  True  True]\n"
     ]
    }
   ],
   "source": [
    "# 列表去重\n",
    "names = np.array(['Bob','Joe','Will','Bob','Will','Joe','Joe'])\n",
    "print(np.unique(names))\n",
    "ints = np.array([3,3,3,2,2,1,1,4,4])\n",
    "print(np.unique(ints))\n",
    "# 判断是否在集合中\n",
    "values = np.array([6,0,0,3,2,5,6])\n",
    "print(np.in1d(values,[2,3,6]))\n",
    "print(np.in1d([2,3,6],values))"
   ]
  },
  {
   "cell_type": "markdown",
   "metadata": {},
   "source": [
    "## Numpy - where 条件逻辑\n",
    "```python\n",
    "    numpy.where(cond,true_res,false_res)\n",
    "```"
   ]
  },
  {
   "cell_type": "code",
   "execution_count": 22,
   "metadata": {
    "collapsed": false
   },
   "outputs": [
    {
     "name": "stdout",
     "output_type": "stream",
     "text": [
      "[1.1 2.2 1.3 1.4 2.5]\n"
     ]
    }
   ],
   "source": [
    "xarr = np.array([1.1,1.2,1.3,1.4,1.5])\n",
    "yarr = np.array([2.1,2.2,2.3,2.4,2.5])\n",
    "cond = np.array([True,False,True,True,False])\n",
    "print(np.where(cond,xarr,yarr))"
   ]
  },
  {
   "cell_type": "code",
   "execution_count": 23,
   "metadata": {
    "collapsed": false
   },
   "outputs": [
    {
     "name": "stdout",
     "output_type": "stream",
     "text": [
      "[[-0.62692815  1.62615284 -0.97428028  1.00908838]\n",
      " [ 1.92994521  1.28319427 -1.33475276 -0.12073904]\n",
      " [ 0.35608264  0.26990468 -0.00899892  1.09197816]\n",
      " [ 0.62263855  1.70197785 -2.4501422   1.83826516]]\n",
      "--------------------\n",
      "[[-0.62692815  2.         -0.97428028  2.        ]\n",
      " [ 2.          2.         -1.33475276 -0.12073904]\n",
      " [ 2.          2.         -0.00899892  2.        ]\n",
      " [ 2.          2.         -2.4501422   2.        ]]\n"
     ]
    }
   ],
   "source": [
    "arr = np.random.randn(4,4)\n",
    "print(arr)\n",
    "print('-'*20)\n",
    "print(np.where(arr > 0, 2, arr))"
   ]
  },
  {
   "cell_type": "markdown",
   "metadata": {
    "collapsed": true
   },
   "source": [
    "## Numpy - broadcasting 数组扩维\n",
    "[numpy 中 broadcasting 的理解](https://www.cnblogs.com/pied/p/8288856.html)"
   ]
  },
  {
   "cell_type": "code",
   "execution_count": 29,
   "metadata": {
    "collapsed": false
   },
   "outputs": [
    {
     "name": "stdout",
     "output_type": "stream",
     "text": [
      "[[ 0  1  2  3]\n",
      " [ 4  5  6  7]\n",
      " [ 8  9 10 11]]\n",
      "--------------------\n",
      "[1. 1. 1. 1.]\n",
      "--------------------\n",
      "[[ 1.  2.  3.  4.]\n",
      " [ 5.  6.  7.  8.]\n",
      " [ 9. 10. 11. 12.]]\n"
     ]
    }
   ],
   "source": [
    "xarr = np.arange(12).reshape(3,4)\n",
    "# ValueError: operands could not be broadcast together with shapes (3,4) (1,3) \n",
    "# yarr = np.ones(3).reshape(3,1)\n",
    "# okay\n",
    "yarr = np.ones(3).reshape(1,3) \n",
    "# ValueError: operands could not be broadcast together with shapes (3,4) (3,) \n",
    "# yarr = np.ones(3)\n",
    "# okay\n",
    "yarr = np.ones(4)\n",
    "print(xarr)\n",
    "print('-'*20)\n",
    "print(yarr)\n",
    "print('-'*20)\n",
    "print(xarr+yarr)"
   ]
  },
  {
   "cell_type": "code",
   "execution_count": 36,
   "metadata": {
    "collapsed": false
   },
   "outputs": [
    {
     "name": "stdout",
     "output_type": "stream",
     "text": [
      "[[[ 0  1  2  3]\n",
      "  [ 4  5  6  7]\n",
      "  [ 8  9 10 11]]\n",
      "\n",
      " [[12 13 14 15]\n",
      "  [16 17 18 19]\n",
      "  [20 21 22 23]]]\n",
      "--------------------\n",
      "[[[1.]\n",
      "  [1.]\n",
      "  [1.]]\n",
      "\n",
      " [[1.]\n",
      "  [1.]\n",
      "  [1.]]]\n",
      "--------------------\n",
      "[[[ 1.  2.  3.  4.]\n",
      "  [ 5.  6.  7.  8.]\n",
      "  [ 9. 10. 11. 12.]]\n",
      "\n",
      " [[13. 14. 15. 16.]\n",
      "  [17. 18. 19. 20.]\n",
      "  [21. 22. 23. 24.]]]\n"
     ]
    }
   ],
   "source": [
    "xarr = np.arange(24).reshape(2,3,4)\n",
    "# ValueError: operands could not be broadcast together with shapes (2,3,4) (2,3) \n",
    "# yarr = np.ones(6).reshape(2,3)\n",
    "# okay\n",
    "yarr = np.ones(12).reshape(3,4)\n",
    "# okay\n",
    "yarr = np.ones(12).reshape(1,3,4)\n",
    "# okay\n",
    "yarr = np.ones(8).reshape(2,1,4)\n",
    "# okay\n",
    "yarr = np.ones(6).reshape(2,3,1)\n",
    "print(xarr)\n",
    "print('-'*20)\n",
    "print(yarr)\n",
    "print('-'*20)\n",
    "print(xarr+yarr)"
   ]
  },
  {
   "cell_type": "markdown",
   "metadata": {},
   "source": [
    "## Numpy - linear algebra 线性代数\n",
    "- diag-对角阵\n",
    "- dot-点积\n",
    "- trace-迹（方阵，对角线元素之和）\n",
    "- det-行列式\n",
    "- eig-特征值和特征向量\n",
    "- inv-逆,pinv-伪逆\n",
    "- qr-QR分解\n",
    "- svd-奇异值分解\n",
    "- solve-求解线性方程AX=b\n",
    "- lstsq-最小二乘法解线性方程AX=b"
   ]
  },
  {
   "cell_type": "code",
   "execution_count": 37,
   "metadata": {
    "collapsed": false
   },
   "outputs": [
    {
     "name": "stdout",
     "output_type": "stream",
     "text": [
      "[[1. 2. 3.]\n",
      " [4. 5. 6.]]\n",
      "--------------------\n",
      "[[ 6. 23.]\n",
      " [-1.  7.]\n",
      " [ 8.  9.]]\n",
      "--------------------\n",
      "[[ 28.  64.]\n",
      " [ 67. 181.]]\n"
     ]
    }
   ],
   "source": [
    "x = np.array([[1.,2.,3.],[4.,5.,6.]])\n",
    "y = np.array([[6.,23.],[-1.,7.],[8.,9.]])\n",
    "# 内积\n",
    "print(x)\n",
    "print('-'*20)\n",
    "print(y)\n",
    "print('-'*20)\n",
    "print(x.dot(y))"
   ]
  },
  {
   "cell_type": "code",
   "execution_count": 39,
   "metadata": {
    "collapsed": false
   },
   "outputs": [
    {
     "name": "stdout",
     "output_type": "stream",
     "text": [
      "[[-1.4578384  -1.6771046   0.16742732 -0.10114284 -1.6861579 ]\n",
      " [ 2.02510864  0.00749223  1.69924333  0.13404784  0.49528036]\n",
      " [-0.93942279 -1.74176497 -1.99184078 -0.62912354 -1.84442582]\n",
      " [-0.57544483  0.51495792 -0.66183933  0.50876864  1.55778877]\n",
      " [-0.07033738 -0.69228948  1.15928573  0.52418508  0.61428269]]\n",
      "--------------------\n",
      "[[-1.4578384   2.02510864 -0.93942279 -0.57544483 -0.07033738]\n",
      " [-1.6771046   0.00749223 -1.74176497  0.51495792 -0.69228948]\n",
      " [ 0.16742732  1.69924333 -1.99184078 -0.66183933  1.15928573]\n",
      " [-0.10114284  0.13404784 -0.62912354  0.50876864  0.52418508]\n",
      " [-1.6861579   0.49528036 -1.84442582  1.55778877  0.61428269]]\n",
      "--------------------\n",
      "[[7.44495707 3.84873773 5.36756191 0.68028626 4.2542094 ]\n",
      " [3.84873773 6.59092754 2.05787578 1.1655234  6.42106442]\n",
      " [5.36756191 2.05787578 8.66486422 1.73491694 3.91421881]\n",
      " [0.68028626 1.1655234  1.73491694 0.95761065 2.51185765]\n",
      " [4.2542094  6.42106442 3.91421881 2.51185765 9.29438676]]\n",
      "--------------------\n",
      "[[  51.03094524   40.03890248  -50.29930441  289.94273415 -108.19445277]\n",
      " [  40.03890248   32.53949104  -39.61933539  230.16380853  -86.32436316]\n",
      " [ -50.29930441  -39.61933539   49.78551909 -286.60517866  106.88409018]\n",
      " [ 289.94273415  230.16380853 -286.60517866 1658.41318871 -619.21634669]\n",
      " [-108.19445277  -86.32436316  106.88409018 -619.21634669  231.60126744]]\n",
      "--------------------\n",
      "[[ 1.00000000e+00  2.00090787e-15 -8.43533116e-14 -5.25963810e-15\n",
      "   9.28334110e-14]\n",
      " [ 2.70654543e-15  1.00000000e+00 -4.52833417e-14  3.37169949e-13\n",
      "   2.19031910e-14]\n",
      " [-7.98992254e-15  1.67959551e-14  1.00000000e+00 -9.60937030e-14\n",
      "   8.46649371e-15]\n",
      " [ 3.18169873e-14  9.11305999e-15 -2.52312605e-14  1.00000000e+00\n",
      "  -4.25403973e-14]\n",
      " [-8.37293295e-14 -6.20621063e-14  8.48711652e-14  6.12901652e-14\n",
      "   1.00000000e+00]]\n",
      "--------------------\n",
      "[[-0.68649349  0.36654489  0.58631772 -0.15991075 -0.15821383]\n",
      " [-0.35488901 -0.63348322  0.12747443  0.6637532  -0.12623298]\n",
      " [-0.49493856  0.39249498 -0.70754001  0.27557518  0.15629767]\n",
      " [-0.06272865 -0.11206825 -0.31643536 -0.25193081 -0.90548625]\n",
      " [-0.39227722 -0.54564846 -0.19808485 -0.62805209  0.33867285]]\n",
      "--------------------\n",
      "[[-1.08449055e+01 -8.59165221e+00 -1.03479771e+01 -2.78473498e+00\n",
      "  -1.09400917e+01]\n",
      " [ 0.00000000e+00 -5.59106305e+00  1.73452175e+00 -1.28594690e+00\n",
      "  -6.32493397e+00]\n",
      " [ 0.00000000e+00  0.00000000e+00 -4.04565144e+00 -1.48066764e+00\n",
      "  -2.09254432e+00]\n",
      " [ 0.00000000e+00  0.00000000e+00  0.00000000e+00 -6.75894224e-01\n",
      "  -1.80980359e+00]\n",
      " [ 0.00000000e+00  0.00000000e+00  0.00000000e+00  0.00000000e+00\n",
      "   1.46231000e-03]]\n"
     ]
    }
   ],
   "source": [
    "# 转置，逆矩阵，QR分解\n",
    "from numpy.linalg import inv,qr\n",
    "X = np.random.randn(5,5)\n",
    "# 转置\n",
    "mat = X.T.dot(X)\n",
    "print(X)\n",
    "print('-'*20)\n",
    "print(X.T)\n",
    "print('-'*20)\n",
    "print(mat)\n",
    "print('-'*20)\n",
    "# 逆矩阵\n",
    "res = mat.dot(inv(mat))\n",
    "print(inv(mat))\n",
    "print('-'*20)\n",
    "print(res)\n",
    "print('-'*20)\n",
    "# QR分解\n",
    "q,r = qr(mat)\n",
    "print(q)\n",
    "print('-'*20)\n",
    "print(r)"
   ]
  },
  {
   "cell_type": "code",
   "execution_count": null,
   "metadata": {
    "collapsed": true
   },
   "outputs": [],
   "source": []
  }
 ],
 "metadata": {
  "kernelspec": {
   "display_name": "Python 3",
   "language": "python",
   "name": "python3"
  },
  "language_info": {
   "codemirror_mode": {
    "name": "ipython",
    "version": 3
   },
   "file_extension": ".py",
   "mimetype": "text/x-python",
   "name": "python",
   "nbconvert_exporter": "python",
   "pygments_lexer": "ipython3",
   "version": "3.6.9"
  }
 },
 "nbformat": 4,
 "nbformat_minor": 0
}
