{
 "cells": [
  {
   "cell_type": "markdown",
   "metadata": {},
   "source": [
    "# numpy array\n",
    "在内存空间中连续存储，能够实现连续快速访问。"
   ]
  },
  {
   "cell_type": "code",
   "execution_count": 7,
   "metadata": {
    "collapsed": false
   },
   "outputs": [
    {
     "name": "stdout",
     "output_type": "stream",
     "text": [
      "[     0      1      2 ... 999997 999998 999999]\n",
      "[     0      1      2 ... 999997 999998 999999]\n",
      "Wall time: 23 ms\n",
      "Wall time: 932 ms\n"
     ]
    }
   ],
   "source": [
    "import numpy as np\n",
    "# 连续对象的内存\n",
    "my_arr = np.arange(1000000)\n",
    "print(my_arr)\n",
    "# 需要反复寻址的内存\n",
    "my_list = list(range(1000000))\n",
    "print(my_arr)\n",
    "# 比较计算耗时\n",
    "# array 23ms\n",
    "%time for _ in range(10) : my_arr = my_arr *2\n",
    "# list 932ms \n",
    "%time for _ in range(10) : my_list = [x*2 for x in my_list]   "
   ]
  },
  {
   "cell_type": "markdown",
   "metadata": {
    "collapsed": true
   },
   "source": [
    "## 创建N 维数组 ndarray"
   ]
  },
  {
   "cell_type": "code",
   "execution_count": 25,
   "metadata": {
    "collapsed": false
   },
   "outputs": [
    {
     "data": {
      "text/plain": [
       "array([6.5, 7. , 8. , 0. , 1. ])"
      ]
     },
     "execution_count": 25,
     "metadata": {},
     "output_type": "execute_result"
    }
   ],
   "source": [
    "# 使用 list 创建 N维数组\n",
    "data1 = [6.5, 7, 8, 0, 1]\n",
    "arr1 = np.array(data1)\n",
    "# 浮点数\n",
    "arr1"
   ]
  },
  {
   "cell_type": "code",
   "execution_count": 26,
   "metadata": {
    "collapsed": false
   },
   "outputs": [
    {
     "data": {
      "text/plain": [
       "array([[1, 2, 3, 4],\n",
       "       [5, 6, 7, 8]])"
      ]
     },
     "execution_count": 26,
     "metadata": {},
     "output_type": "execute_result"
    }
   ],
   "source": [
    "data2 = [[1,2,3,4],[5,6,7,8]]\n",
    "arr2 = np.array(data2)\n",
    "arr2"
   ]
  },
  {
   "cell_type": "markdown",
   "metadata": {},
   "source": [
    "## array ndim shape dtype\n",
    "数组维度，形状，元素类型"
   ]
  },
  {
   "cell_type": "code",
   "execution_count": 27,
   "metadata": {
    "collapsed": false
   },
   "outputs": [
    {
     "name": "stdout",
     "output_type": "stream",
     "text": [
      "2\n",
      "(2, 4)\n",
      "float64\n",
      "int32\n"
     ]
    }
   ],
   "source": [
    "# 数组维数\n",
    "print(arr2.ndim) # 2\n",
    "# 数组形状\n",
    "print(arr2.shape) # (2,4)\n",
    "# 数组元素类型\n",
    "print(arr1.dtype) # float64\n",
    "print(arr2.dtype) # int32"
   ]
  },
  {
   "cell_type": "code",
   "execution_count": 41,
   "metadata": {
    "collapsed": false
   },
   "outputs": [
    {
     "name": "stdout",
     "output_type": "stream",
     "text": [
      "[0. 0. 0. 0. 0. 0. 0. 0. 0. 0.]\n",
      "[[0. 0. 0. 0. 0. 0.]\n",
      " [0. 0. 0. 0. 0. 0.]\n",
      " [0. 0. 0. 0. 0. 0.]]\n",
      "--------------\n",
      "[[[0. 0. 0. 0.]\n",
      "  [0. 0. 0. 0.]\n",
      "  [0. 0. 0. 0.]]\n",
      "\n",
      " [[0. 0. 0. 0.]\n",
      "  [0. 0. 0. 0.]\n",
      "  [0. 0. 0. 0.]]]\n"
     ]
    }
   ],
   "source": [
    "# 创建全零数组\n",
    "print(np.zeros(10))\n",
    "# 创建多维数组\n",
    "print(np.zeros((3,6)))\n",
    "print('--------------')\n",
    "print(np.zeros([2,3,4]))"
   ]
  },
  {
   "cell_type": "code",
   "execution_count": 42,
   "metadata": {
    "collapsed": false
   },
   "outputs": [
    {
     "data": {
      "text/plain": [
       "array([ 0,  1,  2,  3,  4,  5,  6,  7,  8,  9, 10, 11, 12, 13, 14])"
      ]
     },
     "execution_count": 42,
     "metadata": {},
     "output_type": "execute_result"
    }
   ],
   "source": [
    "# 创建一维整数数组 array + range(15)\n",
    "np.arange(15)\n",
    "# np.arange(0,15)"
   ]
  },
  {
   "cell_type": "markdown",
   "metadata": {},
   "source": [
    "创建 array 的方法总结\n",
    "- array 将参数转成 ndarray\n",
    "- asarray 将参数转成 ndarray，如果参数已经是ndarray则不操作\n",
    "- arange 类似range\n",
    "- ones,ones_like 生成全1数组\n",
    "- zeros,zeros_like 生成全0数组\n",
    "- empty, empty_like 分配内存空间，但不赋值（注意赋值前不要参与运算）\n",
    "- full,full_like 分配内存空间，赋值成指定值\n",
    "- eye,identity 生成单位矩阵(对角线全为1)"
   ]
  },
  {
   "cell_type": "markdown",
   "metadata": {},
   "source": [
    "array 的元素类型\n",
    "- 整数 int8,uint8,int16,uint16,int32,uint32,int64,uint64(i1-i8,u1-u8)\n",
    "- 浮点数 float16,float32,float64,float128(f2-16,f/d/g)\n",
    "- 复数 complex64,complex128,complex256(c8-c32)\n",
    "- bool (?)\n",
    "- object (O)\n",
    "- string_ (S)\n",
    "- unicode_ (U)"
   ]
  },
  {
   "cell_type": "code",
   "execution_count": 45,
   "metadata": {
    "collapsed": false
   },
   "outputs": [
    {
     "name": "stdout",
     "output_type": "stream",
     "text": [
      "int32\n",
      "float64\n"
     ]
    }
   ],
   "source": [
    "arr = np.array([1,2,3,4,5])\n",
    "print(arr.dtype)\n",
    "# 数组元素格式转换\n",
    "float_arr = arr.astype(np.float64)\n",
    "print(float_arr.dtype)\n"
   ]
  },
  {
   "cell_type": "code",
   "execution_count": 51,
   "metadata": {
    "collapsed": false
   },
   "outputs": [
    {
     "name": "stdout",
     "output_type": "stream",
     "text": [
      "[[1. 2. 3.]\n",
      " [4. 5. 6.]]\n",
      "[[ 1.  4.  9.]\n",
      " [16. 25. 36.]]\n",
      "[[0. 0. 0.]\n",
      " [0. 0. 0.]]\n",
      "[[1.         0.5        0.33333333]\n",
      " [0.25       0.2        0.16666667]]\n",
      "[[1.         1.41421356 1.73205081]\n",
      " [2.         2.23606798 2.44948974]]\n",
      "[[False  True False]\n",
      " [ True False  True]]\n",
      "bool\n"
     ]
    }
   ],
   "source": [
    "## array 算术操作\n",
    "arr = np.array([[1.,2.,3.],[4.,5.,6.]])\n",
    "print(arr)\n",
    "# 乘法\n",
    "print(arr * arr)\n",
    "# 减法 \n",
    "print(arr - arr)    \n",
    "# 除法\n",
    "print(1/arr)\n",
    "# 乘方\n",
    "print(arr ** 0.5)\n",
    "# 比较2个 array 大小\n",
    "arr2 = np.array( [[0.,4.,1.],[7.,2.,12.]])\n",
    "res = arr2 > arr\n",
    "print(res)\n",
    "print(res.dtype)"
   ]
  },
  {
   "cell_type": "markdown",
   "metadata": {},
   "source": [
    "## array indexing 数组索引\n",
    "- 与列表一样取数\n",
    "- 可以赋值"
   ]
  },
  {
   "cell_type": "code",
   "execution_count": 57,
   "metadata": {
    "collapsed": false
   },
   "outputs": [
    {
     "name": "stdout",
     "output_type": "stream",
     "text": [
      "[0 1 2 3 4 5 6 7 8 9]\n",
      "5\n",
      "[5 6 7]\n",
      "[ 0  1  2  3  4 12 12 12  8  9]\n"
     ]
    }
   ],
   "source": [
    "arr = np.arange(10)\n",
    "print(arr)\n",
    "# 取数，从0开始索引\n",
    "print(arr[5])\n",
    "print(arr[5:8])\n",
    "# 赋值\n",
    "arr[5:8]=12\n",
    "print(arr)"
   ]
  },
  {
   "cell_type": "markdown",
   "metadata": {},
   "source": [
    "## array slice 数组切片\n",
    "- 切片类似视图(view)，修改切片会修改原值\n",
    "- 浅复制与深复制 [numpy 中的 copy 问题详解](https://blog.csdn.net/u010099080/article/details/59111207)"
   ]
  },
  {
   "cell_type": "code",
   "execution_count": 58,
   "metadata": {
    "collapsed": false
   },
   "outputs": [
    {
     "name": "stdout",
     "output_type": "stream",
     "text": [
      "[ 0  1  2  3  4 12 12 12  8  9]\n",
      "True\n",
      "[12 12 12]\n",
      "False\n",
      "[ 0  1  2  3  4 64 64 64  8  9]\n",
      "[24 64 64]\n",
      "[ 0  1  2  3  4 24 64 64  8  9]\n",
      "[65 65 65 65 65 65 65 65 65 65]\n"
     ]
    }
   ],
   "source": [
    "# 引用(指针) -完全不复制\n",
    "arr_b = arr\n",
    "print(arr_b)\n",
    "print(id(arr_b) == id(arr))\n",
    "# 切片 - 浅复制（数据由arr托管）\n",
    "arr_slice = arr[5:8]\n",
    "print(arr_slice)\n",
    "print(id(arr_slice) == id(arr))\n",
    "# 修改切片会修改原值\n",
    "arr_slice[:]=64\n",
    "print(arr)\n",
    "arr[5]=24\n",
    "print(arr_slice)\n",
    "# 深复制（数据独立）\n",
    "arr_deepcopy = arr.copy()\n",
    "arr_deepcopy[:]=65\n",
    "print(arr)\n",
    "arr[5]=64\n",
    "print(arr_deepcopy)"
   ]
  },
  {
   "cell_type": "markdown",
   "metadata": {},
   "source": [
    "## array index 多维索引"
   ]
  },
  {
   "cell_type": "code",
   "execution_count": 59,
   "metadata": {
    "collapsed": false
   },
   "outputs": [
    {
     "name": "stdout",
     "output_type": "stream",
     "text": [
      "[1 2 3]\n",
      "3\n",
      "3\n",
      "[[1 2 3]\n",
      " [4 5 6]]\n",
      "3\n"
     ]
    }
   ],
   "source": [
    "arr2d = np.array([[1,2,3],[4,5,6],[7,8,9]])\n",
    "# 结果为 1 维向量\n",
    "print(arr2d[0])\n",
    "# 2 种索引方法均可\n",
    "print(arr2d[0][2])\n",
    "print(arr2d[0,2])\n",
    "\n",
    "arr3d = np.array([[[1,2,3],[4,5,6]],[[7,8,9],[10,11,12]]])\n",
    "# 结果为 2 维向量\n",
    "print(arr3d[0]) \n",
    "print(arr3d[0,0,2])  "
   ]
  },
  {
   "cell_type": "markdown",
   "metadata": {},
   "source": [
    "## array slicing 切片后的数组维度\n",
    "- 矩阵退化成向量\n",
    "- 注意数组维度，容易引起bug"
   ]
  },
  {
   "cell_type": "code",
   "execution_count": 70,
   "metadata": {
    "collapsed": false
   },
   "outputs": [
    {
     "name": "stdout",
     "output_type": "stream",
     "text": [
      "[[1 2 3]\n",
      " [4 5 6]\n",
      " [7 8 9]]\n",
      "[[2 3]\n",
      " [5 6]]\n",
      "(2, 1)\n",
      "[7 8 9]\n",
      "(3,)\n",
      "1\n",
      "[7 8 9]\n",
      "(3,)\n",
      "1\n",
      "[[7 8 9]]\n",
      "(1, 3)\n",
      "2\n",
      "[[3]\n",
      " [6]\n",
      " [9]]\n",
      "(3, 1)\n",
      "2\n",
      "[4 5]\n",
      "(2,)\n",
      "1\n",
      "[[4 5]]\n",
      "(1, 2)\n",
      "2\n"
     ]
    }
   ],
   "source": [
    "arr2d = np.array([[1,2,3],[4,5,6],[7,8,9]])\n",
    "print(arr2d)\n",
    "# 第[0,2)行，[1-2]列\n",
    "print(arr2d[:2,1:])\n",
    "print(arr2d[:2,:1].shape)\n",
    "# 一维向量(3,) 与二维矩阵(1,3)\n",
    "# 第二行\n",
    "print(arr2d[2])\n",
    "print(arr2d[2].shape)\n",
    "print(arr2d[2].ndim)\n",
    "# 第二行\n",
    "print(arr2d[2,:])\n",
    "print(arr2d[2,:].shape)\n",
    "print(arr2d[2,:].ndim)\n",
    "\n",
    "# 第[2-end)行，[0-2]列\n",
    "print(arr2d[2:,:])\n",
    "print(arr2d[2:,:].shape)\n",
    "print(arr2d[2:,:].ndim)\n",
    "# 第[0-2]列，[2-end)行\n",
    "print(arr2d[:,2:])\n",
    "print(arr2d[:,2:].shape)\n",
    "print(arr2d[:,2:].ndim)\n",
    "\n",
    "# 一维向量(2,) 与二维矩阵(1,2)\n",
    "# 第1行，[0-2)列\n",
    "print(arr2d[1,:2])\n",
    "print(arr2d[1,:2].shape)\n",
    "print(arr2d[1,:2].ndim)\n",
    "# 第[1-2)行，[0-2)列\n",
    "print(arr2d[1:2,:2])\n",
    "print(arr2d[1:2,:2].shape)\n",
    "print(arr2d[1:2,:2].ndim)"
   ]
  },
  {
   "cell_type": "markdown",
   "metadata": {},
   "source": [
    "## boolean indexing \n",
    "使用布尔向量作为索引"
   ]
  },
  {
   "cell_type": "code",
   "execution_count": 72,
   "metadata": {
    "collapsed": false
   },
   "outputs": [
    {
     "name": "stdout",
     "output_type": "stream",
     "text": [
      "[ True False False  True False False False]\n",
      "bool\n",
      "[[ 1.12085796 -0.3753818   0.75534541  0.19234998]\n",
      " [ 0.10539093  0.41057297 -2.04288387 -0.24652568]\n",
      " [-0.33218234  0.19234378  0.06033334  0.38900337]\n",
      " [-0.06307636  0.98194088  0.88782765  1.71489731]\n",
      " [-0.36058871 -0.17192994  0.10967564 -0.55793018]\n",
      " [-0.31479687 -1.03531499 -0.31328639 -1.13556865]\n",
      " [ 0.59565209  0.41933027  0.10175083  0.36983017]]\n",
      "[[ 1.12085796 -0.3753818   0.75534541  0.19234998]\n",
      " [-0.06307636  0.98194088  0.88782765  1.71489731]]\n"
     ]
    }
   ],
   "source": [
    "# 制作布尔向量\n",
    "names = np.array(['Bob','Joe','Will','Bob','Will','Joe','Joe'])\n",
    "names_bool = (names == 'Bob')\n",
    "print(names_bool)\n",
    "print(names_bool.dtype)\n",
    "# 使用布尔向量作为索引\n",
    "data = np.random.randn(7,4)\n",
    "print(data)\n",
    "# 取第0行和第4行\n",
    "print(data[names_bool])"
   ]
  },
  {
   "cell_type": "markdown",
   "metadata": {},
   "source": [
    "## fancy indexing \n",
    "迷之索引，万能索引！"
   ]
  },
  {
   "cell_type": "code",
   "execution_count": 83,
   "metadata": {
    "collapsed": false
   },
   "outputs": [
    {
     "name": "stdout",
     "output_type": "stream",
     "text": [
      "[[0. 0. 0. 0.]\n",
      " [1. 1. 1. 1.]\n",
      " [2. 2. 2. 2.]\n",
      " [3. 3. 3. 3.]\n",
      " [4. 4. 4. 4.]\n",
      " [5. 5. 5. 5.]\n",
      " [6. 6. 6. 6.]\n",
      " [7. 7. 7. 7.]]\n",
      "----------------------\n",
      "[[4. 4. 4. 4.]\n",
      " [3. 3. 3. 3.]\n",
      " [0. 0. 0. 0.]\n",
      " [6. 6. 6. 6.]]\n",
      "----------------------\n",
      "[[ 0  1  2  3]\n",
      " [ 4  5  6  7]\n",
      " [ 8  9 10 11]\n",
      " [12 13 14 15]\n",
      " [16 17 18 19]\n",
      " [20 21 22 23]\n",
      " [24 25 26 27]\n",
      " [28 29 30 31]]\n",
      "----------------------\n",
      "[ 4 23 29 10]\n",
      "----------------------\n",
      "[[ 4  7  5  6]\n",
      " [20 23 21 22]\n",
      " [28 31 29 30]\n",
      " [ 8 11  9 10]]\n"
     ]
    }
   ],
   "source": [
    "# 按指定顺序选择某几行\n",
    "arr = np.empty((8,4))\n",
    "for i in range(8):\n",
    "    arr[i] = i\n",
    "print(arr)\n",
    "print('----------------------')\n",
    "row_choose = [4,3,0,6]\n",
    "print(arr[row_choose])\n",
    "print('----------------------')\n",
    "# 按指定顺序选择哪行哪列\n",
    "arr = np.arange(32).reshape(8,4)\n",
    "print(arr)\n",
    "print('----------------------')\n",
    "row_column = ([1,5,7,2],[0,3,1,2])\n",
    "print(arr[row_column])\n",
    "print('----------------------')\n",
    "# 按指定顺序选择哪几行，并将列按指定顺序替换\n",
    "#row = [[1,5,7,2]]\n",
    "# column = [:,[0,3,1,2]]\n",
    "print(arr[[1,5,7,2]][:,[0,3,1,2]])"
   ]
  },
  {
   "cell_type": "markdown",
   "metadata": {
    "collapsed": true
   },
   "source": [
    "## transpose/swapaxes 交换坐标轴\n",
    "- ndarray.transpose(*axes)\n",
    "- ndarray.swapaxes(axis1,axis2)"
   ]
  },
  {
   "cell_type": "code",
   "execution_count": 91,
   "metadata": {
    "collapsed": false
   },
   "outputs": [
    {
     "name": "stdout",
     "output_type": "stream",
     "text": [
      "[[[ 0  1  2  3]\n",
      "  [ 4  5  6  7]]\n",
      "\n",
      " [[ 8  9 10 11]\n",
      "  [12 13 14 15]]]\n",
      "--------------------\n",
      "[[[ 0  1  2  3]\n",
      "  [ 8  9 10 11]]\n",
      "\n",
      " [[ 4  5  6  7]\n",
      "  [12 13 14 15]]]\n",
      "--------------------\n",
      "[[[ 0  8]\n",
      "  [ 1  9]\n",
      "  [ 2 10]\n",
      "  [ 3 11]]\n",
      "\n",
      " [[ 4 12]\n",
      "  [ 5 13]\n",
      "  [ 6 14]\n",
      "  [ 7 15]]]\n",
      "--------------------\n",
      "[[[ 0  4]\n",
      "  [ 8 12]]\n",
      "\n",
      " [[ 1  5]\n",
      "  [ 9 13]]\n",
      "\n",
      " [[ 2  6]\n",
      "  [10 14]]\n",
      "\n",
      " [[ 3  7]\n",
      "  [11 15]]]\n",
      "--------------------\n",
      "[[[ 0  8]\n",
      "  [ 4 12]]\n",
      "\n",
      " [[ 1  9]\n",
      "  [ 5 13]]\n",
      "\n",
      " [[ 2 10]\n",
      "  [ 6 14]]\n",
      "\n",
      " [[ 3 11]\n",
      "  [ 7 15]]]\n",
      "--------------------\n",
      "[[[ 0  8]\n",
      "  [ 4 12]]\n",
      "\n",
      " [[ 1  9]\n",
      "  [ 5 13]]\n",
      "\n",
      " [[ 2 10]\n",
      "  [ 6 14]]\n",
      "\n",
      " [[ 3 11]\n",
      "  [ 7 15]]]\n",
      "--------------------\n",
      "[[[ 0  1  2  3]\n",
      "  [ 8  9 10 11]]\n",
      "\n",
      " [[ 4  5  6  7]\n",
      "  [12 13 14 15]]]\n",
      "--------------------\n",
      "[[[ 0  4]\n",
      "  [ 1  5]\n",
      "  [ 2  6]\n",
      "  [ 3  7]]\n",
      "\n",
      " [[ 8 12]\n",
      "  [ 9 13]\n",
      "  [10 14]\n",
      "  [11 15]]]\n"
     ]
    }
   ],
   "source": [
    "arr = np.arange(16).reshape(2,2,4)\n",
    "print(arr)\n",
    "print('-'*20)\n",
    "print(arr.transpose(1,0,2))\n",
    "print('-'*20)\n",
    "print(arr.transpose(1,2,0))\n",
    "print('-'*20)\n",
    "print(arr.transpose(2,0,1))\n",
    "print('-'*20)\n",
    "print(arr.transpose(2,1,0))\n",
    "print('-'*20)\n",
    "# default [0,1,...,n-1,n] => [n,n-1,...,1,0]\n",
    "print(arr.transpose())\n",
    "print('-'*20)\n",
    "print(arr.swapaxes(0,1))\n",
    "print('-'*20)\n",
    "print(arr.swapaxes(1,2))"
   ]
  },
  {
   "cell_type": "code",
   "execution_count": null,
   "metadata": {
    "collapsed": true
   },
   "outputs": [],
   "source": []
  }
 ],
 "metadata": {
  "kernelspec": {
   "display_name": "Python 3",
   "language": "python",
   "name": "python3"
  },
  "language_info": {
   "codemirror_mode": {
    "name": "ipython",
    "version": 3
   },
   "file_extension": ".py",
   "mimetype": "text/x-python",
   "name": "python",
   "nbconvert_exporter": "python",
   "pygments_lexer": "ipython3",
   "version": "3.6.9"
  }
 },
 "nbformat": 4,
 "nbformat_minor": 0
}
