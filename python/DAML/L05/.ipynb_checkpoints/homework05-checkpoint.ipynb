{
 "cells": [
  {
   "cell_type": "markdown",
   "metadata": {},
   "source": [
    "## 参考资料：\n",
    "- [期望、方差、协方差及相关系数的基本运算](https://blog.csdn.net/MissXy_/article/details/80705828)\n",
    "- [高斯分布期望和方差的推导](https://blog.csdn.net/su_jz/article/details/52579723)\n",
    "- [LR正则化与数据先验分布的关系？](https://www.zhihu.com/question/23536142/answer/90135994)    "
   ]
  },
  {
   "cell_type": "markdown",
   "metadata": {},
   "source": [
    "\\documentclass[fleqn]{article}"
   ]
  },
  {
   "cell_type": "markdown",
   "metadata": {},
   "source": [
    "\\usepackage[fleqn]{amsmath}"
   ]
  },
  {
   "cell_type": "markdown",
   "metadata": {},
   "source": [
    "## 2 给定目标函数，求梯度\n",
    "$ f_1(w) = \\left\\|Xw-Y\\right\\|_2 ^2 + \\lambda \\left\\|w\\right\\|_1 ^1 $\n",
    "\n",
    "$ f_2(w) = \\left\\|Xw-Y\\right\\|_2 ^2 + \\lambda \\left\\|w\\right\\|_2 ^2 $\n",
    "\n",
    "其中 $ X \\in \\Re^{m \\times n}, Y \\in \\Re^{m \\times 1}, w \\in \\Re^{n \\times 1}, \\left|w\\right\\|_p^p = |w_1|^p + |w_2|^p + \\ldots + |w_n|^p$"
   ]
  },
  {
   "cell_type": "markdown",
   "metadata": {},
   "source": [
    "答：\n",
    "$$\n",
    "% \\left\\|Q\\right\\|_2\n",
    "\\begin{align}\n",
    "& \\\\ % Xw-Y 2范数\n",
    "& \\left\\|Xw-Y\\right\\|_2 ^2 = \\Sigma_{i=1}^{m}|x_i w - y_i|^2 = \\Sigma_{i=1}^{m} (\\Sigma_{j=1}^{n} x_{ij} w_j - y_i)^2 \\\\ \n",
    "& => \\frac{\\partial \\left\\|Xw-Y\\right\\|_2 ^2}{\\partial(w_j)} = 2 \\Sigma_{i=1}^{m} (\\Sigma_{j=1}^{n} x_{ij} w_j - y_i) x_{ij} = 2 x_j ^T (Xw-Y)\\\\\n",
    "& \\\\ % w 2范数\n",
    "& \\lambda \\left\\|w\\right\\|_2 ^2 = \\lambda \\Sigma_{j=1}^{n}|w_j|^2 = \\lambda \\Sigma_{j=1}^{n} w_j ^2 \\\\\n",
    "& => \\frac{\\partial \\lambda \\left\\|w\\right\\|_2 ^2}{\\partial(w_j)} = 2 \\lambda w_j \\\\ \n",
    "& \\\\ % w 1范数\n",
    "& \\lambda \\left\\|w\\right\\|_1 ^1 = \\lambda \\Sigma_{j=1}^{n} |w_j| \\\\\n",
    "& => \\frac{\\partial \\lambda \\left\\|w\\right\\|_1 ^1}{\\partial(w_j)} = \\lambda sign(w_j) \\\\ \n",
    "& \\\\ % f2 梯度\n",
    "& \\frac{\\partial f_2(w)}{\\partial(w_j)} = \\frac{\\partial \\left\\|Xw-Y\\right\\|_2 ^2}{\\partial(w_j)} + \\frac{\\partial \\lambda \\left\\|w\\right\\|_2 ^2}{\\partial(w_j)} = 2 x_j ^T (Xw-Y) + 2 \\lambda w_j \\\\ \n",
    "& => \\frac{\\partial f_2(w)}{\\partial(w)} = 2 X^T (Xw-Y) + 2 \\lambda w\\\\\n",
    "& \\\\ % f1 梯度\n",
    "& \\frac{\\partial f_1(w)}{\\partial(w_j)} = \\frac{\\partial \\left\\|Xw-Y\\right\\|_2 ^2}{\\partial(w_j)} + \\frac{\\partial \\lambda \\left\\|w\\right\\|_1 ^1}{\\partial(w_j)} = 2 x_j ^T (Xw-Y) + \\lambda sign(w_j) \\\\\n",
    "& => \\frac{\\partial f_1(w)}{\\partial(w)} = 2 X^T (Xw-Y) + \\lambda sign(w)\\\\\n",
    "\\end{align}\n",
    "$$"
   ]
  },
  {
   "cell_type": "markdown",
   "metadata": {},
   "source": [
    "## 3 给定随机变量 X 服从高斯分布 $N(\\mu,\\sigma^2)$\n",
    "\n",
    "$\\mu$ 和 $\\sigma^2$ 未知，从 X 中抽出 n 个样本 $(x_1,x_2,\\ldots,x_n)$\n",
    "\n",
    "我们想用这 n 个样本估算均值 $\\mu$ 和方差 $\\sigma^2$\n",
    "\n",
    "我们估算的均值记为 $\\hat{\\mu}$ ，方差记为 $ \\hat{\\sigma}^2$ ，估算的随机变量 $\\hat{X}$ 。\n",
    "\n",
    "我们现在有如下四种⽅法来估计 $\\hat{\\mu}$ ， $n_0$ 是一个常数：\n",
    "\n",
    "$$\n",
    "\\begin{align}\n",
    "& (1) \\hat{\\mu} = \\frac{x_1 + x_2 + \\ldots + x_n}{n} \\\\\n",
    "& (2) \\hat{\\mu} = \\frac{x_1 + x_2 + \\ldots + x_n}{n+1} \\\\\n",
    "& (3) \\hat{\\mu} = \\frac{x_1 + x_2 + \\ldots + x_n}{n+n_0} \\\\\n",
    "& (4) \\hat{\\mu} = 0 \\\\\n",
    "\\end{align}\n",
    "$$\n",
    "\n",
    "我们想估计偏差和方差：\n",
    "  \n",
    "- 偏差  $E(\\hat{X}-\\mu)$\n",
    "- 方差  $\\hat{\\sigma}^2=Var[\\hat{X}] $\n"
   ]
  },
  {
   "cell_type": "markdown",
   "metadata": {},
   "source": [
    "### (a) 各个方法的偏差是多少\n",
    "答：\n",
    "$$\n",
    "\\begin{align}\n",
    "& E(\\hat{X}-\\mu) = E(\\hat{X}) - \\mu = \\hat{\\mu} - \\mu \\\\ \n",
    "& (1) E(\\hat{X}-\\mu) = \\frac{1}{n} \\Sigma_{i=1}^{n}x_i - \\mu  \\\\\n",
    "& (2) E(\\hat{X}-\\mu) = \\frac{1}{n+1} \\Sigma_{i=1}^{n}x_i - \\mu \\\\\n",
    "& (3) E(\\hat{X}-\\mu) = \\frac{1}{n+n_0} \\Sigma_{i=1}^{n}x_i - \\mu \\\\\n",
    "& (4) E(\\hat{X}-\\mu) = -\\mu \\\\\n",
    "\\end{align}\n",
    "$$"
   ]
  },
  {
   "cell_type": "markdown",
   "metadata": {},
   "source": [
    "### (b) 各个方法的方差是多少\n",
    "答：\n",
    "$$\n",
    "\\begin{align}\n",
    "& \\\\ % note\n",
    "& \\hat{\\sigma}^2=Var[\\hat{X}] = E[(\\hat{x}-\\hat{\\mu})^2] \\\\\n",
    "E[(\\hat{x}-\\hat{\\mu})^2] & = \\int_{-\\infty}^{+\\infty} (\\hat{x}-\\hat{\\mu})^2 \\frac{1}{\\hat{\\sigma}\\sqrt{2\\pi}} e^{-\\frac{(\\hat{x}-\\hat{\\mu})^2}{2 \\hat{\\sigma}^2}} d\\hat{x} \\\\\n",
    "& = \\int_{-\\infty}^{+\\infty} \\hat{x}^2 \\frac{1}{\\hat{\\sigma}\\sqrt{2\\pi}} e^{-\\frac{\\hat{x}^2}{2 \\hat{\\sigma}^2}} d\\hat{x} \\\\\n",
    "& = \\hat{\\sigma} \\sqrt{2} \\int_{-\\infty}^{+\\infty} (\\hat{\\sigma} \\sqrt{2} \\hat{x})^2 \\frac{1}{\\hat{\\sigma}\\sqrt{2\\pi}} e^{-\\frac{(\\hat{\\sigma} \\sqrt{2} \\hat{x})^2}{2 \\hat{\\sigma}^2}} d\\hat{x} \\\\\n",
    "& = \\frac{4\\hat{\\sigma}^2}{\\sqrt{\\pi}} \\int_{0}^{+\\infty} \\hat{x}^2 e^{-\\hat{x}^2} d\\hat{x}\\\\\n",
    "let \\quad \\hat{x}=t^2, & => d\\hat{x}=2\\sqrt{t}^{-1}dt \\\\\n",
    "E[(\\hat{x}-\\hat{\\mu})^2] & = \\frac{4\\hat{\\sigma}^2}{\\sqrt{\\pi}} \\int_{0}^{+\\infty} t e^{-t} 2\\sqrt{t}^{-1} dt \\\\\n",
    "& = \\frac{4\\hat{\\sigma}^2}{\\sqrt{\\pi}} \\frac{1}{2} \\int_{0}^{+\\infty} t^{\\frac{3}{2}-1} e^{-t} dt \\\\\n",
    "& = \\frac{4\\hat{\\sigma}^2}{\\sqrt{\\pi}} \\frac{1}{2} \\Gamma(\\frac{3}{2})\\\\\n",
    "& = \\frac{4\\hat{\\sigma}^2}{\\sqrt{\\pi}} \\frac{1}{2} \\frac{\\sqrt{\\pi}}{2}\\\\\n",
    "& = \\hat{\\sigma}^2 \\\\\n",
    "\\end{align}\n",
    "$$\n",
    "即 $ \\hat{\\sigma}^2 =Var[\\hat{X}] = E[(\\hat{X}-\\hat{\\mu})^2] = \\hat{\\sigma}^2 $\n",
    "\n",
    "$ \\hat{\\sigma}^2 $ 与 $ \\hat{\\mu} $ 的估计值无关。\n",
    "\n"
   ]
  },
  {
   "cell_type": "markdown",
   "metadata": {},
   "source": [
    "## (c)  计算期望\n",
    "\n",
    "对 $ \\hat{X}$ 的估计是依赖样本 $(x_1,x_2,\\ldots,x_n)$ 的，假设我们从 $ X^{'} \\sim N(\\mu,\\sigma^2) $  中采到了新样本 $ x^{'}$ ，$ X^{'}$ 和 X 独立同分布，试求（用 $ \\hat{\\mu}, \\hat{\\sigma}^2, \\mu,\\sigma^2 $ 表达）$ E[(\\hat{X}-X^{'})^2] $ 和 $ E[(\\hat{X}-\\mu)^2] $ 的表达式。\n",
    "\n",
    "答：\n",
    "\n",
    "由 $ \\hat{\\sigma}^2 = E[(\\hat{X}-\\hat{\\mu})^2] = E(\\hat{X}^2) - E(\\hat{X})^2 = E(\\hat{X}^2) -\\hat{\\mu}^2 $\n",
    "\n",
    "得 $ E(\\hat{X}^2) = \\hat{\\sigma}^2 + \\hat{\\mu}^2, E(X^{'2}) = \\sigma^2 + \\mu^2 $\n",
    "\n",
    "因为 $ X^{'} $ 和 $ \\hat{X} $ 相互独立，所以 $ E(\\hat{X}X^{'}) = E(\\hat{X})E(X^{'}) = \\hat{\\mu}\\mu $\n",
    "\n",
    "$$\n",
    "\\begin{align} \n",
    "& \\\\ % E[(\\hat{X}-X^{'})^2]\n",
    "& E[(\\hat{X}-X^{'})^2] \\\\\n",
    "& = E(\\hat{X}^2) - E(2\\hat{X}X^{'}) + E(X^{'2}) \\\\\n",
    "& = \\hat{\\sigma}^2 + \\hat{\\mu}^2 -2\\hat{\\mu}\\mu + \\sigma^2 + \\mu^2 \\\\\n",
    "& = \\hat{\\sigma}^2 + \\sigma^2 + (\\hat{\\mu}-\\mu)^2 \\\\\n",
    "& \\\\\n",
    "& \\\\ % E[(\\hat{X}-\\mu)^2]\n",
    "& E[(\\hat{X}-\\mu)^2] \\\\\n",
    "& = E[((\\hat{X}-\\hat{\\mu}) + (\\hat{\\mu}-\\mu))^2] \\\\\n",
    "& = E[(\\hat{X}-\\hat{\\mu})^2] + 2(\\hat{\\mu}-\\mu)E(\\hat{X}-\\hat{\\mu}) + (\\hat{\\mu}-\\mu)^2 \\\\\n",
    "& = \\hat{\\sigma}^2 + (\\hat{\\mu}-\\mu)^2 \\\\\n",
    "\\end{align}\n",
    "$$"
   ]
  },
  {
   "cell_type": "markdown",
   "metadata": {},
   "source": [
    "## (d)  $ E[(\\hat{X}-\\mu)^2] $ 被称为总误差 依次写出四种方法的总误差\n",
    "\n",
    "答：\n",
    "$$\n",
    "\\begin{align}\n",
    "& E[(\\hat{X}-\\mu)^2] = \\hat{\\sigma}^2 + (\\hat{\\mu}-\\mu)^2 = \\hat{\\sigma}^2 + (\\frac{1}{n+n_0}\\Sigma_{i=1}^{n}x_i-\\mu)^2 \\\\ \n",
    "& (1)n_0 = 0, E[(\\hat{X}-\\mu)^2] = \\hat{\\sigma}^2 + (\\frac{1}{n}\\Sigma_{i=1}^{n}x_i-\\mu)^2 \\\\\n",
    "& (2)n_0 = 1, E[(\\hat{X}-\\mu)^2] = \\hat{\\sigma}^2 + (\\frac{1}{n+1}\\Sigma_{i=1}^{n}x_i-\\mu)^2 \\\\\n",
    "& (3)n_0 = n_0, E[(\\hat{X}-\\mu)^2] = \\hat{\\sigma}^2 + (\\frac{1}{n+n_0}\\Sigma_{i=1}^{n}x_i-\\mu)^2 \\\\\n",
    "& (3)n_0 = 0, E[(\\hat{X}-\\mu)^2] = \\hat{\\sigma}^2 + \\mu^2 \\\\ \n",
    "\\end{align}\n",
    "$$"
   ]
  },
  {
   "cell_type": "markdown",
   "metadata": {},
   "source": [
    "## (e) 判断偏差和方差的变化趋势\n",
    "\n",
    "这四种估计方法都是第(3)种的特例。\n",
    "- $ n_0 = 0 $ 时，得到 (1) \n",
    "- $ n_0 = 1 $ 时，得到 (2) \n",
    "- $ n_0 = +\\infty $ 时，得到 (4) \n",
    "\n",
    "当 $ n_0 $ 从 0 增加时，偏差和方差如何变化。\n",
    "\n",
    "答：\n",
    "偏差 $ E(\\hat{X}-\\mu) = \\frac{1}{n+n_0} \\Sigma_{i=1}^{n}x_i - \\mu $ ，当 $ n_0 $ 增加时，偏差减小。\n",
    "\n",
    "方差 $ \\hat{\\sigma}^2 $与 $ n_0 $ 无关，当 $ n_0 $ 增加时，方差不变。\n"
   ]
  },
  {
   "cell_type": "markdown",
   "metadata": {},
   "source": [
    "## (f) 计算使总误差最小的参数\n",
    "\n",
    "设 $ n_0 = \\alpha n $ ，如果 $\\mu$ 和 $\\sigma^2$ 已知，当 $\\alpha$ 为多少时，总误差最小？\n",
    "\n",
    "答：\n",
    "$$\n",
    "\\begin{align}\n",
    "& E[(\\hat{X}-\\mu)^2] = \\hat{\\sigma}^2 + (\\hat{\\mu}-\\mu)^2 = \\hat{\\sigma}^2 + (\\frac{1}{n(1+\\alpha)}\\Sigma_{i=1}^{n}x_i-\\mu)^2 \\\\\n",
    "& let \\quad \\frac{\\partial E[(\\hat{X}-\\mu)^2]}{\\partial \\alpha} = 2(\\frac{1}{n(1+\\alpha)}\\Sigma_{i=1}^{n}x_i-\\mu)(\\Sigma_{i=1}^{n}x_i)(-\\frac{n}{(n(1+\\alpha))^2}) = 0 \\\\\n",
    "& => \\frac{1}{n(1+\\alpha)}\\Sigma_{i=1}^{n}x_i-\\mu = 0 \\\\\n",
    "& => \\alpha = \\frac{1}{n\\mu}\\Sigma_{i=1}^{n}x_i - 1 \\\\\n",
    "\\end{align}\n",
    "$$"
   ]
  },
  {
   "cell_type": "markdown",
   "metadata": {},
   "source": [
    "## (g) 最大后验计算\n",
    "\n",
    "用样本 $(x_1,x_2,\\ldots,x_n)$ 进行 $\\hat{\\mu}$ 的估计，设假设集合 $ H=\\left\\{ \\hat{\\mu} ; \\hat{\\mu} \\in \\Re \\right\\} $ ，采用高斯先验 $ p(\\mu) = \\frac{1}{\\bar{\\sigma} \\sqrt{2\\pi}} e^{-\\frac{\\mu^2}{2\\bar{\\sigma}^2}}$ 。\n",
    "- 1) 导出 $\\hat{\\mu}$ 的估计式；\n",
    "- 2) 尝试建立参数 $\\bar\\sigma^2$ 和(f)中的 $\\alpha$ 的关系；\n",
    "- 3) 试建立参数$\\alpha$ 和正则系数 $\\lambda$ 的关系。"
   ]
  },
  {
   "cell_type": "markdown",
   "metadata": {},
   "source": [
    "1) 答：\n",
    "$$\n",
    "\\begin{align}\n",
    "& \\\\ % 似然函数\n",
    "argmaxP(\\hat{\\mu} | \\hat{x}) & = argmaxP(\\hat{x} | \\hat{\\mu}) P(\\hat{\\mu})/ P(\\hat{x}) \\\\ \n",
    "& = argmaxP(\\hat{x} | \\hat{\\mu})P(\\hat{\\mu})\\\\\n",
    "& = argmzx(\\frac{1}{\\hat{\\sigma}\\sqrt{2\\pi}}e^{-\\frac{(\\hat{x}-\\hat{\\mu})^2}{2\\hat{\\sigma}^2}} \\frac{1}{\\bar{\\sigma}\\sqrt{2\\pi}}e^{-\\frac{\\hat{\\mu}^2}{2\\bar{\\sigma}^2}}) \\\\\n",
    "& \\\\ % NLL\n",
    "argmin(NLL) & = argmin(log(\\hat{\\sigma}\\bar{\\sigma}2\\pi) + \\frac{(\\hat{x}-\\hat{\\mu})^2}{2\\hat{\\sigma}^2} + \\frac{\\hat{\\mu}^2}{2\\bar{\\sigma}^2} )  \\\\\n",
    "& \\\\ % 求偏导\n",
    "let \\quad \\frac{\\partial NLL}{\\partial \\hat{\\mu}} & = -\\frac{2(\\hat{x}-\\hat{\\mu})}{2\\hat{\\sigma}^2} + \\frac{2\\hat{\\mu}}{2\\bar{\\sigma}^2} = 0 \\\\\n",
    "=> \\hat{\\mu} & = \\frac{\\bar{\\sigma}^2}{\\hat{\\sigma}^2 + \\bar{\\sigma}^2} \\hat{x} \\\\\n",
    "& \\\\ % 计算 \\hat{\\mu}\n",
    "use \\quad \\hat{x} & =(x_1,x_2,\\ldots,x_n) \\quad to \\ add \\\\\n",
    "=> n \\hat{\\mu} & = \\frac{\\bar{\\sigma}^2}{\\hat{\\sigma}^2 + \\bar{\\sigma}^2} \\Sigma_{i=1}^{n}x_i \\\\\n",
    "=> \\hat{\\mu} & = \\frac{\\bar{\\sigma}^2}{\\hat{\\sigma}^2 + \\bar{\\sigma}^2} \\frac{1}{n} \\Sigma_{i=1}^{n}x_i \\\\\n",
    "\\end{align}\n",
    "$$"
   ]
  },
  {
   "cell_type": "markdown",
   "metadata": {},
   "source": [
    "2) 答：\n",
    "$$\n",
    "\\begin{align}\n",
    "& \\\\ % 比较 \\hat{\\mu}\n",
    "& for \\ \\ 2) \\quad \\hat{\\mu} = \\frac{\\bar{\\sigma}^2}{\\hat{\\sigma}^2 + \\bar{\\sigma}^2} \\frac{1}{n} \\Sigma_{i=1}^{n}x_i \\\\\n",
    "& and \\ (f) \\quad n_0 = \\alpha n，i.e.\\ \\hat{\\mu} = \\frac{1}{1+\\alpha} \\frac{1}{n} \\Sigma_{i=1}^{n}x_i \\\\\n",
    "& \\\\ % 计算 \\alpha\n",
    "& =>  \\frac{1}{1+\\alpha} = \\frac{\\bar{\\sigma}^2}{\\hat{\\sigma}^2 + \\bar{\\sigma}^2} \\\\\n",
    "& =>  \\bar{\\sigma}^2 = \\frac{1}{\\alpha}\\hat{\\sigma}^2 \\\\\n",
    "\\end{align}\n",
    "$$"
   ]
  },
  {
   "cell_type": "markdown",
   "metadata": {},
   "source": [
    "3) 答：\n",
    "\n",
    "真实值 $ \\mu = \\hat{x}w + \\epsilon, \\ \\epsilon \\sim N(0,\\tilde{\\sigma}) $\n",
    "\n",
    "估计值 $ \\hat{\\mu} = \\hat{x}w，\\ \\hat{X}=(x_1,x_2,\\ldots,x_n)，\\ w=\\frac{1}{n+n_0}(1,1,\\ldots,1) $\n",
    "\n",
    "\n",
    "$$\n",
    "\\begin{align}\n",
    "& \\\\ % 似然函数\n",
    "P(\\mu) & = P(\\mu|\\hat{X},\\hat{\\mu})P(\\hat{X}|\\hat{\\mu})P(\\hat{\\mu}) \\\\\n",
    "& = \\frac{1}{\\tilde{\\sigma}\\sqrt{2\\pi}} e^{-\\frac{(\\mu-\\hat{x}w)^2}{2\\tilde{\\sigma}^2}} \n",
    "   \\frac{1}{\\hat{\\sigma}\\sqrt{2\\pi}} e^{-\\frac{(\\hat{x}-\\hat{\\mu})^2}{2\\hat{\\sigma}^2}} \n",
    "   \\frac{1}{\\bar{\\sigma}\\sqrt{2\\pi}} e^{-\\frac{\\hat{\\mu}^2}{2\\bar{\\sigma}^2}}\n",
    "& \\\\ % NLL\n",
    "NLL & = C^{'} + \\frac{(\\mu-\\hat{x}w)^2}{2\\tilde{\\sigma}^2} \n",
    "+ \\frac{(\\hat{x}-\\hat{\\mu})^2}{2\\hat{\\sigma}^2} \n",
    "+ \\frac{\\hat{\\mu}^2}{2\\bar{\\sigma}^2} \\\\\n",
    "& = C^{'} + \\frac{(\\mu-\\hat{x}w)^2}{2\\tilde{\\sigma}^2} \n",
    "+ \\frac{\\hat{x}^2 (1-w)^2}{2\\hat{\\sigma}^2} \n",
    "+ \\frac{\\hat{x}^2 w^2}{2\\bar{\\sigma}^2} \\\\\n",
    "& = C^{'} + \\frac{(\\mu-\\hat{x}w)^2}{2\\tilde{\\sigma}^2} \n",
    "+ \\frac{\\hat{x}^2}{2\\hat{\\sigma}^2}\n",
    "- \\frac{\\hat{x}^2}{\\hat{\\sigma}^2}w\n",
    "+ (\\frac{1}{2\\hat{\\sigma}^2} + \\frac{1}{2\\bar{\\sigma}^2}) \\hat{x}^2 w^2 \\\\\n",
    "& \\\\ % \\lambda\n",
    "& last \\ items \\ is \\quad \\lambda w^2，\\ and \\ for \\quad \\bar{\\sigma}^2 = \\frac{1}{\\alpha}\\hat{\\sigma}^2 \\\\\n",
    "=> \\lambda & = (\\frac{1}{2\\hat{\\sigma}^2} + \\frac{1}{2\\bar{\\sigma}^2}) \\hat{x}^2 \n",
    "=\\frac{1+\\alpha}{2\\hat{\\sigma}^2} \\hat{x}^2 \\\\\n",
    "& use\\quad  \\hat{x} = (x_1,x_2,\\ldots,x_n) \\quad to \\ add \\\\\n",
    "=> n \\lambda & = \\frac{1+\\alpha}{2\\hat{\\sigma}^2} \\Sigma_{i=1}^{n} x_i^2 \\\\\n",
    "=> \\lambda & = \\frac{1+\\alpha}{2\\hat{\\sigma}^2} \\frac{1}{n} \\Sigma_{i=1}^{n} x_i^2 \\\\\n",
    "\\end{align}\n",
    "$$"
   ]
  },
  {
   "cell_type": "markdown",
   "metadata": {},
   "source": [
    "## (h) 开放式问题\n",
    "\n",
    "如果我们已知真实的 $\\mu$ 大概分布在某个值 $\\mu_0$ 附近，我们应该如何估计 $\\hat{\\mu}$，这对你用 MAP / L2 正则的选取有何启示？"
   ]
  },
  {
   "cell_type": "code",
   "execution_count": null,
   "metadata": {},
   "outputs": [],
   "source": []
  }
 ],
 "metadata": {
  "kernelspec": {
   "display_name": "Python 3",
   "language": "python",
   "name": "python3"
  },
  "language_info": {
   "codemirror_mode": {
    "name": "ipython",
    "version": 3
   },
   "file_extension": ".py",
   "mimetype": "text/x-python",
   "name": "python",
   "nbconvert_exporter": "python",
   "pygments_lexer": "ipython3",
   "version": "3.6.9"
  }
 },
 "nbformat": 4,
 "nbformat_minor": 2
}
