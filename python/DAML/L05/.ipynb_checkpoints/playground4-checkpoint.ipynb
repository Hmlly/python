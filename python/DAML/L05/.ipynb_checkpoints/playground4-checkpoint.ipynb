{
 "cells": [
  {
   "cell_type": "markdown",
   "metadata": {},
   "source": [
    "# Machine Learning Pipline"
   ]
  },
  {
   "cell_type": "code",
   "execution_count": 1,
   "metadata": {
    "collapsed": true
   },
   "outputs": [],
   "source": [
    "import numpy as np\n",
    "import pandas as pd\n",
    "import matplotlib.pyplot as plt"
   ]
  },
  {
   "cell_type": "markdown",
   "metadata": {},
   "source": [
    "$$w = (X^\\top X)^{-1}X^\\top y$$\n",
    "\n",
    "\n",
    "# Toy Data 1\n",
    "\n",
    "\n"
   ]
  },
  {
   "cell_type": "code",
   "execution_count": 2,
   "metadata": {
    "collapsed": true
   },
   "outputs": [],
   "source": [
    "def generate_dataset(num_data, num_feat, data_heter=1, model_heter=1, noise_level=1, verbose=True, seed=None):\n",
    "    assert data_heter > 0\n",
    "    assert model_heter > 0\n",
    "    assert noise_level > 0\n",
    "\n",
    "    if seed:\n",
    "        np.random.seed(seed)\n",
    "\n",
    "    W = np.random.randn(num_feat, 1) * np.maximum(1, np.random.rand(num_feat, 1) * model_heter)\n",
    "    b = np.random.randn()\n",
    "        \n",
    "    np.random.seed()\n",
    "    X = np.random.randn(num_data, num_feat) * np.maximum(1, np.random.rand(1, num_feat) * data_heter)\n",
    "    Y = X.dot(W) + b + np.random.randn(num_data, 1) * noise_level\n",
    "    if verbose:\n",
    "        print(\"data generated with random weights and bias: \")\n",
    "        print(\"W\", W)\n",
    "        print(\"b\", b)\n",
    "        print(\"X shape\", X.shape)\n",
    "        print(\"Y shape\", Y.shape)\n",
    "    return X, Y, W, b"
   ]
  },
  {
   "cell_type": "code",
   "execution_count": 3,
   "metadata": {
    "collapsed": false
   },
   "outputs": [
    {
     "name": "stdout",
     "output_type": "stream",
     "text": [
      "data generated with random weights and bias: \n",
      "W [[1.62434536]]\n",
      "b -0.6117564136500754\n",
      "X shape (1000, 1)\n",
      "Y shape (1000, 1)\n",
      "[-0.53495927]\n"
     ]
    },
    {
     "data": {
      "image/png": "[encoded data removed]",
      "text/plain": [
       "<Figure size 432x288 with 1 Axes>"
      ]
     },
     "metadata": {
      "needs_background": "light"
     },
     "output_type": "display_data"
    }
   ],
   "source": [
    "X, Y, *_ = generate_dataset(1000, 1, noise_level=1e-3, seed=1)\n",
    "print(X[0])\n",
    "plt.scatter(X, Y)\n",
    "plt.show()"
   ]
  },
  {
   "cell_type": "markdown",
   "metadata": {},
   "source": [
    "## Simple Linear Regression"
   ]
  },
  {
   "cell_type": "code",
   "execution_count": 4,
   "metadata": {
    "collapsed": false
   },
   "outputs": [
    {
     "name": "stdout",
     "output_type": "stream",
     "text": [
      "data generated with random weights and bias: \n",
      "W [[ 1.62434536]\n",
      " [-0.61175641]]\n",
      "b -0.5281717522634557\n",
      "X shape (1000, 2)\n",
      "Y shape (1000, 1)\n"
     ]
    }
   ],
   "source": [
    "X, y, W0, b0 = generate_dataset(1000, 2, seed=1)"
   ]
  },
  {
   "cell_type": "code",
   "execution_count": 5,
   "metadata": {
    "collapsed": true
   },
   "outputs": [],
   "source": [
    "def simple_linear_regression(X, y):\n",
    "    num_sample, num_feat = X.shape\n",
    "    X_cat = np.concatenate([X, np.ones((num_sample, 1))], axis=1)\n",
    "    W_cat = np.linalg.inv(X_cat.T.dot(X_cat)).dot(X_cat.T).dot(y)\n",
    "    return W_cat[:num_feat], W_cat[num_feat]"
   ]
  },
  {
   "cell_type": "markdown",
   "metadata": {},
   "source": [
    "### Convergence analysis"
   ]
  },
  {
   "cell_type": "code",
   "execution_count": 6,
   "metadata": {
    "collapsed": false
   },
   "outputs": [
    {
     "ename": "NameError",
     "evalue": "name 'eval_empirical_error' is not defined",
     "output_type": "error",
     "traceback": [
      "\u001b[1;31m---------------------------------------------------------------------------\u001b[0m",
      "\u001b[1;31mNameError\u001b[0m                                 Traceback (most recent call last)",
      "\u001b[1;32m<ipython-input-6-b270d55caf1c>\u001b[0m in \u001b[0;36m<module>\u001b[1;34m\u001b[0m\n\u001b[0;32m     14\u001b[0m     \u001b[0mtime_list\u001b[0m\u001b[1;33m[\u001b[0m\u001b[0mi\u001b[0m\u001b[1;33m]\u001b[0m \u001b[1;33m=\u001b[0m \u001b[0mfloat\u001b[0m\u001b[1;33m(\u001b[0m\u001b[0mtime\u001b[0m\u001b[1;33m.\u001b[0m\u001b[0mtime\u001b[0m\u001b[1;33m(\u001b[0m\u001b[1;33m)\u001b[0m\u001b[1;33m-\u001b[0m\u001b[0mbegin\u001b[0m\u001b[1;33m)\u001b[0m\u001b[1;33m\u001b[0m\u001b[1;33m\u001b[0m\u001b[0m\n\u001b[0;32m     15\u001b[0m     \u001b[0mX\u001b[0m\u001b[1;33m,\u001b[0m \u001b[0my\u001b[0m\u001b[1;33m,\u001b[0m \u001b[0mW0\u001b[0m\u001b[1;33m,\u001b[0m \u001b[0mb0\u001b[0m \u001b[1;33m=\u001b[0m \u001b[0mgenerate_dataset\u001b[0m\u001b[1;33m(\u001b[0m\u001b[0mint\u001b[0m\u001b[1;33m(\u001b[0m\u001b[0mnum_data\u001b[0m\u001b[1;33m)\u001b[0m\u001b[1;33m,\u001b[0m \u001b[1;36m2\u001b[0m\u001b[1;33m,\u001b[0m \u001b[0mverbose\u001b[0m\u001b[1;33m=\u001b[0m\u001b[1;32mFalse\u001b[0m\u001b[1;33m,\u001b[0m \u001b[0mseed\u001b[0m\u001b[1;33m=\u001b[0m\u001b[0mi\u001b[0m\u001b[1;33m)\u001b[0m\u001b[1;33m\u001b[0m\u001b[1;33m\u001b[0m\u001b[0m\n\u001b[1;32m---> 16\u001b[1;33m     \u001b[0mempirical_error_list\u001b[0m\u001b[1;33m[\u001b[0m\u001b[0mi\u001b[0m\u001b[1;33m]\u001b[0m \u001b[1;33m=\u001b[0m \u001b[0meval_empirical_error\u001b[0m\u001b[1;33m(\u001b[0m\u001b[0mW1\u001b[0m\u001b[1;33m,\u001b[0m \u001b[0mb1\u001b[0m\u001b[1;33m,\u001b[0m \u001b[0mX\u001b[0m\u001b[1;33m,\u001b[0m \u001b[0my\u001b[0m\u001b[1;33m)\u001b[0m\u001b[1;33m\u001b[0m\u001b[1;33m\u001b[0m\u001b[0m\n\u001b[0m\u001b[0;32m     17\u001b[0m \u001b[1;33m\u001b[0m\u001b[0m\n\u001b[0;32m     18\u001b[0m \u001b[1;31m# plt.plot(num_data_list, converge_list)\u001b[0m\u001b[1;33m\u001b[0m\u001b[1;33m\u001b[0m\u001b[1;33m\u001b[0m\u001b[0m\n",
      "\u001b[1;31mNameError\u001b[0m: name 'eval_empirical_error' is not defined"
     ]
    }
   ],
   "source": [
    "import time\n",
    "num_samples = 100\n",
    "num_data_list = np.logspace(1, 6, num_samples)\n",
    "converge_list = np.zeros(num_samples, dtype='float')\n",
    "time_list = np.zeros(num_samples, dtype='float')\n",
    "empirical_error_list = np.zeros(num_samples, dtype='float')\n",
    "for i, num_data in enumerate(num_data_list.tolist()):\n",
    "    X, y, W0, b0 = generate_dataset(int(num_data), 2, verbose=False, seed=i)\n",
    "    time.sleep(0.01)\n",
    "    begin = time.time()\n",
    "    W1, b1 = simple_linear_regression(X, y)\n",
    "    converge_list[i] = np.linalg.norm(W1-W0) + np.linalg.norm(b1-b0)\n",
    "    elapsed = time.time()-begin\n",
    "    time_list[i] = float(time.time()-begin)\n",
    "    X, y, W0, b0 = generate_dataset(int(num_data), 2, verbose=False, seed=i)\n",
    "    empirical_error_list[i] = eval_empirical_error(W1, b1, X, y)\n",
    "\n",
    "# plt.plot(num_data_list, converge_list)\n",
    "plt.loglog(num_data_list, converge_list)\n",
    "plt.title(\"log convergence of W\")\n",
    "plt.xlabel(\"data size\")\n",
    "plt.ylabel(\"error\")\n",
    "plt.show()\n",
    "\n",
    "plt.semilogx(num_data_list, converge_list)\n",
    "plt.title(\"convergence of W\")\n",
    "plt.xlabel(\"data size\")\n",
    "plt.ylabel(\"error\")\n",
    "plt.show()\n",
    "\n",
    "plt.semilogx(num_data_list, time_list)\n",
    "plt.title(\"time consumption\")\n",
    "plt.xlabel(\"data size\")\n",
    "plt.ylabel(\"error\")\n",
    "plt.show()\n",
    "\n",
    "plt.semilogx(num_data_list, empirical_error_list)\n",
    "plt.title(\"empirical error of W\")\n",
    "plt.xlabel(\"data size\")\n",
    "plt.ylabel(\"empirical error (estimated)\")\n",
    "plt.show()"
   ]
  },
  {
   "cell_type": "markdown",
   "metadata": {},
   "source": [
    "# Toy Data 2"
   ]
  },
  {
   "cell_type": "code",
   "execution_count": 7,
   "metadata": {
    "collapsed": true
   },
   "outputs": [],
   "source": [
    "def generate_dataset2(num_data, num_feat, data_heter=1, model_heter=1, noise_level=1, verbose=True):\n",
    "    assert data_heter > 0\n",
    "    assert model_heter > 0\n",
    "    assert noise_level > 0\n",
    "\n",
    "    X = np.random.randn(num_data, num_feat) * np.maximum(1, np.random.rand(1, num_feat) * data_heter)\n",
    "    W = np.random.randn(num_feat, 1) * np.maximum(1, np.random.rand(num_feat, 1) * model_heter)\n",
    "    b = np.random.randn()\n",
    "    \n",
    "    Y = (X**2).dot(W) + b + np.random.randn(num_data, 1) * noise_level\n",
    "    if verbose:\n",
    "        print(\"data generated with random weights and bias: \")\n",
    "        print(\"W\", W)\n",
    "        print(\"b\", b)\n",
    "        print(\"X shape\", X.shape)\n",
    "        print(\"Y shape\", Y.shape)\n",
    "    return X, Y, W, b"
   ]
  },
  {
   "cell_type": "code",
   "execution_count": 8,
   "metadata": {
    "collapsed": false
   },
   "outputs": [
    {
     "name": "stdout",
     "output_type": "stream",
     "text": [
      "data generated with random weights and bias: \n",
      "W [[-0.98768883]]\n",
      "b 0.4935947939645763\n",
      "X shape (10, 1)\n",
      "Y shape (10, 1)\n"
     ]
    },
    {
     "data": {
      "text/plain": [
       "(array([[ 0.55500789],\n",
       "        [ 0.35140522],\n",
       "        [-0.38454069],\n",
       "        [ 2.04300626],\n",
       "        [ 0.11771884],\n",
       "        [ 2.54024688],\n",
       "        [ 0.55299772],\n",
       "        [ 1.80155747],\n",
       "        [ 0.56461617],\n",
       "        [ 0.95608246]]), array([[-0.15624371],\n",
       "        [-0.26668517],\n",
       "        [ 1.93025089],\n",
       "        [-3.52836071],\n",
       "        [-0.68227638],\n",
       "        [-5.64953265],\n",
       "        [-0.47965733],\n",
       "        [-1.10013376],\n",
       "        [-1.44371531],\n",
       "        [-3.05148925]]), array([[-0.98768883]]), 0.4935947939645763)"
      ]
     },
     "execution_count": 8,
     "metadata": {},
     "output_type": "execute_result"
    }
   ],
   "source": [
    "generate_dataset2(10, 1)"
   ]
  },
  {
   "cell_type": "code",
   "execution_count": null,
   "metadata": {
    "collapsed": true
   },
   "outputs": [],
   "source": []
  }
 ],
 "metadata": {
  "kernelspec": {
   "display_name": "Python 3",
   "language": "python",
   "name": "python3"
  },
  "language_info": {
   "codemirror_mode": {
    "name": "ipython",
    "version": 3
   },
   "file_extension": ".py",
   "mimetype": "text/x-python",
   "name": "python",
   "nbconvert_exporter": "python",
   "pygments_lexer": "ipython3",
   "version": "3.6.9"
  }
 },
 "nbformat": 4,
 "nbformat_minor": 2
}
