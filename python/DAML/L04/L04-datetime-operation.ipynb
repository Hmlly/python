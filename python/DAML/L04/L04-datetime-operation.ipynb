{
 "cells": [
  {
   "cell_type": "code",
   "execution_count": 1,
   "metadata": {
    "collapsed": true
   },
   "outputs": [],
   "source": [
    "import matplotlib.pyplot as plt\n",
    "import numpy as np\n",
    "import pandas as pd\n",
    "import seaborn as sns\n",
    "sns.set()"
   ]
  },
  {
   "cell_type": "code",
   "execution_count": 2,
   "metadata": {
    "collapsed": false
   },
   "outputs": [
    {
     "name": "stdout",
     "output_type": "stream",
     "text": [
      "(1762, 5)\n"
     ]
    },
    {
     "data": {
      "text/html": [
       "<div>\n",
       "<style scoped>\n",
       "    .dataframe tbody tr th:only-of-type {\n",
       "        vertical-align: middle;\n",
       "    }\n",
       "\n",
       "    .dataframe tbody tr th {\n",
       "        vertical-align: top;\n",
       "    }\n",
       "\n",
       "    .dataframe thead th {\n",
       "        text-align: right;\n",
       "    }\n",
       "</style>\n",
       "<table border=\"1\" class=\"dataframe\">\n",
       "  <thead>\n",
       "    <tr style=\"text-align: right;\">\n",
       "      <th></th>\n",
       "      <th>high</th>\n",
       "      <th>low</th>\n",
       "      <th>open</th>\n",
       "      <th>close</th>\n",
       "      <th>volume</th>\n",
       "    </tr>\n",
       "  </thead>\n",
       "  <tbody>\n",
       "    <tr>\n",
       "      <th>434</th>\n",
       "      <td>15.640000</td>\n",
       "      <td>15.15</td>\n",
       "      <td>15.220000</td>\n",
       "      <td>15.45</td>\n",
       "      <td>67079900.0</td>\n",
       "    </tr>\n",
       "    <tr>\n",
       "      <th>902</th>\n",
       "      <td>15.670000</td>\n",
       "      <td>15.45</td>\n",
       "      <td>15.460000</td>\n",
       "      <td>15.53</td>\n",
       "      <td>64550600.0</td>\n",
       "    </tr>\n",
       "    <tr>\n",
       "      <th>1370</th>\n",
       "      <td>15.620000</td>\n",
       "      <td>15.44</td>\n",
       "      <td>15.530000</td>\n",
       "      <td>15.45</td>\n",
       "      <td>55464900.0</td>\n",
       "    </tr>\n",
       "    <tr>\n",
       "      <th>1838</th>\n",
       "      <td>16.480000</td>\n",
       "      <td>15.43</td>\n",
       "      <td>15.480000</td>\n",
       "      <td>16.25</td>\n",
       "      <td>185472300.0</td>\n",
       "    </tr>\n",
       "    <tr>\n",
       "      <th>2306</th>\n",
       "      <td>16.690001</td>\n",
       "      <td>16.27</td>\n",
       "      <td>16.309999</td>\n",
       "      <td>16.60</td>\n",
       "      <td>115112600.0</td>\n",
       "    </tr>\n",
       "  </tbody>\n",
       "</table>\n",
       "</div>"
      ],
      "text/plain": [
       "           high    low       open  close       volume\n",
       "434   15.640000  15.15  15.220000  15.45   67079900.0\n",
       "902   15.670000  15.45  15.460000  15.53   64550600.0\n",
       "1370  15.620000  15.44  15.530000  15.45   55464900.0\n",
       "1838  16.480000  15.43  15.480000  16.25  185472300.0\n",
       "2306  16.690001  16.27  16.309999  16.60  115112600.0"
      ]
     },
     "execution_count": 2,
     "metadata": {},
     "output_type": "execute_result"
    }
   ],
   "source": [
    "price = pd.read_csv(\"../nyse/prices.csv\")\n",
    "price_GE = price.query(\"symbol == 'GE'\") # (1762,7)\n",
    "columns = ['date','symbol','high','low','open','close','volume']\n",
    "price_GE = price_GE.reindex(columns,axis=1)\n",
    "price_GE.drop(['date','symbol'], axis=1, inplace=True)\n",
    "print(price_GE.shape)\n",
    "price_GE.head()"
   ]
  },
  {
   "cell_type": "code",
   "execution_count": 3,
   "metadata": {
    "collapsed": true
   },
   "outputs": [],
   "source": [
    "from datetime import datetime,timedelta\n",
    "\n",
    "def find_last_ith_day(row_content,i):\n",
    "    # date_object = price_GE[0:1]['date']\n",
    "    date_object = row_content['date']\n",
    "    # print(date)\n",
    "    date_datetime = pd.to_datetime(date, format ='%Y-%m-%d')\n",
    "    new_date = date_datetime - timedelta(days=i)\n",
    "    # print(new_date)\n",
    "    new_date_object = new_date.map(lambda x:x.strftime('%Y-%m-%d'))\n",
    "    # print(new_date_object)\n",
    "    result = price_GE.query('date.values ==@new_date_object.values')\n",
    "    columns = ['high','low','open','close','volume']\n",
    "    print(result[columns].values[0])\n",
    "    print('*'*30)\n",
    "    return result[columns].values[0]"
   ]
  },
  {
   "cell_type": "code",
   "execution_count": null,
   "metadata": {
    "collapsed": true
   },
   "outputs": [],
   "source": []
  }
 ],
 "metadata": {
  "kernelspec": {
   "display_name": "Python 3",
   "language": "python",
   "name": "python3"
  },
  "language_info": {
   "codemirror_mode": {
    "name": "ipython",
    "version": 3
   },
   "file_extension": ".py",
   "mimetype": "text/x-python",
   "name": "python",
   "nbconvert_exporter": "python",
   "pygments_lexer": "ipython3",
   "version": "3.6.9"
  }
 },
 "nbformat": 4,
 "nbformat_minor": 0
}
