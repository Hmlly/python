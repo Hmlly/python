{
 "cells": [
  {
   "cell_type": "code",
   "execution_count": 1,
   "metadata": {},
   "outputs": [
    {
     "name": "stderr",
     "output_type": "stream",
     "text": [
      "/Users/zihao/anaconda3/lib/python3.7/importlib/_bootstrap.py:219: RuntimeWarning: numpy.ufunc size changed, may indicate binary incompatibility. Expected 192 from C header, got 216 from PyObject\n",
      "  return f(*args, **kwds)\n",
      "/Users/zihao/anaconda3/lib/python3.7/importlib/_bootstrap.py:219: RuntimeWarning: numpy.ufunc size changed, may indicate binary incompatibility. Expected 192 from C header, got 216 from PyObject\n",
      "  return f(*args, **kwds)\n"
     ]
    }
   ],
   "source": [
    "import pandas as pd\n",
    "import numpy as np\n",
    "import matplotlib.pyplot as plt\n",
    "from sklearn.linear_model import LinearRegression"
   ]
  },
  {
   "cell_type": "code",
   "execution_count": 2,
   "metadata": {},
   "outputs": [],
   "source": [
    "df = pd.read_csv('../nyse/prices.csv')"
   ]
  },
  {
   "cell_type": "code",
   "execution_count": 3,
   "metadata": {},
   "outputs": [
    {
     "data": {
      "text/plain": [
       "Index(['date', 'symbol', 'open', 'close', 'low', 'high', 'volume'], dtype='object')"
      ]
     },
     "execution_count": 3,
     "metadata": {},
     "output_type": "execute_result"
    }
   ],
   "source": [
    "df.columns"
   ]
  },
  {
   "cell_type": "code",
   "execution_count": 6,
   "metadata": {},
   "outputs": [],
   "source": [
    "dfge = df[df['symbol'] == 'GE']"
   ]
  },
  {
   "cell_type": "code",
   "execution_count": 7,
   "metadata": {},
   "outputs": [],
   "source": [
    "train_df = dfge[dfge['date'] < '2016-01-01']"
   ]
  },
  {
   "cell_type": "code",
   "execution_count": 8,
   "metadata": {},
   "outputs": [],
   "source": [
    "test_df = dfge[dfge['date'] >= '2016-01-01']"
   ]
  },
  {
   "cell_type": "code",
   "execution_count": 13,
   "metadata": {},
   "outputs": [
    {
     "data": {
      "text/html": [
       "<div>\n",
       "<style scoped>\n",
       "    .dataframe tbody tr th:only-of-type {\n",
       "        vertical-align: middle;\n",
       "    }\n",
       "\n",
       "    .dataframe tbody tr th {\n",
       "        vertical-align: top;\n",
       "    }\n",
       "\n",
       "    .dataframe thead th {\n",
       "        text-align: right;\n",
       "    }\n",
       "</style>\n",
       "<table border=\"1\" class=\"dataframe\">\n",
       "  <thead>\n",
       "    <tr style=\"text-align: right;\">\n",
       "      <th></th>\n",
       "      <th>date</th>\n",
       "      <th>open</th>\n",
       "      <th>close</th>\n",
       "      <th>low</th>\n",
       "      <th>high</th>\n",
       "      <th>volume</th>\n",
       "    </tr>\n",
       "  </thead>\n",
       "  <tbody>\n",
       "    <tr>\n",
       "      <th>434</th>\n",
       "      <td>2010-01-04</td>\n",
       "      <td>15.220000</td>\n",
       "      <td>15.450000</td>\n",
       "      <td>15.150000</td>\n",
       "      <td>15.640000</td>\n",
       "      <td>67079900.0</td>\n",
       "    </tr>\n",
       "    <tr>\n",
       "      <th>902</th>\n",
       "      <td>2010-01-05</td>\n",
       "      <td>15.460000</td>\n",
       "      <td>15.530000</td>\n",
       "      <td>15.450000</td>\n",
       "      <td>15.670000</td>\n",
       "      <td>64550600.0</td>\n",
       "    </tr>\n",
       "    <tr>\n",
       "      <th>1370</th>\n",
       "      <td>2010-01-06</td>\n",
       "      <td>15.530000</td>\n",
       "      <td>15.450000</td>\n",
       "      <td>15.440000</td>\n",
       "      <td>15.620000</td>\n",
       "      <td>55464900.0</td>\n",
       "    </tr>\n",
       "    <tr>\n",
       "      <th>1838</th>\n",
       "      <td>2010-01-07</td>\n",
       "      <td>15.480000</td>\n",
       "      <td>16.250000</td>\n",
       "      <td>15.430000</td>\n",
       "      <td>16.480000</td>\n",
       "      <td>185472300.0</td>\n",
       "    </tr>\n",
       "    <tr>\n",
       "      <th>2306</th>\n",
       "      <td>2010-01-08</td>\n",
       "      <td>16.309999</td>\n",
       "      <td>16.600000</td>\n",
       "      <td>16.270000</td>\n",
       "      <td>16.690001</td>\n",
       "      <td>115112600.0</td>\n",
       "    </tr>\n",
       "    <tr>\n",
       "      <th>...</th>\n",
       "      <td>...</td>\n",
       "      <td>...</td>\n",
       "      <td>...</td>\n",
       "      <td>...</td>\n",
       "      <td>...</td>\n",
       "      <td>...</td>\n",
       "    </tr>\n",
       "    <tr>\n",
       "      <th>723088</th>\n",
       "      <td>2015-12-24</td>\n",
       "      <td>30.900000</td>\n",
       "      <td>30.830000</td>\n",
       "      <td>30.690001</td>\n",
       "      <td>30.930000</td>\n",
       "      <td>13518900.0</td>\n",
       "    </tr>\n",
       "    <tr>\n",
       "      <th>723587</th>\n",
       "      <td>2015-12-28</td>\n",
       "      <td>30.740000</td>\n",
       "      <td>30.900000</td>\n",
       "      <td>30.610001</td>\n",
       "      <td>31.000000</td>\n",
       "      <td>26557700.0</td>\n",
       "    </tr>\n",
       "    <tr>\n",
       "      <th>724086</th>\n",
       "      <td>2015-12-29</td>\n",
       "      <td>31.010000</td>\n",
       "      <td>31.280001</td>\n",
       "      <td>31.000000</td>\n",
       "      <td>31.480000</td>\n",
       "      <td>33400400.0</td>\n",
       "    </tr>\n",
       "    <tr>\n",
       "      <th>724585</th>\n",
       "      <td>2015-12-30</td>\n",
       "      <td>31.280001</td>\n",
       "      <td>31.049999</td>\n",
       "      <td>31.010000</td>\n",
       "      <td>31.440001</td>\n",
       "      <td>29127700.0</td>\n",
       "    </tr>\n",
       "    <tr>\n",
       "      <th>725084</th>\n",
       "      <td>2015-12-31</td>\n",
       "      <td>30.860001</td>\n",
       "      <td>31.150000</td>\n",
       "      <td>30.790001</td>\n",
       "      <td>31.490000</td>\n",
       "      <td>52228400.0</td>\n",
       "    </tr>\n",
       "  </tbody>\n",
       "</table>\n",
       "<p>1510 rows × 6 columns</p>\n",
       "</div>"
      ],
      "text/plain": [
       "              date       open      close        low       high       volume\n",
       "434     2010-01-04  15.220000  15.450000  15.150000  15.640000   67079900.0\n",
       "902     2010-01-05  15.460000  15.530000  15.450000  15.670000   64550600.0\n",
       "1370    2010-01-06  15.530000  15.450000  15.440000  15.620000   55464900.0\n",
       "1838    2010-01-07  15.480000  16.250000  15.430000  16.480000  185472300.0\n",
       "2306    2010-01-08  16.309999  16.600000  16.270000  16.690001  115112600.0\n",
       "...            ...        ...        ...        ...        ...          ...\n",
       "723088  2015-12-24  30.900000  30.830000  30.690001  30.930000   13518900.0\n",
       "723587  2015-12-28  30.740000  30.900000  30.610001  31.000000   26557700.0\n",
       "724086  2015-12-29  31.010000  31.280001  31.000000  31.480000   33400400.0\n",
       "724585  2015-12-30  31.280001  31.049999  31.010000  31.440001   29127700.0\n",
       "725084  2015-12-31  30.860001  31.150000  30.790001  31.490000   52228400.0\n",
       "\n",
       "[1510 rows x 6 columns]"
      ]
     },
     "execution_count": 13,
     "metadata": {},
     "output_type": "execute_result"
    }
   ],
   "source": [
    "train_df[['date', 'open', 'close', 'low', 'high', 'volume']]"
   ]
  },
  {
   "cell_type": "code",
   "execution_count": 16,
   "metadata": {},
   "outputs": [],
   "source": [
    "X_train = train_df[['open', 'close', 'low', 'high', 'volume']].iloc[:-5,:]"
   ]
  },
  {
   "cell_type": "markdown",
   "metadata": {},
   "source": [
    "```\n",
    "[1, 2, 3, 4, 5, ..., 1510]\n",
    "\n",
    "X_train [1, 2, ..., 1505]\n",
    "y_train [6, 7, ..., 1510]\n",
    "```"
   ]
  },
  {
   "cell_type": "code",
   "execution_count": 17,
   "metadata": {},
   "outputs": [],
   "source": [
    "y_train = train_df['open'].iloc[5:]"
   ]
  },
  {
   "cell_type": "code",
   "execution_count": 18,
   "metadata": {},
   "outputs": [
    {
     "data": {
      "text/plain": [
       "(1505, 5)"
      ]
     },
     "execution_count": 18,
     "metadata": {},
     "output_type": "execute_result"
    }
   ],
   "source": [
    "X_train.shape"
   ]
  },
  {
   "cell_type": "code",
   "execution_count": 19,
   "metadata": {},
   "outputs": [
    {
     "data": {
      "text/plain": [
       "2774      16.830000\n",
       "3242      16.580000\n",
       "3710      16.760000\n",
       "4178      16.790001\n",
       "4646      16.680000\n",
       "            ...    \n",
       "723088    30.900000\n",
       "723587    30.740000\n",
       "724086    31.010000\n",
       "724585    31.280001\n",
       "725084    30.860001\n",
       "Name: open, Length: 1505, dtype: float64"
      ]
     },
     "execution_count": 19,
     "metadata": {},
     "output_type": "execute_result"
    }
   ],
   "source": [
    "y_train"
   ]
  },
  {
   "cell_type": "code",
   "execution_count": 25,
   "metadata": {},
   "outputs": [],
   "source": [
    "X_test = test_df[['open', 'close', 'low', 'high', 'volume']].iloc[:-5,:]\n",
    "y_test = test_df['open'].iloc[5:]"
   ]
  },
  {
   "cell_type": "code",
   "execution_count": 20,
   "metadata": {},
   "outputs": [],
   "source": [
    "from sklearn.linear_model import LinearRegression"
   ]
  },
  {
   "cell_type": "code",
   "execution_count": 21,
   "metadata": {},
   "outputs": [],
   "source": [
    "lr = LinearRegression()"
   ]
  },
  {
   "cell_type": "code",
   "execution_count": 22,
   "metadata": {},
   "outputs": [
    {
     "data": {
      "text/plain": [
       "LinearRegression(copy_X=True, fit_intercept=True, n_jobs=None, normalize=False)"
      ]
     },
     "execution_count": 22,
     "metadata": {},
     "output_type": "execute_result"
    }
   ],
   "source": [
    "lr.fit(X_train, y_train)"
   ]
  },
  {
   "cell_type": "code",
   "execution_count": 26,
   "metadata": {},
   "outputs": [],
   "source": [
    "y_pred = lr.predict(X_test)"
   ]
  },
  {
   "cell_type": "code",
   "execution_count": 29,
   "metadata": {},
   "outputs": [
    {
     "data": {
      "text/plain": [
       "Text(0, 0.5, 'true val')"
      ]
     },
     "execution_count": 29,
     "metadata": {},
     "output_type": "execute_result"
    },
    {
     "data": {
      "image/png": "[encoded data removed]",
      "text/plain": [
       "<Figure size 432x288 with 1 Axes>"
      ]
     },
     "metadata": {
      "needs_background": "light"
     },
     "output_type": "display_data"
    }
   ],
   "source": [
    "plt.scatter(y_pred, y_test)\n",
    "plt.xlabel(\"pred val\")\n",
    "plt.ylabel(\"true val\")"
   ]
  },
  {
   "cell_type": "code",
   "execution_count": 30,
   "metadata": {},
   "outputs": [],
   "source": [
    "L = len(y_test)"
   ]
  },
  {
   "cell_type": "code",
   "execution_count": 33,
   "metadata": {},
   "outputs": [
    {
     "data": {
      "text/plain": [
       "((247,), (247,))"
      ]
     },
     "execution_count": 33,
     "metadata": {},
     "output_type": "execute_result"
    }
   ],
   "source": [
    "y_test.shape, y_pred.shape"
   ]
  },
  {
   "cell_type": "code",
   "execution_count": 32,
   "metadata": {},
   "outputs": [
    {
     "data": {
      "text/plain": [
       "[<matplotlib.lines.Line2D at 0x1a2000c550>]"
      ]
     },
     "execution_count": 32,
     "metadata": {},
     "output_type": "execute_result"
    },
    {
     "data": {
      "image/png": "[encoded data removed]",
      "text/plain": [
       "<Figure size 432x288 with 1 Axes>"
      ]
     },
     "metadata": {
      "needs_background": "light"
     },
     "output_type": "display_data"
    }
   ],
   "source": [
    "plt.plot(np.arange(L), y_test)\n",
    "plt.plot(np.arange(L), y_pred)"
   ]
  },
  {
   "cell_type": "code",
   "execution_count": 34,
   "metadata": {},
   "outputs": [
    {
     "data": {
      "text/plain": [
       "<bound method BaseEstimator.get_params of LinearRegression(copy_X=True, fit_intercept=True, n_jobs=None, normalize=False)>"
      ]
     },
     "execution_count": 34,
     "metadata": {},
     "output_type": "execute_result"
    }
   ],
   "source": [
    "lr.get_params"
   ]
  },
  {
   "cell_type": "markdown",
   "metadata": {},
   "source": [
    "TA-Lib\n",
    "https://www.lfd.uci.edu/~gohlke/pythonlibs/#ta-lib\n",
    "https://mrjbq7.github.io/ta-lib/index.html\n",
    "\n",
    "feature scaling\n",
    "return (o_{d+5} - o_{d}) / o_{d}"
   ]
  }
 ],
 "metadata": {
  "kernelspec": {
   "display_name": "Python 3",
   "language": "python",
   "name": "python3"
  },
  "language_info": {
   "codemirror_mode": {
    "name": "ipython",
    "version": 3
   },
   "file_extension": ".py",
   "mimetype": "text/x-python",
   "name": "python",
   "nbconvert_exporter": "python",
   "pygments_lexer": "ipython3",
   "version": "3.7.3"
  }
 },
 "nbformat": 4,
 "nbformat_minor": 2
}
