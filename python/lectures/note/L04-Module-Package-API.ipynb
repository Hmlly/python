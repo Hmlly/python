{
 "cells": [
  {
   "cell_type": "markdown",
   "metadata": {},
   "source": [
    "# 模块\n",
    "## 基本定义\n",
    "- module    任何后缀为 *.py 的文件，模块名=文件名\n",
    "- built-in module    python 编译器内置的函数，没有 *.py 文件\n",
    "- package    任何文件夹都可以视为包（python 3.3 以上）\n",
    "- objecct    python 中基本所有东西都是对象，如函数、类、变量等。"
   ]
  },
  {
   "cell_type": "code",
   "execution_count": null,
   "metadata": {
    "collapsed": true
   },
   "outputs": [],
   "source": [
    "project\\    # 项目根路径\n",
    "    packA\\    # 包A\n",
    "        subA\\    # 子包A\n",
    "            __init__.py # 把文件夹识别为包的空文件\n",
    "                        # python 3.3 起，包下不需要此空文件\n",
    "            sa1.py\n",
    "            sa2.py\n",
    "        __init__.py\n",
    "        a1.py\n",
    "        a2.py\n",
    "    packB\\    # 隐式（无 __init__.py）\n",
    "                # python 3.3 后，不分隐式/显式\n",
    "        b1.py\n",
    "        b2.py\n",
    "    math.py\n",
    "    random.py\n",
    "    other.py\n",
    "    start.py\n",
    "    # 根路径下不需要 __init__.py 文件"
   ]
  },
  {
   "cell_type": "markdown",
   "metadata": {},
   "source": [
    "## 导入包语法 import\n",
    "```\n",
    "- import <package> [as Y]\n",
    "- import <module> [as Y]\n",
    "- from <package> import <module or subpackage or object> [as Y]\n",
    "- from <module> import <object> [as Y]\n",
    "```\n",
    "假如用 x 表示 import 后的名字\n",
    "- x 是包或模块的名字，想要用对象需要x.object\n",
    "- x 是变量，直接使用即可\n",
    "- x 是函数，直接调用'x()'即可\n",
    "\n",
    "as Y \n",
    "- Y就是别名，直接使用即可\n",
    " \n",
    "例子见 aibasic/start.py"
   ]
  },
  {
   "cell_type": "markdown",
   "metadata": {},
   "source": [
    "# [python 标准库](https://docs.python.org/zh-cn/3.6/library/index.html)\n",
    "## [python 内置函数](https://docs.python.org/zh-cn/3.6/library/functions.html)"
   ]
  },
  {
   "cell_type": "code",
   "execution_count": 21,
   "metadata": {
    "collapsed": false
   },
   "outputs": [
    {
     "name": "stdout",
     "output_type": "stream",
     "text": [
      "1\n",
      "-9.5\n",
      "3\n",
      "[-9.5, -8, -3, 1, 2, 3]\n",
      "-14.5\n",
      "4\n",
      "65\n",
      "97\n",
      "A\n",
      "a\n",
      "<class 'type'>\n",
      "True\n",
      "False\n",
      "True\n",
      "{'A': 2}\n",
      "<class 'str'>\n",
      "{'A': 2}\n",
      "<class 'dict'>\n"
     ]
    }
   ],
   "source": [
    "# 绝对值\n",
    "print(abs(-1))\n",
    "# 最小值\n",
    "print(min([1,2,3,4-7,-8,-9.5]))\n",
    "# 最大值\n",
    "print(max([1,2,3,4-7,-8,-9.5]))\n",
    "# 排序\n",
    "print(sorted([1,2,3,4-7,-8,-9.5]))\n",
    "# 求和\n",
    "print(sum([1,2,3,4-7,-8,-9.5]))\n",
    "# 截断成整数\n",
    "print(round(3.55))\n",
    "# 求一个字符的 ASCII 码\n",
    "print(ord('A'))\n",
    "print(ord('a'))\n",
    "print(chr(65))\n",
    "print(chr(97))\n",
    "# 类型\n",
    "print(type(set))\n",
    "# 判断两个对象是否相同\n",
    "obj1 = object()\n",
    "obj2 = obj1\n",
    "print(id(obj1)==id(obj2))\n",
    "# 判断两个对象的值是否相同\n",
    "obj3 = object()\n",
    "print(hash(obj1)==hash(obj3))\n",
    "print(hash(1) == hash(1.0))\n",
    "# 代码序列化？\n",
    "# repr 返回包含一个对象的可打印表示形式的字符串\n",
    "mylist1 = ['我','爱','中国',1314]\n",
    "mylist1 = {'A':2} # dict()\n",
    "code_string = repr(mylist1)\n",
    "print(code_string)\n",
    "print(type(code_string))\n",
    "# eval 这个函数也可以用来执行任何代码对象\n",
    "result = eval(code_string)\n",
    "print(result)\n",
    "print(type(result))\n",
    "# help(dir)\n",
    "# print(dir(int))\n"
   ]
  },
  {
   "cell_type": "markdown",
   "metadata": {},
   "source": [
    "## datetime 模块\n",
    "\n",
    "关键字搜索：python datetime常用操作"
   ]
  },
  {
   "cell_type": "code",
   "execution_count": null,
   "metadata": {
    "collapsed": true
   },
   "outputs": [],
   "source": [
    "import time # 1970-2038\n",
    "import datetime # 基于 time 封装，提供更多实用的函数"
   ]
  },
  {
   "cell_type": "markdown",
   "metadata": {},
   "source": [
    "不同时间类型\n",
    "\n",
    "- timedelta # 主要用于计算时间跨度\n",
    "- tzinfo # 时区相关\n",
    "- time # 只关注时间\n",
    "- date # 只关注日期\n",
    "- datetime # 同时关注时间和日期"
   ]
  },
  {
   "cell_type": "code",
   "execution_count": 22,
   "metadata": {
    "collapsed": false
   },
   "outputs": [
    {
     "name": "stdout",
     "output_type": "stream",
     "text": [
      "0\n",
      "1\n",
      "2\n"
     ]
    }
   ],
   "source": [
    "# time 用于休眠\n",
    "import time\n",
    "for i in range(3):\n",
    "    time.sleep(1) # 1s\n",
    "    print(i)"
   ]
  },
  {
   "cell_type": "code",
   "execution_count": 26,
   "metadata": {
    "collapsed": false
   },
   "outputs": [
    {
     "name": "stdout",
     "output_type": "stream",
     "text": [
      "for循环消耗的时间是: 0.025828123999872332\n",
      "列表解析消耗的时间是: 0.012859088000368502\n"
     ]
    },
    {
     "name": "stderr",
     "output_type": "stream",
     "text": [
      "c:\\program files\\python3.7.3\\lib\\site-packages\\ipykernel_launcher.py:3: DeprecationWarning: time.clock has been deprecated in Python 3.3 and will be removed from Python 3.8: use time.perf_counter or time.process_time instead\n",
      "  This is separate from the ipykernel package so we can avoid doing imports until\n",
      "c:\\program files\\python3.7.3\\lib\\site-packages\\ipykernel_launcher.py:6: DeprecationWarning: time.clock has been deprecated in Python 3.3 and will be removed from Python 3.8: use time.perf_counter or time.process_time instead\n",
      "  \n",
      "c:\\program files\\python3.7.3\\lib\\site-packages\\ipykernel_launcher.py:9: DeprecationWarning: time.clock has been deprecated in Python 3.3 and will be removed from Python 3.8: use time.perf_counter or time.process_time instead\n",
      "  if __name__ == '__main__':\n",
      "c:\\program files\\python3.7.3\\lib\\site-packages\\ipykernel_launcher.py:11: DeprecationWarning: time.clock has been deprecated in Python 3.3 and will be removed from Python 3.8: use time.perf_counter or time.process_time instead\n",
      "  # This is added back by InteractiveShellApp.init_path()\n"
     ]
    }
   ],
   "source": [
    "# 对比 for 循环和列表解析的效率\n",
    "array = []\n",
    "start = time.clock()\n",
    "for i in range(200000):\n",
    "    array.append(i)\n",
    "end = time.clock()\n",
    "# 'f' 后跟一个表达式\n",
    "print(f'for循环消耗的时间是: {end-start}')\n",
    "start = time.clock()\n",
    "array2= [i for i in range(200000)]\n",
    "end = time.clock()\n",
    "print(f'列表解析消耗的时间是: {end-start}')"
   ]
  },
  {
   "cell_type": "code",
   "execution_count": 30,
   "metadata": {
    "collapsed": false
   },
   "outputs": [
    {
     "name": "stdout",
     "output_type": "stream",
     "text": [
      "['MAXYEAR', 'MINYEAR', '__builtins__', '__cached__', '__doc__', '__file__', '__loader__', '__name__', '__package__', '__spec__', 'date', 'datetime', 'datetime_CAPI', 'sys', 'time', 'timedelta', 'timezone', 'tzinfo'] \n",
      "\n",
      "['__add__', '__class__', '__delattr__', '__dir__', '__doc__', '__eq__', '__format__', '__ge__', '__getattribute__', '__gt__', '__hash__', '__init__', '__init_subclass__', '__le__', '__lt__', '__ne__', '__new__', '__radd__', '__reduce__', '__reduce_ex__', '__repr__', '__rsub__', '__setattr__', '__sizeof__', '__str__', '__sub__', '__subclasshook__', 'astimezone', 'combine', 'ctime', 'date', 'day', 'dst', 'fold', 'fromisoformat', 'fromordinal', 'fromtimestamp', 'hour', 'isocalendar', 'isoformat', 'isoweekday', 'max', 'microsecond', 'min', 'minute', 'month', 'now', 'replace', 'resolution', 'second', 'strftime', 'strptime', 'time', 'timestamp', 'timetuple', 'timetz', 'today', 'toordinal', 'tzinfo', 'tzname', 'utcfromtimestamp', 'utcnow', 'utcoffset', 'utctimetuple', 'weekday', 'year']\n"
     ]
    }
   ],
   "source": [
    "import datetime\n",
    "# 返回该对象的有效属性列表，__*__ 为内置属性\n",
    "print(dir(datetime),'\\n')\n",
    "print(dir(datetime.datetime))"
   ]
  },
  {
   "cell_type": "code",
   "execution_count": 46,
   "metadata": {
    "collapsed": false
   },
   "outputs": [
    {
     "name": "stdout",
     "output_type": "stream",
     "text": [
      "2019-11-04 22:44:38.993253\n",
      "2019-11-04 22:44:38.993253\n",
      "<attribute 'year' of 'datetime.date' objects>\n"
     ]
    }
   ],
   "source": [
    "import datetime\n",
    "print(datetime.datetime.now())\n",
    "# 另一种写法\n",
    "from datetime import datetime as dt\n",
    "print(dt.now())"
   ]
  },
  {
   "cell_type": "markdown",
   "metadata": {},
   "source": [
    "### datetime 属性\n",
    "- datetime.datetime.year\n",
    "- datetime.datetime.month\n",
    "- datetime.datetime.day\n",
    "- datetime.datetime.hour\n",
    "- datetime.datetime.minute\n",
    "- datetime.datetime.second\n",
    "- datetime.datetime.microsecond\n",
    "- datetime.datetime.tzinfo\n",
    "\n",
    "- datetime.date() # 返回 date 对象\n",
    "- datetime.time() # 返回 time 对象\n",
    "- datetime.replace(name=val) # 修改\n",
    "- datetime.timetuple() # 返回 time.struct_time 对象\n",
    "- datetime.strftime(format) # 按照 format 进行格式化输出"
   ]
  },
  {
   "cell_type": "code",
   "execution_count": 62,
   "metadata": {
    "collapsed": false
   },
   "outputs": [
    {
     "name": "stdout",
     "output_type": "stream",
     "text": [
      "2019-11-04 23:02:10.842148\n",
      "2019-11-04 23:02:10\n",
      "2019 11 04 23:02:10\n",
      "11.04 2019 23:02:10\n"
     ]
    }
   ],
   "source": [
    "current = dt.now()\n",
    "print(current)\n",
    "print(current.strftime('%Y-%m-%d %H:%M:%S'))\n",
    "print(current.strftime('%Y %m %d %H:%M:%S'))\n",
    "print(current.strftime('%m.%d %Y %H:%M:%S'))"
   ]
  },
  {
   "cell_type": "markdown",
   "metadata": {},
   "source": [
    "## OS模块 [操作系统接口](https://docs.python.org/zh-cn/3.6/library/os.html)\n",
    "\n",
    "关键字搜索：python OS常用操作\n",
    "\n",
    "相对路径的表示方法\n",
    "- 当前路径 '.'\n",
    "- 上一级路径 '../'\n",
    "\n",
    "绝对路径：从盘符开始\n",
    "- windows C:\\Users\\sunsh\n",
    "- unix /home/root"
   ]
  },
  {
   "cell_type": "code",
   "execution_count": 4,
   "metadata": {
    "collapsed": false
   },
   "outputs": [
    {
     "name": "stdout",
     "output_type": "stream",
     "text": [
      "C:\\Anaconda3\\Scripts\\python3\n",
      "['.ipynb_checkpoints', 'L01.ipynb', 'L02-2-if-for-while.ipynb', 'L02-list-tuple-set-dict.ipynb', 'L03-function.ipynb', 'L03-homework.ipynb', 'L03-range-iter-zip.ipynb', 'L04-Module-Package-API.ipynb', 'L04_Assignment.ipynb', 'math-L03.ipynb', 'sunsh.rar', 'Untitled.ipynb'] \n",
      "\n",
      "['$Recycle.Bin', '$WINDOWS.~BT', 'Anaconda3', 'Dell', 'Documents and Settings', 'hiberfil.sys', 'Intel', 'OneDriveTemp', 'pagefile.sys', 'PerfLogs', 'Program Files', 'Program Files (x86)', 'ProgramData', 'Recovery', 'Recovery.txt', 'swapfile.sys', 'System Volume Information', 'Users', 'Windows']\n"
     ]
    }
   ],
   "source": [
    "import os\n",
    "# 获取当前路径\n",
    "print(os.getcwd())\n",
    "# 获取当前路径下的文件 '.*'表示隐藏文件\n",
    "print(os.listdir('.'),'\\n')\n",
    "# 获取上一级路径下的文件\n",
    "print(os.listdir('../../../'))"
   ]
  },
  {
   "cell_type": "code",
   "execution_count": 5,
   "metadata": {
    "collapsed": false
   },
   "outputs": [
    {
     "name": "stdout",
     "output_type": "stream",
     "text": [
      "True\n",
      "False\n",
      "True\n",
      "True\n"
     ]
    }
   ],
   "source": [
    "# 创建文件夹\n",
    "os.mkdir('new_dir')\n",
    "# print(os.listdir('.'))\n",
    "# 删除文件夹\n",
    "os.rmdir('new_dir')\n",
    "# print(os.listdir('.'))\n",
    "# 判断当前路径是否是文件夹\n",
    "print(os.path.isdir('.'))\n",
    "print(os.path.isdir('L01.ipynb'))\n",
    "# 判断文件是否存在\n",
    "print(os.path.exists('.'))\n",
    "print(os.path.exists('C://users//sunsh'))"
   ]
  },
  {
   "cell_type": "code",
   "execution_count": 6,
   "metadata": {
    "collapsed": false
   },
   "outputs": [
    {
     "name": "stdout",
     "output_type": "stream",
     "text": [
      "('64bit', 'WindowsPE')\n"
     ]
    }
   ],
   "source": [
    "# 打印体系结构\n",
    "import platform\n",
    "print(platform.architecture())"
   ]
  },
  {
   "cell_type": "code",
   "execution_count": 7,
   "metadata": {
    "collapsed": false
   },
   "outputs": [
    {
     "name": "stdout",
     "output_type": "stream",
     "text": [
      "folder\\L01.ipynb\n"
     ]
    }
   ],
   "source": [
    "# 路径拼接 - 使用操作系统的路径符\n",
    "# 多了一个转义符 '\\'\n",
    "print(os.path.join('folder','L01.ipynb'))"
   ]
  },
  {
   "cell_type": "markdown",
   "metadata": {},
   "source": [
    "## random 模块 - 生成伪随机数\n",
    "```\n",
    "在半开放区间 [0.0,1.0) 内均匀生成随机浮点数。 \n",
    "Python 使用 Mersenne Twister 作为核心生成器。 Mersenne Twister 是现存最广泛测试的随机数发生器之一。 \n",
    "它产生 53 位精度浮点数，周期为 2**19937-1 ，其在 C 中的底层实现既快又线程安全。 \n",
    "但是，因为完全确定性，它不适用于所有目的，并且完全不适合加密目的。\n",
    "```"
   ]
  },
  {
   "cell_type": "code",
   "execution_count": 86,
   "metadata": {
    "collapsed": false
   },
   "outputs": [
    {
     "name": "stdout",
     "output_type": "stream",
     "text": [
      "['BPF', 'LOG4', 'NV_MAGICCONST', 'RECIP_BPF', 'Random', 'SG_MAGICCONST', 'SystemRandom', 'TWOPI', '_BuiltinMethodType', '_MethodType', '_Sequence', '_Set', '__all__', '__builtins__', '__cached__', '__doc__', '__file__', '__loader__', '__name__', '__package__', '__spec__', '_acos', '_bisect', '_ceil', '_cos', '_e', '_exp', '_inst', '_itertools', '_log', '_os', '_pi', '_random', '_sha512', '_sin', '_sqrt', '_test', '_test_generator', '_urandom', '_warn', 'betavariate', 'choice', 'choices', 'expovariate', 'gammavariate', 'gauss', 'getrandbits', 'getstate', 'lognormvariate', 'normalvariate', 'paretovariate', 'randint', 'random', 'randrange', 'sample', 'seed', 'setstate', 'shuffle', 'triangular', 'uniform', 'vonmisesvariate', 'weibullvariate']\n"
     ]
    }
   ],
   "source": [
    "import random\n",
    "print(dir(random))"
   ]
  },
  {
   "cell_type": "code",
   "execution_count": 90,
   "metadata": {
    "collapsed": false
   },
   "outputs": [
    {
     "name": "stdout",
     "output_type": "stream",
     "text": [
      "0.1671711365562507\n",
      "20\n",
      "82\n"
     ]
    }
   ],
   "source": [
    "from random import *\n",
    "# 生成[0.0,1.0)之间的伪随机数\n",
    "print(random())\n",
    "# 生成[0,100)之间的伪随机整数\n",
    "print(randrange(100))\n",
    "print(randint(0,100))"
   ]
  },
  {
   "cell_type": "code",
   "execution_count": 96,
   "metadata": {
    "collapsed": false
   },
   "outputs": [
    {
     "name": "stdout",
     "output_type": "stream",
     "text": [
      "三等奖\n",
      "['谢谢参与奖']\n",
      "['谢谢参与奖', '谢谢参与奖', '谢谢参与奖', '三等奖', '谢谢参与奖', '谢谢参与奖', '三等奖', '谢谢参与奖', '三等奖', '三等奖']\n"
     ]
    }
   ],
   "source": [
    "# 随机抽取\n",
    "reward = ['一等奖','二等奖','三等奖','谢谢参与奖']\n",
    "print(choice(reward))\n",
    "# 指定概率 - 概率和一般为1\n",
    "print(choices(reward,[0.1,0.2,0.3,0.4]))\n",
    "# 指定概率 - 多次抽取\n",
    "print(choices(reward,[0.1,0.2,0.3,0.4],k=10))"
   ]
  },
  {
   "cell_type": "code",
   "execution_count": 107,
   "metadata": {
    "collapsed": false
   },
   "outputs": [
    {
     "name": "stdout",
     "output_type": "stream",
     "text": [
      "[7.627534456340213, 0.9005624611825364, 0.33867237173692194, 0.9693572309444121, 0.16387347979591738]\n"
     ]
    }
   ],
   "source": [
    "# 模拟微信发红包\n",
    "# 问题：每次生成随机数的范围不同，越来越小。\n",
    "import random\n",
    "def redpack(total, nums) :\n",
    "    every = [0]\n",
    "    for i in range(nums-1) :\n",
    "        money = random.random()*(total-sum(every)) if total-sum(every)>0 else 0\n",
    "        every.append(money)\n",
    "    # 列表相加\n",
    "    return every[1:]+[total-sum(every)]\n",
    "print(redpack(10,5))"
   ]
  },
  {
   "cell_type": "markdown",
   "metadata": {},
   "source": [
    "## 程序里的随机都是伪随机\n",
    "将当前时间的ms数当作一个随机种子。\n",
    "\n",
    "如何保证多次随机的结果一致？\n",
    "- random.seed()\n",
    "- 使用相同的种子，可以复制他人的随机结果\n",
    "- 不同的种子表示不同的随机序列\n",
    "```\n",
    "例子：\n",
    "random.randint(1,3)\n",
    "seed = 1: [1 1 2 1 3 1 ...]    # 概率 p(1)=1/3 p(2)=1/2 p(3)=1/3\n",
    "seed = 2: [2 3 1 2 3 1 ...]    # 概率 p(1)=1/3 p(2)=1/2 p(3)=1/3\n",
    "```"
   ]
  },
  {
   "cell_type": "code",
   "execution_count": 3,
   "metadata": {
    "collapsed": false
   },
   "outputs": [
    {
     "name": "stdout",
     "output_type": "stream",
     "text": [
      "3\n"
     ]
    }
   ],
   "source": [
    "import random\n",
    "random.seed(1)\n",
    "print(random.randint(1,10))"
   ]
  },
  {
   "cell_type": "markdown",
   "metadata": {},
   "source": [
    "## notepad++ 写 python\n",
    "[设置 tab 转 4个空格](https://blog.csdn.net/duanlove/article/details/8202486)\n",
    "\n",
    "![设置 tab 转 4个空格](D:\\\\AI\\\\pictures\\\\notepad++_replace_tab_with_space.jpg)"
   ]
  },
  {
   "cell_type": "markdown",
   "metadata": {},
   "source": [
    "## 函数与机器学习\n",
    "y=f(x)\n",
    "- 函数：人工编写f，输入x，输出y\n",
    "- 机器学习：输入 x 和 y，然后去学习 f"
   ]
  },
  {
   "cell_type": "markdown",
   "metadata": {},
   "source": [
    "- 传统的任务开发流程：\n",
    "\n",
    "```\n",
    "问题->分析->伪代码实现（概念解决）->编写代码->利用数据验证(BUG) #小数据即可 y 100% == f(x)\n",
    "```\n",
    "- 机器学习：\n",
    "\n",
    "```\n",
    "拥有数据 x,y，需要得到 f\n",
    "利用一部分 x,y（训练集） 进行学习 f -> 拿另一部分 x,y（测试集） 验证 f 看效果（评估过程）\n",
    "```\n",
    "\n",
    "conda 安装 matplotlib 和 numpy 包\n",
    "```\n",
    "C:\\Users\\sunsh\\temp>activate python3\n",
    "[python3] C:\\Users\\sunsh\\temp>conda install numpy\n",
    "[python3] C:\\Users\\sunsh\\temp>conda install matplotlib\n",
    "[python3] C:\\Users\\sunsh\\temp>conda install scikit-learn\n",
    "```"
   ]
  },
  {
   "cell_type": "code",
   "execution_count": 8,
   "metadata": {
    "collapsed": false
   },
   "outputs": [
    {
     "name": "stdout",
     "output_type": "stream",
     "text": [
      "['C:\\\\Anaconda3\\\\envs\\\\python3\\\\python36.zip', 'C:\\\\Anaconda3\\\\envs\\\\python3\\\\DLLs', 'C:\\\\Anaconda3\\\\envs\\\\python3\\\\lib', 'C:\\\\Anaconda3\\\\envs\\\\python3', '', 'C:\\\\Anaconda3\\\\envs\\\\python3\\\\lib\\\\site-packages', 'C:\\\\Anaconda3\\\\envs\\\\python3\\\\lib\\\\site-packages\\\\win32', 'C:\\\\Anaconda3\\\\envs\\\\python3\\\\lib\\\\site-packages\\\\win32\\\\lib', 'C:\\\\Anaconda3\\\\envs\\\\python3\\\\lib\\\\site-packages\\\\Pythonwin', 'C:\\\\Anaconda3\\\\envs\\\\python3\\\\lib\\\\site-packages\\\\IPython\\\\extensions', 'C:\\\\Users\\\\sunsh\\\\.ipython']\n"
     ]
    }
   ],
   "source": [
    "import sys\n",
    "print(sys.path)"
   ]
  },
  {
   "cell_type": "code",
   "execution_count": 10,
   "metadata": {
    "collapsed": false
   },
   "outputs": [
    {
     "data": {
      "image/png": "[encoded data removed]",
      "text/plain": [
       "<Figure size 432x288 with 1 Axes>"
      ]
     },
     "metadata": {
      "needs_background": "light"
     },
     "output_type": "display_data"
    }
   ],
   "source": [
    "\n",
    "# 例子\n",
    "# 定义函数\n",
    "import math\n",
    "def sigmoid(x) :\n",
    "    a = []\n",
    "    for item in x :\n",
    "        a.append(1/(1+math.exp(-item)))\n",
    "    return a\n",
    "# 画图\n",
    "import numpy as np\n",
    "import pyparsing\n",
    "import matplotlib\n",
    "import matplotlib.pyplot as plt\n",
    "%matplotlib inline\n",
    "x = np.arange(0.,10.,0.2)\n",
    "sig = sigmoid(x)\n",
    "plt.plot(x,sig)\n",
    "plt.show()"
   ]
  },
  {
   "cell_type": "code",
   "execution_count": 13,
   "metadata": {
    "collapsed": false
   },
   "outputs": [
    {
     "data": {
      "image/png": "[encoded data removed]",
      "text/plain": [
       "<Figure size 432x288 with 1 Axes>"
      ]
     },
     "metadata": {
      "needs_background": "light"
     },
     "output_type": "display_data"
    },
    {
     "name": "stdout",
     "output_type": "stream",
     "text": [
      "[0.  0.1 0.2 0.3 0.4 0.5 0.6 0.7 0.8 0.9 1.  1.1 1.2 1.3 1.4]\n",
      "[0.5  0.52 0.55 0.57 0.6  0.62 0.65 0.67 0.69 0.71 0.73 0.75 0.77 0.79\n",
      " 0.8 ]\n"
     ]
    }
   ],
   "source": [
    "# 第一段斜率 \n",
    "x = np.arange(0.,1.5,0.1)\n",
    "sig = sigmoid(x)\n",
    "plt.plot(x,sig)\n",
    "plt.ylim([0.5,1])\n",
    "plt.show()\n",
    "# 使用此段数据学习，可能得到：y=0.5x\n",
    "print(x)\n",
    "print(np.round(sig,2))"
   ]
  },
  {
   "cell_type": "code",
   "execution_count": 14,
   "metadata": {
    "collapsed": false
   },
   "outputs": [
    {
     "data": {
      "image/png": "[encoded data removed]",
      "text/plain": [
       "<Figure size 432x288 with 1 Axes>"
      ]
     },
     "metadata": {
      "needs_background": "light"
     },
     "output_type": "display_data"
    },
    {
     "name": "stdout",
     "output_type": "stream",
     "text": [
      "[5.5 5.6 5.7 5.8 5.9 6.  6.1 6.2 6.3 6.4]\n",
      "[1. 1. 1. 1. 1. 1. 1. 1. 1. 1.]\n"
     ]
    }
   ],
   "source": [
    "# 第二段斜率\n",
    "x = np.arange(5.5,6.5,0.1)\n",
    "sig = sigmoid(x)\n",
    "plt.plot(x,sig)\n",
    "plt.ylim([0.5,1.2])\n",
    "plt.show()\n",
    "# 使用此段数据学习，可能得到：y=1+0*x\n",
    "print(x)\n",
    "print(np.round(sig,2))"
   ]
  },
  {
   "cell_type": "markdown",
   "metadata": {},
   "source": [
    "## 所以机器学习需要随机打乱数据"
   ]
  },
  {
   "cell_type": "code",
   "execution_count": null,
   "metadata": {
    "collapsed": true
   },
   "outputs": [],
   "source": []
  }
 ],
 "metadata": {
  "kernelspec": {
   "display_name": "Python 3",
   "language": "python",
   "name": "python3"
  },
  "language_info": {
   "codemirror_mode": {
    "name": "ipython",
    "version": 3
   },
   "file_extension": ".py",
   "mimetype": "text/x-python",
   "name": "python",
   "nbconvert_exporter": "python",
   "pygments_lexer": "ipython3",
   "version": "3.6.9"
  }
 },
 "nbformat": 4,
 "nbformat_minor": 2
}
