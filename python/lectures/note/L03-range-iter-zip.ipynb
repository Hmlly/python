{
 "cells": [
  {
   "cell_type": "markdown",
   "metadata": {},
   "source": [
    "## 迭代器\n",
    "- range\n",
    "- iter\n",
    "- zip\n",
    "- 列表解析"
   ]
  },
  {
   "cell_type": "markdown",
   "metadata": {},
   "source": [
    "## range 索引迭代"
   ]
  },
  {
   "cell_type": "code",
   "execution_count": null,
   "metadata": {
    "collapsed": true
   },
   "outputs": [],
   "source": [
    "语法：[start, start+step, start+2*step, ..., end)\n",
    "    range(start=0, end, step=1)"
   ]
  },
  {
   "cell_type": "code",
   "execution_count": 11,
   "metadata": {
    "collapsed": false
   },
   "outputs": [
    {
     "name": "stdout",
     "output_type": "stream",
     "text": [
      "[0, 1, 2, 3, 4, 5, 6, 7, 8, 9]\n",
      "[0, 1, 2, 3, 4, 5, 6, 7, 8, 9]\n",
      "[1, 2, 3, 4, 5, 6, 7, 8, 9]\n",
      "[1, 3, 5, 7, 9]\n"
     ]
    }
   ],
   "source": [
    "# range(end)\n",
    "list_1 = list()\n",
    "for i in range(10) :\n",
    "    list_1.append(i)\n",
    "print(list_1)\n",
    "# range(start,end)\n",
    "list_1 = list()\n",
    "for i in range(0,10) :\n",
    "    list_1.append(i)\n",
    "print(list_1)\n",
    "list_1 = list()\n",
    "for i in range(1,10) :\n",
    "    list_1.append(i)\n",
    "print(list_1)\n",
    "# range(start, end, step)\n",
    "list_1 = list()\n",
    "for i in range(1,10,2) :\n",
    "    list_1.append(i)\n",
    "print(list_1)"
   ]
  },
  {
   "cell_type": "markdown",
   "metadata": {},
   "source": [
    "# range 生成 list"
   ]
  },
  {
   "cell_type": "code",
   "execution_count": 10,
   "metadata": {
    "collapsed": false
   },
   "outputs": [
    {
     "name": "stdout",
     "output_type": "stream",
     "text": [
      "[2, 4, 6, 8, 10, 12, 14, 16, 18, 20, 22, 24, 26, 28, 30, 32, 34, 36, 38, 40, 42, 44, 46, 48, 50, 52, 54, 56, 58, 60, 62, 64, 66, 68, 70, 72, 74, 76, 78, 80, 82, 84, 86, 88, 90, 92, 94, 96, 98]\n"
     ]
    }
   ],
   "source": [
    "# range 生成 list\n",
    "list_1 = list(range(2,99,2))\n",
    "print(list_1)"
   ]
  },
  {
   "cell_type": "markdown",
   "metadata": {},
   "source": [
    "## iter* 迭代器\n",
    "\n",
    "next()方法"
   ]
  },
  {
   "cell_type": "code",
   "execution_count": 17,
   "metadata": {
    "collapsed": false
   },
   "outputs": [
    {
     "name": "stdout",
     "output_type": "stream",
     "text": [
      "123\n",
      "xyz\n",
      "45.67\n"
     ]
    }
   ],
   "source": [
    "mylist = [123,'xyz',45.67]\n",
    "# 对序列对象生成迭代器对象\n",
    "i = iter(mylist)\n",
    "# 开始迭代，得到元素\n",
    "# 取出序列中的每个元素\n",
    "print(next(i))\n",
    "print(next(i))\n",
    "print(next(i))\n",
    "# next(i)为空时报错\n",
    "# print(next(i))"
   ]
  },
  {
   "cell_type": "code",
   "execution_count": 20,
   "metadata": {
    "collapsed": false
   },
   "outputs": [
    {
     "name": "stdout",
     "output_type": "stream",
     "text": [
      "0\n",
      "1\n"
     ]
    }
   ],
   "source": [
    "ourlist = list(range(10))\n",
    "it = iter(ourlist)\n",
    "print(next(it))\n",
    "print(next(it))"
   ]
  },
  {
   "cell_type": "markdown",
   "metadata": {},
   "source": [
    "## zip* 拼接元组"
   ]
  },
  {
   "cell_type": "code",
   "execution_count": null,
   "metadata": {
    "collapsed": true
   },
   "outputs": [],
   "source": [
    "语法：\n",
    "    zip([iterable, ...]) # 可迭代的序列对象元素，如 list, tuple, dict 等(没有 set)\n",
    "    \n",
    "    从每个对象中分别拿出一个元素，拼成一个元组。\n",
    "    它返回的是一个元组。"
   ]
  },
  {
   "cell_type": "code",
   "execution_count": 3,
   "metadata": {
    "collapsed": false
   },
   "outputs": [
    {
     "name": "stdout",
     "output_type": "stream",
     "text": [
      "<class 'zip'>\n",
      "[('李雷', 25, '男'), ('韩梅梅', 24, '女')]\n"
     ]
    }
   ],
   "source": [
    "names = ['李雷','韩梅梅']\n",
    "ages = [25,24,28]\n",
    "sex = ['男','女']\n",
    "print(type(zip(names,ages,sex)))\n",
    "# 以最小长度拼接\n",
    "list_zip = list(zip(names,ages,sex))\n",
    "print(list_zip)"
   ]
  },
  {
   "cell_type": "code",
   "execution_count": 28,
   "metadata": {
    "collapsed": false
   },
   "outputs": [
    {
     "name": "stdout",
     "output_type": "stream",
     "text": [
      "('李雷', 25)\n",
      "('韩梅梅', 24)\n"
     ]
    }
   ],
   "source": [
    "zip_ = zip(names,ages)\n",
    "i = iter(zip_)\n",
    "print(next(i))\n",
    "print(next(i))"
   ]
  },
  {
   "cell_type": "markdown",
   "metadata": {},
   "source": [
    "## zip(*list) 用于拆解一个列表"
   ]
  },
  {
   "cell_type": "code",
   "execution_count": 1,
   "metadata": {
    "collapsed": false
   },
   "outputs": [
    {
     "name": "stdout",
     "output_type": "stream",
     "text": [
      "[(1, 4), (2, 5), (3, 6)]\n",
      "True\n"
     ]
    }
   ],
   "source": [
    "# zip(*list) 用于拆解一个列表\n",
    "x = [1, 2, 3]\n",
    "y = [4, 5, 6]\n",
    "zipped = zip(x, y)\n",
    "print(list(zipped))\n",
    "# [(1, 4), (2, 5), (3, 6)]\n",
    "x2, y2 = zip(*zip(x, y))\n",
    "print(x == list(x2) and y == list(y2))"
   ]
  },
  {
   "cell_type": "markdown",
   "metadata": {},
   "source": [
    "## 实用技巧：将 zip 转换为字典"
   ]
  },
  {
   "cell_type": "code",
   "execution_count": 30,
   "metadata": {
    "collapsed": false
   },
   "outputs": [
    {
     "name": "stdout",
     "output_type": "stream",
     "text": [
      "{'李雷': 25, '韩梅梅': 24}\n"
     ]
    }
   ],
   "source": [
    "dict_zip = dict(zip(names,ages))\n",
    "print(dict_zip)"
   ]
  },
  {
   "cell_type": "markdown",
   "metadata": {},
   "source": [
    "## 进阶技巧：列表解析\n",
    "\n",
    "如何快速生成一个【按一定条件生成元素】的列表？"
   ]
  },
  {
   "cell_type": "code",
   "execution_count": 34,
   "metadata": {
    "collapsed": false
   },
   "outputs": [
    {
     "name": "stdout",
     "output_type": "stream",
     "text": [
      "[32, 64, 128, 256, 512, 1024]\n",
      "[32, 64, 128, 256, 512, 1024]\n"
     ]
    }
   ],
   "source": [
    "# 例：生成2的5次方到10次方的列表\n",
    "mylist = []\n",
    "for i in range(5,11) :\n",
    "    mylist.append(2**i)\n",
    "print(mylist)\n",
    "# 列表解析\n",
    "newlist = [2**i for i in range(5,11)]\n",
    "print(newlist)"
   ]
  },
  {
   "cell_type": "code",
   "execution_count": null,
   "metadata": {
    "collapsed": true
   },
   "outputs": [],
   "source": [
    "列表解析的语法：\n",
    "    # [表达式 for i in 序列]\n",
    "    [expr for i in iterable]\n",
    "    \n",
    "- 简化代码（同时保持可读性）\n",
    "- 提升代码运行速度"
   ]
  },
  {
   "cell_type": "code",
   "execution_count": 35,
   "metadata": {
    "collapsed": false
   },
   "outputs": [
    {
     "name": "stdout",
     "output_type": "stream",
     "text": [
      "[0, 1, 2, 3, 4, 5, 6, 7, 8, 9]\n"
     ]
    }
   ],
   "source": [
    "# 生成列表方法1\n",
    "li = list(range(10))\n",
    "# 生成列表方法2\n",
    "li = []\n",
    "for i in range(10) :\n",
    "    li.append(i)\n",
    "    \n",
    "# 生成列表方法3 - 列表解析\n",
    "li = [i for i in range(10)]\n",
    "print(li)"
   ]
  },
  {
   "cell_type": "code",
   "execution_count": 45,
   "metadata": {
    "collapsed": false
   },
   "outputs": [
    {
     "name": "stdout",
     "output_type": "stream",
     "text": [
      "张一 到！\n",
      "张二 到！\n",
      "张三 到！\n",
      "张四 到！\n",
      "张五 到！\n",
      "[None, None, None, None, None]\n",
      "张一 到！\n",
      "张二 到！\n",
      "张三 到！\n",
      "张四 到！\n",
      "张五 到！\n",
      "[None, None, None, None, None]\n"
     ]
    }
   ],
   "source": [
    "class_1 = ['张一','张二','张三','张四','张五']\n",
    "# 列表解析1\n",
    "# 返回值为一个列表，其中的元素均为None\n",
    "result_list = [print(class_1[i],'到！') for i in range(len(class_1))]\n",
    "print(result_list)\n",
    "# 列表解析2 \n",
    "# 返回值为一个列表，其中的元素均为None\n",
    "# 必须放在 [] 内，否则语法不对\n",
    "result_list = [print(i,'到！') for i in class_1]\n",
    "print(result_list)"
   ]
  },
  {
   "cell_type": "code",
   "execution_count": null,
   "metadata": {
    "collapsed": true
   },
   "outputs": [],
   "source": []
  },
  {
   "cell_type": "code",
   "execution_count": null,
   "metadata": {
    "collapsed": true
   },
   "outputs": [],
   "source": []
  }
 ],
 "metadata": {
  "kernelspec": {
   "display_name": "Python 3",
   "language": "python",
   "name": "python3"
  },
  "language_info": {
   "codemirror_mode": {
    "name": "ipython",
    "version": 3
   },
   "file_extension": ".py",
   "mimetype": "text/x-python",
   "name": "python",
   "nbconvert_exporter": "python",
   "pygments_lexer": "ipython3",
   "version": "3.6.9"
  }
 },
 "nbformat": 4,
 "nbformat_minor": 2
}
