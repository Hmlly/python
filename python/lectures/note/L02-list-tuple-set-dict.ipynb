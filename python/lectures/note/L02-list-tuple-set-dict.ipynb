{
 "cells": [
  {
   "cell_type": "markdown",
   "metadata": {},
   "source": [
    "# 列表 list \n",
    "## 创建列表\n",
    "列表 = [元素1,元素2]"
   ]
  },
  {
   "cell_type": "code",
   "execution_count": 13,
   "metadata": {},
   "outputs": [
    {
     "name": "stdout",
     "output_type": "stream",
     "text": [
      "['张一', '张二', '张三', '张四', '张五']\n",
      "张一到\n",
      "张二到\n",
      "张三到\n",
      "张四到\n",
      "张五到\n",
      "['string', 1, 2.5]\n"
     ]
    }
   ],
   "source": [
    "list = ['张一','张二','张三','张四','张五']\n",
    "print(list)\n",
    "# 索引从 0 开始\n",
    "print(list[0]+'到')\n",
    "print(list[1]+'到')\n",
    "print(list[2]+'到')\n",
    "print(list[3]+'到')\n",
    "print(list[4]+'到')\n",
    "# 索引溢出，数组越界\n",
    "# print(list[5]+'到')\n",
    "list = ['string', 1, 2.5]\n",
    "print(list)\n",
    "\n"
   ]
  },
  {
   "cell_type": "markdown",
   "metadata": {},
   "source": [
    "## 列表切片"
   ]
  },
  {
   "cell_type": "code",
   "execution_count": 15,
   "metadata": {},
   "outputs": [
    {
     "name": "stdout",
     "output_type": "stream",
     "text": [
      "input start student: 3\n",
      "end: 5\n",
      "['张四', '张五']\n"
     ]
    }
   ],
   "source": [
    "list = ['张一','张二','张三','张四','张五']\n",
    "# 前闭后开区间 [start_index =3 , end_index = 5)\n",
    "start_index = int(input('input start student: ')) \n",
    "end_index = int(input('end: '))\n",
    "print(list[start_index:end_index])\n"
   ]
  },
  {
   "cell_type": "code",
   "execution_count": 19,
   "metadata": {},
   "outputs": [
    {
     "name": "stdout",
     "output_type": "stream",
     "text": [
      "张五\n",
      "张四\n",
      "张三\n",
      "张二\n",
      "张一\n",
      "['张四', '张五']\n",
      "5\n"
     ]
    }
   ],
   "source": [
    "# 最后一个\n",
    "print(list[-1])\n",
    "# 倒数第二个\n",
    "print(list[-2])\n",
    "print(list[-3])\n",
    "print(list[-4])\n",
    "print(list[-5])\n",
    "# 从-2到之后所有，即最后2个\n",
    "# 不需要知道列表长度\n",
    "print(list[-2:])\n",
    "# 数组长度\n",
    "print(len(list))"
   ]
  },
  {
   "cell_type": "markdown",
   "metadata": {},
   "source": [
    "## 列表插入元素"
   ]
  },
  {
   "cell_type": "code",
   "execution_count": 44,
   "metadata": {},
   "outputs": [
    {
     "name": "stdout",
     "output_type": "stream",
     "text": [
      "['张一', '张二', '张三', '张四', '张五', '张留', '张留']\n"
     ]
    }
   ],
   "source": [
    "# 重新赋值，否则 jupyter 执行多次会插入多个'张六'\n",
    "list = ['张一','张二','张三','张四','张五']\n",
    "list.append('张留')\n",
    "list.append('张留')\n",
    "print(list)"
   ]
  },
  {
   "cell_type": "markdown",
   "metadata": {},
   "source": [
    "## 列表修改元素"
   ]
  },
  {
   "cell_type": "code",
   "execution_count": 45,
   "metadata": {},
   "outputs": [
    {
     "name": "stdout",
     "output_type": "stream",
     "text": [
      "['张一', '张二', '张三', '张四', '张五', '张留', '张六']\n"
     ]
    }
   ],
   "source": [
    "# 覆盖原值\n",
    "list[-1]='张六'\n",
    "print(list)"
   ]
  },
  {
   "cell_type": "markdown",
   "metadata": {},
   "source": [
    "## 列表删除元素"
   ]
  },
  {
   "cell_type": "code",
   "execution_count": 28,
   "metadata": {},
   "outputs": [
    {
     "name": "stdout",
     "output_type": "stream",
     "text": [
      "['张一', '张二', '张四', '张五']\n"
     ]
    }
   ],
   "source": [
    "# 重新赋值，否则 jupyter 执行多次，会删除多次'张三'，警告‘张三’不存在\n",
    "list = ['张一','张二','张三','张四','张五']\n",
    "# 直接按照内容删除\n",
    "list.remove('张三')\n",
    "print(list)"
   ]
  },
  {
   "cell_type": "markdown",
   "metadata": {},
   "source": [
    "## 列表弹出元素"
   ]
  },
  {
   "cell_type": "code",
   "execution_count": 33,
   "metadata": {},
   "outputs": [
    {
     "name": "stdout",
     "output_type": "stream",
     "text": [
      "['张一', '张三', '张四', '张五'] 张二\n",
      "['张一', '张三', '张四', '张五'] None\n"
     ]
    }
   ],
   "source": [
    "# 重新赋值，否则 jupyter 执行多次，会弹出多次\n",
    "list = ['张一','张二','张三','张四','张五']\n",
    "# 弹出第 1 个元素，返回弹出的元素\n",
    "student = list.pop(1)\n",
    "print(list,student)\n",
    "list = ['张一','张二','张三','张四','张五']\n",
    "# 删除 1 个元素，返回空值\n",
    "student = list.remove('张二')\n",
    "print(list,student)"
   ]
  },
  {
   "cell_type": "markdown",
   "metadata": {},
   "source": [
    "## 列表操作的返回值"
   ]
  },
  {
   "cell_type": "code",
   "execution_count": 39,
   "metadata": {},
   "outputs": [
    {
     "name": "stdout",
     "output_type": "stream",
     "text": [
      "None\n",
      "[1, 3, 4, 5, 6]\n"
     ]
    }
   ],
   "source": [
    "list = [1,2,3,4,5]\n",
    "# list.append 返回值为空 \n",
    "list = list.append(6)\n",
    "print(list)\n",
    "# list 不为空\n",
    "list = [1,2,3,4,5]\n",
    "list.append(6)\n",
    "list.remove(2)\n",
    "print(list)"
   ]
  },
  {
   "cell_type": "markdown",
   "metadata": {},
   "source": [
    "## 列表插入元素"
   ]
  },
  {
   "cell_type": "code",
   "execution_count": 46,
   "metadata": {},
   "outputs": [
    {
     "name": "stdout",
     "output_type": "stream",
     "text": [
      "['张一', '张二', '张三', '张三半', '张四', '张五']\n"
     ]
    }
   ],
   "source": [
    "list = ['张一','张二','张三','张四','张五']\n",
    "list.insert(3,'张三半')\n",
    "print(list)"
   ]
  },
  {
   "cell_type": "markdown",
   "metadata": {},
   "source": [
    "## 列表拼接"
   ]
  },
  {
   "cell_type": "code",
   "execution_count": 43,
   "metadata": {},
   "outputs": [
    {
     "name": "stdout",
     "output_type": "stream",
     "text": [
      "[1, 2, 3, 4, 5]\n"
     ]
    }
   ],
   "source": [
    "list1 = [1,2,3]\n",
    "list2 = [4,5]\n",
    "list = list1 + list2\n",
    "print(list)"
   ]
  },
  {
   "cell_type": "markdown",
   "metadata": {},
   "source": [
    "## 列表语法\n",
    "- 创建列表 单值 连续多值 [val1,val2,val3]\n",
    "- 增加元素 append(value) 元素可重复\n",
    "- 删除元素 remove(value) pop(index)\n",
    "- 修改元素 list[index] = new_value\n",
    "- 插入元素 不常用 insert(index, value)\n",
    "- 列表拼接 list1 + list2\n",
    "列表高级语法\n",
    "- 列表反转 切片\n",
    "- 列表排序 函数\n",
    "- 列表解析 "
   ]
  },
  {
   "cell_type": "markdown",
   "metadata": {},
   "source": [
    "# 元组 tuple"
   ]
  },
  {
   "cell_type": "markdown",
   "metadata": {},
   "source": [
    "比列表简单\n",
    "- 创建完成后不能修改"
   ]
  },
  {
   "cell_type": "code",
   "execution_count": 51,
   "metadata": {},
   "outputs": [
    {
     "name": "stdout",
     "output_type": "stream",
     "text": [
      "('张一', '张二', '张三', '张四', '张五')\n"
     ]
    }
   ],
   "source": [
    "tuple = ('张一','张二','张三','张四','张五')\n",
    "print(tuple)\n",
    "# 元组创建后不能修改\n",
    "# tuple.append('张六')\n",
    "# tuple(0)='张毅'\n",
    "# print(tuple)"
   ]
  },
  {
   "cell_type": "code",
   "execution_count": 54,
   "metadata": {},
   "outputs": [
    {
     "name": "stdout",
     "output_type": "stream",
     "text": [
      "('星期一', '星期二', '星期三', '星期四', '星期五', '星期六', '星期天')\n",
      "('星期一', '星期二', '星期三', '星期四', '星期五', '星期六', '星期天')\n",
      "('星期一', '星期二', '星期三', '星期四', '星期五', '星期六', '星期六')\n"
     ]
    }
   ],
   "source": [
    "# 利用元组的不可变性，防止被非法修改\n",
    "# 可以容纳多种类型元素\n",
    "days = ('星期一','星期二','星期三','星期四','星期五','星期六','星期天')\n",
    "print(days)\n",
    "# 没有括号也可以\n",
    "days = '星期一','星期二','星期三','星期四','星期五','星期六','星期天'\n",
    "print(days)\n",
    "# 可以重复\n",
    "days = ('星期一','星期二','星期三','星期四','星期五','星期六','星期六')\n",
    "print(days)"
   ]
  },
  {
   "cell_type": "code",
   "execution_count": 63,
   "metadata": {},
   "outputs": [
    {
     "name": "stdout",
     "output_type": "stream",
     "text": [
      "[('星期一', '星期二', '星期三', '星期四', '星期五', '星期六', '星期六')]\n"
     ]
    }
   ],
   "source": [
    "# list 嵌套元组\n",
    "list1 = []\n",
    "# 'list' object is not callable\n",
    "# list1 = list()\n",
    "list1.append(days)\n",
    "print(list1)"
   ]
  },
  {
   "cell_type": "code",
   "execution_count": 65,
   "metadata": {},
   "outputs": [
    {
     "name": "stdout",
     "output_type": "stream",
     "text": [
      "[[[1, 2, 3], [4, 5, 6], [7, 8, 9]], [[1, 2], [3, 4]]]\n"
     ]
    }
   ],
   "source": [
    "# 多维数组\n",
    "list1 = [[1,2,3],[4,5,6],[7,8,9]]\n",
    "list2 = [[1,2],[3,4]]\n",
    "list3 = [list1, list2]\n",
    "print(list3)"
   ]
  },
  {
   "cell_type": "markdown",
   "metadata": {},
   "source": [
    "# 集合 set"
   ]
  },
  {
   "cell_type": "markdown",
   "metadata": {},
   "source": [
    "## 集合不可重复，且无序"
   ]
  },
  {
   "cell_type": "code",
   "execution_count": 67,
   "metadata": {},
   "outputs": [
    {
     "name": "stdout",
     "output_type": "stream",
     "text": [
      "<class 'list'>\n",
      "<class 'tuple'>\n",
      "<class 'set'>\n",
      "{'张四', '张五', '张三', '张二', '张一'}\n"
     ]
    }
   ],
   "source": [
    "class_1 = ['张一','张二','张三','张四','张五']\n",
    "print(type(class_1))\n",
    "class_2 = ('张一','张二','张三','张四','张五')\n",
    "print(type(class_2))\n",
    "class_3 = {'张一','张二','张三','张四','张五'}\n",
    "print(type(class_3))\n",
    "# 集合不可重复，且无序\n",
    "class_3 = {'张一','张二','张三','张四','张五','张五'}\n",
    "print(class_3)"
   ]
  },
  {
   "cell_type": "markdown",
   "metadata": {},
   "source": [
    "## 集合用于列表去重\n",
    "集合不能放重复元素"
   ]
  },
  {
   "cell_type": "code",
   "execution_count": 72,
   "metadata": {},
   "outputs": [
    {
     "name": "stdout",
     "output_type": "stream",
     "text": [
      "{'西汉', '仪式', '主持', '的', '时期'}\n",
      "8\n",
      "5\n"
     ]
    }
   ],
   "source": [
    "s = ['西汉','主持','的','仪式','的','主持','西汉','时期']\n",
    "# 集合为了速度优化，会乱序\n",
    "ss = set(s)\n",
    "print(ss)\n",
    "print(len(s))\n",
    "print(len(ss))\n"
   ]
  },
  {
   "cell_type": "markdown",
   "metadata": {},
   "source": [
    "## 集合添加元素"
   ]
  },
  {
   "cell_type": "code",
   "execution_count": 77,
   "metadata": {},
   "outputs": [
    {
     "name": "stdout",
     "output_type": "stream",
     "text": [
      "{'哪吒', '哆啦A梦', '死侍'}\n"
     ]
    }
   ],
   "source": [
    "# list() 和 tuple() 不能调用\n",
    "# user_list = list()\n",
    "# user_tuple = tuple()\n",
    "user_nos = set()\n",
    "# 列表在末尾追加元素，集合添加元素\n",
    "# list.append()\n",
    "# set.add()\n",
    "user_nos.add('哆啦A梦')\n",
    "user_nos.add('哪吒')\n",
    "user_nos.add('死侍')\n",
    "user_nos.add('死侍')\n",
    "print(user_nos)"
   ]
  },
  {
   "cell_type": "code",
   "execution_count": 78,
   "metadata": {},
   "outputs": [
    {
     "name": "stdout",
     "output_type": "stream",
     "text": [
      "所有人都掌握了吗？ False\n"
     ]
    }
   ],
   "source": [
    "# 查看不同元素\n",
    "flags = [1,1,1,1,2,1,1,2,1,1,1]\n",
    "flags_set_len = len(set(flags))\n",
    "print('所有人都掌握了吗？',flags_set_len == 1)"
   ]
  },
  {
   "cell_type": "code",
   "execution_count": 80,
   "metadata": {},
   "outputs": [
    {
     "name": "stdout",
     "output_type": "stream",
     "text": [
      "文章1的阅读量： 8\n",
      "文章2的阅读量： 9\n",
      "文章1的阅读人数： 3 分别是 {'哪吒', '哆啦A梦', '死侍'}\n",
      "文章2的阅读人数： 5 分别是 {'哪吒', '罗小黑', '死侍', '名人', '钢铁侠'}\n"
     ]
    }
   ],
   "source": [
    "# 文章点击历史\n",
    "artic1_clicked = ['哆啦A梦','哪吒','死侍','死侍','死侍','死侍','死侍','哪吒']\n",
    "artic2_clicked = ['罗小黑','哪吒','死侍','名人','死侍','钢铁侠','死侍','哪吒','罗小黑']\n",
    "# 阅读量\n",
    "print('文章1的阅读量：',len(artic1_clicked))\n",
    "print('文章2的阅读量：',len(artic2_clicked))\n",
    "# 读者数\n",
    "artic1_readers = set(artic1_clicked)\n",
    "artic2_readers = set(artic2_clicked)\n",
    "print('文章1的阅读人数：',len(artic1_readers),'分别是',artic1_readers)\n",
    "print('文章2的阅读人数：',len(artic2_readers),'分别是',artic2_readers)\n"
   ]
  },
  {
   "cell_type": "markdown",
   "metadata": {},
   "source": [
    "## 集合操作\n",
    "\n",
    "- 交集$\\cap$\n",
    "- 并集$\\cup$\n",
    "- 差集$\\setminus$\n",
    "- 补集$\\complement$"
   ]
  },
  {
   "cell_type": "code",
   "execution_count": 85,
   "metadata": {},
   "outputs": [
    {
     "name": "stdout",
     "output_type": "stream",
     "text": [
      "{'哪吒', '罗小黑', '哆啦A梦', '死侍', '名人', '钢铁侠'}\n",
      "{'哪吒', '死侍'}\n",
      "{'哆啦A梦'}\n",
      "{'罗小黑', '名人', '钢铁侠'}\n",
      "{'罗小黑', '哆啦A梦', '名人', '钢铁侠'}\n"
     ]
    }
   ],
   "source": [
    "# 并集\n",
    "union = artic1_readers | artic2_readers\n",
    "print(union)\n",
    "# 交集\n",
    "cross = artic1_readers & artic2_readers\n",
    "print(cross)\n",
    "# 差集\n",
    "minus1 = artic1_readers - artic2_readers\n",
    "print(minus1)\n",
    "minus2 = artic2_readers - artic1_readers\n",
    "print(minus2)\n",
    "# 补集\n",
    "complement = artic1_readers ^ artic2_readers\n",
    "print(complement)"
   ]
  },
  {
   "cell_type": "markdown",
   "metadata": {},
   "source": [
    "## 集合元素判断"
   ]
  },
  {
   "cell_type": "code",
   "execution_count": 87,
   "metadata": {},
   "outputs": [
    {
     "name": "stdout",
     "output_type": "stream",
     "text": [
      "False\n",
      "True\n"
     ]
    }
   ],
   "source": [
    "# 判断元素是否在集合里\n",
    "print('罗小黑' in artic1_readers)\n",
    "print('罗小黑' not in artic1_readers)"
   ]
  },
  {
   "cell_type": "markdown",
   "metadata": {},
   "source": [
    "## 将列表添加到集合，用于列表去重 \n",
    "set.update(list)"
   ]
  },
  {
   "cell_type": "code",
   "execution_count": 91,
   "metadata": {},
   "outputs": [
    {
     "name": "stdout",
     "output_type": "stream",
     "text": [
      "{'王五', '张三', '李四'}\n"
     ]
    }
   ],
   "source": [
    "persons = {'张三','李四'}\n",
    "persons.add('张三')\n",
    "persons.update(['张三','王五'])\n",
    "print(persons)"
   ]
  },
  {
   "cell_type": "markdown",
   "metadata": {},
   "source": [
    "## 集合元素删除"
   ]
  },
  {
   "cell_type": "code",
   "execution_count": 92,
   "metadata": {},
   "outputs": [
    {
     "name": "stdout",
     "output_type": "stream",
     "text": [
      "{'王五', '李四'}\n"
     ]
    }
   ],
   "source": [
    "persons.remove('张三')\n",
    "print(persons)"
   ]
  },
  {
   "cell_type": "markdown",
   "metadata": {},
   "source": [
    "## 集合\n",
    "\n",
    "- 特点：去重\n",
    "- 常用：交、并、差、补\n",
    "- 判断：in / not in\n",
    "- 添加元素 add\n",
    "- 删除元素 remove\n",
    "- 添加列表 update"
   ]
  },
  {
   "cell_type": "markdown",
   "metadata": {},
   "source": [
    "# 容器(序列对象)——字典(dict)"
   ]
  },
  {
   "cell_type": "code",
   "execution_count": 96,
   "metadata": {},
   "outputs": [],
   "source": [
    "# 文章点击历史\n",
    "artic1_clicked = ['哆啦A梦','哪吒','死侍','死侍','死侍','死侍','死侍','哪吒']\n",
    "artic2_clicked = ['罗小黑','哪吒','死侍','名人','死侍','钢铁侠','死侍','哪吒','罗小黑']\n",
    "artic2_clicked = ['死侍','名人','死侍','钢铁侠','小丑']\n",
    "# 表格：用户名称，阅读文章数\n",
    "nezha = 2\n",
    "sishi = 3"
   ]
  },
  {
   "cell_type": "markdown",
   "metadata": {},
   "source": [
    "## 【键-值对】key:value"
   ]
  },
  {
   "cell_type": "code",
   "execution_count": 99,
   "metadata": {},
   "outputs": [],
   "source": [
    "# 字典语法\n",
    "user_read = {'哪吒':2, '死侍':3}"
   ]
  },
  {
   "cell_type": "markdown",
   "metadata": {},
   "source": [
    "## 使用 dict 实现 list\n",
    "\n",
    "- list 可以看作简化版的 dict"
   ]
  },
  {
   "cell_type": "code",
   "execution_count": 102,
   "metadata": {},
   "outputs": [
    {
     "name": "stdout",
     "output_type": "stream",
     "text": [
      "哪吒\n",
      "哪吒\n"
     ]
    }
   ],
   "source": [
    "# 列表\n",
    "artic1_clicked = ['哆啦A梦','哪吒','死侍','死侍','死侍','死侍','死侍','哪吒']\n",
    "# 字典\n",
    "dict_artic1_clicked = {\n",
    "    # key : value\n",
    "    0:'哆啦A梦',\n",
    "    1:'哪吒',\n",
    "    2:'死侍',\n",
    "    3:'死侍',\n",
    "    4:'死侍',\n",
    "    5:'死侍',\n",
    "    6:'死侍',\n",
    "    7:'哪吒'\n",
    "}\n",
    "# 等价\n",
    "index = 1\n",
    "# KeyError: 9\n",
    "# index = 9\n",
    "print(dict_artic1_clicked[index])\n",
    "print(artic1_clicked[index])"
   ]
  },
  {
   "cell_type": "code",
   "execution_count": 100,
   "metadata": {},
   "outputs": [
    {
     "name": "stdout",
     "output_type": "stream",
     "text": [
      "dict_keys([0, 1, 2, 3, 4, 5, 6, 7])\n"
     ]
    }
   ],
   "source": [
    "# 查看字典键值 keys\n",
    "print(dict_artic1_clicked.keys())"
   ]
  },
  {
   "cell_type": "markdown",
   "metadata": {},
   "source": [
    "## 字典的 key 为其他类型\n",
    "\n",
    "- key 是唯一的\n",
    "    \n",
    "    添加相同的 key:value 对会更新键值\n",
    "    \n",
    "- 一个对象能不能作为字典的key，就取决于其有没有__hash__方法。\n",
    "\n",
    "    所以所有python自带类型中，除了list、dict、set和内部至少带有上述三种类型之一的tuple之外，其余的对象都能当key。\n",
    "    而我们自己定义的类，一般情况下都直接间接的和object有关，都带有__hash__方法。\n",
    "\n",
    "- __hash__返回值相等，且eq判断也相等，才会被认为是同一个键。"
   ]
  },
  {
   "cell_type": "code",
   "execution_count": 105,
   "metadata": {},
   "outputs": [
    {
     "name": "stdout",
     "output_type": "stream",
     "text": [
      "死侍\n",
      "死侍\n",
      "木吒\n"
     ]
    }
   ],
   "source": [
    "# key 为字符串\n",
    "dict_artic1_clicked = {\n",
    "    # key : value\n",
    "    '0':'哆啦A梦',\n",
    "    '1':'哪吒',\n",
    "    '2':'死侍',\n",
    "    '3':'死侍',\n",
    "    '4':'死侍',\n",
    "    '5':'死侍',\n",
    "    '6':'死侍',\n",
    "    '7':'哪吒'\n",
    "}\n",
    "index = '4'\n",
    "print(dict_artic1_clicked[index])\n",
    "# key 为混合类型\n",
    "dict_artic1_clicked = {\n",
    "    # key : value\n",
    "    '0':'哆啦A梦',\n",
    "    1:'哪吒',\n",
    "    '2':'死侍',\n",
    "    '3':'死侍',\n",
    "    4:'死侍',\n",
    "    '5':'死侍',\n",
    "    '6':'死侍',\n",
    "    '7':'哪吒'\n",
    "}\n",
    "index = 4\n",
    "print(dict_artic1_clicked[index])\n",
    "# key 是唯一的\n",
    "# 添加相同的 key:value 对会更新键值\n",
    "dict_artic1_clicked = {\n",
    "    # key : value\n",
    "    '0':'哆啦A梦',\n",
    "    1:'哪吒',\n",
    "    '2':'死侍',\n",
    "    '3':'死侍',\n",
    "    4:'死侍',\n",
    "    '5':'死侍',\n",
    "    '6':'死侍',\n",
    "    '7':'哪吒',\n",
    "    '7':'木吒'\n",
    "}\n",
    "index = '7'\n",
    "print(dict_artic1_clicked[index])"
   ]
  },
  {
   "cell_type": "markdown",
   "metadata": {},
   "source": [
    "## 字典更新键值"
   ]
  },
  {
   "cell_type": "code",
   "execution_count": 106,
   "metadata": {},
   "outputs": [
    {
     "name": "stdout",
     "output_type": "stream",
     "text": [
      "金吒\n"
     ]
    }
   ],
   "source": [
    "index = '7'\n",
    "dict_artic1_clicked[index] = '金吒'\n",
    "print(dict_artic1_clicked[index])"
   ]
  },
  {
   "cell_type": "code",
   "execution_count": 108,
   "metadata": {},
   "outputs": [
    {
     "name": "stdout",
     "output_type": "stream",
     "text": [
      "{1001: '哪吒', 1002: '死侍', 1003: '死侍_平行空间'}\n"
     ]
    }
   ],
   "source": [
    "# value 值可以一样\n",
    "persons = {1001:'哪吒',1002:'死侍',1003:'死侍_平行空间'}\n",
    "print(persons)"
   ]
  },
  {
   "cell_type": "code",
   "execution_count": 112,
   "metadata": {},
   "outputs": [
    {
     "name": "stdout",
     "output_type": "stream",
     "text": [
      "<class 'dict'>\n",
      "{'哆啦A梦': 1, '哪吒': 2, '死侍': 3}\n",
      "{'哆啦A梦': 1, '哪吒': 2, '死侍': 4}\n",
      "{'哆啦A梦': 1, '哪吒': 2, '死侍': 5}\n"
     ]
    }
   ],
   "source": [
    "# 创建空字典\n",
    "user_read = dict()\n",
    "user_read = {}\n",
    "print(type(user_read))\n",
    "# 添加元素\n",
    "user_read['哆啦A梦'] = 1\n",
    "user_read['哪吒'] = 2\n",
    "user_read['死侍'] = 3\n",
    "print(user_read)\n",
    "# 修改键值\n",
    "user_read['死侍'] = 4\n",
    "print(user_read)\n",
    "# 修改键值\n",
    "user_read['死侍'] = user_read['死侍'] + 1\n",
    "print(user_read)"
   ]
  },
  {
   "cell_type": "markdown",
   "metadata": {},
   "source": [
    "## 判断键和值是否在字典中\n",
    "\n",
    "- in list\n",
    "- in tuple\n",
    "- in set\n",
    "- in dict = in dict.keys()"
   ]
  },
  {
   "cell_type": "code",
   "execution_count": 117,
   "metadata": {},
   "outputs": [
    {
     "name": "stdout",
     "output_type": "stream",
     "text": [
      "True\n",
      "True\n",
      "False\n",
      "True\n"
     ]
    }
   ],
   "source": [
    "# 判断键是否在字典中\n",
    "print('哪吒' in user_read)\n",
    "print('哪吒' in user_read.keys())\n",
    "# 判断键值是否在字典中\n",
    "print(1 in user_read)\n",
    "print(1 in user_read.values())"
   ]
  },
  {
   "cell_type": "code",
   "execution_count": null,
   "metadata": {},
   "outputs": [],
   "source": []
  }
 ],
 "metadata": {
  "kernelspec": {
   "display_name": "Python 3",
   "language": "python",
   "name": "python3"
  },
  "language_info": {
   "codemirror_mode": {
    "name": "ipython",
    "version": 3
   },
   "file_extension": ".py",
   "mimetype": "text/x-python",
   "name": "python",
   "nbconvert_exporter": "python",
   "pygments_lexer": "ipython3",
   "version": "3.7.3"
  }
 },
 "nbformat": 4,
 "nbformat_minor": 2
}
