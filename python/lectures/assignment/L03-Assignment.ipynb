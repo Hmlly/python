{
 "cells": [
  {
   "cell_type": "markdown",
   "metadata": {},
   "source": [
    "# 作业\n",
    "## 作业1 实现 print() 函数"
   ]
  },
  {
   "cell_type": "code",
   "execution_count": 22,
   "metadata": {},
   "outputs": [
    {
     "name": "stdout",
     "output_type": "stream",
     "text": [
      "['This is a test\\n', 'This is a test\\n', 'This-is-a-test\\n', 'This-is-a-test-,-Yes.']\n"
     ]
    }
   ],
   "source": [
    "# 定义函数 print_string()\n",
    "def print_string(*args, sep = ' ', end = '\\n') :\n",
    "    _string = ''\n",
    "    for arg in args :\n",
    "        _string += str(arg)\n",
    "        _string += sep\n",
    "    # TypeError: 'str' object does not support item assignment\n",
    "    # _string[-1] = end\n",
    "    _string = _string[:-1] + end\n",
    "    return _string\n",
    "# 测试函数\n",
    "string_list = []\n",
    "string_list.append(print_string('This is a test'))\n",
    "string_list.append(print_string('This', 'is', 'a', 'test'))\n",
    "string_list.append(print_string('This', 'is', 'a', 'test', sep = '-'))\n",
    "string_list.append(print_string('This', 'is', 'a', 'test', ',', 'Yes', sep = '-', end = '.'))\n",
    "# for string in string_list :\n",
    "#     print(string)\n",
    "print(string_list)"
   ]
  },
  {
   "cell_type": "markdown",
   "metadata": {},
   "source": [
    "## 作业2 打印斐波那契数列\n",
    "给定一个数值n，将斐波那契数列的前n项打印出来。\n",
    "\n",
    "[以三种方式打印斐波那契数列](https://www.jianshu.com/p/251f1e7312bd)\n",
    "\n",
    "[python（函数指针和类函数指针）](https://www.codercto.com/a/12232.html)"
   ]
  },
  {
   "cell_type": "code",
   "execution_count": 9,
   "metadata": {},
   "outputs": [
    {
     "name": "stdout",
     "output_type": "stream",
     "text": [
      "[1, 1, 2, 3, 5, 8, 13, 21, 34, 55, 89, 144, 233, 377, 610, 987, 1597, 2584, 4181, 6765]\n",
      "[1, 1, 2, 3, 5, 8, 13, 21, 34, 55, 89, 144, 233, 377, 610, 987, 1597, 2584, 4181, 6765]\n",
      "[1, 1, 2, 3, 5, 8, 13, 21, 34, 55, 89, 144, 233, 377, 610, 987, 1597, 2584, 4181, 6765]\n",
      "[1, 1, 2, 3, 5, 8, 13, 21, 34, 55, 89, 144, 233, 377, 610, 987, 1597, 2584, 4181, 6765]\n"
     ]
    }
   ],
   "source": [
    "# 定义函数：计算斐波那契数列的第n个元素\n",
    "# 1. 函数递归 - 复杂度 o(2^n)\n",
    "def fibonacci_recursive(n) :\n",
    "    i = int(n)\n",
    "    if i < 2:\n",
    "        return i\n",
    "    else :\n",
    "        return fibonacci_recursive(n-1) + fibonacci_recursive(n-2)\n",
    "\n",
    "# 2. 使用列表暂存中间结果 复杂度 o(n)\n",
    "def fibonacci_list(n) :\n",
    "    i = int(n)\n",
    "    if i < 2:\n",
    "        return i\n",
    "    else :\n",
    "        value = [0,1]\n",
    "        for i in range(2,n+1) :\n",
    "            value.append(value[i-1] + value[i-2])\n",
    "    return value[n]\n",
    "# 3. 迭代计算\n",
    "def fibonacci_iter(n) :\n",
    "    i = int(n)\n",
    "    if i < 2:\n",
    "        return i\n",
    "    else :\n",
    "        value1 = 0\n",
    "        value2 = 1\n",
    "        for i in range(2,n+1) :\n",
    "            value3 = value1 + value2\n",
    "            value1 = value2\n",
    "            value2 = value3\n",
    "    return value3\n",
    "# 4. 迭代计算优化\n",
    "def fibonacci_iter2(n) :\n",
    "    a, b = 0, 1\n",
    "    for i in range(1,n+1) :\n",
    "        a,b = b,a+b\n",
    "    return a\n",
    "\n",
    "# 定义函数：计算斐波那契数列\n",
    "def print_fibonacci(n, fibonacci) :\n",
    "    result = []\n",
    "    num = int(n)\n",
    "    if num < 1 :\n",
    "        pass \n",
    "    else :\n",
    "        for i in range(1,num+1) :\n",
    "            result.append(fibonacci(i))\n",
    "    print(result)\n",
    "\n",
    "# 调用函数\n",
    "n = 20\n",
    "# 1. 函数递归\n",
    "print_fibonacci(n, fibonacci_recursive)\n",
    "# 2. 列表暂存\n",
    "print_fibonacci(n, fibonacci_list)\n",
    "# 3. 迭代计算\n",
    "print_fibonacci(n, fibonacci_iter) \n",
    "# 4. 迭代计算优化\n",
    "print_fibonacci(n, fibonacci_iter2)"
   ]
  },
  {
   "cell_type": "markdown",
   "metadata": {},
   "source": [
    "## python 变量值交换语法\n",
    "- 不需要中间变量"
   ]
  },
  {
   "cell_type": "code",
   "execution_count": 10,
   "metadata": {},
   "outputs": [
    {
     "name": "stdout",
     "output_type": "stream",
     "text": [
      "1 0\n"
     ]
    }
   ],
   "source": [
    "a,b = 0,1\n",
    "a,b = b,a\n",
    "print(a,b)"
   ]
  },
  {
   "cell_type": "code",
   "execution_count": null,
   "metadata": {},
   "outputs": [],
   "source": []
  }
 ],
 "metadata": {
  "kernelspec": {
   "display_name": "Python 3",
   "language": "python",
   "name": "python3"
  },
  "language_info": {
   "codemirror_mode": {
    "name": "ipython",
    "version": 3
   },
   "file_extension": ".py",
   "mimetype": "text/x-python",
   "name": "python",
   "nbconvert_exporter": "python",
   "pygments_lexer": "ipython3",
   "version": "3.7.3"
  }
 },
 "nbformat": 4,
 "nbformat_minor": 2
}
