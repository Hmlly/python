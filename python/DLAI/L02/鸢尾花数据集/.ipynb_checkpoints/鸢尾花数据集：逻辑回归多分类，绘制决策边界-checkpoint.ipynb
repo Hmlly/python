{
 "cells": [
  {
   "cell_type": "markdown",
   "metadata": {},
   "source": [
    "# 构建逻辑回归模型对鸢尾花数据集进行多分类\n",
    "\n",
    "张子豪 2019-12-7\n",
    "\n",
    "- 导入数据集\n",
    "- 对数据进行标准化预处理\n",
    "- 构建逻辑回归模型\n",
    "- 绘制逻辑回归分类决策边界"
   ]
  },
  {
   "cell_type": "code",
   "execution_count": 1,
   "metadata": {},
   "outputs": [],
   "source": [
    "import pandas as pd\n",
    "import numpy as np\n",
    "\n",
    "import matplotlib.pyplot as plt\n",
    "%matplotlib inline\n",
    "plt.rcParams['font.sans-serif']=['SimHei']  # 用来正常显示中文标签  \n",
    "plt.rcParams['axes.unicode_minus']=False  # 用来正常显示负号"
   ]
  },
  {
   "cell_type": "code",
   "execution_count": 2,
   "metadata": {},
   "outputs": [],
   "source": [
    "# 忽略烦人的红色提示\n",
    "import warnings\n",
    "warnings.filterwarnings(\"ignore\")"
   ]
  },
  {
   "cell_type": "markdown",
   "metadata": {},
   "source": [
    "# 导入数据集"
   ]
  },
  {
   "cell_type": "code",
   "execution_count": 3,
   "metadata": {},
   "outputs": [],
   "source": [
    "from sklearn import datasets\n",
    "iris = datasets.load_iris()\n",
    "\n",
    "# 取第三列和第四列特征，也就是花瓣长度petal length、花瓣宽度 petal width\n",
    "X = iris.data[:, [2, 3]]\n",
    "# 取标签\n",
    "y = iris.target\n",
    "\n",
    "# 划分为训练集和测试集\n",
    "from sklearn.model_selection import train_test_split\n",
    "X_train, X_test, y_train, y_test = train_test_split(X, y, test_size=0.3, random_state=0)"
   ]
  },
  {
   "cell_type": "markdown",
   "metadata": {},
   "source": [
    "# 对数据集进行标准化预处理"
   ]
  },
  {
   "cell_type": "code",
   "execution_count": 4,
   "metadata": {},
   "outputs": [
    {
     "data": {
      "text/plain": [
       "StandardScaler(copy=True, with_mean=True, with_std=True)"
      ]
     },
     "execution_count": 4,
     "metadata": {},
     "output_type": "execute_result"
    }
   ],
   "source": [
    "from sklearn.preprocessing import StandardScaler\n",
    "# StandardScaler: Standardize features by removing the mean and scaling to unit variance\n",
    "# z = (x - u) / s\n",
    "sc = StandardScaler()\n",
    "sc.fit(X_train)"
   ]
  },
  {
   "cell_type": "markdown",
   "metadata": {},
   "source": [
    "对训练集特征进行标准化，求出训练集两个特征的均值和方差。"
   ]
  },
  {
   "cell_type": "code",
   "execution_count": 5,
   "metadata": {},
   "outputs": [
    {
     "data": {
      "text/plain": [
       "array([3.82857143, 1.22761905])"
      ]
     },
     "execution_count": 5,
     "metadata": {},
     "output_type": "execute_result"
    }
   ],
   "source": [
    "sc.mean_"
   ]
  },
  {
   "cell_type": "code",
   "execution_count": 6,
   "metadata": {},
   "outputs": [
    {
     "data": {
      "text/plain": [
       "array([1.79595918, 0.77637684])"
      ]
     },
     "execution_count": 6,
     "metadata": {},
     "output_type": "execute_result"
    }
   ],
   "source": [
    "sc.scale_"
   ]
  },
  {
   "cell_type": "markdown",
   "metadata": {},
   "source": [
    "用求得的均值和方差，对训练集和测试集都进行标准化。也就是对每个数据，减去均值，除以方差。"
   ]
  },
  {
   "cell_type": "code",
   "execution_count": 7,
   "metadata": {},
   "outputs": [],
   "source": [
    "X_train_std = sc.transform(X_train)\n",
    "X_test_std = sc.transform(X_test)"
   ]
  },
  {
   "cell_type": "code",
   "execution_count": 8,
   "metadata": {
    "scrolled": true
   },
   "outputs": [
    {
     "data": {
      "text/plain": [
       "(105, 2)"
      ]
     },
     "execution_count": 8,
     "metadata": {},
     "output_type": "execute_result"
    }
   ],
   "source": [
    "X_train_std.shape"
   ]
  },
  {
   "cell_type": "code",
   "execution_count": 9,
   "metadata": {
    "scrolled": true
   },
   "outputs": [
    {
     "data": {
      "text/plain": [
       "(45, 2)"
      ]
     },
     "execution_count": 9,
     "metadata": {},
     "output_type": "execute_result"
    }
   ],
   "source": [
    "X_test_std.shape"
   ]
  },
  {
   "cell_type": "code",
   "execution_count": 19,
   "metadata": {},
   "outputs": [
    {
     "data": {
      "text/plain": [
       "-1.4380031557049647e-16"
      ]
     },
     "execution_count": 19,
     "metadata": {},
     "output_type": "execute_result"
    }
   ],
   "source": [
    "X_train_std.mean()"
   ]
  },
  {
   "cell_type": "code",
   "execution_count": 20,
   "metadata": {},
   "outputs": [
    {
     "data": {
      "text/plain": [
       "-1.5192836530366176"
      ]
     },
     "execution_count": 20,
     "metadata": {},
     "output_type": "execute_result"
    }
   ],
   "source": [
    "X_train_std.min()"
   ]
  },
  {
   "cell_type": "code",
   "execution_count": 21,
   "metadata": {},
   "outputs": [
    {
     "data": {
      "text/plain": [
       "1.7101884052506424"
      ]
     },
     "execution_count": 21,
     "metadata": {},
     "output_type": "execute_result"
    }
   ],
   "source": [
    "X_train_std.max()"
   ]
  },
  {
   "cell_type": "code",
   "execution_count": 15,
   "metadata": {
    "collapsed": true
   },
   "outputs": [
    {
     "data": {
      "text/plain": [
       "array([[-0.18295039, -0.29318114],\n",
       "       [ 0.93066067,  0.7372463 ],\n",
       "       [ 1.04202177,  1.63887031],\n",
       "       [ 0.6522579 ,  0.35083601],\n",
       "       [ 1.09770233,  0.7372463 ],\n",
       "       [ 0.03977182, -0.16437771],\n",
       "       [ 1.26474398,  1.38126345],\n",
       "       [ 0.48521625,  0.47963944],\n",
       "       [-0.01590873, -0.16437771],\n",
       "       [ 0.59657735,  0.7372463 ],\n",
       "       [ 0.70793846,  0.35083601],\n",
       "       [ 0.37385514,  0.60844287],\n",
       "       [ 0.6522579 ,  0.86604973],\n",
       "       [ 0.48521625,  0.22203258],\n",
       "       [ 0.76361901,  0.99485316],\n",
       "       [ 0.37385514,  0.47963944],\n",
       "       [-1.24088089, -1.32360858],\n",
       "       [ 0.70793846,  0.86604973],\n",
       "       [ 0.20681348,  0.09322915],\n",
       "       [-0.12726983,  0.09322915],\n",
       "       [ 0.09545238,  0.09322915],\n",
       "       [ 0.42953569,  0.22203258],\n",
       "       [ 1.20906343,  0.7372463 ],\n",
       "       [-1.29656144, -1.32360858],\n",
       "       [-1.51928365, -1.45241201],\n",
       "       [ 0.81929956,  0.86604973],\n",
       "       [ 0.20681348, -0.03557428],\n",
       "       [-1.18520034, -1.32360858],\n",
       "       [-1.29656144, -1.06600172],\n",
       "       [ 0.59657735,  0.35083601],\n",
       "       [-1.29656144, -1.32360858],\n",
       "       [ 0.70793846,  0.7372463 ],\n",
       "       [-0.46135315, -0.16437771],\n",
       "       [-1.35224199, -1.19480515],\n",
       "       [ 0.37385514,  0.35083601],\n",
       "       [ 1.26474398,  1.63887031],\n",
       "       [ 0.20681348,  0.09322915],\n",
       "       [-1.35224199, -1.45241201],\n",
       "       [ 1.15338288,  1.12365659],\n",
       "       [ 1.04202177,  1.38126345],\n",
       "       [ 1.09770233,  1.25246002],\n",
       "       [ 0.98634122,  1.12365659],\n",
       "       [-1.24088089, -1.32360858],\n",
       "       [-1.24088089, -1.32360858],\n",
       "       [ 0.70793846,  0.99485316],\n",
       "       [ 1.04202177,  1.12365659],\n",
       "       [-1.40792255, -1.19480515],\n",
       "       [ 0.87498011,  1.38126345],\n",
       "       [-1.35224199, -1.32360858],\n",
       "       [ 0.6522579 ,  0.99485316],\n",
       "       [ 0.87498011,  1.12365659],\n",
       "       [-1.40792255, -1.32360858],\n",
       "       [-1.35224199, -1.32360858],\n",
       "       [ 1.09770233,  0.47963944],\n",
       "       [-1.35224199, -1.19480515],\n",
       "       [-1.40792255, -1.32360858],\n",
       "       [-1.18520034, -1.06600172],\n",
       "       [ 0.09545238,  0.09322915],\n",
       "       [ 1.15338288,  1.38126345],\n",
       "       [ 1.54314675,  1.12365659],\n",
       "       [-1.35224199, -1.32360858],\n",
       "       [-1.29656144, -1.32360858],\n",
       "       [-1.35224199, -1.32360858],\n",
       "       [ 0.37385514,  0.09322915],\n",
       "       [ 0.31817459,  0.22203258],\n",
       "       [-1.4636031 , -1.32360858],\n",
       "       [-1.18520034, -0.93719829],\n",
       "       [ 0.26249403,  0.09322915],\n",
       "       [-1.29656144, -1.06600172],\n",
       "       [ 1.71018841,  1.38126345],\n",
       "       [-0.29431149, -0.29318114],\n",
       "       [ 1.43178564,  0.99485316],\n",
       "       [ 0.31817459,  0.22203258],\n",
       "       [-1.29656144, -1.45241201],\n",
       "       [ 0.5408968 ,  0.7372463 ],\n",
       "       [-1.4636031 , -1.32360858],\n",
       "       [ 1.5988273 ,  0.99485316],\n",
       "       [-1.29656144, -1.19480515],\n",
       "       [-1.24088089, -1.32360858],\n",
       "       [ 1.26474398,  0.86604973],\n",
       "       [-1.35224199, -1.32360858],\n",
       "       [ 0.98634122,  1.51006688],\n",
       "       [ 0.15113293,  0.09322915],\n",
       "       [ 0.03977182, -0.03557428],\n",
       "       [-0.18295039, -0.29318114],\n",
       "       [ 0.81929956,  1.38126345],\n",
       "       [ 0.76361901,  1.38126345],\n",
       "       [ 0.59657735,  0.35083601],\n",
       "       [ 0.6522579 ,  0.60844287],\n",
       "       [-1.24088089, -1.32360858],\n",
       "       [-0.07158928, -0.29318114],\n",
       "       [ 0.98634122,  1.51006688],\n",
       "       [ 0.70793846,  0.86604973],\n",
       "       [-1.29656144, -1.32360858],\n",
       "       [ 0.42953569,  0.09322915],\n",
       "       [ 0.15113293,  0.09322915],\n",
       "       [ 0.5408968 ,  0.7372463 ],\n",
       "       [ 0.31817459,  0.09322915],\n",
       "       [-1.40792255, -1.32360858],\n",
       "       [-1.29656144, -1.06600172],\n",
       "       [-1.29656144, -1.45241201],\n",
       "       [ 0.98634122,  0.7372463 ],\n",
       "       [ 0.15113293, -0.29318114],\n",
       "       [ 1.5988273 ,  1.25246002],\n",
       "       [-1.35224199, -1.32360858]])"
      ]
     },
     "execution_count": 15,
     "metadata": {},
     "output_type": "execute_result"
    }
   ],
   "source": [
    "X_train_std"
   ]
  },
  {
   "cell_type": "code",
   "execution_count": 22,
   "metadata": {},
   "outputs": [
    {
     "data": {
      "text/plain": [
       "-0.12621255284827895"
      ]
     },
     "execution_count": 22,
     "metadata": {},
     "output_type": "execute_result"
    }
   ],
   "source": [
    "X_test_std.mean()"
   ]
  },
  {
   "cell_type": "code",
   "execution_count": 23,
   "metadata": {},
   "outputs": [
    {
     "data": {
      "text/plain": [
       "-1.5749642057657083"
      ]
     },
     "execution_count": 23,
     "metadata": {},
     "output_type": "execute_result"
    }
   ],
   "source": [
    "X_test_std.min()"
   ]
  },
  {
   "cell_type": "code",
   "execution_count": 24,
   "metadata": {},
   "outputs": [
    {
     "data": {
      "text/plain": [
       "1.6388703098542574"
      ]
     },
     "execution_count": 24,
     "metadata": {},
     "output_type": "execute_result"
    }
   ],
   "source": [
    "X_test_std.max()"
   ]
  },
  {
   "cell_type": "code",
   "execution_count": 25,
   "metadata": {
    "collapsed": true
   },
   "outputs": [
    {
     "data": {
      "text/plain": [
       "array([[ 0.70793846,  1.51006688],\n",
       "       [ 0.09545238, -0.29318114],\n",
       "       [-1.35224199, -1.32360858],\n",
       "       [ 1.37610509,  0.7372463 ],\n",
       "       [-1.29656144, -1.32360858],\n",
       "       [ 1.20906343,  1.63887031],\n",
       "       [-1.40792255, -1.19480515],\n",
       "       [ 0.48521625,  0.35083601],\n",
       "       [ 0.5408968 ,  0.22203258],\n",
       "       [ 0.09545238,  0.09322915],\n",
       "       [ 0.98634122,  0.22203258],\n",
       "       [ 0.37385514,  0.35083601],\n",
       "       [ 0.48521625, -0.03557428],\n",
       "       [ 0.42953569,  0.35083601],\n",
       "       [ 0.48521625,  0.22203258],\n",
       "       [-1.35224199, -1.45241201],\n",
       "       [ 0.37385514,  0.35083601],\n",
       "       [ 0.31817459, -0.03557428],\n",
       "       [-1.35224199, -1.19480515],\n",
       "       [-1.40792255, -1.06600172],\n",
       "       [ 0.59657735,  0.99485316],\n",
       "       [ 0.37385514,  0.35083601],\n",
       "       [-1.07383923, -1.32360858],\n",
       "       [-1.35224199, -1.32360858],\n",
       "       [ 0.5408968 ,  0.7372463 ],\n",
       "       [-1.57496421, -1.32360858],\n",
       "       [-1.07383923, -1.06600172],\n",
       "       [ 0.26249403,  0.09322915],\n",
       "       [-0.29431149, -0.29318114],\n",
       "       [-1.24088089, -1.06600172],\n",
       "       [ 0.93066067,  0.7372463 ],\n",
       "       [ 0.37385514,  0.35083601],\n",
       "       [-1.29656144, -1.32360858],\n",
       "       [ 0.59657735,  0.7372463 ],\n",
       "       [ 0.98634122,  1.25246002],\n",
       "       [ 0.03977182,  0.22203258],\n",
       "       [-1.18520034, -1.19480515],\n",
       "       [ 0.70793846,  0.47963944],\n",
       "       [ 0.20681348,  0.35083601],\n",
       "       [ 0.09545238, -0.03557428],\n",
       "       [ 0.93066067,  1.12365659],\n",
       "       [-1.40792255, -1.32360858],\n",
       "       [ 0.70793846,  1.38126345],\n",
       "       [-1.24088089, -0.80839486],\n",
       "       [-1.29656144, -1.32360858]])"
      ]
     },
     "execution_count": 25,
     "metadata": {},
     "output_type": "execute_result"
    }
   ],
   "source": [
    "X_test_std"
   ]
  },
  {
   "cell_type": "markdown",
   "metadata": {},
   "source": [
    "合并训练集和测试集的特征和标签"
   ]
  },
  {
   "cell_type": "code",
   "execution_count": 26,
   "metadata": {},
   "outputs": [],
   "source": [
    "# vstack: Stack arrays in sequence vertically (row wise).\n",
    "X_combined_std = np.vstack((X_train_std, X_test_std))\n",
    "y_combined = np.hstack((y_train, y_test))"
   ]
  },
  {
   "cell_type": "code",
   "execution_count": 27,
   "metadata": {},
   "outputs": [
    {
     "data": {
      "text/plain": [
       "(150, 2)"
      ]
     },
     "execution_count": 27,
     "metadata": {},
     "output_type": "execute_result"
    }
   ],
   "source": [
    "X_combined_std.shape"
   ]
  },
  {
   "cell_type": "code",
   "execution_count": 28,
   "metadata": {},
   "outputs": [
    {
     "data": {
      "text/plain": [
       "(150,)"
      ]
     },
     "execution_count": 28,
     "metadata": {},
     "output_type": "execute_result"
    }
   ],
   "source": [
    "y_combined.shape"
   ]
  },
  {
   "cell_type": "markdown",
   "metadata": {},
   "source": [
    "# 逻辑回归模型构建"
   ]
  },
  {
   "cell_type": "code",
   "execution_count": 29,
   "metadata": {},
   "outputs": [
    {
     "data": {
      "text/plain": [
       "LogisticRegression(C=1000.0, class_weight=None, dual=False, fit_intercept=True,\n",
       "                   intercept_scaling=1, l1_ratio=None, max_iter=100,\n",
       "                   multi_class='warn', n_jobs=None, penalty='l2',\n",
       "                   random_state=0, solver='warn', tol=0.0001, verbose=0,\n",
       "                   warm_start=False)"
      ]
     },
     "execution_count": 29,
     "metadata": {},
     "output_type": "execute_result"
    }
   ],
   "source": [
    "from sklearn.linear_model import LogisticRegression\n",
    "lr = LogisticRegression(C=1000.0, random_state=0)\n",
    "lr.fit(X_train_std, y_train)"
   ]
  },
  {
   "cell_type": "code",
   "execution_count": 30,
   "metadata": {},
   "outputs": [],
   "source": [
    "test_example = X_test_std[0,:].reshape(1,-1)"
   ]
  },
  {
   "cell_type": "code",
   "execution_count": 31,
   "metadata": {},
   "outputs": [
    {
     "data": {
      "text/plain": [
       "array([[0.70793846, 1.51006688]])"
      ]
     },
     "execution_count": 31,
     "metadata": {},
     "output_type": "execute_result"
    }
   ],
   "source": [
    "test_example"
   ]
  },
  {
   "cell_type": "code",
   "execution_count": 32,
   "metadata": {},
   "outputs": [
    {
     "data": {
      "text/plain": [
       "array([2])"
      ]
     },
     "execution_count": 32,
     "metadata": {},
     "output_type": "execute_result"
    }
   ],
   "source": [
    "lr.predict(test_example) # 2"
   ]
  },
  {
   "cell_type": "code",
   "execution_count": 33,
   "metadata": {},
   "outputs": [
    {
     "data": {
      "text/plain": [
       "array([[1.78177322e-11, 6.12453348e-02, 9.38754665e-01]])"
      ]
     },
     "execution_count": 33,
     "metadata": {},
     "output_type": "execute_result"
    }
   ],
   "source": [
    "lr.predict_proba(test_example) # 查看第一个测试样本属于各个类别的概率"
   ]
  },
  {
   "cell_type": "markdown",
   "metadata": {},
   "source": [
    "# 绘制决策边界"
   ]
  },
  {
   "cell_type": "markdown",
   "metadata": {},
   "source": [
    "## 构建绘制决策边界的绘图函数（直接运行代码即可）"
   ]
  },
  {
   "cell_type": "code",
   "execution_count": 37,
   "metadata": {},
   "outputs": [],
   "source": [
    "# 直接运行本代码块即可\n",
    "from matplotlib.colors import ListedColormap\n",
    "def plot_decision_regions(X, y, classifier, test_idx=None, resolution=0.02):\n",
    "    # 设置符号和颜色\n",
    "    markers = ('s', 'x', 'o', '^', 'v')\n",
    "    colors = ('red', 'blue', 'lightgreen', 'gray', 'cyan')\n",
    "    cmap = ListedColormap(colors[:len(np.unique(y))])\n",
    "    \n",
    "    # 绘制决策边界\n",
    "    x1_min, x1_max = X[:, 0].min() - 1, X[:, 0].max() + 1\n",
    "    x2_min, x2_max = X[:, 1].min() - 1, X[:, 1].max() + 1\n",
    "    # meshgrid: Return coordinate matrices from coordinate vectors.\n",
    "    xx1, xx2 = np.meshgrid(np.arange(x1_min, x1_max, resolution), np.arange(x2_min, x2_max, resolution))\n",
    "    Z = classifier.predict(np.array([xx1.ravel(), xx2.ravel()]).T)\n",
    "    print(xx1.shape)\n",
    "    print(xx1)\n",
    "    print('*'*20)\n",
    "    print(xx2.shape)\n",
    "    print(xx2)\n",
    "    print('*'*20)\n",
    "    print(Z.shape)\n",
    "    print(Z)\n",
    "    Z = Z.reshape(xx1.shape)\n",
    "    print('*'*20)\n",
    "    print(Z.shape)\n",
    "    print(Z)\n",
    "    # contourf: 绘制等高线\n",
    "    plt.contourf(xx1, xx2, Z, alpha=0.4, cmap=cmap)\n",
    "    plt.xlim(xx1.min(), xx1.max())\n",
    "    plt.ylim(xx2.min(), xx2.max())\n",
    "    \n",
    "    # 按颜色绘制不同种类的鸢尾花\n",
    "    for idx, cl in enumerate(np.unique(y)):\n",
    "        plt.scatter(x=X[y == cl, 0], y=X[y == cl, 1],alpha=0.8, c=cmap(idx),marker=markers[idx], label=cl)\n",
    "        \n",
    "    # 对于测试集中的数据，画个圆圈突出强调\n",
    "    if test_idx:\n",
    "        X_test, y_test = X[test_idx, :], y[test_idx]\n",
    "        plt.scatter(X_test[:, 0], X_test[:, 1], c='', alpha=1.0, linewidth=1, marker='o', s=90, label='test set', edgecolors='k')"
   ]
  },
  {
   "cell_type": "markdown",
   "metadata": {},
   "source": [
    "## 绘制决策边界"
   ]
  },
  {
   "cell_type": "code",
   "execution_count": 38,
   "metadata": {
    "scrolled": false
   },
   "outputs": [
    {
     "name": "stderr",
     "output_type": "stream",
     "text": [
      "'c' argument looks like a single numeric RGB or RGBA sequence, which should be avoided as value-mapping will have precedence in case its length matches with 'x' & 'y'.  Please use a 2-D array with a single row if you really want to specify the same RGB or RGBA value for all points.\n",
      "'c' argument looks like a single numeric RGB or RGBA sequence, which should be avoided as value-mapping will have precedence in case its length matches with 'x' & 'y'.  Please use a 2-D array with a single row if you really want to specify the same RGB or RGBA value for all points.\n",
      "'c' argument looks like a single numeric RGB or RGBA sequence, which should be avoided as value-mapping will have precedence in case its length matches with 'x' & 'y'.  Please use a 2-D array with a single row if you really want to specify the same RGB or RGBA value for all points.\n"
     ]
    },
    {
     "name": "stdout",
     "output_type": "stream",
     "text": [
      "(255, 265)\n",
      "[[-2.57496421 -2.55496421 -2.53496421 ...  2.66503579  2.68503579\n",
      "   2.70503579]\n",
      " [-2.57496421 -2.55496421 -2.53496421 ...  2.66503579  2.68503579\n",
      "   2.70503579]\n",
      " [-2.57496421 -2.55496421 -2.53496421 ...  2.66503579  2.68503579\n",
      "   2.70503579]\n",
      " ...\n",
      " [-2.57496421 -2.55496421 -2.53496421 ...  2.66503579  2.68503579\n",
      "   2.70503579]\n",
      " [-2.57496421 -2.55496421 -2.53496421 ...  2.66503579  2.68503579\n",
      "   2.70503579]\n",
      " [-2.57496421 -2.55496421 -2.53496421 ...  2.66503579  2.68503579\n",
      "   2.70503579]]\n",
      "********************\n",
      "(255, 265)\n",
      "[[-2.45241201 -2.45241201 -2.45241201 ... -2.45241201 -2.45241201\n",
      "  -2.45241201]\n",
      " [-2.43241201 -2.43241201 -2.43241201 ... -2.43241201 -2.43241201\n",
      "  -2.43241201]\n",
      " [-2.41241201 -2.41241201 -2.41241201 ... -2.41241201 -2.41241201\n",
      "  -2.41241201]\n",
      " ...\n",
      " [ 2.58758799  2.58758799  2.58758799 ...  2.58758799  2.58758799\n",
      "   2.58758799]\n",
      " [ 2.60758799  2.60758799  2.60758799 ...  2.60758799  2.60758799\n",
      "   2.60758799]\n",
      " [ 2.62758799  2.62758799  2.62758799 ...  2.62758799  2.62758799\n",
      "   2.62758799]]\n",
      "********************\n",
      "(67575,)\n",
      "[0 0 0 ... 2 2 2]\n",
      "********************\n",
      "(255, 265)\n",
      "[[0 0 0 ... 1 1 1]\n",
      " [0 0 0 ... 1 1 1]\n",
      " [0 0 0 ... 1 1 1]\n",
      " ...\n",
      " [0 0 0 ... 2 2 2]\n",
      " [0 0 0 ... 2 2 2]\n",
      " [0 0 0 ... 2 2 2]]\n"
     ]
    },
    {
     "data": {
      "image/png": "[encoded data removed]",
      "text/plain": [
       "<Figure size 1080x720 with 1 Axes>"
      ]
     },
     "metadata": {
      "needs_background": "light"
     },
     "output_type": "display_data"
    }
   ],
   "source": [
    "# 设置绘图大小\n",
    "plt.style.use({'figure.figsize':(15,10)})\n",
    "\n",
    "plot_decision_regions(X_combined_std, y_combined, classifier=lr, test_idx=range(105,150))\n",
    "plt.xlabel('petal length [经过标准化处理]')\n",
    "plt.ylabel('petal width [经过标准化处理]')\n",
    "plt.legend(loc='upper right') # 图例放在右上角\n",
    "plt.title('鸢尾花数据集取花瓣长度、花瓣宽度两个特征，构建逻辑回归分类器的分类结果')\n",
    "plt.show()"
   ]
  },
  {
   "cell_type": "code",
   "execution_count": null,
   "metadata": {},
   "outputs": [],
   "source": []
  }
 ],
 "metadata": {
  "kernelspec": {
   "display_name": "Python 3",
   "language": "python",
   "name": "python3"
  },
  "language_info": {
   "codemirror_mode": {
    "name": "ipython",
    "version": 3
   },
   "file_extension": ".py",
   "mimetype": "text/x-python",
   "name": "python",
   "nbconvert_exporter": "python",
   "pygments_lexer": "ipython3",
   "version": "3.6.9"
  }
 },
 "nbformat": 4,
 "nbformat_minor": 2
}
