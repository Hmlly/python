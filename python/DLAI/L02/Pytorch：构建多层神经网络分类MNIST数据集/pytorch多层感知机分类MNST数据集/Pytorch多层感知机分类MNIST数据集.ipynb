{
 "cells": [
  {
   "cell_type": "markdown",
   "metadata": {},
   "source": [
    "# Pytorch多层感知机分类MNIST数据集\n",
    "\n",
    "\n",
    "使用深度学习框架Pytorch搭建两层多层感知机MLP神经网络，对MNIST手写数字数据集进行图像分类。\n",
    "\n",
    ">同济大学 张子豪 2019-11-26<br>\n",
    "\n",
    "1. 载入数据集\n",
    "2. 可视化数据集\n",
    "3. 定义神经网络、损失函数、优化器\n",
    "4. 训练神经网络，观察训练误差和验证误差变化\n",
    "5. 在测试集上评估模型分类效果"
   ]
  },
  {
   "cell_type": "markdown",
   "metadata": {},
   "source": [
    "<div class=\"alert alert-block alert-info\">\n",
    "Shift + Enter 运行单元格中的代码<br>\n",
    "双击单元格进入编辑模式，即可修改代码。<br>\n",
    "</div>"
   ]
  },
  {
   "cell_type": "markdown",
   "metadata": {},
   "source": [
    "关于Jupyter notebook的基本操作、快捷键，请看这个视频：\n",
    "[Jupyter notebook快速入门](https://www.bilibili.com/video/av54100790)![jupyter](http://jupyter.org/assets/main-logo.svg)"
   ]
  },
  {
   "cell_type": "code",
   "execution_count": 1,
   "metadata": {},
   "outputs": [],
   "source": [
    "# 忽略后续运行代码时出现的烦人红色提示\n",
    "import warnings\n",
    "warnings.filterwarnings(\"ignore\")"
   ]
  },
  {
   "cell_type": "code",
   "execution_count": 2,
   "metadata": {},
   "outputs": [],
   "source": [
    "# 导入深度学习框架pytorch和科学计算库numpy\n",
    "import torch\n",
    "import numpy as np\n",
    "\n",
    "import matplotlib.pyplot as plt\n",
    "%matplotlib inline\n",
    "\n",
    "plt.rcParams['font.sans-serif']=['SimHei']  # 用来正常显示中文标签  \n",
    "plt.rcParams['axes.unicode_minus']=False  # 用来正常显示负号"
   ]
  },
  {
   "cell_type": "markdown",
   "metadata": {},
   "source": [
    "# 导入MNIST数据集\n",
    "\n",
    "Pytorch文档：http://pytorch.org/docs/stable/torchvision/datasets.html"
   ]
  },
  {
   "cell_type": "code",
   "execution_count": 3,
   "metadata": {},
   "outputs": [],
   "source": [
    "from torchvision import datasets\n",
    "import torchvision.transforms as transforms\n",
    "from torch.utils.data.sampler import SubsetRandomSampler\n",
    "\n",
    "# 载入数据时使用的处理器个数\n",
    "num_workers = 0\n",
    "\n",
    "#每一批的数据个数\n",
    "batch_size = 20\n",
    "\n",
    "# 验证集所占比例\n",
    "valid_size = 0.2\n",
    "\n",
    "# 将数据转换为Pytorch的张量Tensor类型\n",
    "transform = transforms.ToTensor()\n",
    "\n",
    "# 选择训练集和测试集，root：数据集文件根目录 这里是data/MNIST/raw\n",
    "# train：是否载入训练集\n",
    "# download：如果目录中找不到数据集，是否自动下载\n",
    "# transform：将载入的数据按上面transform定义的方式进行转换\n",
    "train_data = datasets.MNIST(root='data', train=True,\n",
    "                                   download=True, transform=transform)\n",
    "test_data = datasets.MNIST(root='data', train=False,\n",
    "                                  download=True, transform=transform)"
   ]
  },
  {
   "cell_type": "code",
   "execution_count": 4,
   "metadata": {
    "scrolled": false
   },
   "outputs": [],
   "source": [
    "# 将训练集每张图像对应的索引随机打乱，将索引分为训练集索引和验证集索引\n",
    "num_train = len(train_data)\n",
    "indices = list(range(num_train))\n",
    "np.random.shuffle(indices)\n",
    "# split 向下取整\n",
    "split = int(np.floor(valid_size * num_train))\n",
    "# 以 split 为索引分界线，划分训练集和验证集索引\n",
    "train_idx, valid_idx = indices[split:], indices[:split]\n",
    "\n",
    "# 定义采样器：根据划分索引，划分为新的训练集和验证集\n",
    "train_sampler = SubsetRandomSampler(train_idx)\n",
    "valid_sampler = SubsetRandomSampler(valid_idx)\n",
    "\n",
    "# 创建数据Loader-训练集、验证集、测试集，python中的生成器，每一次调用返回一个batch的数据\n",
    "train_loader = torch.utils.data.DataLoader(train_data, batch_size=batch_size,\n",
    "    sampler=train_sampler, num_workers=num_workers)\n",
    "valid_loader = torch.utils.data.DataLoader(train_data, batch_size=batch_size, \n",
    "    sampler=valid_sampler, num_workers=num_workers)\n",
    "test_loader = torch.utils.data.DataLoader(test_data, batch_size=batch_size, \n",
    "    num_workers=num_workers)"
   ]
  },
  {
   "cell_type": "markdown",
   "metadata": {},
   "source": [
    "# 可视化数据"
   ]
  },
  {
   "cell_type": "code",
   "execution_count": 5,
   "metadata": {},
   "outputs": [
    {
     "data": {
      "image/png": "[encoded data removed]",
      "text/plain": [
       "<Figure size 1800x288 with 20 Axes>"
      ]
     },
     "metadata": {},
     "output_type": "display_data"
    }
   ],
   "source": [
    "# 可重复运行，展示不同的图片\n",
    "\n",
    "# 构造迭代器，获得训练集中的一批次数据\n",
    "dataiter = iter(train_loader)\n",
    "images, labels = dataiter.next()\n",
    "# 将数据集中的Tensor张量转为numpy的array数据类型\n",
    "images = images.numpy()\n",
    "\n",
    "# 可视化图片和标签-每一批20个数据\n",
    "fig = plt.figure(figsize=(25, 4))\n",
    "for idx in np.arange(batch_size):\n",
    "    ax = fig.add_subplot(2, batch_size/2, idx+1, xticks=[], yticks=[])\n",
    "    # squeeze: Remove single-dimensional entries from the shape of an array.\n",
    "    # 去掉 array 中维度大小为1的维度\n",
    "    ax.imshow(np.squeeze(images[idx]), cmap='gray')\n",
    "    # .item()获取张量的数值\n",
    "    ax.set_title(str(labels[idx].item()))"
   ]
  },
  {
   "cell_type": "markdown",
   "metadata": {},
   "source": [
    "# 展示图像的像素细节"
   ]
  },
  {
   "cell_type": "code",
   "execution_count": 6,
   "metadata": {},
   "outputs": [
    {
     "data": {
      "text/plain": [
       "(1, 28, 28)"
      ]
     },
     "execution_count": 6,
     "metadata": {},
     "output_type": "execute_result"
    }
   ],
   "source": [
    "images[1].shape"
   ]
  },
  {
   "cell_type": "code",
   "execution_count": 7,
   "metadata": {},
   "outputs": [
    {
     "data": {
      "text/plain": [
       "(28, 28)"
      ]
     },
     "execution_count": 7,
     "metadata": {},
     "output_type": "execute_result"
    }
   ],
   "source": [
    "# squeeze: Remove single-dimensional entries from the shape of an array.\n",
    "# 去掉 array 中维度大小为1的维度\n",
    "np.squeeze(images[1]).shape"
   ]
  },
  {
   "cell_type": "code",
   "execution_count": 13,
   "metadata": {},
   "outputs": [
    {
     "name": "stdout",
     "output_type": "stream",
     "text": [
      "tensor(8)\n",
      "0\n"
     ]
    }
   ],
   "source": [
    "print(labels[1]) # 标签=8\n",
    "print(labels[1].ndim)"
   ]
  },
  {
   "cell_type": "code",
   "execution_count": 14,
   "metadata": {},
   "outputs": [
    {
     "data": {
      "image/png": "[encoded data removed]",
      "text/plain": [
       "<Figure size 864x864 with 1 Axes>"
      ]
     },
     "metadata": {
      "needs_background": "light"
     },
     "output_type": "display_data"
    }
   ],
   "source": [
    "# 去掉图像的批次维度，只保留索引为1的单张图像的长宽像素值\n",
    "img = np.squeeze(images[1])\n",
    "\n",
    "fig = plt.figure(figsize = (12,12)) \n",
    "ax = fig.add_subplot(111)\n",
    "# 绘制灰度图\n",
    "ax.imshow(img, cmap='gray')\n",
    "width, height = img.shape\n",
    "thresh = img.max()/2.5\n",
    "\n",
    "# 遍历每一行每一列每一个像素，添加数值注释\n",
    "for x in range(width):\n",
    "    for y in range(height):\n",
    "        # 像素值保留两位小数，如果为0则显示0\n",
    "        val = round(img[x][y],2) if img[x][y] !=0 else 0\n",
    "        # 在像素[y,x]添加注释val\n",
    "        ax.annotate(str(val), xy=(y,x),\n",
    "                    horizontalalignment='center',\n",
    "                    verticalalignment='center',\n",
    "                    color='white' if img[x][y]<thresh else 'black')"
   ]
  },
  {
   "cell_type": "markdown",
   "metadata": {},
   "source": [
    "# 定义神经网络结构"
   ]
  },
  {
   "cell_type": "markdown",
   "metadata": {},
   "source": [
    "输入为784维的向量，输出为10个数字对应的概率。\n",
    "\n",
    "中间是两层隐含层，每个隐含层都有512个神经元。\n",
    "\n",
    "采用Dropout防止过拟合。\n",
    "\n",
    "Pytorch文档：http://pytorch.org/docs/stable/nn.html"
   ]
  },
  {
   "cell_type": "markdown",
   "metadata": {},
   "source": [
    "![MLP](net.png)\n",
    "图片来源：Udacity\n",
    "![MLP](https://upload-images.jianshu.io/upload_images/13714448-c5640a99ff3b21dc.png?imageMogr2/auto-orient/strip%7CimageView2/2/w/1240)"
   ]
  },
  {
   "cell_type": "code",
   "execution_count": 15,
   "metadata": {
    "scrolled": true
   },
   "outputs": [
    {
     "name": "stdout",
     "output_type": "stream",
     "text": [
      "Net(\n",
      "  (fc1): Linear(in_features=784, out_features=512, bias=True)\n",
      "  (fc2): Linear(in_features=512, out_features=512, bias=True)\n",
      "  (fc3): Linear(in_features=512, out_features=10, bias=True)\n",
      "  (dropout): Dropout(p=0.2, inplace=False)\n",
      ")\n"
     ]
    }
   ],
   "source": [
    "import torch.nn as nn\n",
    "import torch.nn.functional as F\n",
    "\n",
    "# 定义神经网络\n",
    "class Net(nn.Module):\n",
    "    # 初始化神经网络，每层之间的连接都是多元线性函数y=kX+b\n",
    "    # 只有激活函数为非线性\n",
    "    def __init__(self):\n",
    "        super(Net, self).__init__()\n",
    "        # 定义第一个隐含层和第二个隐含层的神经元个数\n",
    "        hidden_1 = 512\n",
    "        hidden_2 = 512\n",
    "        \n",
    "        # 输入层到隐含层，输入维度为784，输出维度为 hidden_1\n",
    "        self.fc1 = nn.Linear(28 * 28, hidden_1)\n",
    "        # 第一层隐含层到第二层隐含层，输入维度为 hidden_1，输出维度为 hidden_2\n",
    "        self.fc2 = nn.Linear(hidden_1, hidden_2)\n",
    "        # 第二层隐含层到输出层，输入维度为 hidden_2，输出维度为10\n",
    "        self.fc3 = nn.Linear(hidden_2, 10)\n",
    "        # 定义Dropout率为0.2，防止过拟合\n",
    "        self.dropout = nn.Dropout(0.2)\n",
    "\n",
    "    # 定义前向传播    \n",
    "    def forward(self, x):\n",
    "        # 将原始图像拉平成784维的长向量\n",
    "        x = x.view(-1, 28 * 28)\n",
    "        # 经过第一层隐含层，激活函数为relu\n",
    "        x = F.relu(self.fc1(x))\n",
    "        # Dropout层\n",
    "        x = self.dropout(x)\n",
    "        # 经过第二层隐含层，激活函数为relu\n",
    "        x = F.relu(self.fc2(x))\n",
    "        # Dropout层\n",
    "        x = self.dropout(x)\n",
    "        # 输出层\n",
    "        x = self.fc3(x)\n",
    "        return x\n",
    "\n",
    "# 实例化模型，打印模型信息\n",
    "model = Net()\n",
    "print(model)"
   ]
  },
  {
   "cell_type": "markdown",
   "metadata": {},
   "source": [
    "# 定义损失函数和梯度下降优化器\n",
    "\n",
    "使用交叉熵作为分类问题的损失函数，从Pytorch文档可知，Pytorch中的交叉熵其实包含了softmax和对数损失的计算。\n",
    "\n",
    "- Pytorch文档-损失函数：http://pytorch.org/docs/stable/nn.html#loss-functions\n",
    "- Pytorch文档-梯度下降优化器：http://pytorch.org/docs/stable/optim.html"
   ]
  },
  {
   "cell_type": "code",
   "execution_count": 16,
   "metadata": {},
   "outputs": [],
   "source": [
    "# 损失函数为交叉熵损失函数\n",
    "# CLASStorch.nn.CrossEntropyLoss()\n",
    "# This criterion combines nn.LogSoftmax() and nn.NLLLoss() in one single class.\n",
    "criterion = nn.CrossEntropyLoss()\n",
    "\n",
    "# 定义优化器（随机梯度下降SGD优化器，学习率0.01）\n",
    "# params (iterable): iterable of parameters to optimize or dicts defining parameter groups\n",
    "optimizer = torch.optim.SGD(model.parameters(), lr=0.01)"
   ]
  },
  {
   "cell_type": "markdown",
   "metadata": {},
   "source": [
    "# 训练神经网络\n",
    "\n",
    "1. 清除所有梯度 `optimizer.zero_grad()`\n",
    "2. 正向预测，求出模型对训练集数据的预测分类 `output = model(data)`\n",
    "3. 计算损失函数 `loss = criterion(output, target)`\n",
    "4. 反向传播，将损失函数对每一个权重求导，求得每个权重对应的梯度 `loss.backward()`\n",
    "5. 优化器执行单步的优化（权重更新） `optimizer.step()`\n",
    "6. 计算每一轮的平均训练误差和验证误差"
   ]
  },
  {
   "cell_type": "code",
   "execution_count": 17,
   "metadata": {},
   "outputs": [
    {
     "data": {
      "text/plain": [
       "60000"
      ]
     },
     "execution_count": 17,
     "metadata": {},
     "output_type": "execute_result"
    }
   ],
   "source": [
    "len(train_loader.dataset)"
   ]
  },
  {
   "cell_type": "code",
   "execution_count": 18,
   "metadata": {},
   "outputs": [
    {
     "name": "stdout",
     "output_type": "stream",
     "text": [
      "第1轮 \t训练损失: 0.752855 \t验证损失: 0.077661\n",
      "验证损失相比之前降低了 (inf --> 0.077661).  保存模型\n",
      "第2轮 \t训练损失: 0.285534 \t验证损失: 0.059075\n",
      "验证损失相比之前降低了 (0.077661 --> 0.059075).  保存模型\n",
      "第3轮 \t训练损失: 0.226317 \t验证损失: 0.048790\n",
      "验证损失相比之前降低了 (0.059075 --> 0.048790).  保存模型\n",
      "第4轮 \t训练损失: 0.188145 \t验证损失: 0.041617\n",
      "验证损失相比之前降低了 (0.048790 --> 0.041617).  保存模型\n",
      "第5轮 \t训练损失: 0.158873 \t验证损失: 0.036415\n",
      "验证损失相比之前降低了 (0.041617 --> 0.036415).  保存模型\n",
      "第6轮 \t训练损失: 0.139420 \t验证损失: 0.033407\n",
      "验证损失相比之前降低了 (0.036415 --> 0.033407).  保存模型\n",
      "第7轮 \t训练损失: 0.122445 \t验证损失: 0.029835\n",
      "验证损失相比之前降低了 (0.033407 --> 0.029835).  保存模型\n",
      "第8轮 \t训练损失: 0.109051 \t验证损失: 0.027410\n",
      "验证损失相比之前降低了 (0.029835 --> 0.027410).  保存模型\n",
      "第9轮 \t训练损失: 0.098786 \t验证损失: 0.025609\n",
      "验证损失相比之前降低了 (0.027410 --> 0.025609).  保存模型\n",
      "第10轮 \t训练损失: 0.088733 \t验证损失: 0.023685\n",
      "验证损失相比之前降低了 (0.025609 --> 0.023685).  保存模型\n",
      "第11轮 \t训练损失: 0.081849 \t验证损失: 0.022925\n",
      "验证损失相比之前降低了 (0.023685 --> 0.022925).  保存模型\n",
      "第12轮 \t训练损失: 0.075617 \t验证损失: 0.021524\n",
      "验证损失相比之前降低了 (0.022925 --> 0.021524).  保存模型\n",
      "第13轮 \t训练损失: 0.069570 \t验证损失: 0.020392\n",
      "验证损失相比之前降低了 (0.021524 --> 0.020392).  保存模型\n",
      "第14轮 \t训练损失: 0.065532 \t验证损失: 0.019469\n",
      "验证损失相比之前降低了 (0.020392 --> 0.019469).  保存模型\n",
      "第15轮 \t训练损失: 0.059356 \t验证损失: 0.019076\n",
      "验证损失相比之前降低了 (0.019469 --> 0.019076).  保存模型\n",
      "第16轮 \t训练损失: 0.056195 \t验证损失: 0.019434\n",
      "第17轮 \t训练损失: 0.052036 \t验证损失: 0.017832\n",
      "验证损失相比之前降低了 (0.019076 --> 0.017832).  保存模型\n",
      "第18轮 \t训练损失: 0.049727 \t验证损失: 0.017392\n",
      "验证损失相比之前降低了 (0.017832 --> 0.017392).  保存模型\n",
      "第19轮 \t训练损失: 0.045681 \t验证损失: 0.016795\n",
      "验证损失相比之前降低了 (0.017392 --> 0.016795).  保存模型\n",
      "第20轮 \t训练损失: 0.042954 \t验证损失: 0.016374\n",
      "验证损失相比之前降低了 (0.016795 --> 0.016374).  保存模型\n",
      "第21轮 \t训练损失: 0.041079 \t验证损失: 0.016393\n",
      "第22轮 \t训练损失: 0.038186 \t验证损失: 0.015690\n",
      "验证损失相比之前降低了 (0.016374 --> 0.015690).  保存模型\n",
      "第23轮 \t训练损失: 0.036466 \t验证损失: 0.015735\n",
      "第24轮 \t训练损失: 0.033938 \t验证损失: 0.015607\n",
      "验证损失相比之前降低了 (0.015690 --> 0.015607).  保存模型\n",
      "第25轮 \t训练损失: 0.032657 \t验证损失: 0.015349\n",
      "验证损失相比之前降低了 (0.015607 --> 0.015349).  保存模型\n",
      "第26轮 \t训练损失: 0.031259 \t验证损失: 0.015078\n",
      "验证损失相比之前降低了 (0.015349 --> 0.015078).  保存模型\n",
      "第27轮 \t训练损失: 0.028754 \t验证损失: 0.015053\n",
      "验证损失相比之前降低了 (0.015078 --> 0.015053).  保存模型\n",
      "第28轮 \t训练损失: 0.027481 \t验证损失: 0.015240\n",
      "第29轮 \t训练损失: 0.026215 \t验证损失: 0.015185\n",
      "第30轮 \t训练损失: 0.024804 \t验证损失: 0.014684\n",
      "验证损失相比之前降低了 (0.015053 --> 0.014684).  保存模型\n",
      "第31轮 \t训练损失: 0.023391 \t验证损失: 0.014301\n",
      "验证损失相比之前降低了 (0.014684 --> 0.014301).  保存模型\n",
      "第32轮 \t训练损失: 0.022929 \t验证损失: 0.014408\n",
      "第33轮 \t训练损失: 0.020859 \t验证损失: 0.014492\n",
      "第34轮 \t训练损失: 0.020356 \t验证损失: 0.014372\n",
      "第35轮 \t训练损失: 0.019666 \t验证损失: 0.014361\n",
      "第36轮 \t训练损失: 0.018182 \t验证损失: 0.014445\n",
      "第37轮 \t训练损失: 0.018320 \t验证损失: 0.014179\n",
      "验证损失相比之前降低了 (0.014301 --> 0.014179).  保存模型\n",
      "第38轮 \t训练损失: 0.017669 \t验证损失: 0.014293\n",
      "第39轮 \t训练损失: 0.016031 \t验证损失: 0.014006\n",
      "验证损失相比之前降低了 (0.014179 --> 0.014006).  保存模型\n",
      "第40轮 \t训练损失: 0.015667 \t验证损失: 0.014511\n",
      "第41轮 \t训练损失: 0.014958 \t验证损失: 0.014071\n",
      "第42轮 \t训练损失: 0.014104 \t验证损失: 0.014346\n",
      "第43轮 \t训练损失: 0.014309 \t验证损失: 0.013983\n",
      "验证损失相比之前降低了 (0.014006 --> 0.013983).  保存模型\n",
      "第44轮 \t训练损失: 0.013227 \t验证损失: 0.014400\n",
      "第45轮 \t训练损失: 0.012889 \t验证损失: 0.013988\n",
      "第46轮 \t训练损失: 0.012580 \t验证损失: 0.014264\n",
      "第47轮 \t训练损失: 0.012359 \t验证损失: 0.014139\n",
      "第48轮 \t训练损失: 0.011396 \t验证损失: 0.014056\n",
      "第49轮 \t训练损失: 0.010769 \t验证损失: 0.013858\n",
      "验证损失相比之前降低了 (0.013983 --> 0.013858).  保存模型\n",
      "第50轮 \t训练损失: 0.010039 \t验证损失: 0.014133\n"
     ]
    }
   ],
   "source": [
    "# 训练轮次数，每一轮都完整遍历数据集中的所有图像\n",
    "n_epochs = 50\n",
    "\n",
    "# 初始化验证集的最小误差为正无穷\n",
    "valid_loss_min = np.Inf\n",
    "\n",
    "# 将训练过程中的训练损失和验证损失存储在列表中\n",
    "train_loss_list = []\n",
    "val_loss_list = []\n",
    "\n",
    "# 每一轮训练：\n",
    "for epoch in range(n_epochs):\n",
    "    # 初始化训练损失和验证损失\n",
    "    train_loss = 0.0\n",
    "    valid_loss = 0.0\n",
    "    \n",
    "    ###################\n",
    "    #    训练阶段     #\n",
    "    ###################\n",
    "    model.train() # 将模型调整为训练模式\n",
    "    \n",
    "    # 从train_loader中获取一批次的数据和标签\n",
    "    for data, target in train_loader:\n",
    "        # 将所有梯度归零\n",
    "        optimizer.zero_grad()\n",
    "        # 正向推断，求得预测结果\n",
    "        output = model(data)\n",
    "        # 将预测的结果与标签进行比较，求得交叉熵损失函数值\n",
    "        loss = criterion(output, target)\n",
    "        # 反向传播，将损失函数对每一个权重求导，求得每个权重对应的梯度\n",
    "        # backward(): Computes the gradient of current tensor w.r.t. graph leaves.\n",
    "        loss.backward()\n",
    "        # 优化器执行单步的优化（权重更新）\n",
    "        optimizer.step()\n",
    "        # 将本批次所有样本的损失函数值求和，作为训练损失\n",
    "        train_loss += loss.item()*data.size(0)\n",
    "        \n",
    "    ######################    \n",
    "    #      验证阶段      #\n",
    "    ######################\n",
    "    model.eval() # 将模型调整到验证阶段，关闭Dropout和BN层\n",
    "    # 从验证集valid_loader中获得一个批次的数据及标签\n",
    "    for data, target in valid_loader:\n",
    "        # 正向预测，预测每张图片的分类\n",
    "        output = model(data)\n",
    "        # 计算交叉熵损失函数\n",
    "        loss = criterion(output, target)\n",
    "        # 将本批次所有样本的损失函数值求和，作为验证损失\n",
    "        valid_loss += loss.item()*data.size(0)\n",
    "    \n",
    "    # 结束了本轮的训练和验证，打印训练和验证指标\n",
    "    # 计算平均训练损失和平均验证损失，存储在列表中\n",
    "    train_loss = train_loss/len(train_loader.dataset)\n",
    "    valid_loss = valid_loss/len(valid_loader.dataset)\n",
    "    train_loss_list.append(train_loss)\n",
    "    val_loss_list.append(valid_loss)\n",
    "    \n",
    "    print('第{}轮 \\t训练损失: {:.6f} \\t验证损失: {:.6f}'.format(epoch+1, train_loss,valid_loss))\n",
    "\n",
    "    # 如果验证误差相比上一轮有降低，及时保存模型在本地的model.pt文件中\n",
    "    if valid_loss <= valid_loss_min:\n",
    "        print('验证损失相比之前降低了 ({:.6f} --> {:.6f}).  保存模型'.format(\n",
    "        valid_loss_min,\n",
    "        valid_loss))\n",
    "        torch.save(model.state_dict(), 'model.pt')\n",
    "        valid_loss_min = valid_loss"
   ]
  },
  {
   "cell_type": "code",
   "execution_count": 23,
   "metadata": {},
   "outputs": [
    {
     "data": {
      "text/plain": [
       "20"
      ]
     },
     "execution_count": 23,
     "metadata": {},
     "output_type": "execute_result"
    }
   ],
   "source": [
    "data.size(0)"
   ]
  },
  {
   "cell_type": "code",
   "execution_count": 24,
   "metadata": {},
   "outputs": [
    {
     "data": {
      "text/plain": [
       "5.8709825680125505e-05"
      ]
     },
     "execution_count": 24,
     "metadata": {},
     "output_type": "execute_result"
    }
   ],
   "source": [
    "loss.item()"
   ]
  },
  {
   "cell_type": "markdown",
   "metadata": {},
   "source": [
    "# 可视化训练误差和验证误差"
   ]
  },
  {
   "cell_type": "code",
   "execution_count": 19,
   "metadata": {},
   "outputs": [
    {
     "data": {
      "image/png": "[encoded data removed]",
      "text/plain": [
       "<Figure size 432x288 with 1 Axes>"
      ]
     },
     "metadata": {
      "needs_background": "light"
     },
     "output_type": "display_data"
    }
   ],
   "source": [
    "plt.plot(train_loss_list,label='训练误差')\n",
    "plt.plot(val_loss_list,label='验证误差')\n",
    "plt.legend()\n",
    "plt.title('训练误差和验证误差变化')\n",
    "plt.show()"
   ]
  },
  {
   "cell_type": "code",
   "execution_count": 20,
   "metadata": {},
   "outputs": [
    {
     "data": {
      "image/png": "[encoded data removed]",
      "text/plain": [
       "<Figure size 432x288 with 1 Axes>"
      ]
     },
     "metadata": {
      "needs_background": "light"
     },
     "output_type": "display_data"
    }
   ],
   "source": [
    "plt.plot(val_loss_list,label='验证误差',c='r')\n",
    "plt.title('验证误差变化')\n",
    "plt.show()"
   ]
  },
  {
   "cell_type": "markdown",
   "metadata": {},
   "source": [
    "# 载入验证集损失最低的模型"
   ]
  },
  {
   "cell_type": "code",
   "execution_count": 21,
   "metadata": {},
   "outputs": [
    {
     "data": {
      "text/plain": [
       "<All keys matched successfully>"
      ]
     },
     "execution_count": 21,
     "metadata": {},
     "output_type": "execute_result"
    }
   ],
   "source": [
    "model.load_state_dict(torch.load('model.pt'))"
   ]
  },
  {
   "cell_type": "code",
   "execution_count": 22,
   "metadata": {},
   "outputs": [
    {
     "name": "stdout",
     "output_type": "stream",
     "text": [
      "Net(\n",
      "  (fc1): Linear(in_features=784, out_features=512, bias=True)\n",
      "  (fc2): Linear(in_features=512, out_features=512, bias=True)\n",
      "  (fc3): Linear(in_features=512, out_features=10, bias=True)\n",
      "  (dropout): Dropout(p=0.2, inplace=False)\n",
      ")\n"
     ]
    }
   ],
   "source": [
    "print(model)"
   ]
  },
  {
   "cell_type": "code",
   "execution_count": 28,
   "metadata": {
    "collapsed": true
   },
   "outputs": [
    {
     "name": "stdout",
     "output_type": "stream",
     "text": [
      "\n",
      "Param shape = torch.Size([512, 784])\n",
      "Parameter containing:\n",
      "tensor([[ 0.0311, -0.0333,  0.0200,  ..., -0.0080, -0.0007,  0.0220],\n",
      "        [ 0.0049, -0.0094,  0.0085,  ...,  0.0040,  0.0214, -0.0031],\n",
      "        [-0.0077, -0.0343, -0.0147,  ...,  0.0046,  0.0160,  0.0189],\n",
      "        ...,\n",
      "        [ 0.0011, -0.0201,  0.0157,  ..., -0.0347,  0.0309,  0.0232],\n",
      "        [ 0.0047,  0.0315,  0.0136,  ...,  0.0201, -0.0310, -0.0246],\n",
      "        [ 0.0312,  0.0077, -0.0335,  ...,  0.0311, -0.0042, -0.0124]],\n",
      "       requires_grad=True)\n",
      "\n",
      "Param shape = torch.Size([512])\n",
      "Parameter containing:\n",
      "tensor([-4.9514e-04,  1.9118e-02,  4.5716e-02,  4.9773e-02,  2.8209e-02,\n",
      "        -1.9684e-02,  9.1834e-02, -2.2685e-02,  5.0718e-04, -1.2961e-03,\n",
      "         6.4065e-02, -3.4799e-03, -4.2328e-02, -2.0975e-02,  1.5619e-02,\n",
      "        -1.4205e-02,  2.2359e-02, -1.0187e-02, -1.3158e-02, -2.6946e-02,\n",
      "        -6.4572e-05,  3.4993e-02,  5.9982e-02, -2.5493e-02,  2.7510e-03,\n",
      "         9.9399e-02,  4.1257e-02, -1.6028e-02, -1.7887e-02,  3.7956e-02,\n",
      "         5.6509e-02,  1.8866e-02, -1.4301e-02,  4.5032e-02, -3.9142e-03,\n",
      "        -9.2488e-04,  5.2352e-02,  1.4654e-02, -2.4335e-02,  2.7286e-02,\n",
      "         3.6462e-02,  2.0519e-02,  1.3818e-02, -4.1237e-03,  4.5131e-02,\n",
      "         3.7977e-02,  1.5105e-02,  5.6639e-02,  8.2482e-02,  3.4971e-03,\n",
      "        -4.4254e-03,  1.5908e-03,  4.9732e-02,  1.4587e-02,  9.4382e-03,\n",
      "         3.6449e-02, -2.7144e-02,  2.2796e-02,  2.3883e-02, -2.6429e-02,\n",
      "        -1.6442e-02,  9.1390e-02,  1.2337e-02,  1.8628e-02,  5.5962e-04,\n",
      "        -2.8384e-02,  5.6178e-02,  5.4089e-03, -9.4057e-03, -1.2435e-02,\n",
      "         8.7405e-02,  3.9312e-02, -2.9026e-02,  1.2913e-02,  3.4367e-02,\n",
      "         5.1130e-03,  3.2961e-02,  5.6405e-03,  9.0943e-03,  2.7284e-02,\n",
      "        -2.6693e-02,  4.6694e-03, -1.8427e-02,  9.2305e-02,  2.8464e-03,\n",
      "         4.8465e-02,  4.0956e-02, -5.8711e-02,  1.6977e-02,  8.1265e-02,\n",
      "        -1.0761e-02,  1.5503e-02,  1.4345e-02, -7.1913e-02, -4.1814e-03,\n",
      "         4.2821e-02, -3.1596e-02,  4.5479e-02, -2.5317e-02,  2.7000e-02,\n",
      "         6.7302e-02,  7.9780e-03,  4.2975e-03,  4.0174e-02,  2.6864e-02,\n",
      "         1.4098e-02,  1.9300e-02,  3.6836e-02, -2.0480e-02,  1.9403e-02,\n",
      "         3.6283e-02,  1.2684e-02,  6.0824e-02,  8.7948e-02, -2.5144e-02,\n",
      "         3.7053e-02,  2.3990e-02, -3.5221e-02, -1.9272e-02, -1.0795e-01,\n",
      "         1.2861e-02, -7.0767e-02,  1.4282e-02,  1.3921e-02,  3.4167e-02,\n",
      "        -7.6478e-02,  2.0813e-02,  5.3575e-02,  3.4431e-02,  1.0904e-02,\n",
      "         1.8847e-03, -2.8291e-02,  1.1132e-02,  2.5437e-02,  9.8530e-02,\n",
      "         1.0660e-03, -5.8083e-04,  2.4044e-03,  3.5903e-02,  3.8695e-02,\n",
      "        -2.2278e-02, -9.6791e-04, -3.4618e-02,  2.5450e-03, -3.0749e-02,\n",
      "        -3.1789e-02,  3.5534e-02,  2.6466e-02,  3.9816e-02, -3.4175e-02,\n",
      "         1.2927e-02, -4.0622e-02,  9.0505e-04,  3.3789e-02, -2.4250e-03,\n",
      "         3.7130e-03,  2.4134e-02, -6.0097e-03,  1.2371e-02,  1.6476e-02,\n",
      "        -4.8010e-03,  1.6778e-03,  1.4904e-01,  1.2098e-02,  1.0130e-01,\n",
      "         2.3111e-02,  8.7921e-03, -2.6083e-02, -1.1706e-02,  3.7458e-03,\n",
      "         1.3471e-01, -4.4896e-02,  8.7131e-02, -9.8801e-03, -2.6232e-02,\n",
      "         6.5419e-02,  3.8834e-02, -3.8292e-02,  1.1826e-02,  1.2355e-02,\n",
      "         4.6712e-03, -5.9660e-02, -6.4648e-02, -7.8805e-02,  1.2894e-02,\n",
      "         7.3642e-02, -5.6459e-02, -2.4936e-02, -4.3281e-04, -2.3802e-02,\n",
      "        -2.1168e-02,  4.9929e-02,  6.4688e-02,  2.7188e-05, -2.3066e-02,\n",
      "         2.3899e-02,  4.5839e-02,  1.3488e-01,  3.3697e-03,  2.5213e-02,\n",
      "         8.1545e-02, -1.4315e-03,  6.4828e-02, -2.3077e-03,  4.7618e-02,\n",
      "        -3.0856e-03,  6.8369e-02,  2.2990e-02,  1.9714e-02,  3.4558e-02,\n",
      "         4.3205e-02, -6.4114e-02, -3.5454e-02,  1.3485e-02, -5.8795e-03,\n",
      "         3.0693e-02,  2.8071e-02,  1.0696e-02, -1.4986e-02, -5.3562e-02,\n",
      "         6.4768e-02,  9.8941e-03,  1.1000e-02, -1.7133e-02,  5.7959e-02,\n",
      "        -1.1790e-02,  2.9989e-02, -1.7193e-02, -4.3704e-02, -1.3802e-02,\n",
      "         7.7158e-03,  3.5032e-02, -7.1080e-03,  3.5857e-02,  4.7234e-02,\n",
      "        -4.3665e-03, -3.1509e-02,  1.9960e-02, -1.1640e-02,  7.6553e-02,\n",
      "        -4.1398e-02,  7.8598e-02, -4.6939e-02, -1.4934e-02, -1.9935e-02,\n",
      "        -9.6018e-03,  1.1014e-02, -1.0556e-03,  3.5462e-02,  2.4238e-02,\n",
      "        -2.6419e-02,  8.9449e-02,  1.0197e-01,  3.0683e-02,  5.3624e-04,\n",
      "         4.8331e-03,  3.6437e-02,  5.7310e-02,  4.6555e-02,  7.4048e-02,\n",
      "        -2.0609e-02, -1.8793e-02,  1.2435e-02,  4.4551e-02,  5.9382e-02,\n",
      "         3.1951e-02,  4.5599e-02, -2.4548e-02,  2.5855e-02,  1.9127e-02,\n",
      "        -6.0093e-02,  1.7268e-02,  4.2153e-02, -4.6941e-02,  8.4472e-03,\n",
      "         5.3319e-02, -8.0784e-02,  2.9270e-02,  4.1833e-02, -5.5364e-02,\n",
      "        -1.0383e-03,  4.0859e-02, -3.1413e-02,  1.0681e-01,  3.6424e-02,\n",
      "         3.0322e-02, -1.3517e-02,  5.3028e-04, -3.4338e-02,  8.7828e-03,\n",
      "         7.0037e-02, -4.3288e-03,  9.7072e-02,  1.2876e-02,  5.7383e-02,\n",
      "         5.8358e-02,  9.8647e-02,  1.6487e-02,  2.4118e-02,  1.2658e-02,\n",
      "         3.0333e-02,  1.9742e-02,  2.7771e-02, -3.1943e-02, -1.0183e-02,\n",
      "         2.1592e-02, -3.1522e-02, -1.7949e-02,  4.7787e-02,  3.9387e-02,\n",
      "         3.2516e-02,  1.2155e-02,  3.8700e-02, -1.5404e-02,  3.3474e-02,\n",
      "         3.6086e-03,  2.0101e-02, -9.3548e-03,  2.2770e-02,  2.7549e-02,\n",
      "         4.9468e-02, -4.0330e-02,  3.1369e-02, -1.8285e-03,  3.9614e-02,\n",
      "        -9.7005e-02,  6.5186e-02,  6.5818e-03, -9.9589e-04, -4.4057e-02,\n",
      "        -1.5718e-02, -3.3682e-03,  3.7538e-02,  7.9951e-02,  1.8133e-03,\n",
      "        -1.0972e-02, -4.2849e-03, -1.7060e-03,  2.6356e-02, -5.9818e-02,\n",
      "         3.4057e-02,  5.3620e-02, -2.0047e-02,  5.5094e-02,  1.3582e-02,\n",
      "         8.8289e-02,  2.8967e-02,  9.6395e-03,  1.0479e-02,  1.4867e-02,\n",
      "         3.9839e-02,  3.0527e-02, -4.4281e-03,  3.3270e-02, -3.1464e-02,\n",
      "         3.8092e-03, -3.8876e-02, -3.2926e-03, -2.8112e-02,  1.1430e-01,\n",
      "        -3.8904e-02,  2.3518e-02,  1.3479e-02,  1.7309e-02,  5.7663e-02,\n",
      "         1.9305e-05,  4.9847e-02, -1.6657e-02,  5.1052e-02, -7.5690e-02,\n",
      "         2.3550e-02, -4.9199e-03, -1.2157e-02, -1.1563e-02,  4.6993e-02,\n",
      "        -1.2457e-02, -1.8965e-02, -4.1630e-02, -1.2997e-02, -7.6034e-03,\n",
      "         7.1194e-03,  3.5592e-02, -2.6950e-02,  1.2193e-02,  1.8757e-02,\n",
      "         4.0009e-02,  3.4843e-02, -2.4819e-03,  7.7919e-02,  5.6481e-02,\n",
      "         9.9224e-02,  7.6598e-03,  3.9602e-02, -2.6956e-02, -1.3951e-02,\n",
      "        -2.7018e-02, -2.4019e-02,  4.6129e-02,  3.3100e-02, -1.1088e-02,\n",
      "         2.4074e-02,  6.2963e-02,  6.3809e-02,  4.1313e-02, -5.0456e-03,\n",
      "         4.9454e-02, -2.6618e-02,  1.1395e-02,  8.4640e-02, -9.1631e-02,\n",
      "         5.9138e-03, -1.7559e-02,  4.5137e-02,  5.4958e-02, -1.5041e-03,\n",
      "         6.2192e-03, -3.6714e-05,  3.2569e-02,  2.9080e-02,  8.3744e-03,\n",
      "        -2.5579e-02, -2.7550e-03,  1.0269e-02,  2.0397e-02,  2.1136e-02,\n",
      "         1.3044e-01, -4.1079e-02,  6.7011e-02,  4.5780e-02,  4.9382e-02,\n",
      "        -2.7483e-02, -3.5247e-02,  4.3285e-02,  1.4013e-02, -1.2882e-03,\n",
      "        -2.0716e-02, -5.3402e-02, -3.2584e-03,  1.1415e-01,  3.6207e-04,\n",
      "         9.6492e-03,  2.4236e-02, -2.6899e-02, -2.5064e-02,  2.3741e-02,\n",
      "        -3.6822e-02,  3.5665e-02, -2.3081e-02, -6.1332e-02,  4.3577e-02,\n",
      "        -2.4838e-02,  5.4129e-02,  5.9808e-03, -2.1470e-02,  5.3849e-02,\n",
      "         6.6918e-02,  1.3964e-02, -2.9896e-02,  2.7973e-02,  2.7790e-03,\n",
      "         3.2309e-02,  5.1332e-02,  5.6885e-02, -2.1172e-02, -1.9598e-02,\n",
      "         2.0976e-02,  4.9859e-02,  4.8940e-02, -1.1481e-02,  3.3957e-02,\n",
      "        -3.8869e-02,  1.1522e-01,  8.6016e-03,  1.8358e-02,  1.3375e-02,\n",
      "        -5.6832e-02,  1.2276e-02, -3.5191e-02,  7.3341e-02,  2.8118e-02,\n",
      "        -5.4952e-02, -3.3064e-02, -4.5502e-02,  5.1965e-03,  4.6398e-02,\n",
      "        -5.4917e-02,  3.1067e-02, -2.4422e-02,  2.3580e-02,  3.9737e-02,\n",
      "        -3.3087e-02,  5.9147e-03,  2.2947e-02,  3.6604e-02, -2.1472e-02,\n",
      "         4.8412e-02,  1.0542e-01, -3.0293e-02, -6.2825e-02, -9.0849e-03,\n",
      "         8.9294e-02, -4.8659e-02, -6.8215e-03,  2.9964e-02, -2.4831e-03,\n",
      "         9.7219e-03,  1.2780e-02, -4.2873e-02, -3.7024e-02,  5.8087e-04,\n",
      "         3.8781e-02,  8.5645e-03], requires_grad=True)\n",
      "\n",
      "Param shape = torch.Size([512, 512])\n",
      "Parameter containing:\n",
      "tensor([[ 0.0120,  0.0526,  0.0264,  ..., -0.0183,  0.0183, -0.0265],\n",
      "        [-0.0173, -0.0645, -0.0407,  ...,  0.0089, -0.0335,  0.0053],\n",
      "        [-0.0298,  0.0083,  0.0403,  ..., -0.0030, -0.0379,  0.0075],\n",
      "        ...,\n",
      "        [ 0.0574, -0.0081,  0.0378,  ..., -0.0286,  0.0120, -0.0281],\n",
      "        [ 0.0021, -0.0262, -0.0021,  ..., -0.0214, -0.0317, -0.0175],\n",
      "        [ 0.0235,  0.0157,  0.0544,  ...,  0.0070, -0.0183, -0.0857]],\n",
      "       requires_grad=True)\n",
      "\n",
      "Param shape = torch.Size([512])\n",
      "Parameter containing:\n",
      "tensor([ 0.1205,  0.0133,  0.0850, -0.0015,  0.0874,  0.0470, -0.0399,  0.0490,\n",
      "         0.0176,  0.0481, -0.0194, -0.0151,  0.0483,  0.0027, -0.0314,  0.0367,\n",
      "         0.0059,  0.0347,  0.0473,  0.0380,  0.0144,  0.0211,  0.0005,  0.0172,\n",
      "         0.0728,  0.0096, -0.0061,  0.0397,  0.0296,  0.0358,  0.0241,  0.0651,\n",
      "         0.0342,  0.0183,  0.0269,  0.0429,  0.0382,  0.0436,  0.0033,  0.0862,\n",
      "         0.0143,  0.0299,  0.0261,  0.0396,  0.0365,  0.0596,  0.0288,  0.0715,\n",
      "         0.0099,  0.0182, -0.0193, -0.0481,  0.0245,  0.0698, -0.0025,  0.0101,\n",
      "         0.0330,  0.0446,  0.0491, -0.0120,  0.0196,  0.0473,  0.0077,  0.0606,\n",
      "         0.0576,  0.0574,  0.0535, -0.0322,  0.0066,  0.0723, -0.0060,  0.1016,\n",
      "         0.1306, -0.0043,  0.0179,  0.0575,  0.1132,  0.0142,  0.0303, -0.0206,\n",
      "         0.0029,  0.0089,  0.0438,  0.0667,  0.0019,  0.0158,  0.0310,  0.0245,\n",
      "         0.0059, -0.0005,  0.0189,  0.0194, -0.0027,  0.0011,  0.0930, -0.0045,\n",
      "        -0.0350,  0.0603,  0.0053,  0.0502,  0.0444,  0.0116,  0.0329, -0.0162,\n",
      "         0.0538,  0.0454, -0.0287, -0.0099, -0.0197,  0.0249,  0.0339,  0.0184,\n",
      "         0.0189,  0.0480,  0.0281, -0.0067, -0.0033,  0.0546, -0.0242,  0.0357,\n",
      "         0.0636,  0.0582,  0.0226, -0.0263,  0.0531,  0.0003,  0.0447, -0.0224,\n",
      "         0.0646,  0.0630,  0.0604,  0.0509, -0.0411,  0.0176, -0.0019,  0.0112,\n",
      "         0.0997,  0.0638,  0.0809,  0.0194,  0.0592,  0.0431,  0.0575,  0.0220,\n",
      "        -0.0097,  0.0535,  0.0957,  0.0093,  0.0611,  0.0505,  0.0198,  0.0091,\n",
      "         0.0267,  0.0444,  0.0451, -0.0178,  0.0141,  0.0288,  0.0118,  0.0574,\n",
      "         0.0401,  0.0586,  0.0425,  0.0632,  0.0588,  0.0608,  0.0438,  0.0593,\n",
      "        -0.0261,  0.0216,  0.0207,  0.0643,  0.0402, -0.0111,  0.0614,  0.0266,\n",
      "        -0.0117,  0.0936,  0.0362, -0.0328, -0.0346,  0.0702,  0.0136, -0.0319,\n",
      "        -0.0253, -0.0013, -0.0147,  0.0153,  0.0716,  0.0287,  0.0006,  0.0418,\n",
      "         0.0153,  0.0346,  0.0305,  0.0208,  0.0728, -0.0026, -0.0327, -0.0132,\n",
      "         0.0100,  0.0333, -0.0057,  0.0833, -0.0300,  0.0380,  0.0320,  0.0648,\n",
      "         0.0049,  0.0228, -0.0389, -0.0046, -0.0129,  0.0021, -0.0015, -0.0095,\n",
      "        -0.0080,  0.0268,  0.0303,  0.0275,  0.0306,  0.0247, -0.0180, -0.0285,\n",
      "        -0.0037,  0.0472,  0.0263,  0.0236,  0.0310,  0.0651,  0.0264,  0.0048,\n",
      "         0.0724, -0.0059,  0.0421,  0.0054, -0.0220, -0.0208,  0.0100,  0.0522,\n",
      "         0.0241, -0.0166,  0.0314,  0.0497,  0.0234, -0.0165, -0.0208,  0.0487,\n",
      "         0.1193, -0.0262, -0.0276, -0.0085,  0.0759,  0.0547,  0.0569,  0.0883,\n",
      "         0.0205, -0.0362, -0.0147, -0.0378,  0.0290,  0.0674,  0.0219,  0.0560,\n",
      "         0.0075,  0.0274,  0.0346,  0.0282, -0.0176,  0.0130,  0.0131,  0.0195,\n",
      "         0.1011,  0.0125,  0.0004, -0.0189,  0.0232,  0.0164,  0.0321,  0.0360,\n",
      "         0.0603,  0.0148,  0.0381, -0.0192,  0.0146,  0.0495,  0.0174,  0.0491,\n",
      "        -0.0066,  0.0121,  0.0212,  0.0156, -0.0257,  0.0033,  0.0017, -0.0277,\n",
      "         0.0593, -0.0390, -0.0099,  0.0599,  0.0168, -0.0022, -0.0090,  0.0245,\n",
      "         0.0099,  0.0709,  0.0084,  0.0153,  0.0334,  0.0519,  0.0222,  0.0244,\n",
      "         0.0426,  0.0051,  0.0507, -0.0018,  0.0587,  0.0176,  0.0849,  0.0791,\n",
      "        -0.0323, -0.0064,  0.0106,  0.0296,  0.0645,  0.0995, -0.0092, -0.0214,\n",
      "         0.0011,  0.0584,  0.0442,  0.0653,  0.0632,  0.0044,  0.0690,  0.0837,\n",
      "         0.0093,  0.0052,  0.0582,  0.0017,  0.0342,  0.0105,  0.0332,  0.0006,\n",
      "         0.0282,  0.0156,  0.0322, -0.0287,  0.0860,  0.0099, -0.0243,  0.0067,\n",
      "        -0.0131,  0.0958, -0.0251,  0.0084,  0.0064, -0.0198, -0.0194,  0.0103,\n",
      "         0.0470,  0.0192, -0.0067,  0.0020,  0.0834,  0.0304, -0.0008, -0.0149,\n",
      "         0.0503,  0.0499, -0.0220,  0.0691,  0.0245, -0.0068,  0.1197,  0.0751,\n",
      "         0.0267, -0.0047,  0.0461,  0.0727, -0.0277,  0.0446,  0.0439,  0.0600,\n",
      "        -0.0199,  0.0220,  0.0718,  0.0112,  0.0911,  0.0436,  0.0106,  0.0555,\n",
      "         0.0619,  0.0393, -0.0524, -0.0321,  0.0356,  0.0477, -0.0233,  0.0628,\n",
      "        -0.0171,  0.0228,  0.0480, -0.0236,  0.0002,  0.0333,  0.0458,  0.0514,\n",
      "         0.0871, -0.0148,  0.0452,  0.0188,  0.0025, -0.0009,  0.0587,  0.0689,\n",
      "         0.0694,  0.0043,  0.0031,  0.0608, -0.0133, -0.0226,  0.0527, -0.0093,\n",
      "         0.0225,  0.0556,  0.0134,  0.0450,  0.0854,  0.0655,  0.0602,  0.0035,\n",
      "         0.0374,  0.0490,  0.0057,  0.0152,  0.0418, -0.0349,  0.0179,  0.0877,\n",
      "         0.0179,  0.0235,  0.0011, -0.0300, -0.0037,  0.0283,  0.0206,  0.0565,\n",
      "         0.0268,  0.0157,  0.0750, -0.0477,  0.0156,  0.0114,  0.0405,  0.0034,\n",
      "         0.0212, -0.0261,  0.0172,  0.0632,  0.0009,  0.0671,  0.0039, -0.0084,\n",
      "         0.0349, -0.0417, -0.0379, -0.0083,  0.0079, -0.0393, -0.0134, -0.0254,\n",
      "         0.0078,  0.0173,  0.0097,  0.0388,  0.0257,  0.0588,  0.0506, -0.0064,\n",
      "         0.0681,  0.0661,  0.0816,  0.0222,  0.0556, -0.0042, -0.0132, -0.0048,\n",
      "         0.0873,  0.0187,  0.0918,  0.0403, -0.0051,  0.0438,  0.0750,  0.0348,\n",
      "         0.0427,  0.0066,  0.0040,  0.0456,  0.0289,  0.0318, -0.0157,  0.0614,\n",
      "         0.0322,  0.0047, -0.0038,  0.0649,  0.0051,  0.0020,  0.0512,  0.0345],\n",
      "       requires_grad=True)\n",
      "\n",
      "Param shape = torch.Size([10, 512])\n",
      "Parameter containing:\n",
      "tensor([[-2.0651e-01, -4.8513e-02, -1.0936e-01,  ..., -5.1543e-02,\n",
      "         -1.3578e-01, -1.4429e-01],\n",
      "        [ 1.6097e-01,  2.1623e-01,  2.1008e-01,  ..., -1.4050e-01,\n",
      "         -5.1247e-02, -6.0219e-02],\n",
      "        [-2.9511e-01, -1.8478e-01,  4.3100e-02,  ...,  2.1804e-01,\n",
      "         -1.9481e-01,  2.2993e-04],\n",
      "        ...,\n",
      "        [-6.9221e-02, -1.3308e-01, -6.1818e-02,  ...,  3.4294e-02,\n",
      "          6.0409e-02,  2.2839e-01],\n",
      "        [ 1.1692e-01, -3.3791e-02,  1.9588e-01,  ...,  3.4248e-02,\n",
      "         -1.9920e-01, -2.8588e-01],\n",
      "        [ 1.8528e-01, -5.1003e-02, -4.1532e-02,  ...,  5.2929e-02,\n",
      "          1.3871e-01,  3.3530e-02]], requires_grad=True)\n",
      "\n",
      "Param shape = torch.Size([10])\n",
      "Parameter containing:\n",
      "tensor([-0.1343,  0.2044, -0.0666, -0.0995,  0.0357,  0.1746, -0.0415, -0.0058,\n",
      "        -0.1353,  0.0905], requires_grad=True)\n"
     ]
    }
   ],
   "source": [
    "# 查看模型参数\n",
    "for param in model.parameters():\n",
    "    print('\\nParam shape = {}'.format(param.shape))\n",
    "    print(param)"
   ]
  },
  {
   "cell_type": "markdown",
   "metadata": {},
   "source": [
    "# 在测试集上评估模型分类效果\n",
    "\n",
    "测试集是模型之前没有见过的数据，相当于高考试题，因此可以检验模型的泛化能力。\n",
    "\n",
    "分析每种数据的识别准确率，我们还可以细粒度地分析模型性能。"
   ]
  },
  {
   "cell_type": "markdown",
   "metadata": {},
   "source": [
    "## 对测试集中一个batch的数据进行评估"
   ]
  },
  {
   "cell_type": "code",
   "execution_count": 29,
   "metadata": {},
   "outputs": [],
   "source": [
    "# 初始化测试误差\n",
    "test_loss = 0.0\n",
    "class_correct = list(0. for i in range(10))\n",
    "class_total = list(0. for i in range(10))"
   ]
  },
  {
   "cell_type": "code",
   "execution_count": 30,
   "metadata": {},
   "outputs": [
    {
     "data": {
      "text/plain": [
       "[0.0, 0.0, 0.0, 0.0, 0.0, 0.0, 0.0, 0.0, 0.0, 0.0]"
      ]
     },
     "execution_count": 30,
     "metadata": {},
     "output_type": "execute_result"
    }
   ],
   "source": [
    "# 存储每种数字正确识别的个数\n",
    "class_correct"
   ]
  },
  {
   "cell_type": "code",
   "execution_count": 31,
   "metadata": {
    "scrolled": true
   },
   "outputs": [
    {
     "data": {
      "text/plain": [
       "[0.0, 0.0, 0.0, 0.0, 0.0, 0.0, 0.0, 0.0, 0.0, 0.0]"
      ]
     },
     "execution_count": 31,
     "metadata": {},
     "output_type": "execute_result"
    }
   ],
   "source": [
    "# 存储每种数字总的样本数\n",
    "class_total"
   ]
  },
  {
   "cell_type": "code",
   "execution_count": 37,
   "metadata": {},
   "outputs": [],
   "source": [
    "dataiter = iter(test_loader)\n",
    "data, target = dataiter.next()"
   ]
  },
  {
   "cell_type": "code",
   "execution_count": 38,
   "metadata": {},
   "outputs": [
    {
     "data": {
      "text/plain": [
       "torch.Size([20, 1, 28, 28])"
      ]
     },
     "execution_count": 38,
     "metadata": {},
     "output_type": "execute_result"
    }
   ],
   "source": [
    "data.shape"
   ]
  },
  {
   "cell_type": "code",
   "execution_count": 39,
   "metadata": {},
   "outputs": [
    {
     "data": {
      "text/plain": [
       "torch.Size([20])"
      ]
     },
     "execution_count": 39,
     "metadata": {},
     "output_type": "execute_result"
    }
   ],
   "source": [
    "target.shape"
   ]
  },
  {
   "cell_type": "code",
   "execution_count": 40,
   "metadata": {},
   "outputs": [
    {
     "data": {
      "text/plain": [
       "tensor([7, 2, 1, 0, 4, 1, 4, 9, 5, 9, 0, 6, 9, 0, 1, 5, 9, 7, 3, 4])"
      ]
     },
     "execution_count": 40,
     "metadata": {},
     "output_type": "execute_result"
    }
   ],
   "source": [
    "target"
   ]
  },
  {
   "cell_type": "code",
   "execution_count": 41,
   "metadata": {},
   "outputs": [
    {
     "data": {
      "text/plain": [
       "Net(\n",
       "  (fc1): Linear(in_features=784, out_features=512, bias=True)\n",
       "  (fc2): Linear(in_features=512, out_features=512, bias=True)\n",
       "  (fc3): Linear(in_features=512, out_features=10, bias=True)\n",
       "  (dropout): Dropout(p=0.2, inplace=False)\n",
       ")"
      ]
     },
     "execution_count": 41,
     "metadata": {},
     "output_type": "execute_result"
    }
   ],
   "source": [
    "# 将模型调整到验证阶段，关闭Dropout和BN层\n",
    "model.eval() "
   ]
  },
  {
   "cell_type": "code",
   "execution_count": 42,
   "metadata": {},
   "outputs": [],
   "source": [
    "# 正向预测，预测每张图片的分类\n",
    "output = model(data)"
   ]
  },
  {
   "cell_type": "code",
   "execution_count": 43,
   "metadata": {},
   "outputs": [
    {
     "data": {
      "text/plain": [
       "torch.Size([20, 10])"
      ]
     },
     "execution_count": 43,
     "metadata": {},
     "output_type": "execute_result"
    }
   ],
   "source": [
    "output.shape"
   ]
  },
  {
   "cell_type": "code",
   "execution_count": 44,
   "metadata": {},
   "outputs": [
    {
     "data": {
      "text/plain": [
       "tensor([  0.1900,  -3.7943,   4.7241,   5.7211,  -9.5967,  -2.6990, -12.3828,\n",
       "         16.4127,  -1.3361,   4.3386], grad_fn=<SelectBackward>)"
      ]
     },
     "execution_count": 44,
     "metadata": {},
     "output_type": "execute_result"
    }
   ],
   "source": [
    "output[0]"
   ]
  },
  {
   "cell_type": "code",
   "execution_count": 45,
   "metadata": {},
   "outputs": [],
   "source": [
    "# 计算交叉熵损失函数\n",
    "loss = criterion(output, target)"
   ]
  },
  {
   "cell_type": "code",
   "execution_count": 46,
   "metadata": {},
   "outputs": [
    {
     "data": {
      "text/plain": [
       "tensor(0.0186, grad_fn=<NllLossBackward>)"
      ]
     },
     "execution_count": 46,
     "metadata": {},
     "output_type": "execute_result"
    }
   ],
   "source": [
    "loss"
   ]
  },
  {
   "cell_type": "code",
   "execution_count": 47,
   "metadata": {},
   "outputs": [],
   "source": [
    "# 将本批次所有样本的损失函数值求和，作为测试损失\n",
    "test_loss += loss.item()*data.size(0)"
   ]
  },
  {
   "cell_type": "code",
   "execution_count": 48,
   "metadata": {},
   "outputs": [
    {
     "data": {
      "text/plain": [
       "0.37148047238588333"
      ]
     },
     "execution_count": 48,
     "metadata": {},
     "output_type": "execute_result"
    }
   ],
   "source": [
    "test_loss"
   ]
  },
  {
   "cell_type": "code",
   "execution_count": 49,
   "metadata": {},
   "outputs": [],
   "source": [
    "# 将输出最大值对应的神经元作为预测分类\n",
    "_, pred = torch.max(output, 1)"
   ]
  },
  {
   "cell_type": "code",
   "execution_count": 50,
   "metadata": {},
   "outputs": [
    {
     "data": {
      "text/plain": [
       "tensor([7, 2, 1, 0, 4, 1, 4, 9, 5, 9, 0, 6, 9, 0, 1, 5, 9, 7, 3, 4])"
      ]
     },
     "execution_count": 50,
     "metadata": {},
     "output_type": "execute_result"
    }
   ],
   "source": [
    "pred"
   ]
  },
  {
   "cell_type": "code",
   "execution_count": 51,
   "metadata": {},
   "outputs": [
    {
     "data": {
      "text/plain": [
       "tensor([7, 2, 1, 0, 4, 1, 4, 9, 5, 9, 0, 6, 9, 0, 1, 5, 9, 7, 3, 4])"
      ]
     },
     "execution_count": 51,
     "metadata": {},
     "output_type": "execute_result"
    }
   ],
   "source": [
    "target"
   ]
  },
  {
   "cell_type": "code",
   "execution_count": 52,
   "metadata": {},
   "outputs": [],
   "source": [
    "# 比较预测的分类和真实标签，如果相等则取1\n",
    "correct = np.squeeze(pred.eq(target.data.view_as(pred)))"
   ]
  },
  {
   "cell_type": "code",
   "execution_count": 53,
   "metadata": {},
   "outputs": [
    {
     "data": {
      "text/plain": [
       "tensor([True, True, True, True, True, True, True, True, True, True, True, True,\n",
       "        True, True, True, True, True, True, True, True])"
      ]
     },
     "execution_count": 53,
     "metadata": {},
     "output_type": "execute_result"
    }
   ],
   "source": [
    "correct"
   ]
  },
  {
   "cell_type": "code",
   "execution_count": 54,
   "metadata": {},
   "outputs": [],
   "source": [
    "# 遍历本batch中的所有数字，将correct加到每个数字对应的正确识别个数上\n",
    "for i in range(batch_size):\n",
    "    label = target.data[i]\n",
    "    class_correct[label] += correct[i].item()\n",
    "    class_total[label] += 1"
   ]
  },
  {
   "cell_type": "code",
   "execution_count": 55,
   "metadata": {},
   "outputs": [
    {
     "data": {
      "text/plain": [
       "[3.0, 3.0, 1.0, 1.0, 3.0, 2.0, 1.0, 2.0, 0.0, 4.0]"
      ]
     },
     "execution_count": 55,
     "metadata": {},
     "output_type": "execute_result"
    }
   ],
   "source": [
    "# 每一种数字有多少被分类正确了\n",
    "class_correct"
   ]
  },
  {
   "cell_type": "code",
   "execution_count": 56,
   "metadata": {},
   "outputs": [
    {
     "data": {
      "text/plain": [
       "[3.0, 3.0, 1.0, 1.0, 3.0, 2.0, 1.0, 2.0, 0.0, 4.0]"
      ]
     },
     "execution_count": 56,
     "metadata": {},
     "output_type": "execute_result"
    }
   ],
   "source": [
    "# 每一种数字总共有多少样本\n",
    "class_total"
   ]
  },
  {
   "cell_type": "markdown",
   "metadata": {},
   "source": [
    "# 对整个测试集进行评估"
   ]
  },
  {
   "cell_type": "code",
   "execution_count": 57,
   "metadata": {},
   "outputs": [
    {
     "name": "stdout",
     "output_type": "stream",
     "text": [
      "测试集上的误差: 0.060049\n"
     ]
    }
   ],
   "source": [
    "model.eval() # 将模型调整到验证阶段，关闭Dropout和BN层\n",
    "\n",
    "# 从测试集中取出一个batch的数据和标签\n",
    "for data, target in test_loader:\n",
    "    # 正向预测，预测每张图片的分类\n",
    "    output = model(data)\n",
    "    # 计算交叉熵损失函数\n",
    "    loss = criterion(output, target)\n",
    "    # 将本批次所有样本的损失函数值求和，作为测试损失\n",
    "    test_loss += loss.item()*data.size(0)\n",
    "    # 将输出最大值对应的神经元作为预测分类\n",
    "    _, pred = torch.max(output, 1)\n",
    "    # 比较预测结果和标签\n",
    "    correct = np.squeeze(pred.eq(target.data.view_as(pred)))\n",
    "    # 计算每种数字的识别正确率\n",
    "    for i in range(batch_size):\n",
    "        label = target.data[i]\n",
    "        class_correct[label] += correct[i].item()\n",
    "        class_total[label] += 1\n",
    "\n",
    "# 计算平均测试误差\n",
    "test_loss = test_loss/len(test_loader.dataset)\n",
    "print('测试集上的误差: {:.6f}'.format(test_loss))"
   ]
  },
  {
   "cell_type": "code",
   "execution_count": 58,
   "metadata": {},
   "outputs": [
    {
     "data": {
      "text/plain": [
       "[974.0, 1128.0, 1014.0, 994.0, 968.0, 873.0, 943.0, 1006.0, 950.0, 987.0]"
      ]
     },
     "execution_count": 58,
     "metadata": {},
     "output_type": "execute_result"
    }
   ],
   "source": [
    "class_correct"
   ]
  },
  {
   "cell_type": "code",
   "execution_count": 59,
   "metadata": {},
   "outputs": [
    {
     "data": {
      "text/plain": [
       "[983.0, 1138.0, 1033.0, 1011.0, 985.0, 894.0, 959.0, 1030.0, 974.0, 1013.0]"
      ]
     },
     "execution_count": 59,
     "metadata": {},
     "output_type": "execute_result"
    }
   ],
   "source": [
    "class_total"
   ]
  },
  {
   "cell_type": "code",
   "execution_count": 60,
   "metadata": {},
   "outputs": [
    {
     "name": "stdout",
     "output_type": "stream",
     "text": [
      "数字 0 在测试集上的识别正确率为  99.08444%  (974/983)\n",
      "数字 1 在测试集上的识别正确率为  99.12127%  (1128/1138)\n",
      "数字 2 在测试集上的识别正确率为  98.16070%  (1014/1033)\n",
      "数字 3 在测试集上的识别正确率为  98.31850%  (994/1011)\n",
      "数字 4 在测试集上的识别正确率为  98.27411%  (968/985)\n",
      "数字 5 在测试集上的识别正确率为  97.65101%  (873/894)\n",
      "数字 6 在测试集上的识别正确率为  98.33160%  (943/959)\n",
      "数字 7 在测试集上的识别正确率为  97.66990%  (1006/1030)\n",
      "数字 8 在测试集上的识别正确率为  97.53593%  (950/974)\n",
      "数字 9 在测试集上的识别正确率为  97.43337%  (987/1013)\n"
     ]
    }
   ],
   "source": [
    "for i in range(10):\n",
    "    print('数字 {} 在测试集上的识别正确率为  {:.5f}%  ({:.0f}/{:.0f})'.format(i,class_correct[i]*100/class_total[i],class_correct[i],class_total[i]))"
   ]
  },
  {
   "cell_type": "markdown",
   "metadata": {},
   "source": [
    "# 可视化测试集中一些图片和预测结果\n",
    "\n",
    "括号里为真实标签，如果识别正确为绿色，如果识别错误为红色。"
   ]
  },
  {
   "cell_type": "code",
   "execution_count": 68,
   "metadata": {},
   "outputs": [
    {
     "data": {
      "image/png": "[encoded data removed]",
      "text/plain": [
       "<Figure size 1800x288 with 20 Axes>"
      ]
     },
     "metadata": {},
     "output_type": "display_data"
    }
   ],
   "source": [
    "# 获得测试集的某一个batch的数据和标签\n",
    "dataiter = iter(test_loader)\n",
    "for i in range(30):\n",
    "    images, labels = dataiter.next()\n",
    "\n",
    "# 正向推断\n",
    "output = model(images)\n",
    "# 取概率最高的分类作为分类结果\n",
    "_, preds = torch.max(output, 1)\n",
    "# 将数据从Torch张量转换为numpy的array\n",
    "images = images.numpy()\n",
    "\n",
    "# 可视化本batch中图片、预测种类、真实种类\n",
    "fig = plt.figure(figsize=(25, 4))\n",
    "for idx in np.arange(20):\n",
    "    ax = fig.add_subplot(2,20/2, idx+1, xticks=[], yticks=[])\n",
    "    ax.imshow(np.squeeze(images[idx]), cmap='gray')\n",
    "    ax.set_title(\"{} ({})\".format(str(preds[idx].item()), str(labels[idx].item())),\n",
    "                 color=(\"green\" if preds[idx]==labels[idx] else \"red\"))"
   ]
  },
  {
   "cell_type": "code",
   "execution_count": null,
   "metadata": {},
   "outputs": [],
   "source": []
  }
 ],
 "metadata": {
  "anaconda-cloud": {},
  "kernelspec": {
   "display_name": "Python 3",
   "language": "python",
   "name": "python3"
  },
  "language_info": {
   "codemirror_mode": {
    "name": "ipython",
    "version": 3
   },
   "file_extension": ".py",
   "mimetype": "text/x-python",
   "name": "python",
   "nbconvert_exporter": "python",
   "pygments_lexer": "ipython3",
   "version": "3.6.9"
  }
 },
 "nbformat": 4,
 "nbformat_minor": 2
}
