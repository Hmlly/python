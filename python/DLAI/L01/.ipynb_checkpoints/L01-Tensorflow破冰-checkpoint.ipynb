{
 "cells": [
  {
   "cell_type": "markdown",
   "metadata": {},
   "source": [
    "# Tensorflow破冰"
   ]
  },
  {
   "cell_type": "code",
   "execution_count": 1,
   "metadata": {},
   "outputs": [
    {
     "name": "stdout",
     "output_type": "stream",
     "text": [
      "tensor([[0.6149, 0.8469, 0.3823],\n",
      "        [0.3158, 0.8289, 0.2014],\n",
      "        [0.6544, 0.9166, 0.9409],\n",
      "        [0.8923, 0.4946, 0.2978],\n",
      "        [0.4205, 0.2782, 0.7191]])\n"
     ]
    }
   ],
   "source": [
    "# test Pytorch\n",
    "from __future__ import print_function\n",
    "import torch\n",
    "x = torch.rand(5, 3)\n",
    "print(x)"
   ]
  },
  {
   "cell_type": "code",
   "execution_count": 2,
   "metadata": {},
   "outputs": [
    {
     "data": {
      "text/plain": [
       "'2.0.0'"
      ]
     },
     "execution_count": 2,
     "metadata": {},
     "output_type": "execute_result"
    }
   ],
   "source": [
    "# test tensorflow\n",
    "import tensorflow as tf\n",
    "tf.__version__"
   ]
  },
  {
   "cell_type": "markdown",
   "metadata": {},
   "source": [
    "## Hello World"
   ]
  },
  {
   "cell_type": "code",
   "execution_count": 13,
   "metadata": {},
   "outputs": [
    {
     "name": "stdout",
     "output_type": "stream",
     "text": [
      "b'Hello World!'\n"
     ]
    }
   ],
   "source": [
    "# Build a graph.\n",
    "g = tf.Graph()\n",
    "\n",
    "# The Session graph is empty.  Add operations to the graph before calling run().\n",
    "# 创建一个Tensor对象，赋值给hello_constant\n",
    "# hello_constant = tf.constant('Hello World!')\n",
    "\n",
    "# V1.0 tf.Session() # module 'tensorflow' has no attribute 'Session'\n",
    "with tf.compat.v1.Session(graph=g) as sess:\n",
    "    # RUN之前，必须在图中增加操作\n",
    "    hello_constant = tf.constant('Hello World!')\n",
    "    # Run the tf.constant operation in the session\n",
    "    output = sess.run(hello_constant)\n",
    "    print(output)"
   ]
  },
  {
   "cell_type": "markdown",
   "metadata": {},
   "source": [
    "## Tensor——张量"
   ]
  },
  {
   "cell_type": "code",
   "execution_count": 14,
   "metadata": {},
   "outputs": [],
   "source": [
    "# A是一个零维的int32类型的张量，零维对应标量\n",
    "A = tf.constant(1234) \n",
    "\n",
    "# B是一个一维的int32类型的张量，一维对应向量\n",
    "B = tf.constant([123,456,789]) \n",
    "\n",
    "# C是一个二维的int32类型的张量，二维对应矩阵\n",
    "C = tf.constant([ [123,456,789], [222,333,444] ])"
   ]
  },
  {
   "cell_type": "markdown",
   "metadata": {},
   "source": [
    "## Graph——图\n",
    "Tensorflow的API构建在计算图（ computational graph ）概念上，这是对复杂的数学运算可视化的一种方法。\n",
    "\n",
    "我们可以将刚刚的Hello World第一行代码可视化成一个计算图。\n",
    "\n",
    "- 变量作用域：同一张图中有效"
   ]
  },
  {
   "cell_type": "code",
   "execution_count": 18,
   "metadata": {},
   "outputs": [
    {
     "name": "stdout",
     "output_type": "stream",
     "text": [
      "30.0\n"
     ]
    }
   ],
   "source": [
    "# 获取默认图\n",
    "g = tf.compat.v1.get_default_graph()\n",
    "\n",
    "# 在默认图中操作 ?\n",
    "# —— 变量作用域：同一张图中\n",
    "# a = tf.constant(5.0)\n",
    "# b = tf.constant(6.0)\n",
    "    \n",
    "# Launch the graph in a session.\n",
    "with g.as_default():\n",
    "    # 在用户创建的图中操作\n",
    "    a = tf.constant(5.0)\n",
    "    b = tf.constant(6.0)\n",
    "    c = a * b\n",
    "    sess = tf.compat.v1.Session(graph=g)\n",
    "    # Evaluate the tensor `c`.\n",
    "    print(sess.run(c))"
   ]
  },
  {
   "cell_type": "markdown",
   "metadata": {},
   "source": [
    "## Session——会话\n",
    "Session的作用是分配GPU和CPU资源，真正让计算图“流动”起来。\n",
    "\n",
    "开启会话通常使用Python中的会话管理器。\n",
    "```python\n",
    "with tf.Session() as sess:\n",
    "    output = sess.run(hello_constant)\n",
    "```\n",
    "在session里对tensor求值。\n",
    "\n",
    "这段代码用 [`tf.Session`](https://www.tensorflow.org/api_docs/python/tf/Session) 创建了一个 `sess` 的 session 实例。\n",
    "\n",
    "然后 [`sess.run()`](https://www.tensorflow.org/api_docs/python/tf/Session#run) 函数对 tensor 求值，并返回结果。 "
   ]
  },
  {
   "cell_type": "markdown",
   "metadata": {},
   "source": [
    "## 向占位符传入数据\n",
    "使用`tf.placeholder()`作为占位符，也就是变量。\n",
    "\n",
    "然后在运行会话的时候用`feed_dict={}`传入实际的数据。"
   ]
  },
  {
   "cell_type": "code",
   "execution_count": 22,
   "metadata": {},
   "outputs": [
    {
     "name": "stdout",
     "output_type": "stream",
     "text": [
      "(array('Test String', dtype=object), array(123), array(45.67, dtype=float32))\n"
     ]
    }
   ],
   "source": [
    "# Build a graph.\n",
    "g = tf.Graph()\n",
    "\n",
    "with tf.compat.v1.Session(graph=g) as sess:\n",
    "    x = tf.compat.v1.placeholder(tf.string)\n",
    "    y = tf.compat.v1.placeholder(tf.int32)\n",
    "    z = tf.compat.v1.placeholder(tf.float32)\n",
    "    output = sess.run((x,y,z), feed_dict={x: 'Test String', y: 123, z: 45.67})\n",
    "    print(output)"
   ]
  },
  {
   "cell_type": "markdown",
   "metadata": {},
   "source": [
    "## Variable——变量\n",
    "像原生python里的变量一样，`tf.Variable`创建的张量值可以改变。\n",
    "\n",
    "我们需要使用`` tf.global_variables_initializer()`初始化所有可变的tensor。\n",
    "\n",
    "在session中调用它，就会在 graph 中初始化所有的 TensorFlow 变量 。\n",
    "\n",
    "官方文档：https://www.tensorflow.org/api_docs/python/tf/global_variables_initializer"
   ]
  },
  {
   "cell_type": "code",
   "execution_count": 35,
   "metadata": {},
   "outputs": [
    {
     "name": "stdout",
     "output_type": "stream",
     "text": [
      "None\n",
      "<tf.Variable 'Variable:0' shape=() dtype=int32>\n",
      "5\n",
      "<tf.Variable 'Variable:0' shape=() dtype=int32>\n"
     ]
    }
   ],
   "source": [
    "\n",
    "with tf.compat.v1.Session(graph=tf.Graph()) as sess:\n",
    "    x = tf.Variable(5)\n",
    "    init = tf.compat.v1.global_variables_initializer()\n",
    "    output = sess.run(init)\n",
    "    print(output)\n",
    "    print(x)\n",
    "    output = sess.run(x)\n",
    "    # 结果在这里\n",
    "    print(output)\n",
    "    # 并不在这里\n",
    "    print(x)"
   ]
  },
  {
   "cell_type": "markdown",
   "metadata": {},
   "source": [
    "## 数学运算\n",
    "\n",
    "官方文档：https://tensorflow.google.cn/api_docs/python/tf/math"
   ]
  },
  {
   "cell_type": "code",
   "execution_count": 31,
   "metadata": {},
   "outputs": [
    {
     "name": "stdout",
     "output_type": "stream",
     "text": [
      "Tensor(\"Add:0\", shape=(), dtype=int32) Tensor(\"Sub:0\", shape=(), dtype=int32) Tensor(\"Mul:0\", shape=(), dtype=int32) 3.0\n",
      "(7, 6, 10, 3.0)\n"
     ]
    }
   ],
   "source": [
    "@tf.function\n",
    "def has_init_scope():\n",
    "    my_constant = tf.constant(1.)\n",
    "    \n",
    "    with tf.init_scope():\n",
    "        # 加法\n",
    "        w = tf.add(5, 2)  # 7\n",
    "        # 减法\n",
    "        x = tf.subtract(10, 4) # 6\n",
    "        # 乘法\n",
    "        y = tf.multiply(2, 5)  # 10\n",
    "        # 除法 \n",
    "        z = tf.divide(6,2)  # 3\n",
    "        # 矩阵乘法\n",
    "        # c = tf.matmul(a,b) # a,b是矩阵\n",
    "        # 尚未计算\n",
    "        print(w,x,y,z)\n",
    "        return (w,x,y,z)\n",
    "        \n",
    "with tf.compat.v1.Session(graph=tf.Graph()) as sess:\n",
    "    output = sess.run(has_init_scope())\n",
    "    # 计算完成\n",
    "    print(output)"
   ]
  },
  {
   "cell_type": "markdown",
   "metadata": {},
   "source": [
    "## 实战：Tensorflow实现线性回归"
   ]
  },
  {
   "cell_type": "markdown",
   "metadata": {},
   "source": [
    "PATH: Tensorflow入门\\TensorFlow实现线性回归"
   ]
  },
  {
   "cell_type": "markdown",
   "metadata": {},
   "source": [
    "## 神经网络基础\n",
    "### tf.truncated_normal()\n",
    "\n",
    "神经网络的权重(weights)一般是正态分布随机初始化的，可以用 `tf.truncated_normal()`\n",
    "\n",
    "官方文档：https://www.tensorflow.org/api_docs/python/tf/truncated_normal\n",
    "\n",
    "偏置项b(bias)一般初始化为0。\n",
    "### softmax"
   ]
  },
  {
   "cell_type": "code",
   "execution_count": 44,
   "metadata": {},
   "outputs": [
    {
     "name": "stdout",
     "output_type": "stream",
     "text": [
      "(120, 5)\n",
      "[0. 0. 0. 0. 0.]\n",
      "[0.6590012  0.24243298 0.09856589]\n"
     ]
    }
   ],
   "source": [
    "with tf.compat.v1.Session(graph=tf.Graph()) as sess:\n",
    "    # 初始化权重矩阵，输入维度120，输出维度5\n",
    "    weights = tf.Variable(tf.compat.v1.truncated_normal((120, 5)))\n",
    "    # 输出层的5个神经元，每个神经元都有一个偏置项，总共有5个偏置项\n",
    "    bias = tf.Variable(tf.zeros(5))\n",
    "    init = tf.compat.v1.global_variables_initializer()\n",
    "    sess.run(init)\n",
    "    output1 = sess.run(weights)\n",
    "    print(output1.shape)\n",
    "    output2 = sess.run(bias)\n",
    "    print(output2)\n",
    "    # softmax\n",
    "    logit_data = [2.0, 1.0, 0.1]\n",
    "    logits = tf.compat.v1.placeholder(tf.float32)\n",
    "    softmax = tf.nn.softmax(logits)\n",
    "    output3 = sess.run(softmax, feed_dict={logits: logit_data})\n",
    "    print(output3)"
   ]
  },
  {
   "cell_type": "markdown",
   "metadata": {},
   "source": [
    "## 实战：Tensorflow搭建线性分类器-MNIST数据集图像分类"
   ]
  },
  {
   "cell_type": "markdown",
   "metadata": {},
   "source": [
    "PATH: Tensorflow入门\\Tensorflow搭建线性分类器-MNIST数据集图像分类"
   ]
  },
  {
   "cell_type": "code",
   "execution_count": null,
   "metadata": {},
   "outputs": [],
   "source": []
  }
 ],
 "metadata": {
  "kernelspec": {
   "display_name": "Python 3",
   "language": "python",
   "name": "python3"
  },
  "language_info": {
   "codemirror_mode": {
    "name": "ipython",
    "version": 3
   },
   "file_extension": ".py",
   "mimetype": "text/x-python",
   "name": "python",
   "nbconvert_exporter": "python",
   "pygments_lexer": "ipython3",
   "version": "3.6.9"
  }
 },
 "nbformat": 4,
 "nbformat_minor": 1
}
