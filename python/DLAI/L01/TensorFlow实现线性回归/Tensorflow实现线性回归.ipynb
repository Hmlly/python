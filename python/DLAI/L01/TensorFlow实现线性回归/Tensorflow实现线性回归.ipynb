{
 "cells": [
  {
   "cell_type": "code",
   "execution_count": 1,
   "metadata": {},
   "outputs": [],
   "source": [
    "# 忽略烦人的红色提示\n",
    "import warnings\n",
    "warnings.filterwarnings(\"ignore\")"
   ]
  },
  {
   "cell_type": "code",
   "execution_count": 2,
   "metadata": {},
   "outputs": [],
   "source": [
    "import tensorflow as tf\n",
    "\n",
    "import numpy as np\n",
    "import matplotlib.pyplot as plt\n",
    "%matplotlib inline"
   ]
  },
  {
   "cell_type": "code",
   "execution_count": 3,
   "metadata": {},
   "outputs": [],
   "source": [
    "# 生成100个数据点\n",
    "\n",
    "num_points = 100\n",
    "\n",
    "vectors_set = []\n",
    "\n",
    "for i in range(num_points):\n",
    "\n",
    "    x1 = np.random.normal(0.,0.55)\n",
    "\n",
    "    y1 = x1 * 0.1 + 0.3 + np.random.normal(0.0,0.03)\n",
    "\n",
    "    vectors_set.append([x1,y1])"
   ]
  },
  {
   "cell_type": "code",
   "execution_count": 5,
   "metadata": {},
   "outputs": [
    {
     "data": {
      "text/plain": [
       "[[-0.3134021970335947, 0.21345675247179904],\n",
       " [-0.14258682240412585, 0.2790598008773187],\n",
       " [0.6395337824638229, 0.31637810164988506],\n",
       " [-0.15700567956469716, 0.2837364847883922],\n",
       " [1.1204211745016892, 0.34756634384267504]]"
      ]
     },
     "execution_count": 5,
     "metadata": {},
     "output_type": "execute_result"
    }
   ],
   "source": [
    "vectors_set[:5]"
   ]
  },
  {
   "cell_type": "code",
   "execution_count": 6,
   "metadata": {},
   "outputs": [],
   "source": [
    "#特征x\n",
    "x_data = [v[0] for v in vectors_set]\n",
    "\n",
    "#标签值y\n",
    "y_data = [v[1] for v in vectors_set]"
   ]
  },
  {
   "cell_type": "code",
   "execution_count": 7,
   "metadata": {},
   "outputs": [
    {
     "data": {
      "text/plain": [
       "[-0.3134021970335947,\n",
       " -0.14258682240412585,\n",
       " 0.6395337824638229,\n",
       " -0.15700567956469716,\n",
       " 1.1204211745016892]"
      ]
     },
     "execution_count": 7,
     "metadata": {},
     "output_type": "execute_result"
    }
   ],
   "source": [
    "x_data[:5]"
   ]
  },
  {
   "cell_type": "code",
   "execution_count": 9,
   "metadata": {},
   "outputs": [
    {
     "name": "stdout",
     "output_type": "stream",
     "text": [
      "0.19251543878148017 0.476171211245888\n"
     ]
    }
   ],
   "source": [
    "print(min(y_data),max(y_data))"
   ]
  },
  {
   "cell_type": "code",
   "execution_count": 11,
   "metadata": {},
   "outputs": [
    {
     "data": {
      "image/png": "[encoded data removed]",
      "text/plain": [
       "<Figure size 432x288 with 1 Axes>"
      ]
     },
     "metadata": {
      "needs_background": "light"
     },
     "output_type": "display_data"
    }
   ],
   "source": [
    "plt.scatter(x_data,y_data,c='b')\n",
    "# plt.ylim(0,0.6)\n",
    "plt.show()"
   ]
  },
  {
   "cell_type": "code",
   "execution_count": 15,
   "metadata": {},
   "outputs": [
    {
     "name": "stdout",
     "output_type": "stream",
     "text": [
      "WARNING:tensorflow:From D:\\Anaconda3\\envs\\python3\\lib\\site-packages\\tensorflow_core\\python\\ops\\resource_variable_ops.py:1630: calling BaseResourceVariable.__init__ (from tensorflow.python.ops.resource_variable_ops) with constraint is deprecated and will be removed in a future version.\n",
      "Instructions for updating:\n",
      "If using Keras pass *_constraint arguments to layers.\n"
     ]
    }
   ],
   "source": [
    "g = tf.Graph()\n",
    "with g.as_default():\n",
    "    w = tf.Variable(tf.compat.v1.random_uniform([1],-1.,1.),name='slope')\n",
    "\n",
    "    b = tf.Variable(tf.zeros([1]),name='Bias')\n",
    "\n",
    "    #经过计算得出预估值\n",
    "    y = w * x_data + b\n",
    "\n",
    "    #以预估值y和实际值y_data之间的均方差作为损失\n",
    "    loss = tf.reduce_mean(tf.square(y-y_data,name='mysquare'), name='Loss-MSE')\n",
    "\n",
    "    #采用梯度下降法来优化参数\n",
    "    optimizer = tf.compat.v1.train.GradientDescentOptimizer(0.5)\n",
    "\n",
    "    train = optimizer.minimize(loss,name='Train')"
   ]
  },
  {
   "cell_type": "code",
   "execution_count": 30,
   "metadata": {},
   "outputs": [
    {
     "name": "stdout",
     "output_type": "stream",
     "text": [
      "w= [0.04563999] b= [0.] 0.095693804\n",
      "w= [0.08695138] b= [0.30659348] 0.0010743985\n",
      "w= [0.08924711] b= [0.30273944] 0.0010486816\n",
      "w= [0.09132376] b= [0.30252525] 0.0010410151\n",
      "w= [0.09289695] b= [0.3023315] 0.0010365945\n",
      "w= [0.09409169] b= [0.30218476] 0.0010340452\n",
      "w= [0.09499898] b= [0.3020733] 0.0010325752\n",
      "w= [0.09568798] b= [0.30198863] 0.0010317273\n",
      "w= [0.09621121] b= [0.30192438] 0.0010312384\n",
      "w= [0.09660856] b= [0.30187556] 0.0010309564\n",
      "w= [0.09691031] b= [0.3018385] 0.0010307938\n",
      "w= [0.09713946] b= [0.30181032] 0.0010307\n",
      "w= [0.09731347] b= [0.30178896] 0.0010306458\n",
      "w= [0.09744562] b= [0.3017727] 0.0010306147\n",
      "w= [0.09754598] b= [0.3017604] 0.0010305968\n",
      "w= [0.09762219] b= [0.30175102] 0.0010305863\n",
      "w= [0.09768007] b= [0.30174392] 0.0010305804\n",
      "w= [0.09772402] b= [0.30173853] 0.0010305769\n",
      "w= [0.09775739] b= [0.30173442] 0.0010305749\n",
      "w= [0.09778274] b= [0.30173132] 0.0010305737\n",
      "w= [0.09780198] b= [0.30172893] 0.0010305729\n"
     ]
    },
    {
     "data": {
      "image/png": "[encoded data removed]",
      "text/plain": [
       "<Figure size 432x288 with 1 Axes>"
      ]
     },
     "metadata": {
      "needs_background": "light"
     },
     "output_type": "display_data"
    }
   ],
   "source": [
    "sess = tf.compat.v1.Session(graph=g)\n",
    "\n",
    "with sess:\n",
    "    init = tf.compat.v1.global_variables_initializer()\n",
    "\n",
    "    sess.run(init)\n",
    "\n",
    "    print(\"w=\", sess.run(w),\"b=\",sess.run(b),sess.run(loss))\n",
    "\n",
    "    #迭代20次训练\n",
    "    for step in range(20):\n",
    "\n",
    "        sess.run(train)\n",
    "\n",
    "        print(\"w=\", sess.run(w),\"b=\",sess.run(b),sess.run(loss))\n",
    "\n",
    "    #写入磁盘，提供tensorboard可视化解析使用\n",
    "    writer = tf.compat.v1.summary.FileWriter(\"./mytmp\",sess.graph)\n",
    "    \n",
    "    plt.scatter(x_data,y_data,c='b')\n",
    "    plt.plot(x_data,sess.run(w)*x_data+sess.run(b))\n",
    "    plt.ylim(0,0.6)\n",
    "    plt.show()"
   ]
  },
  {
   "cell_type": "code",
   "execution_count": 31,
   "metadata": {},
   "outputs": [],
   "source": [
    "# 画图\n",
    "# plt.scatter(x_data,y_data,c='b')\n",
    "\n",
    "# plt.plot(x_data,sess.run(w)*x_data+sess.run(b))\n",
    "# plt.ylim(0,0.6)\n",
    "# plt.show()"
   ]
  },
  {
   "cell_type": "markdown",
   "metadata": {},
   "source": [
    "# Tensorboard可视化"
   ]
  },
  {
   "cell_type": "markdown",
   "metadata": {},
   "source": [
    "在当前目录下打开命令行，输入`tensorboard --logdir=mytmp`\n",
    "\n",
    "或`python -m tensorflow.tensorboard --logdir=/tmp/tboard --port=6006`\n",
    "\n",
    "在浏览器中输入`localhost:6006`即可看到Tensorboard可视化。"
   ]
  },
  {
   "cell_type": "markdown",
   "metadata": {},
   "source": [
    "![](./img/微信截图_20191129223805.png)"
   ]
  },
  {
   "cell_type": "code",
   "execution_count": null,
   "metadata": {},
   "outputs": [],
   "source": []
  }
 ],
 "metadata": {
  "kernelspec": {
   "display_name": "Python 3",
   "language": "python",
   "name": "python3"
  },
  "language_info": {
   "codemirror_mode": {
    "name": "ipython",
    "version": 3
   },
   "file_extension": ".py",
   "mimetype": "text/x-python",
   "name": "python",
   "nbconvert_exporter": "python",
   "pygments_lexer": "ipython3",
   "version": "3.6.9"
  }
 },
 "nbformat": 4,
 "nbformat_minor": 2
}
