{
 "cells": [
  {
   "cell_type": "code",
   "execution_count": 13,
   "metadata": {},
   "outputs": [],
   "source": [
    "# 忽略烦人的红色提示\n",
    "import warnings\n",
    "warnings.filterwarnings(\"ignore\")"
   ]
  },
  {
   "cell_type": "code",
   "execution_count": 14,
   "metadata": {},
   "outputs": [],
   "source": [
    "import tensorflow as tf\n",
    "\n",
    "import numpy as np\n",
    "import matplotlib.pyplot as plt\n",
    "%matplotlib inline"
   ]
  },
  {
   "cell_type": "code",
   "execution_count": 21,
   "metadata": {},
   "outputs": [],
   "source": [
    "# 生成100个数据点\n",
    "\n",
    "num_points = 100\n",
    "\n",
    "vectors_set = []\n",
    "\n",
    "for i in range(num_points):\n",
    "\n",
    "    x1 = np.random.normal(0.,0.55)\n",
    "\n",
    "    y1 = x1 * 0.1 + 0.3 + np.random.normal(0.0,0.03)\n",
    "\n",
    "    vectors_set.append([x1,y1])"
   ]
  },
  {
   "cell_type": "code",
   "execution_count": 22,
   "metadata": {},
   "outputs": [
    {
     "data": {
      "text/plain": [
       "[[0.06059542410790724, 0.33084318965649373],\n",
       " [0.8178008498577695, 0.37416420096587605],\n",
       " [-0.2849990568733583, 0.2774579397625321],\n",
       " [-0.11027252773195406, 0.27166264257288286],\n",
       " [-0.9517211114182896, 0.22068591239526797],\n",
       " [-0.22969931448018366, 0.2610233268544603],\n",
       " [0.24758240169875334, 0.2739140523286776],\n",
       " [-0.8118278664127311, 0.1763349265919134],\n",
       " [-0.6918560907869168, 0.22712796929851195],\n",
       " [0.08117252583145992, 0.3104938288277209],\n",
       " [0.9305224170402931, 0.33958893086985326],\n",
       " [0.2288227602781749, 0.3694199254971776],\n",
       " [0.9104660784502049, 0.45381680093725374],\n",
       " [-0.4911728150944032, 0.2498254095316193],\n",
       " [-0.45299961588396637, 0.2452609830660477],\n",
       " [-0.6196751136478719, 0.26730984665276547],\n",
       " [1.2627301540461282, 0.46150408053912506],\n",
       " [0.14062723307933844, 0.33570281003470204],\n",
       " [0.17182904841161925, 0.31871088243728174],\n",
       " [-0.1893651892411536, 0.29275790692221954],\n",
       " [-1.2879776788354131, 0.1838690077931285],\n",
       " [-0.845690033912963, 0.1854719437042956],\n",
       " [0.20301818972355395, 0.3366886521212006],\n",
       " [0.6959576207544264, 0.4084268112002498],\n",
       " [0.0805345153939951, 0.32948193789222385],\n",
       " [-0.4604368757677488, 0.22955845016409038],\n",
       " [-0.11975936915513091, 0.2763359116858592],\n",
       " [-0.7018741826649949, 0.2477668107135902],\n",
       " [0.756546537115752, 0.3802894375339381],\n",
       " [-0.38035329499089726, 0.2510790702845708],\n",
       " [1.1283824384716752, 0.40492456620765915],\n",
       " [-1.7423872108114875, 0.10839924978265965],\n",
       " [0.2175128707650531, 0.36489265326393355],\n",
       " [0.17267503209363136, 0.3342233867763853],\n",
       " [-0.16288382764608425, 0.25378305112293764],\n",
       " [0.6366308407874192, 0.41669787007873244],\n",
       " [0.09652037947942427, 0.2931801596076564],\n",
       " [0.40551848367240084, 0.3441024032713256],\n",
       " [-0.7921149437324856, 0.2541482461572877],\n",
       " [-0.26767405644706144, 0.3006448542222122],\n",
       " [-1.1284858054344442, 0.16911249885863877],\n",
       " [-0.5750813284126362, 0.22562260244770208],\n",
       " [0.1357076810932359, 0.305220767112564],\n",
       " [0.14325841648052198, 0.33977899761667607],\n",
       " [0.3906425974044723, 0.28887153359265577],\n",
       " [-1.055211048116618, 0.18464683201818802],\n",
       " [-0.27112492870502874, 0.23721252657515893],\n",
       " [-1.3016159579193034, 0.1193344251553276],\n",
       " [-0.27222424607081097, 0.30413515779406086],\n",
       " [0.17562089138771247, 0.31545903420046545],\n",
       " [1.503876791514309, 0.4853317109778503],\n",
       " [0.6216402172425083, 0.42972960249634784],\n",
       " [-0.2180889417943872, 0.25675240885863027],\n",
       " [0.2886477616738883, 0.32483378338800833],\n",
       " [0.34414665448014364, 0.2734230728241616],\n",
       " [-0.9018150082477004, 0.20961816597573127],\n",
       " [-0.41030584024636607, 0.2792093995568365],\n",
       " [-0.48876194317046695, 0.2886806466026486],\n",
       " [-0.7571831364261643, 0.2758152897909668],\n",
       " [-0.4155651812732814, 0.29640700726250463],\n",
       " [0.0061486353203881626, 0.29306700690127957],\n",
       " [-0.05798877548157282, 0.26236210902656504],\n",
       " [0.13338430279125044, 0.3034171162006117],\n",
       " [0.297386110888665, 0.3202161529950585],\n",
       " [0.6206315280269036, 0.30583746102386783],\n",
       " [0.3472442430781641, 0.3508623470737211],\n",
       " [-0.6621927118169781, 0.2432713554640587],\n",
       " [-0.34309611657725814, 0.2982397118128368],\n",
       " [-0.10909511382011376, 0.29160573727858546],\n",
       " [-0.2321166308558469, 0.2907385995627389],\n",
       " [-0.15514970002508488, 0.3186654565627487],\n",
       " [-0.9295412430032314, 0.2386094499665959],\n",
       " [-0.22380624045832212, 0.2693606072455668],\n",
       " [-0.4254878835424961, 0.28587020334624264],\n",
       " [0.014942743417622077, 0.3186687644231621],\n",
       " [-0.14894686473225213, 0.2739045992637124],\n",
       " [-0.05121457907047156, 0.3412998451298211],\n",
       " [0.14638787256928212, 0.3282257780197353],\n",
       " [-0.30215470004626555, 0.22980822224008787],\n",
       " [-0.018634694128203018, 0.23099541756748182],\n",
       " [0.3684942904222515, 0.35596865737135885],\n",
       " [-0.6178798995571613, 0.26494823459374656],\n",
       " [0.24037441141145222, 0.29962691691613796],\n",
       " [-0.7697887225321168, 0.20882302897330668],\n",
       " [0.9308589489579169, 0.44330428694886403],\n",
       " [-0.8675658807450354, 0.19553840489842167],\n",
       " [-0.041790274815025, 0.29525394489293194],\n",
       " [0.044503437501006576, 0.3218195079829141],\n",
       " [0.3393971437506875, 0.2902372984787844],\n",
       " [-0.249317036051243, 0.2718361455821897],\n",
       " [0.4669711893256945, 0.32855605752921085],\n",
       " [-0.08964299659285244, 0.3200923814435216],\n",
       " [-0.09247080598809211, 0.24088878854959522],\n",
       " [-0.3733788920583249, 0.2695565678509565],\n",
       " [-0.55505536361122, 0.3118362081915696],\n",
       " [-1.0183071100222822, 0.2343100024449588],\n",
       " [-0.1320688060102324, 0.30105368238151475],\n",
       " [-0.605599616728202, 0.20162687753554256],\n",
       " [-0.4480393090308409, 0.28135571375603374],\n",
       " [0.33100954310884884, 0.31736729789865614]]"
      ]
     },
     "execution_count": 22,
     "metadata": {},
     "output_type": "execute_result"
    }
   ],
   "source": [
    "vectors_set"
   ]
  },
  {
   "cell_type": "code",
   "execution_count": 26,
   "metadata": {},
   "outputs": [],
   "source": [
    "#特征x\n",
    "x_data = [v[0] for v in vectors_set]\n",
    "\n",
    "#标签值y\n",
    "y_data = [v[1] for v in vectors_set]"
   ]
  },
  {
   "cell_type": "code",
   "execution_count": 24,
   "metadata": {},
   "outputs": [
    {
     "data": {
      "text/plain": [
       "[0.06059542410790724,\n",
       " 0.8178008498577695,\n",
       " -0.2849990568733583,\n",
       " -0.11027252773195406,\n",
       " -0.9517211114182896,\n",
       " -0.22969931448018366,\n",
       " 0.24758240169875334,\n",
       " -0.8118278664127311,\n",
       " -0.6918560907869168,\n",
       " 0.08117252583145992,\n",
       " 0.9305224170402931,\n",
       " 0.2288227602781749,\n",
       " 0.9104660784502049,\n",
       " -0.4911728150944032,\n",
       " -0.45299961588396637,\n",
       " -0.6196751136478719,\n",
       " 1.2627301540461282,\n",
       " 0.14062723307933844,\n",
       " 0.17182904841161925,\n",
       " -0.1893651892411536,\n",
       " -1.2879776788354131,\n",
       " -0.845690033912963,\n",
       " 0.20301818972355395,\n",
       " 0.6959576207544264,\n",
       " 0.0805345153939951,\n",
       " -0.4604368757677488,\n",
       " -0.11975936915513091,\n",
       " -0.7018741826649949,\n",
       " 0.756546537115752,\n",
       " -0.38035329499089726,\n",
       " 1.1283824384716752,\n",
       " -1.7423872108114875,\n",
       " 0.2175128707650531,\n",
       " 0.17267503209363136,\n",
       " -0.16288382764608425,\n",
       " 0.6366308407874192,\n",
       " 0.09652037947942427,\n",
       " 0.40551848367240084,\n",
       " -0.7921149437324856,\n",
       " -0.26767405644706144,\n",
       " -1.1284858054344442,\n",
       " -0.5750813284126362,\n",
       " 0.1357076810932359,\n",
       " 0.14325841648052198,\n",
       " 0.3906425974044723,\n",
       " -1.055211048116618,\n",
       " -0.27112492870502874,\n",
       " -1.3016159579193034,\n",
       " -0.27222424607081097,\n",
       " 0.17562089138771247,\n",
       " 1.503876791514309,\n",
       " 0.6216402172425083,\n",
       " -0.2180889417943872,\n",
       " 0.2886477616738883,\n",
       " 0.34414665448014364,\n",
       " -0.9018150082477004,\n",
       " -0.41030584024636607,\n",
       " -0.48876194317046695,\n",
       " -0.7571831364261643,\n",
       " -0.4155651812732814,\n",
       " 0.0061486353203881626,\n",
       " -0.05798877548157282,\n",
       " 0.13338430279125044,\n",
       " 0.297386110888665,\n",
       " 0.6206315280269036,\n",
       " 0.3472442430781641,\n",
       " -0.6621927118169781,\n",
       " -0.34309611657725814,\n",
       " -0.10909511382011376,\n",
       " -0.2321166308558469,\n",
       " -0.15514970002508488,\n",
       " -0.9295412430032314,\n",
       " -0.22380624045832212,\n",
       " -0.4254878835424961,\n",
       " 0.014942743417622077,\n",
       " -0.14894686473225213,\n",
       " -0.05121457907047156,\n",
       " 0.14638787256928212,\n",
       " -0.30215470004626555,\n",
       " -0.018634694128203018,\n",
       " 0.3684942904222515,\n",
       " -0.6178798995571613,\n",
       " 0.24037441141145222,\n",
       " -0.7697887225321168,\n",
       " 0.9308589489579169,\n",
       " -0.8675658807450354,\n",
       " -0.041790274815025,\n",
       " 0.044503437501006576,\n",
       " 0.3393971437506875,\n",
       " -0.249317036051243,\n",
       " 0.4669711893256945,\n",
       " -0.08964299659285244,\n",
       " -0.09247080598809211,\n",
       " -0.3733788920583249,\n",
       " -0.55505536361122,\n",
       " -1.0183071100222822,\n",
       " -0.1320688060102324,\n",
       " -0.605599616728202,\n",
       " -0.4480393090308409,\n",
       " 0.33100954310884884]"
      ]
     },
     "execution_count": 24,
     "metadata": {},
     "output_type": "execute_result"
    }
   ],
   "source": [
    "x_data"
   ]
  },
  {
   "cell_type": "code",
   "execution_count": 27,
   "metadata": {},
   "outputs": [
    {
     "data": {
      "image/png": "[encoded data removed]",
      "text/plain": [
       "<Figure size 432x288 with 1 Axes>"
      ]
     },
     "metadata": {
      "needs_background": "light"
     },
     "output_type": "display_data"
    }
   ],
   "source": [
    "plt.scatter(x_data,y_data,c='b')\n",
    "plt.ylim(0,0.6)\n",
    "plt.show()"
   ]
  },
  {
   "cell_type": "code",
   "execution_count": 28,
   "metadata": {},
   "outputs": [],
   "source": [
    "w = tf.Variable(tf.random_uniform([1],-1.,1.),name='slope')\n",
    "\n",
    "b = tf.Variable(tf.zeros([1]),name='Bias')\n",
    "\n",
    "#经过计算得出预估值\n",
    "y = w * x_data + b\n",
    "\n",
    "#以预估值y和实际值y_data之间的均方差作为损失\n",
    "loss = tf.reduce_mean(tf.square(y-y_data,name='mysquare'), name='Loss-MSE')\n",
    "\n",
    "#采用梯度下降法来优化参数\n",
    "optimizer = tf.train.GradientDescentOptimizer(0.5)\n",
    "\n",
    "train = optimizer.minimize(loss,name='Train')"
   ]
  },
  {
   "cell_type": "code",
   "execution_count": 29,
   "metadata": {},
   "outputs": [
    {
     "name": "stdout",
     "output_type": "stream",
     "text": [
      "w= [0.6532316] b= [0.] 0.23685549\n",
      "w= [0.42684728] b= [0.36810818] 0.036280874\n",
      "w= [0.32245535] b= [0.34145412] 0.016906016\n",
      "w= [0.2511938] b= [0.3291632] 0.008156589\n",
      "w= [0.20324332] b= [0.320773] 0.004191783\n",
      "w= [0.17096429] b= [0.3151274] 0.002395123\n",
      "w= [0.14923516] b= [0.31132692] 0.0015809627\n",
      "w= [0.13460785] b= [0.30876857] 0.0012120244\n",
      "w= [0.12476125] b= [0.30704638] 0.0010448393\n",
      "w= [0.11813287] b= [0.30588707] 0.00096907915\n",
      "w= [0.11367086] b= [0.30510667] 0.0009347482\n",
      "w= [0.1106672] b= [0.3045813] 0.000919191\n",
      "w= [0.10864523] b= [0.30422765] 0.00091214135\n",
      "w= [0.10728411] b= [0.3039896] 0.0009089468\n",
      "w= [0.10636786] b= [0.30382934] 0.00090749917\n",
      "w= [0.10575106] b= [0.30372146] 0.00090684317\n",
      "w= [0.10533585] b= [0.30364886] 0.0009065457\n",
      "w= [0.10505635] b= [0.30359995] 0.00090641127\n",
      "w= [0.1048682] b= [0.30356705] 0.00090635015\n",
      "w= [0.10474155] b= [0.3035449] 0.0009063224\n",
      "w= [0.10465629] b= [0.30352998] 0.00090630987\n"
     ]
    }
   ],
   "source": [
    "sess = tf.Session()\n",
    "\n",
    "init = tf.global_variables_initializer()\n",
    "\n",
    "sess.run(init)\n",
    "\n",
    "print(\"w=\", sess.run(w),\"b=\",sess.run(b),sess.run(loss))\n",
    "\n",
    "#迭代20次训练\n",
    "for step in range(20):\n",
    "\n",
    "    sess.run(train)\n",
    "    \n",
    "    print(\"w=\", sess.run(w),\"b=\",sess.run(b),sess.run(loss))\n",
    "\n",
    "#写入磁盘，提供tensorboard可视化解析使用\n",
    "writer = tf.summary.FileWriter(\"./mytmp\",sess.graph)"
   ]
  },
  {
   "cell_type": "code",
   "execution_count": 31,
   "metadata": {},
   "outputs": [
    {
     "data": {
      "image/png": "[encoded data removed]",
      "text/plain": [
       "<Figure size 432x288 with 1 Axes>"
      ]
     },
     "metadata": {
      "needs_background": "light"
     },
     "output_type": "display_data"
    }
   ],
   "source": [
    "plt.scatter(x_data,y_data,c='b')\n",
    "\n",
    "plt.plot(x_data,sess.run(w)*x_data+sess.run(b))\n",
    "plt.ylim(0,0.6)\n",
    "plt.show()"
   ]
  },
  {
   "cell_type": "markdown",
   "metadata": {},
   "source": [
    "# Tensorboard可视化"
   ]
  },
  {
   "cell_type": "markdown",
   "metadata": {},
   "source": [
    "在当前目录下打开命令行，输入`tensorboard --logdir=mytmp`\n",
    "\n",
    "在浏览器中输入`localhost:6006`即可看到Tensorboard可视化。"
   ]
  },
  {
   "cell_type": "markdown",
   "metadata": {},
   "source": [
    "![](./img/微信截图_20191129223805.png)"
   ]
  },
  {
   "cell_type": "code",
   "execution_count": null,
   "metadata": {},
   "outputs": [],
   "source": []
  }
 ],
 "metadata": {
  "kernelspec": {
   "display_name": "Python 3",
   "language": "python",
   "name": "python3"
  },
  "language_info": {
   "codemirror_mode": {
    "name": "ipython",
    "version": 3
   },
   "file_extension": ".py",
   "mimetype": "text/x-python",
   "name": "python",
   "nbconvert_exporter": "python",
   "pygments_lexer": "ipython3",
   "version": "3.7.2"
  }
 },
 "nbformat": 4,
 "nbformat_minor": 2
}
