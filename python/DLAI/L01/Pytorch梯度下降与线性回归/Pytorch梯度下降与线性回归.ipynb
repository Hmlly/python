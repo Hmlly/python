{
 "cells": [
  {
   "cell_type": "markdown",
   "metadata": {},
   "source": [
    "![](./img/dl_banner.jpg)"
   ]
  },
  {
   "cell_type": "markdown",
   "metadata": {},
   "source": [
    "# Pytorch实现梯度下降与线性回归"
   ]
  },
  {
   "cell_type": "markdown",
   "metadata": {},
   "source": [
    "![](img/pytorch.jpg)\n",
    "\n",
    "部分源代码：[Github:zihaopytorch](https://github.com/TommyZihao/zihaopytorch)\n",
    "\n",
    "\n",
    "# 接下来你将做什么"
   ]
  },
  {
   "cell_type": "markdown",
   "metadata": {},
   "source": [
    "在本案例中，你将使用Pytorch构建线性回归模型，最小化均方误差，通过梯度下降算法训练权重和偏置项。\n",
    "\n",
    "本案例展示了pytorch的模型定义、超参数定义、损失函数、优化器、前向传播、反向传播、模型评估、可视化、模型存储的完整过程。"
   ]
  },
  {
   "cell_type": "markdown",
   "metadata": {},
   "source": [
    "## 1.导入工具库"
   ]
  },
  {
   "cell_type": "code",
   "execution_count": 1,
   "metadata": {},
   "outputs": [],
   "source": [
    "import torch \n",
    "import torch.nn as nn # 导入pytorch的nn神经网络模块\n",
    "import numpy as np # 导入数组计算库numpy\n",
    "import matplotlib.pyplot as plt # 导入可视化库matplotlib\n",
    "\n",
    "# 让matplotlib画出的图嵌入在notebook中\n",
    "%matplotlib inline  "
   ]
  },
  {
   "cell_type": "markdown",
   "metadata": {},
   "source": [
    "## 2.准备数据"
   ]
  },
  {
   "cell_type": "code",
   "execution_count": 2,
   "metadata": {},
   "outputs": [],
   "source": [
    "# 构造训练数据的特征\n",
    "x_train = np.array([[3.3], [4.6], [5.3], [6.7], [6.3], [4.18], \n",
    "                    [9.9], [6.182], [7.6], [2.1], [7.02], \n",
    "                    [10.791], [5.313], [7.997], [3.1]], dtype=np.float32)\n",
    "\n",
    "# 构造训练数据的标签\n",
    "y_train = np.array([[1.7], [2.6], [2.1], [3.2], [1.6], [1.573], \n",
    "                    [3.6], [2.9], [2.5], [1.2], [2.8], \n",
    "                    [3.6], [1.65], [2.4], [1.3]], dtype=np.float32)"
   ]
  },
  {
   "cell_type": "code",
   "execution_count": 3,
   "metadata": {},
   "outputs": [
    {
     "data": {
      "text/plain": [
       "[<matplotlib.lines.Line2D at 0x195024c0b38>]"
      ]
     },
     "execution_count": 3,
     "metadata": {},
     "output_type": "execute_result"
    },
    {
     "data": {
      "image/png": "[encoded data removed]",
      "text/plain": [
       "<Figure size 432x288 with 1 Axes>"
      ]
     },
     "metadata": {
      "needs_background": "light"
     },
     "output_type": "display_data"
    }
   ],
   "source": [
    "plt.plot(x_train,y_train,'bo')"
   ]
  },
  {
   "cell_type": "code",
   "execution_count": 4,
   "metadata": {},
   "outputs": [
    {
     "data": {
      "text/plain": [
       "(15, 1)"
      ]
     },
     "execution_count": 4,
     "metadata": {},
     "output_type": "execute_result"
    }
   ],
   "source": [
    "# 查看训练数据的特征维度，共有15个数据，每个数据只有一个特征\n",
    "x_train.shape"
   ]
  },
  {
   "cell_type": "code",
   "execution_count": 5,
   "metadata": {},
   "outputs": [
    {
     "data": {
      "text/plain": [
       "(15, 1)"
      ]
     },
     "execution_count": 5,
     "metadata": {},
     "output_type": "execute_result"
    }
   ],
   "source": [
    "# 查看训练数据的标签维度，共有15个数据，每个数据只有一个标签\n",
    "y_train.shape"
   ]
  },
  {
   "cell_type": "markdown",
   "metadata": {},
   "source": [
    "## 3.构建模型、定义损失函数与优化器"
   ]
  },
  {
   "cell_type": "code",
   "execution_count": 6,
   "metadata": {},
   "outputs": [],
   "source": [
    "input_size = 1 # 输入数据的维度\n",
    "output_size = 1 # 输出数据的维度\n",
    "model = nn.Linear(input_size, output_size) # 定义线性模型，输入维度为input_size，输出维度为output_size\n",
    "\n",
    "# 损失与优化器\n",
    "criterion = nn.MSELoss() # 损失函数为MSE均方误差损失函数\n",
    "learning_rate = 0.001 # 定义学习率\n",
    "optimizer = torch.optim.SGD(model.parameters(), lr=learning_rate)  # 随机梯度下降优化器，学习率0.001"
   ]
  },
  {
   "cell_type": "markdown",
   "metadata": {},
   "source": [
    "## 4.迭代与训练"
   ]
  },
  {
   "cell_type": "code",
   "execution_count": 7,
   "metadata": {},
   "outputs": [],
   "source": [
    "inputs = torch.from_numpy(x_train) # 将x_train转为Pytorch的张量数据类型\n",
    "targets = torch.from_numpy(y_train) # 将y_train转为Pytorch的张量数据类型\n",
    "outputs = model(inputs) # 使用刚刚构建的尚未训练的模型预测一下"
   ]
  },
  {
   "cell_type": "code",
   "execution_count": 8,
   "metadata": {},
   "outputs": [
    {
     "data": {
      "text/plain": [
       "tensor([[-2.3583],\n",
       "        [-3.2165],\n",
       "        [-3.6786],\n",
       "        [-4.6028],\n",
       "        [-4.3387],\n",
       "        [-2.9392],\n",
       "        [-6.7152],\n",
       "        [-4.2608],\n",
       "        [-5.1969],\n",
       "        [-1.5661],\n",
       "        [-4.8140],\n",
       "        [-7.3034],\n",
       "        [-3.6872],\n",
       "        [-5.4590],\n",
       "        [-2.2263]], grad_fn=<AddmmBackward>)"
      ]
     },
     "execution_count": 8,
     "metadata": {},
     "output_type": "execute_result"
    }
   ],
   "source": [
    "outputs"
   ]
  },
  {
   "cell_type": "code",
   "execution_count": 9,
   "metadata": {},
   "outputs": [],
   "source": [
    "# 将outputs由Pytorch的Tensor张量数据类型转为numpy的array数据类型\n",
    "outputs = outputs.detach().numpy()"
   ]
  },
  {
   "cell_type": "code",
   "execution_count": 10,
   "metadata": {},
   "outputs": [
    {
     "data": {
      "text/plain": [
       "array([[-2.3583097],\n",
       "       [-3.2164893],\n",
       "       [-3.678586 ],\n",
       "       [-4.602779 ],\n",
       "       [-4.338724 ],\n",
       "       [-2.9392314],\n",
       "       [-6.7152205],\n",
       "       [-4.2608275],\n",
       "       [-5.196903 ],\n",
       "       [-1.5661442],\n",
       "       [-4.814023 ],\n",
       "       [-7.303404 ],\n",
       "       [-3.6871681],\n",
       "       [-5.458978 ],\n",
       "       [-2.2262821]], dtype=float32)"
      ]
     },
     "execution_count": 10,
     "metadata": {},
     "output_type": "execute_result"
    }
   ],
   "source": [
    "outputs"
   ]
  },
  {
   "cell_type": "markdown",
   "metadata": {},
   "source": [
    "绘制模型训练之前的拟合结果，可以看出效果很差"
   ]
  },
  {
   "cell_type": "code",
   "execution_count": 12,
   "metadata": {},
   "outputs": [
    {
     "data": {
      "image/png": "[encoded data removed]",
      "text/plain": [
       "<Figure size 432x288 with 1 Axes>"
      ]
     },
     "metadata": {
      "needs_background": "light"
     },
     "output_type": "display_data"
    }
   ],
   "source": [
    "plt.plot(x_train, y_train, 'ro', label='Original data') # 绘制原始数据散点图\n",
    "plt.plot(x_train, outputs, label='Fitted line') # 绘制拟合直线，注意这里的outputs已经变成了numpy的array数组\n",
    "plt.legend() # 显示图例\n",
    "plt.title('Before Training') # 图表标题\n",
    "plt.show() # 展示图像"
   ]
  },
  {
   "cell_type": "markdown",
   "metadata": {},
   "source": [
    "开始训练"
   ]
  },
  {
   "cell_type": "code",
   "execution_count": 13,
   "metadata": {},
   "outputs": [
    {
     "name": "stdout",
     "output_type": "stream",
     "text": [
      "目前进程 [5/350], 当前损失: 23.0903\n",
      "目前进程 [10/350], 当前损失: 9.5845\n",
      "目前进程 [15/350], 当前损失: 4.0582\n",
      "目前进程 [20/350], 当前损失: 1.7970\n",
      "目前进程 [25/350], 当前损失: 0.8717\n",
      "目前进程 [30/350], 当前损失: 0.4930\n",
      "目前进程 [35/350], 当前损失: 0.3380\n",
      "目前进程 [40/350], 当前损失: 0.2744\n",
      "目前进程 [45/350], 当前损失: 0.2484\n",
      "目前进程 [50/350], 当前损失: 0.2376\n",
      "目前进程 [55/350], 当前损失: 0.2331\n",
      "目前进程 [60/350], 当前损失: 0.2312\n",
      "目前进程 [65/350], 当前损失: 0.2303\n",
      "目前进程 [70/350], 当前损失: 0.2298\n",
      "目前进程 [75/350], 当前损失: 0.2296\n",
      "目前进程 [80/350], 当前损失: 0.2294\n",
      "目前进程 [85/350], 当前损失: 0.2292\n",
      "目前进程 [90/350], 当前损失: 0.2290\n",
      "目前进程 [95/350], 当前损失: 0.2289\n",
      "目前进程 [100/350], 当前损失: 0.2287\n",
      "目前进程 [105/350], 当前损失: 0.2286\n",
      "目前进程 [110/350], 当前损失: 0.2284\n",
      "目前进程 [115/350], 当前损失: 0.2283\n",
      "目前进程 [120/350], 当前损失: 0.2281\n",
      "目前进程 [125/350], 当前损失: 0.2280\n",
      "目前进程 [130/350], 当前损失: 0.2278\n",
      "目前进程 [135/350], 当前损失: 0.2277\n",
      "目前进程 [140/350], 当前损失: 0.2275\n",
      "目前进程 [145/350], 当前损失: 0.2274\n",
      "目前进程 [150/350], 当前损失: 0.2273\n",
      "目前进程 [155/350], 当前损失: 0.2271\n",
      "目前进程 [160/350], 当前损失: 0.2270\n",
      "目前进程 [165/350], 当前损失: 0.2268\n",
      "目前进程 [170/350], 当前损失: 0.2267\n",
      "目前进程 [175/350], 当前损失: 0.2265\n",
      "目前进程 [180/350], 当前损失: 0.2264\n",
      "目前进程 [185/350], 当前损失: 0.2262\n",
      "目前进程 [190/350], 当前损失: 0.2261\n",
      "目前进程 [195/350], 当前损失: 0.2260\n",
      "目前进程 [200/350], 当前损失: 0.2258\n",
      "目前进程 [205/350], 当前损失: 0.2257\n",
      "目前进程 [210/350], 当前损失: 0.2255\n",
      "目前进程 [215/350], 当前损失: 0.2254\n",
      "目前进程 [220/350], 当前损失: 0.2252\n",
      "目前进程 [225/350], 当前损失: 0.2251\n",
      "目前进程 [230/350], 当前损失: 0.2250\n",
      "目前进程 [235/350], 当前损失: 0.2248\n",
      "目前进程 [240/350], 当前损失: 0.2247\n",
      "目前进程 [245/350], 当前损失: 0.2246\n",
      "目前进程 [250/350], 当前损失: 0.2244\n",
      "目前进程 [255/350], 当前损失: 0.2243\n",
      "目前进程 [260/350], 当前损失: 0.2241\n",
      "目前进程 [265/350], 当前损失: 0.2240\n",
      "目前进程 [270/350], 当前损失: 0.2239\n",
      "目前进程 [275/350], 当前损失: 0.2237\n",
      "目前进程 [280/350], 当前损失: 0.2236\n",
      "目前进程 [285/350], 当前损失: 0.2235\n",
      "目前进程 [290/350], 当前损失: 0.2233\n",
      "目前进程 [295/350], 当前损失: 0.2232\n",
      "目前进程 [300/350], 当前损失: 0.2230\n",
      "目前进程 [305/350], 当前损失: 0.2229\n",
      "目前进程 [310/350], 当前损失: 0.2228\n",
      "目前进程 [315/350], 当前损失: 0.2226\n",
      "目前进程 [320/350], 当前损失: 0.2225\n",
      "目前进程 [325/350], 当前损失: 0.2224\n",
      "目前进程 [330/350], 当前损失: 0.2222\n",
      "目前进程 [335/350], 当前损失: 0.2221\n",
      "目前进程 [340/350], 当前损失: 0.2220\n",
      "目前进程 [345/350], 当前损失: 0.2218\n",
      "目前进程 [350/350], 当前损失: 0.2217\n"
     ]
    }
   ],
   "source": [
    "num_epochs = 350 # 迭代轮次，一个轮次指的是完整过一遍全部的数据\n",
    "loss_list = [] # 将训练过程中的损失放在loss_list列表里\n",
    "for epoch in range(num_epochs):\n",
    "    \n",
    "    # 把numpy的array数据类型转成pytorch的Tensor类型，定义好训练特征和标签\n",
    "    inputs = torch.from_numpy(x_train)\n",
    "    targets = torch.from_numpy(y_train)\n",
    "\n",
    "    # 前向计算\n",
    "    outputs = model(inputs) # 获取模型当前推断结果\n",
    "    loss = criterion(outputs, targets) # 计算当前模型输出值与标签y的均方误差\n",
    "    loss_list.append(loss.item()) # 将损失值存入loss_list列表\n",
    "    \n",
    "    # 反向传播与优化\n",
    "    optimizer.zero_grad() # 将各权重的梯度归零，如果没有这行代码，梯度会累加\n",
    "    loss.backward() # 计算损失函数对各权重的梯度\n",
    "    optimizer.step() # 按学习率更新权重值\n",
    "    \n",
    "    # 每训练5轮，就输出当前的损失值\n",
    "    if (epoch+1) % 5 == 0: \n",
    "        print('目前进程 [{}/{}], 当前损失: {:.4f}'.format(epoch+1, num_epochs, loss.item()))"
   ]
  },
  {
   "cell_type": "markdown",
   "metadata": {},
   "source": [
    "## 6.可视化与结果展示"
   ]
  },
  {
   "cell_type": "markdown",
   "metadata": {},
   "source": [
    "绘制模型训练过程中损失值的下降曲线图"
   ]
  },
  {
   "cell_type": "code",
   "execution_count": 14,
   "metadata": {},
   "outputs": [
    {
     "data": {
      "text/plain": [
       "Text(0.5, 1.0, 'Training loss')"
      ]
     },
     "execution_count": 14,
     "metadata": {},
     "output_type": "execute_result"
    },
    {
     "data": {
      "image/png": "[encoded data removed]",
      "text/plain": [
       "<Figure size 432x288 with 1 Axes>"
      ]
     },
     "metadata": {
      "needs_background": "light"
     },
     "output_type": "display_data"
    }
   ],
   "source": [
    "plt.plot(loss_list)\n",
    "plt.title('Training loss')"
   ]
  },
  {
   "cell_type": "markdown",
   "metadata": {},
   "source": [
    "获取最终回归拟合结果"
   ]
  },
  {
   "cell_type": "code",
   "execution_count": 15,
   "metadata": {},
   "outputs": [],
   "source": [
    "outputs = model(inputs)"
   ]
  },
  {
   "cell_type": "code",
   "execution_count": 16,
   "metadata": {},
   "outputs": [
    {
     "data": {
      "text/plain": [
       "tensor([[1.2367],\n",
       "        [1.7127],\n",
       "        [1.9690],\n",
       "        [2.4816],\n",
       "        [2.3352],\n",
       "        [1.5589],\n",
       "        [3.6534],\n",
       "        [2.2919],\n",
       "        [2.8112],\n",
       "        [0.7973],\n",
       "        [2.5988],\n",
       "        [3.9796],\n",
       "        [1.9737],\n",
       "        [2.9565],\n",
       "        [1.1634]], grad_fn=<AddmmBackward>)"
      ]
     },
     "execution_count": 16,
     "metadata": {},
     "output_type": "execute_result"
    }
   ],
   "source": [
    "outputs"
   ]
  },
  {
   "cell_type": "code",
   "execution_count": 17,
   "metadata": {},
   "outputs": [],
   "source": [
    "# 跟上面一样，将outputs从Pytorch的Tensor张量数据类型转为numpy的array数组类型\n",
    "outputs = outputs.detach().numpy()"
   ]
  },
  {
   "cell_type": "code",
   "execution_count": 18,
   "metadata": {},
   "outputs": [
    {
     "data": {
      "text/plain": [
       "array([[1.236657 ],\n",
       "       [1.7126724],\n",
       "       [1.9689884],\n",
       "       [2.4816203],\n",
       "       [2.3351543],\n",
       "       [1.5588827],\n",
       "       [3.6533506],\n",
       "       [2.2919466],\n",
       "       [2.8111696],\n",
       "       [0.7972582],\n",
       "       [2.5987935],\n",
       "       [3.9796045],\n",
       "       [1.9737486],\n",
       "       [2.9565375],\n",
       "       [1.1634238]], dtype=float32)"
      ]
     },
     "execution_count": 18,
     "metadata": {},
     "output_type": "execute_result"
    }
   ],
   "source": [
    "outputs"
   ]
  },
  {
   "cell_type": "code",
   "execution_count": 19,
   "metadata": {},
   "outputs": [
    {
     "data": {
      "image/png": "[encoded data removed]",
      "text/plain": [
       "<Figure size 432x288 with 1 Axes>"
      ]
     },
     "metadata": {
      "needs_background": "light"
     },
     "output_type": "display_data"
    }
   ],
   "source": [
    "plt.plot(x_train, y_train, 'ro', label='Original data') # 绘制原始数据散点图\n",
    "plt.plot(x_train, outputs, label='Fitted line') # 绘制拟合直线\n",
    "plt.legend() # 显示图例\n",
    "plt.title('After Training') # 设置图表标题\n",
    "plt.show() # 展示图像"
   ]
  },
  {
   "cell_type": "code",
   "execution_count": 20,
   "metadata": {},
   "outputs": [],
   "source": [
    "# 存储模型到当前文件所在目录\n",
    "torch.save(model.state_dict(), './linear_regression_model.ckpt')"
   ]
  },
  {
   "cell_type": "markdown",
   "metadata": {},
   "source": [
    "# 参考学习资料\n",
    "\n",
    "Pytorch官方文档：https://pytorch.org/\n",
    "\n"
   ]
  },
  {
   "cell_type": "code",
   "execution_count": null,
   "metadata": {},
   "outputs": [],
   "source": []
  }
 ],
 "metadata": {
  "kernelspec": {
   "display_name": "Python 3",
   "language": "python",
   "name": "python3"
  },
  "language_info": {
   "codemirror_mode": {
    "name": "ipython",
    "version": 3
   },
   "file_extension": ".py",
   "mimetype": "text/x-python",
   "name": "python",
   "nbconvert_exporter": "python",
   "pygments_lexer": "ipython3",
   "version": "3.6.9"
  }
 },
 "nbformat": 4,
 "nbformat_minor": 2
}
