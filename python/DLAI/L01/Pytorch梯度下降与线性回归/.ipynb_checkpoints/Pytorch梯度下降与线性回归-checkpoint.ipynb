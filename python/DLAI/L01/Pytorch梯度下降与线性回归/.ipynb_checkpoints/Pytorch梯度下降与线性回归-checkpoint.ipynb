{
 "cells": [
  {
   "cell_type": "markdown",
   "metadata": {},
   "source": [
    "![](./img/dl_banner.jpg)"
   ]
  },
  {
   "cell_type": "markdown",
   "metadata": {},
   "source": [
    "# Pytorch实现梯度下降与线性回归"
   ]
  },
  {
   "cell_type": "markdown",
   "metadata": {},
   "source": [
    "![](img/pytorch.jpg)\n",
    "\n",
    "部分源代码：[Github:zihaopytorch](https://github.com/TommyZihao/zihaopytorch)\n",
    "\n",
    "\n",
    "# 接下来你将做什么"
   ]
  },
  {
   "cell_type": "markdown",
   "metadata": {},
   "source": [
    "在本案例中，你将使用Pytorch构建线性回归模型，最小化均方误差，通过梯度下降算法训练权重和偏置项。\n",
    "\n",
    "本案例展示了pytorch的模型定义、超参数定义、损失函数、优化器、前向传播、反向传播、模型评估、可视化、模型存储的完整过程。"
   ]
  },
  {
   "cell_type": "markdown",
   "metadata": {},
   "source": [
    "## 1.导入工具库"
   ]
  },
  {
   "cell_type": "code",
   "execution_count": 1,
   "metadata": {},
   "outputs": [],
   "source": [
    "import torch \n",
    "import torch.nn as nn # 导入pytorch的nn神经网络模块\n",
    "import numpy as np # 导入数组计算库numpy\n",
    "import matplotlib.pyplot as plt # 导入可视化库matplotlib\n",
    "\n",
    "# 让matplotlib画出的图嵌入在notebook中\n",
    "%matplotlib inline  "
   ]
  },
  {
   "cell_type": "markdown",
   "metadata": {},
   "source": [
    "## 2.准备数据"
   ]
  },
  {
   "cell_type": "code",
   "execution_count": 44,
   "metadata": {},
   "outputs": [],
   "source": [
    "# 构造训练数据的特征\n",
    "x_train = np.array([[3.3], [4.6], [5.3], [6.7], [6.3], [4.18], \n",
    "                    [9.9], [6.182], [7.6], [2.1], [7.02], \n",
    "                    [10.791], [5.313], [7.997], [3.1]], dtype=np.float32)\n",
    "\n",
    "# 构造训练数据的标签\n",
    "y_train = np.array([[1.7], [2.6], [2.1], [3.2], [1.6], [1.573], \n",
    "                    [3.6], [2.9], [2.5], [1.2], [2.8], \n",
    "                    [3.6], [1.65], [2.4], [1.3]], dtype=np.float32)"
   ]
  },
  {
   "cell_type": "code",
   "execution_count": 57,
   "metadata": {},
   "outputs": [
    {
     "name": "stdout",
     "output_type": "stream",
     "text": [
      "float32 float32\n"
     ]
    }
   ],
   "source": [
    "x_train = np.random.standard_normal(15).reshape(15,1).astype('float32')\n",
    "y_train = 2*x_train + np.random.standard_normal(size=15).reshape(15,1).astype('float32')\n",
    "print(x_train.dtype,y_train.dtype)"
   ]
  },
  {
   "cell_type": "code",
   "execution_count": 58,
   "metadata": {},
   "outputs": [
    {
     "data": {
      "text/plain": [
       "[<matplotlib.lines.Line2D at 0x1d594cfa390>]"
      ]
     },
     "execution_count": 58,
     "metadata": {},
     "output_type": "execute_result"
    },
    {
     "data": {
      "image/png": "[encoded data removed]",
      "text/plain": [
       "<Figure size 432x288 with 1 Axes>"
      ]
     },
     "metadata": {
      "needs_background": "light"
     },
     "output_type": "display_data"
    }
   ],
   "source": [
    "plt.plot(x_train,y_train,'bo')"
   ]
  },
  {
   "cell_type": "code",
   "execution_count": 59,
   "metadata": {},
   "outputs": [
    {
     "data": {
      "text/plain": [
       "(15, 1)"
      ]
     },
     "execution_count": 59,
     "metadata": {},
     "output_type": "execute_result"
    }
   ],
   "source": [
    "# 查看训练数据的特征维度，共有15个数据，每个数据只有一个特征\n",
    "x_train.shape"
   ]
  },
  {
   "cell_type": "code",
   "execution_count": 60,
   "metadata": {},
   "outputs": [
    {
     "data": {
      "text/plain": [
       "(15, 1)"
      ]
     },
     "execution_count": 60,
     "metadata": {},
     "output_type": "execute_result"
    }
   ],
   "source": [
    "# 查看训练数据的标签维度，共有15个数据，每个数据只有一个标签\n",
    "y_train.shape"
   ]
  },
  {
   "cell_type": "markdown",
   "metadata": {},
   "source": [
    "## 3.构建模型、定义损失函数与优化器"
   ]
  },
  {
   "cell_type": "code",
   "execution_count": 66,
   "metadata": {},
   "outputs": [],
   "source": [
    "input_size = 1 # 输入数据的维度\n",
    "output_size = 1 # 输出数据的维度\n",
    "model = nn.Linear(input_size, output_size) # 定义线性模型，输入维度为input_size，输出维度为output_size\n",
    "\n",
    "# 损失与优化器\n",
    "criterion = nn.MSELoss() # 损失函数为MSE均方误差损失函数\n",
    "learning_rate = 0.001 # 定义学习率\n",
    "# torch.optim.SGD 随机梯度下降\n",
    "    # weight_decay=0,L2 penalty, 权重衰减(L正则化)，\\lambda\n",
    "    # momentum=0, momentum factor, 动量因子(冲出梯度局部最小值)\n",
    "    # dampening=0,dampening for momentum, 动量衰减\n",
    "    # nesterov=False, enables Nesterov momentum, 加速梯度\n",
    "optimizer = torch.optim.SGD(model.parameters(), lr=learning_rate)  # 随机梯度下降优化器，学习率0.001"
   ]
  },
  {
   "cell_type": "code",
   "execution_count": 67,
   "metadata": {},
   "outputs": [
    {
     "name": "stdout",
     "output_type": "stream",
     "text": [
      "Parameter containing:\n",
      "tensor([[0.7301]], requires_grad=True)\n",
      "Parameter containing:\n",
      "tensor([-0.0860], requires_grad=True)\n"
     ]
    }
   ],
   "source": [
    "# random init\n",
    "print(model.weight)\n",
    "print(model.bias)"
   ]
  },
  {
   "cell_type": "markdown",
   "metadata": {},
   "source": [
    "## 4.迭代与训练"
   ]
  },
  {
   "cell_type": "code",
   "execution_count": 68,
   "metadata": {},
   "outputs": [],
   "source": [
    "inputs = torch.from_numpy(x_train) # 将x_train转为Pytorch的张量数据类型\n",
    "targets = torch.from_numpy(y_train) # 将y_train转为Pytorch的张量数据类型\n",
    "outputs = model(inputs) # 使用刚刚构建的尚未训练的模型预测一下"
   ]
  },
  {
   "cell_type": "code",
   "execution_count": 69,
   "metadata": {},
   "outputs": [
    {
     "data": {
      "text/plain": [
       "tensor([[-0.1720],\n",
       "        [ 0.8221],\n",
       "        [ 0.5516],\n",
       "        [-0.8340],\n",
       "        [ 0.6741],\n",
       "        [-1.0711],\n",
       "        [-0.4082],\n",
       "        [-0.0037],\n",
       "        [-0.2437],\n",
       "        [-0.0227],\n",
       "        [-0.1010],\n",
       "        [ 0.1393],\n",
       "        [ 0.8241],\n",
       "        [ 0.3575],\n",
       "        [ 1.8427]], grad_fn=<AddmmBackward>)"
      ]
     },
     "execution_count": 69,
     "metadata": {},
     "output_type": "execute_result"
    }
   ],
   "source": [
    "outputs"
   ]
  },
  {
   "cell_type": "code",
   "execution_count": 70,
   "metadata": {},
   "outputs": [],
   "source": [
    "# 将outputs由Pytorch的Tensor张量数据类型转为numpy的array数据类型\n",
    "outputs = outputs.detach().numpy()"
   ]
  },
  {
   "cell_type": "code",
   "execution_count": 71,
   "metadata": {},
   "outputs": [
    {
     "data": {
      "text/plain": [
       "array([[-0.17202519],\n",
       "       [ 0.82209116],\n",
       "       [ 0.5516206 ],\n",
       "       [-0.8339594 ],\n",
       "       [ 0.67410773],\n",
       "       [-1.0710562 ],\n",
       "       [-0.40821946],\n",
       "       [-0.00368328],\n",
       "       [-0.24366733],\n",
       "       [-0.02270412],\n",
       "       [-0.10095937],\n",
       "       [ 0.13934433],\n",
       "       [ 0.82413954],\n",
       "       [ 0.357494  ],\n",
       "       [ 1.8427151 ]], dtype=float32)"
      ]
     },
     "execution_count": 71,
     "metadata": {},
     "output_type": "execute_result"
    }
   ],
   "source": [
    "outputs"
   ]
  },
  {
   "cell_type": "markdown",
   "metadata": {},
   "source": [
    "绘制模型训练之前的拟合结果，可以看出效果很差"
   ]
  },
  {
   "cell_type": "code",
   "execution_count": 72,
   "metadata": {},
   "outputs": [
    {
     "data": {
      "image/png": "[encoded data removed]",
      "text/plain": [
       "<Figure size 432x288 with 1 Axes>"
      ]
     },
     "metadata": {
      "needs_background": "light"
     },
     "output_type": "display_data"
    }
   ],
   "source": [
    "plt.plot(x_train, y_train, 'ro', label='Original data') # 绘制原始数据散点图\n",
    "plt.plot(x_train, outputs, label='Fitted line') # 绘制拟合直线，注意这里的outputs已经变成了numpy的array数组\n",
    "plt.legend() # 显示图例\n",
    "plt.title('Before Training') # 图表标题\n",
    "plt.show() # 展示图像"
   ]
  },
  {
   "cell_type": "markdown",
   "metadata": {},
   "source": [
    "开始训练"
   ]
  },
  {
   "cell_type": "code",
   "execution_count": 82,
   "metadata": {},
   "outputs": [
    {
     "name": "stdout",
     "output_type": "stream",
     "text": [
      "目前进程 [5/350], 当前损失: 1.5350\n",
      "目前进程 [10/350], 当前损失: 1.5252\n",
      "目前进程 [15/350], 当前损失: 1.5157\n",
      "目前进程 [20/350], 当前损失: 1.5064\n",
      "目前进程 [25/350], 当前损失: 1.4973\n",
      "目前进程 [30/350], 当前损失: 1.4884\n",
      "目前进程 [35/350], 当前损失: 1.4797\n",
      "目前进程 [40/350], 当前损失: 1.4713\n",
      "目前进程 [45/350], 当前损失: 1.4630\n",
      "目前进程 [50/350], 当前损失: 1.4549\n",
      "目前进程 [55/350], 当前损失: 1.4469\n",
      "目前进程 [60/350], 当前损失: 1.4392\n",
      "目前进程 [65/350], 当前损失: 1.4316\n",
      "目前进程 [70/350], 当前损失: 1.4242\n",
      "目前进程 [75/350], 当前损失: 1.4170\n",
      "目前进程 [80/350], 当前损失: 1.4099\n",
      "目前进程 [85/350], 当前损失: 1.4030\n",
      "目前进程 [90/350], 当前损失: 1.3963\n",
      "目前进程 [95/350], 当前损失: 1.3897\n",
      "目前进程 [100/350], 当前损失: 1.3832\n",
      "目前进程 [105/350], 当前损失: 1.3769\n",
      "目前进程 [110/350], 当前损失: 1.3708\n",
      "目前进程 [115/350], 当前损失: 1.3647\n",
      "目前进程 [120/350], 当前损失: 1.3588\n",
      "目前进程 [125/350], 当前损失: 1.3531\n",
      "目前进程 [130/350], 当前损失: 1.3474\n",
      "目前进程 [135/350], 当前损失: 1.3419\n",
      "目前进程 [140/350], 当前损失: 1.3365\n",
      "目前进程 [145/350], 当前损失: 1.3312\n",
      "目前进程 [150/350], 当前损失: 1.3261\n",
      "目前进程 [155/350], 当前损失: 1.3210\n",
      "目前进程 [160/350], 当前损失: 1.3161\n",
      "目前进程 [165/350], 当前损失: 1.3113\n",
      "目前进程 [170/350], 当前损失: 1.3065\n",
      "目前进程 [175/350], 当前损失: 1.3019\n",
      "目前进程 [180/350], 当前损失: 1.2974\n",
      "目前进程 [185/350], 当前损失: 1.2930\n",
      "目前进程 [190/350], 当前损失: 1.2887\n",
      "目前进程 [195/350], 当前损失: 1.2844\n",
      "目前进程 [200/350], 当前损失: 1.2803\n",
      "目前进程 [205/350], 当前损失: 1.2762\n",
      "目前进程 [210/350], 当前损失: 1.2723\n",
      "目前进程 [215/350], 当前损失: 1.2684\n",
      "目前进程 [220/350], 当前损失: 1.2646\n",
      "目前进程 [225/350], 当前损失: 1.2609\n",
      "目前进程 [230/350], 当前损失: 1.2572\n",
      "目前进程 [235/350], 当前损失: 1.2537\n",
      "目前进程 [240/350], 当前损失: 1.2502\n",
      "目前进程 [245/350], 当前损失: 1.2468\n",
      "目前进程 [250/350], 当前损失: 1.2434\n",
      "目前进程 [255/350], 当前损失: 1.2402\n",
      "目前进程 [260/350], 当前损失: 1.2370\n",
      "目前进程 [265/350], 当前损失: 1.2338\n",
      "目前进程 [270/350], 当前损失: 1.2308\n",
      "目前进程 [275/350], 当前损失: 1.2278\n",
      "目前进程 [280/350], 当前损失: 1.2248\n",
      "目前进程 [285/350], 当前损失: 1.2220\n",
      "目前进程 [290/350], 当前损失: 1.2191\n",
      "目前进程 [295/350], 当前损失: 1.2164\n",
      "目前进程 [300/350], 当前损失: 1.2137\n",
      "目前进程 [305/350], 当前损失: 1.2110\n",
      "目前进程 [310/350], 当前损失: 1.2084\n",
      "目前进程 [315/350], 当前损失: 1.2059\n",
      "目前进程 [320/350], 当前损失: 1.2034\n",
      "目前进程 [325/350], 当前损失: 1.2010\n",
      "目前进程 [330/350], 当前损失: 1.1986\n",
      "目前进程 [335/350], 当前损失: 1.1962\n",
      "目前进程 [340/350], 当前损失: 1.1939\n",
      "目前进程 [345/350], 当前损失: 1.1917\n",
      "目前进程 [350/350], 当前损失: 1.1895\n"
     ]
    }
   ],
   "source": [
    "num_epochs = 350 # 迭代轮次，一个轮次指的是完整过一遍全部的数据\n",
    "loss_list = [] # 将训练过程中的损失放在loss_list列表里\n",
    "for epoch in range(num_epochs):\n",
    "    \n",
    "    # 把numpy的array数据类型转成pytorch的Tensor类型，定义好训练特征和标签\n",
    "    inputs = torch.from_numpy(x_train)\n",
    "    targets = torch.from_numpy(y_train)\n",
    "\n",
    "    # 前向计算\n",
    "    # model = nn.Linear(input_size, output_size)\n",
    "    outputs = model(inputs) # 获取模型当前推断结果\n",
    "    # criterion = nn.MSELoss()\n",
    "    loss = criterion(outputs, targets) # 计算当前模型输出值与标签y的均方误差\n",
    "    loss_list.append(loss.item()) # 将损失值存入loss_list列表\n",
    "    \n",
    "    # 反向传播与优化\n",
    "    # 如何与其他函数交换参数？？？\n",
    "    # optimizer = torch.optim.SGD(model.parameters(), lr=learning_rate)\n",
    "    optimizer.zero_grad() # 将各权重的梯度归零，如果没有这行代码，梯度会累加\n",
    "    loss.backward() # 计算损失函数对各权重的梯度 \n",
    "    optimizer.step() # 按学习率更新权重值\n",
    "    \n",
    "    # 每训练5轮，就输出当前的损失值\n",
    "    if (epoch+1) % 5 == 0: \n",
    "        print('目前进程 [{}/{}], 当前损失: {:.4f}'.format(epoch+1, num_epochs, loss.item()))"
   ]
  },
  {
   "cell_type": "markdown",
   "metadata": {},
   "source": [
    "## 6.可视化与结果展示"
   ]
  },
  {
   "cell_type": "markdown",
   "metadata": {},
   "source": [
    "绘制模型训练过程中损失值的下降曲线图"
   ]
  },
  {
   "cell_type": "code",
   "execution_count": 83,
   "metadata": {},
   "outputs": [
    {
     "data": {
      "text/plain": [
       "Text(0.5, 1.0, 'Training loss')"
      ]
     },
     "execution_count": 83,
     "metadata": {},
     "output_type": "execute_result"
    },
    {
     "data": {
      "image/png": "[encoded data removed]",
      "text/plain": [
       "<Figure size 432x288 with 1 Axes>"
      ]
     },
     "metadata": {
      "needs_background": "light"
     },
     "output_type": "display_data"
    }
   ],
   "source": [
    "plt.plot(loss_list)\n",
    "plt.title('Training loss')"
   ]
  },
  {
   "cell_type": "markdown",
   "metadata": {},
   "source": [
    "获取最终回归拟合结果"
   ]
  },
  {
   "cell_type": "code",
   "execution_count": 84,
   "metadata": {},
   "outputs": [],
   "source": [
    "outputs = model(inputs)"
   ]
  },
  {
   "cell_type": "code",
   "execution_count": 85,
   "metadata": {},
   "outputs": [
    {
     "data": {
      "text/plain": [
       "tensor([[-0.0240],\n",
       "        [ 2.4528],\n",
       "        [ 1.7789],\n",
       "        [-1.6732],\n",
       "        [ 2.0841],\n",
       "        [-2.2639],\n",
       "        [-0.6125],\n",
       "        [ 0.3954],\n",
       "        [-0.2025],\n",
       "        [ 0.3480],\n",
       "        [ 0.1530],\n",
       "        [ 0.7517],\n",
       "        [ 2.4579],\n",
       "        [ 1.2953],\n",
       "        [ 4.9957]], grad_fn=<AddmmBackward>)"
      ]
     },
     "execution_count": 85,
     "metadata": {},
     "output_type": "execute_result"
    }
   ],
   "source": [
    "outputs"
   ]
  },
  {
   "cell_type": "code",
   "execution_count": 86,
   "metadata": {},
   "outputs": [],
   "source": [
    "# 跟上面一样，将outputs从Pytorch的Tensor张量数据类型转为numpy的array数组类型\n",
    "outputs = outputs.detach().numpy()"
   ]
  },
  {
   "cell_type": "code",
   "execution_count": 87,
   "metadata": {},
   "outputs": [
    {
     "data": {
      "text/plain": [
       "array([[-0.0240283 ],\n",
       "       [ 2.4527946 ],\n",
       "       [ 1.7789221 ],\n",
       "       [-1.6732253 ],\n",
       "       [ 2.0840964 ],\n",
       "       [-2.2639477 ],\n",
       "       [-0.61250204],\n",
       "       [ 0.39539248],\n",
       "       [-0.2025234 ],\n",
       "       [ 0.34800243],\n",
       "       [ 0.1530309 ],\n",
       "       [ 0.7517432 ],\n",
       "       [ 2.4578981 ],\n",
       "       [ 1.2952591 ],\n",
       "       [ 4.995661  ]], dtype=float32)"
      ]
     },
     "execution_count": 87,
     "metadata": {},
     "output_type": "execute_result"
    }
   ],
   "source": [
    "outputs"
   ]
  },
  {
   "cell_type": "code",
   "execution_count": 88,
   "metadata": {},
   "outputs": [
    {
     "data": {
      "image/png": "[encoded data removed]",
      "text/plain": [
       "<Figure size 432x288 with 1 Axes>"
      ]
     },
     "metadata": {
      "needs_background": "light"
     },
     "output_type": "display_data"
    }
   ],
   "source": [
    "plt.plot(x_train, y_train, 'ro', label='Original data') # 绘制原始数据散点图\n",
    "plt.plot(x_train, outputs, label='Fitted line') # 绘制拟合直线\n",
    "plt.legend() # 显示图例\n",
    "plt.title('After Training') # 设置图表标题\n",
    "plt.show() # 展示图像"
   ]
  },
  {
   "cell_type": "code",
   "execution_count": 89,
   "metadata": {},
   "outputs": [],
   "source": [
    "# 存储模型到当前文件所在目录\n",
    "torch.save(model.state_dict(), './linear_regression_model.ckpt')"
   ]
  },
  {
   "cell_type": "markdown",
   "metadata": {},
   "source": [
    "# 参考学习资料\n",
    "\n",
    "Pytorch官方文档：https://pytorch.org/\n",
    "\n"
   ]
  },
  {
   "cell_type": "code",
   "execution_count": null,
   "metadata": {},
   "outputs": [],
   "source": []
  }
 ],
 "metadata": {
  "kernelspec": {
   "display_name": "Python 3",
   "language": "python",
   "name": "python3"
  },
  "language_info": {
   "codemirror_mode": {
    "name": "ipython",
    "version": 3
   },
   "file_extension": ".py",
   "mimetype": "text/x-python",
   "name": "python",
   "nbconvert_exporter": "python",
   "pygments_lexer": "ipython3",
   "version": "3.6.9"
  }
 },
 "nbformat": 4,
 "nbformat_minor": 2
}
