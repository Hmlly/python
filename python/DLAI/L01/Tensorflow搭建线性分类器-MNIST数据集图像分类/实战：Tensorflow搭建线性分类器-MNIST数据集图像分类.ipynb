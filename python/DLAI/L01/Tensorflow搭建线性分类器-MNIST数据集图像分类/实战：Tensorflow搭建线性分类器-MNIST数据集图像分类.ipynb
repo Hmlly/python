{
 "cells": [
  {
   "cell_type": "markdown",
   "metadata": {},
   "source": [
    "张子豪 2019-11-29"
   ]
  },
  {
   "cell_type": "code",
   "execution_count": 1,
   "metadata": {},
   "outputs": [],
   "source": [
    "# 忽略烦人的红色提示\n",
    "import warnings\n",
    "warnings.filterwarnings(\"ignore\")"
   ]
  },
  {
   "cell_type": "code",
   "execution_count": 2,
   "metadata": {},
   "outputs": [],
   "source": [
    "import tensorflow as tf"
   ]
  },
  {
   "cell_type": "code",
   "execution_count": 3,
   "metadata": {},
   "outputs": [],
   "source": [
    "# 定义辅助函数\n",
    "\n",
    "def get_weights(n_features, n_labels):\n",
    "    \"\"\"\n",
    "    返回正太分布随机初始化的权重矩阵\n",
    "    :param n_features: 输入特征数\n",
    "    :param n_labels: 标签数\n",
    "    \"\"\"\n",
    "    return tf.Variable(tf.compat.v1.truncated_normal((n_features, n_labels)))\n",
    "\n",
    "\n",
    "def get_biases(n_labels):\n",
    "    \"\"\"\n",
    "    返回初始化为0的偏置项\n",
    "    :param n_labels: 标签数\n",
    "    \"\"\"\n",
    "    return tf.Variable(tf.zeros(n_labels))\n",
    "\n",
    "\n",
    "def linear(input, w, b):\n",
    "    \"\"\"\n",
    "    指定线性加权求和的线性函数，返回线性操作求得的值\n",
    "    :param input: 输入特征\n",
    "    :param w: 权重矩阵\n",
    "    :param b: 偏置项\n",
    "    \"\"\"\n",
    "    return tf.add(tf.matmul(input, w), b)\n"
   ]
  },
  {
   "cell_type": "markdown",
   "metadata": {},
   "source": [
    "## MNIST 手写数字数据集\n",
    "\n",
    "[MNIST 数据集的官网](http://yann.lecun.com/exdb/mnist/)\n",
    "```\n",
    "ModuleNotFoundError: No module named 'tensorflow.examples.tutorials'\n",
    "```\n",
    "检查tensorflow中是否含有tutorials\n",
    "\n",
    "1.在...\\Python3\\Lib\\site-packages\\tensorflow_core\\examples文件夹，如果文件夹下只有saved_model这个文件，则是没有tutorials。\n",
    "\n",
    "2.进入[github的tensorflow主页](https://github.com/tensorflow/tensorflow)下载缺失的文件，把tutorials整个文件夹拷贝到examples文件夹下。"
   ]
  },
  {
   "cell_type": "code",
   "execution_count": 4,
   "metadata": {},
   "outputs": [],
   "source": [
    "from tensorflow.examples.tutorials.mnist import input_data\n",
    "def mnist_features_labels(n_labels):\n",
    "    \"\"\"\n",
    "    获取前n类数据的特征和标签，返回(特征，标签)元组\n",
    "    \"\"\"\n",
    "    mnist_features = []\n",
    "    mnist_labels = []\n",
    "\n",
    "    # read_data_sets is deprecated and will be removed in a future version.\n",
    "    mnist = input_data.read_data_sets('mnist', one_hot=True)\n",
    "   \n",
    "    # 为了运行更快些，我们只看前一万张图片\n",
    "    for mnist_feature, mnist_label in zip(*mnist.train.next_batch(10000)):\n",
    "\n",
    "        # Add features and labels if it's for the first <n>th labels\n",
    "        if mnist_label[:n_labels].any():\n",
    "            mnist_features.append(mnist_feature)\n",
    "            mnist_labels.append(mnist_label[:n_labels])\n",
    "\n",
    "    return mnist_features, mnist_labels"
   ]
  },
  {
   "cell_type": "code",
   "execution_count": 6,
   "metadata": {},
   "outputs": [
    {
     "name": "stdout",
     "output_type": "stream",
     "text": [
      "Extracting mnist\\train-images-idx3-ubyte.gz\n",
      "Extracting mnist\\train-labels-idx1-ubyte.gz\n",
      "Extracting mnist\\t10k-images-idx3-ubyte.gz\n",
      "Extracting mnist\\t10k-labels-idx1-ubyte.gz\n"
     ]
    }
   ],
   "source": [
    "\n",
    "# 输入特征数（28*28 = 784）\n",
    "n_features = 784\n",
    "\n",
    "# 只看前3类图像\n",
    "n_labels = 3\n",
    "\n",
    "g = tf.Graph()\n",
    "with g.as_default():\n",
    "    # 定义好特征和标签的占位符\n",
    "    features = tf.compat.v1.placeholder(tf.float32)\n",
    "    labels = tf.compat.v1.placeholder(tf.float32)\n",
    "\n",
    "    # 调用todo.py文件中定义的函数，获取初始化的权重矩阵和偏置项\n",
    "    w = get_weights(n_features, n_labels)\n",
    "    b = get_biases(n_labels)\n",
    "\n",
    "    # 定义线性操作\n",
    "    logits = linear(features, w, b)\n",
    "\n",
    "    # 获取训练数据的特征和标签\n",
    "    train_features, train_labels = mnist_features_labels(n_labels)"
   ]
  },
  {
   "cell_type": "code",
   "execution_count": 8,
   "metadata": {},
   "outputs": [
    {
     "data": {
      "text/plain": [
       "3174"
      ]
     },
     "execution_count": 8,
     "metadata": {},
     "output_type": "execute_result"
    }
   ],
   "source": [
    "len(train_features)"
   ]
  },
  {
   "cell_type": "code",
   "execution_count": 9,
   "metadata": {},
   "outputs": [
    {
     "data": {
      "text/plain": [
       "3174"
      ]
     },
     "execution_count": 9,
     "metadata": {},
     "output_type": "execute_result"
    }
   ],
   "source": [
    "len(train_labels)"
   ]
  },
  {
   "cell_type": "code",
   "execution_count": 10,
   "metadata": {},
   "outputs": [
    {
     "data": {
      "text/plain": [
       "(784,)"
      ]
     },
     "execution_count": 10,
     "metadata": {},
     "output_type": "execute_result"
    }
   ],
   "source": [
    "train_features[0].shape"
   ]
  },
  {
   "cell_type": "code",
   "execution_count": 11,
   "metadata": {},
   "outputs": [
    {
     "data": {
      "text/plain": [
       "(784,)"
      ]
     },
     "execution_count": 11,
     "metadata": {},
     "output_type": "execute_result"
    }
   ],
   "source": [
    "train_features[1].shape"
   ]
  },
  {
   "cell_type": "code",
   "execution_count": 12,
   "metadata": {},
   "outputs": [
    {
     "data": {
      "text/plain": [
       "(784,)"
      ]
     },
     "execution_count": 12,
     "metadata": {},
     "output_type": "execute_result"
    }
   ],
   "source": [
    "train_features[5].shape"
   ]
  },
  {
   "cell_type": "code",
   "execution_count": 15,
   "metadata": {},
   "outputs": [],
   "source": [
    "# train_features[5]\n",
    "# 784 = 28 x 28"
   ]
  },
  {
   "cell_type": "code",
   "execution_count": 16,
   "metadata": {},
   "outputs": [
    {
     "data": {
      "text/plain": [
       "array([1., 0., 0.])"
      ]
     },
     "execution_count": 16,
     "metadata": {},
     "output_type": "execute_result"
    }
   ],
   "source": [
    "train_labels[5]"
   ]
  },
  {
   "cell_type": "code",
   "execution_count": 22,
   "metadata": {},
   "outputs": [],
   "source": [
    "import matplotlib.pyplot as plt\n",
    "%matplotlib inline"
   ]
  },
  {
   "cell_type": "code",
   "execution_count": 23,
   "metadata": {},
   "outputs": [
    {
     "data": {
      "image/png": "[encoded data removed]",
      "text/plain": [
       "<Figure size 432x288 with 1 Axes>"
      ]
     },
     "metadata": {
      "needs_background": "light"
     },
     "output_type": "display_data"
    }
   ],
   "source": [
    "i = 5\n",
    "title = train_labels[i]\n",
    "plt.imshow(train_features[i].reshape(28,28))\n",
    "plt.title(title)\n",
    "plt.show()"
   ]
  },
  {
   "cell_type": "code",
   "execution_count": 35,
   "metadata": {},
   "outputs": [
    {
     "name": "stdout",
     "output_type": "stream",
     "text": [
      "损失函数: 6.8803558349609375\n"
     ]
    }
   ],
   "source": [
    "with tf.compat.v1.Session(graph=g) as session:\n",
    "\n",
    "    session.run(tf.compat.v1.global_variables_initializer())\n",
    "\n",
    "    # 将3个神经元的输出概率进行softmax归一化\n",
    "    prediction = tf.nn.softmax(logits)\n",
    "\n",
    "    # 计算交叉熵损失函数\n",
    "    # tf.reduce_sum(input_tensor, axis=None, keepdims=False, name=None) reduction_indices=1\n",
    "    cross_entropy = -tf.reduce_sum(labels * tf.compat.v1.log(prediction), 1)\n",
    "\n",
    "    # 取交叉熵损失函数的平均值作为损失函数\n",
    "    loss = tf.reduce_mean(cross_entropy)\n",
    "\n",
    "    # 定义梯度下降的学习率\n",
    "    learning_rate = 0.08\n",
    "\n",
    "    # 定义梯度下降优化器，最小化损失函数\n",
    "    optimizer = tf.compat.v1.train.GradientDescentOptimizer(learning_rate).minimize(loss)\n",
    "    \n",
    "    # 运行优化器，获得损失函数\n",
    "    _, l = session.run(\n",
    "        [optimizer, loss],\n",
    "        feed_dict={features: train_features, labels: train_labels})\n",
    "\n",
    "    # 查看结果\n",
    "    # print(session.run(prediction))\n",
    "    # print(prediction.eval())\n",
    "#     cross_entropy_array = cross_entropy.eval()\n",
    "#     loss_array = loss.eval()\n",
    "#     w_array = w.eval()\n",
    "#     b_array = b.eval()\n",
    "    \n",
    "# 打印输出损失函数，注意format里面是l不是1\n",
    "print('损失函数: {}'.format(l))\n"
   ]
  },
  {
   "cell_type": "code",
   "execution_count": 30,
   "metadata": {},
   "outputs": [
    {
     "name": "stdout",
     "output_type": "stream",
     "text": [
      "Tensor(\"Add:0\", dtype=float32)\n"
     ]
    }
   ],
   "source": [
    "print(logits)"
   ]
  },
  {
   "cell_type": "code",
   "execution_count": null,
   "metadata": {},
   "outputs": [],
   "source": []
  }
 ],
 "metadata": {
  "kernelspec": {
   "display_name": "Python 3",
   "language": "python",
   "name": "python3"
  },
  "language_info": {
   "codemirror_mode": {
    "name": "ipython",
    "version": 3
   },
   "file_extension": ".py",
   "mimetype": "text/x-python",
   "name": "python",
   "nbconvert_exporter": "python",
   "pygments_lexer": "ipython3",
   "version": "3.6.9"
  }
 },
 "nbformat": 4,
 "nbformat_minor": 2
}
