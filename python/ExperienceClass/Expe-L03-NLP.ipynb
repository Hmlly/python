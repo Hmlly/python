{
 "cells": [
  {
   "cell_type": "markdown",
   "metadata": {},
   "source": [
    "## 思维⽅式 - 01 基于规则引擎 Rule Enginee Based"
   ]
  },
  {
   "cell_type": "markdown",
   "metadata": {},
   "source": [
    "最直接的方法-随机从句子库中选择"
   ]
  },
  {
   "cell_type": "code",
   "execution_count": 1,
   "metadata": {},
   "outputs": [],
   "source": [
    "import random\n",
    "def random_output(string):\n",
    "    return random.choice(string.split('|')).strip()"
   ]
  },
  {
   "cell_type": "code",
   "execution_count": 2,
   "metadata": {},
   "outputs": [
    {
     "data": {
      "text/plain": [
       "'您来啦'"
      ]
     },
     "execution_count": 2,
     "metadata": {},
     "output_type": "execute_result"
    }
   ],
   "source": [
    "random_output('您好 | 您来啦 | 快请进')"
   ]
  },
  {
   "cell_type": "markdown",
   "metadata": {},
   "source": [
    "一个简单的语法规则\n",
    ">hello_rules = ''' \n",
    "say_hello = names hello tail  \n",
    "names = name names | name \n",
    "name = Jhon | Mike | ⽼梁 | ⽼刘  \n",
    "hello = 你好 | 您来啦 | 快请进 \n",
    "tail = 呀 | ！ \n",
    "'''"
   ]
  },
  {
   "cell_type": "code",
   "execution_count": 3,
   "metadata": {},
   "outputs": [],
   "source": [
    "def tail():\n",
    "    return random_output('呀 | ！')\n",
    "def hello():\n",
    "    return random_output('您好 | 您来啦 | 快请进')\n",
    "def name():\n",
    "    return random_output('John | Mike | 老梁 | 老刘')\n",
    "def names():\n",
    "    pro = random.random()\n",
    "    if pro < 0.5:\n",
    "        return name() + '，' + names()\n",
    "    else:\n",
    "        return name()\n",
    "def say_hello():\n",
    "    return names() + '，' + hello() + tail()"
   ]
  },
  {
   "cell_type": "code",
   "execution_count": 4,
   "metadata": {},
   "outputs": [
    {
     "data": {
      "text/plain": [
       "'老梁，老刘'"
      ]
     },
     "execution_count": 4,
     "metadata": {},
     "output_type": "execute_result"
    }
   ],
   "source": [
    "names()"
   ]
  },
  {
   "cell_type": "code",
   "execution_count": 5,
   "metadata": {},
   "outputs": [
    {
     "data": {
      "text/plain": [
       "'老梁，Mike，老梁，老梁，老刘，您好！'"
      ]
     },
     "execution_count": 5,
     "metadata": {},
     "output_type": "execute_result"
    }
   ],
   "source": [
    "say_hello()"
   ]
  },
  {
   "cell_type": "markdown",
   "metadata": {},
   "source": [
    "语法变更？\n",
    "使用可选择的语法规则！"
   ]
  },
  {
   "cell_type": "code",
   "execution_count": 6,
   "metadata": {},
   "outputs": [],
   "source": [
    "# 通过语法规则生成目标语句\n",
    "def get_generation_by_gram(grammar_str: str, target, stmt_split='=', or_split='|'):\n",
    "   rules = dict() # key is the @statement, value is @expression \n",
    "   #解析语法规则，创建规则字典\n",
    "   for line in grammar_str.split('\\n'): \n",
    "       if not line: continue \n",
    "       # skip the empty line \n",
    "     #  print(line) \n",
    "       stmt, expr = line.split(stmt_split) \n",
    "    \n",
    "       rules[stmt.strip()] = expr.split(or_split) \n",
    "   # 根据规则字典生成目标语句\n",
    "   generated = generate(rules, target=target) \n",
    "    \n",
    "   return generated"
   ]
  },
  {
   "cell_type": "code",
   "execution_count": 7,
   "metadata": {},
   "outputs": [],
   "source": [
    "# 根据规则字典生成目标语句\n",
    "def generate(grammar_rule, target): \n",
    "   if target in grammar_rule: # names  \n",
    "       candidates = grammar_rule[target]  # ['name names', 'name'] \n",
    "       candidate = random.choice(candidates) #'name names', 'name' \n",
    "       return ''.join(generate(grammar_rule, target=c) for c in candidate.split()) \n",
    "   else: \n",
    "       return target"
   ]
  },
  {
   "cell_type": "code",
   "execution_count": 8,
   "metadata": {},
   "outputs": [],
   "source": [
    "# 创建语法规则1\n",
    "simple_grammar = \"\"\"\n",
    "sentence => noun_phrase verb_phrase\n",
    "noun_phrase => Article Adj* noun\n",
    "Adj* => Adj | Adj Adj*\n",
    "verb_phrase => verb noun_phrase\n",
    "Article =>  ⼀个 | 这个\n",
    "noun =>   ⼥⼈ |  篮球 | 桌⼦ | ⼩猫\n",
    "verb => 看着   |  坐在 |  听着 | 看⻅\n",
    "Adj =>   蓝⾊的 |  好看的 | ⼩⼩的\"\"\""
   ]
  },
  {
   "cell_type": "code",
   "execution_count": 9,
   "metadata": {},
   "outputs": [],
   "source": [
    "# 创建语法规则2\n",
    "grammar_2 = \"\"\"\n",
    "say_hello = names hello tail \n",
    "names = name names | name\n",
    "name = Jhon | Mike | ⽼梁 | ⽼刘 \n",
    "hello = 你好 | 您来啦 | 快请进\n",
    "tail = 呀 | ！\n",
    "\"\"\""
   ]
  },
  {
   "cell_type": "code",
   "execution_count": 10,
   "metadata": {},
   "outputs": [
    {
     "data": {
      "text/plain": [
       "'⼀个⼩⼩的好看的好看的⼥⼈看⻅⼀个⼩⼩的蓝⾊的好看的⼥⼈'"
      ]
     },
     "execution_count": 10,
     "metadata": {},
     "output_type": "execute_result"
    }
   ],
   "source": [
    "# 根据语法规则1生成目标语句\n",
    "# target = 'sentence'\n",
    "# sentence 属于 simple_grammar\n",
    "get_generation_by_gram(simple_grammar, target='sentence', stmt_split='=>')"
   ]
  },
  {
   "cell_type": "code",
   "execution_count": 11,
   "metadata": {},
   "outputs": [
    {
     "data": {
      "text/plain": [
       "'Jhon你好！'"
      ]
     },
     "execution_count": 11,
     "metadata": {},
     "output_type": "execute_result"
    }
   ],
   "source": [
    "# 根据语法规则2生成目标语句\n",
    "# target = 'say_hello'\n",
    "# sentence 属于 grammar_2\n",
    "get_generation_by_gram(grammar_2, target='say_hello', stmt_split='=')"
   ]
  },
  {
   "cell_type": "markdown",
   "metadata": {},
   "source": [
    "增加更多好玩的例子！\n",
    "\n",
    "[《四时山水诗》](https://zhidao.baidu.com/question/1609924281471295747.html)"
   ]
  },
  {
   "cell_type": "code",
   "execution_count": 12,
   "metadata": {},
   "outputs": [],
   "source": [
    "grammar_season=\"\"\"\n",
    "season = spring_str , summer_str , autumn_str , winter_str\n",
    "spring_str = spring spring spring spring spring spring spring\n",
    "summer_str = summer summer summer summer summer summer summer\n",
    "autumn_str = summer summer summer summer summer summer summer\n",
    "winter_str = winter winter winter winter winter winter winter\n",
    "spring = 莺|啼|岸|柳|弄|春|晴|夜|月|明\n",
    "summer = 香|莲|碧|水|动|风|凉|夏|日|长\n",
    "autumn = 秋|江|楚|雁|宿|沙|洲|浅|水|流\n",
    "winter = 红|炉|透|炭|炙|寒|风|御|隆|冬\n",
    "\"\"\""
   ]
  },
  {
   "cell_type": "code",
   "execution_count": 13,
   "metadata": {},
   "outputs": [
    {
     "data": {
      "text/plain": [
       "'岸柳弄月弄柳莺,凉香动风水水凉,动风凉水香日碧,御冬炭红隆炭寒'"
      ]
     },
     "execution_count": 13,
     "metadata": {},
     "output_type": "execute_result"
    }
   ],
   "source": [
    "get_generation_by_gram(grammar_season, target='season', stmt_split='=')"
   ]
  },
  {
   "cell_type": "code",
   "execution_count": 14,
   "metadata": {},
   "outputs": [],
   "source": [
    "grammar_loop = \"\"\"\n",
    "word_loop = a_str\n",
    "a1 = 山|黄\n",
    "a2 = 东|山\n",
    "a3 = 运|落\n",
    "a4 = 粮|叶\n",
    "a5 = 车|松\n",
    "a_str = a1 a2 a3 a4 a5 a4 a3 a2 a1\n",
    "\"\"\"\n",
    "# 黄山落叶松叶落山黄; 前门出租车租出门前; 中国出人才人出国中; 天上人世情世人上天; 楼上步轻盈轻步上楼"
   ]
  },
  {
   "cell_type": "code",
   "execution_count": 15,
   "metadata": {},
   "outputs": [
    {
     "data": {
      "text/plain": [
       "'山东落粮松粮落东黄'"
      ]
     },
     "execution_count": 15,
     "metadata": {},
     "output_type": "execute_result"
    }
   ],
   "source": [
    "get_generation_by_gram(grammar_loop, target='word_loop', stmt_split='=')"
   ]
  },
  {
   "cell_type": "markdown",
   "metadata": {},
   "source": [
    "编程语言（形式化语言、正则语言）"
   ]
  },
  {
   "cell_type": "code",
   "execution_count": 16,
   "metadata": {},
   "outputs": [],
   "source": [
    "simpel_programming = '''\n",
    "programming => if_stmt | assign | while_loop\n",
    "while_loop => while ( cond ) { change_line stmt change_line }\n",
    "if_stmt => if ( cond )  { change_line stmt change_line }\n",
    "change_line => /N\n",
    "cond => var op var\n",
    "op => | == | < | >= | <= \n",
    "stmt => assign | if_stmt\n",
    "assign => var = var\n",
    "var =>  char var | char | _ char _ var \n",
    "char => a | b |  c | d | 0 | 1 | 2 | 3\n",
    "'''"
   ]
  },
  {
   "cell_type": "code",
   "execution_count": 17,
   "metadata": {},
   "outputs": [
    {
     "name": "stdout",
     "output_type": "stream",
     "text": [
      "if(d_b__0_bac==0_c_b_a__a_0){/Nif(a<=_0_30_1_2){/Nif(aa==3){/Nif(_2__c_a>=3){/Nc=1/N}/N}/N}/N}\n",
      "if(a_3__1_03c<=0){/Nif(_3_d0==a_3__a__0_dc){/Nif(dc0_d_3){/Nif(_2_c30c_3_a<=_1_bd2){/Nif(_a_c==_b_2){/Nif(31_a_2>=ba){/Nif(c>=d1cb){/Nif(0<=a){/N_0_b_2_0=b/N}/N}/N}/N}/N}/N}/N}/N}\n",
      "if(2d){/Nif(d2b_2__0__3_d){/Nd3=2_c_b/N}/N}\n",
      "b=_1_31_b__3_2\n",
      "d=b1\n",
      "if(b1<11_b_11_2_c0){/Nif(a_3_0b<=a){/Nif(_3_aa==_1__1_2b_1__d_3){/Nif(20b_1_a_c_2_b_d_b_2ab_0_b){/N2=d_0_0_1_a_b__2_b/N}/N}/N}/N}\n",
      "0b=_c_1\n",
      "0_c_b=a\n",
      "if(2>=c){/Nif(_3_c<0){/Nif(ca>=_a_ca){/N_a__a_0=330/N}/N}/N}\n",
      "if(_3_30<_0_d){/N_a__a_3=3/N}\n"
     ]
    }
   ],
   "source": [
    "for i in range(10): \n",
    "   print(get_generation_by_gram(simpel_programming, target='stmt', stmt_split='=>'))"
   ]
  },
  {
   "cell_type": "code",
   "execution_count": 18,
   "metadata": {},
   "outputs": [],
   "source": [
    "def pretty_print(line): \n",
    "   lines = line.split('/N') \n",
    "    \n",
    "   for i, sen in enumerate(lines): \n",
    "       if i < len(lines) / 2:  \n",
    "           print(i * \"  \", sen) \n",
    "       else: \n",
    "           print((len(lines) - i) * \" \", sen)"
   ]
  },
  {
   "cell_type": "code",
   "execution_count": 60,
   "metadata": {},
   "outputs": [
    {
     "name": "stdout",
     "output_type": "stream",
     "text": [
      " 2=_1_d\n",
      " _0__2__a__d_b2=0\n",
      " b0=0\n",
      " _a_d_2_23=cc\n",
      " d_0_00=a\n",
      " while(0_a__b_03){\n",
      "   if(b<_d_b){\n",
      "     if(3<=_3_33_0_a){\n",
      "       cd=cb\n",
      "    }\n",
      "   }\n",
      "  }\n",
      " _c__d_a=_2__d_3_0__d__1__1_0\n",
      " while(_d__1_d==d){\n",
      "   if(_2_a303<=_0_2){\n",
      "     2=_2__b_c3\n",
      "   }\n",
      "  }\n",
      " 3=b\n",
      " 1=b_c_3\n"
     ]
    }
   ],
   "source": [
    "for i in range(10): \n",
    "   pretty_print(get_generation_by_gram(simpel_programming, target='programming', stmt_split='=>'))"
   ]
  },
  {
   "cell_type": "markdown",
   "metadata": {},
   "source": [
    "## 思维⽅式 - 02 基于概率 Probability Model Based"
   ]
  },
  {
   "cell_type": "markdown",
   "metadata": {},
   "source": [
    "```\n",
    "Language Model\n",
    "-> Input: Sentence (w1..wn)\n",
    "-> Output: Pribability(0 - 1)\n",
    "```"
   ]
  },
  {
   "cell_type": "code",
   "execution_count": 2,
   "metadata": {},
   "outputs": [],
   "source": [
    "import jieba\n",
    "from collections import Counter\n",
    "import matplotlib.pyplot as plt\n",
    "%matplotlib inline \n",
    "import numpy as np"
   ]
  },
  {
   "cell_type": "code",
   "execution_count": 80,
   "metadata": {},
   "outputs": [],
   "source": [
    "corpus = '80k_articles.txt'"
   ]
  },
  {
   "cell_type": "code",
   "execution_count": 25,
   "metadata": {},
   "outputs": [],
   "source": [
    "# 'url=https://github.com/Computing-Intelligence/jupyters_and_slides/blob/master/2019-autumn/article_9k.txt'\n",
    "# corpus = 'article_9k.txt'"
   ]
  },
  {
   "cell_type": "code",
   "execution_count": 81,
   "metadata": {},
   "outputs": [
    {
     "data": {
      "text/plain": [
       "34475997"
      ]
     },
     "execution_count": 81,
     "metadata": {},
     "output_type": "execute_result"
    }
   ],
   "source": [
    "FILE = open(corpus,encoding='utf-8').read()\n",
    "len(FILE)"
   ]
  },
  {
   "cell_type": "code",
   "execution_count": 82,
   "metadata": {},
   "outputs": [
    {
     "data": {
      "text/plain": [
       "'新华社照片，东莞（广东），2017年4月7日\\\\n（体育）（9）篮球——CBA总决赛第四场：广东对阵新疆\\\\n4月7日，广东东莞银行队球员易建联在比赛中扣篮。\\\\n当日，在2016-2017赛季中国男子篮球职业联赛（CBA）总决赛第四场比赛中，广东东莞银行队主场迎战新疆喀什古城队。\\\\n新华社记者孟永民摄\\\\n\\u3000\\u3000新华社北京４月１４日新媒体专电（记者杨烨）作为国民经济的重要支柱，央企一季度交上了一份漂亮的“成绩单”。国资委总会计师沈莹在１３日国新办新闻发布会上表示，一季度中央企业累计实现利润总额３１２０亿元，同比增长２３．２％，３月当月利润总额达到历史同期最好水平，１０２家中央企业中有９９家盈利，８１家企业增利，４３家企业效益增幅超过１０％，一些长期亏损的企业实现扭亏为盈。\\\\n\\u3000\\u3000值得注意的是，她同时透露了下一步央企改革重点，国资委将加快推动中央企业战略性重组，加快钢铁、煤炭、煤化工等业务的专业化整合。\\\\n\\u3000\\u3000“一季度中央企业累计实现净利润２２６４．２亿元，同比增长２６．５％，其中归属于母公司所有者的净利润１２０２．７亿元，同比增长２４．６％。”沈莹告诉记者，其中，石油石化、钢铁、有色、煤炭等传'"
      ]
     },
     "execution_count": 82,
     "metadata": {},
     "output_type": "execute_result"
    }
   ],
   "source": [
    "FILE[:500]"
   ]
  },
  {
   "cell_type": "code",
   "execution_count": 29,
   "metadata": {},
   "outputs": [],
   "source": [
    "def generate_by_pro(text_corpus, length=20): \n",
    "   return ''.join(random.sample(text_corpus, length))"
   ]
  },
  {
   "cell_type": "code",
   "execution_count": 30,
   "metadata": {},
   "outputs": [
    {
     "data": {
      "text/plain": [
       "'自进胜思会主奇信一主，民牢人外制实善平主'"
      ]
     },
     "execution_count": 30,
     "metadata": {},
     "output_type": "execute_result"
    }
   ],
   "source": [
    "generate_by_pro(FILE)"
   ]
  },
  {
   "cell_type": "markdown",
   "metadata": {},
   "source": [
    "使用 jiaba 分词"
   ]
  },
  {
   "cell_type": "code",
   "execution_count": 111,
   "metadata": {},
   "outputs": [
    {
     "data": {
      "text/plain": [
       "['⼀', '加', '手机', '5', '要', '做', '市面', '最', '轻薄']"
      ]
     },
     "execution_count": 111,
     "metadata": {},
     "output_type": "execute_result"
    }
   ],
   "source": [
    "# 测试 分词 效果\n",
    "list(jieba.cut('⼀加手机5要做市面最轻薄'))"
   ]
  },
  {
   "cell_type": "code",
   "execution_count": 108,
   "metadata": {},
   "outputs": [],
   "source": [
    "max_length = 10000000 \n",
    "sub_file = FILE[:max_length]"
   ]
  },
  {
   "cell_type": "code",
   "execution_count": 109,
   "metadata": {},
   "outputs": [],
   "source": [
    "def cut(string): \n",
    "   return list(jieba.cut(string))"
   ]
  },
  {
   "cell_type": "code",
   "execution_count": 110,
   "metadata": {},
   "outputs": [],
   "source": [
    "# 分词\n",
    "TOKENS = cut(sub_file)"
   ]
  },
  {
   "cell_type": "code",
   "execution_count": 112,
   "metadata": {},
   "outputs": [
    {
     "data": {
      "text/plain": [
       "5965001"
      ]
     },
     "execution_count": 112,
     "metadata": {},
     "output_type": "execute_result"
    }
   ],
   "source": [
    "len(TOKENS)"
   ]
  },
  {
   "cell_type": "code",
   "execution_count": 113,
   "metadata": {},
   "outputs": [],
   "source": [
    "# 统计每个词出现次数，生成字典 {key=word,value=count}\n",
    "words_count = Counter(TOKENS)"
   ]
  },
  {
   "cell_type": "code",
   "execution_count": 114,
   "metadata": {},
   "outputs": [
    {
     "data": {
      "text/plain": [
       "[('，', 350057),\n",
       " ('的', 182735),\n",
       " ('\\\\', 173600),\n",
       " ('。', 163393),\n",
       " ('n', 159606),\n",
       " ('\\u3000', 103322),\n",
       " ('、', 76900),\n",
       " ('在', 67951),\n",
       " ('”', 62199),\n",
       " ('“', 62184),\n",
       " ('）', 57931),\n",
       " ('（', 57841),\n",
       " ('月', 48374),\n",
       " ('日', 43620),\n",
       " ('新华社', 36308),\n",
       " ('和', 34665),\n",
       " ('年', 32160),\n",
       " ('了', 31605),\n",
       " ('—', 28948),\n",
       " ('：', 27180)]"
      ]
     },
     "execution_count": 114,
     "metadata": {},
     "output_type": "execute_result"
    }
   ],
   "source": [
    "# 最常见的20个词\n",
    "words_count.most_common(20)"
   ]
  },
  {
   "cell_type": "code",
   "execution_count": 115,
   "metadata": {},
   "outputs": [],
   "source": [
    "# 常用词出现次数\n",
    "words_with_fre = [f for w, f in words_count.most_common()]"
   ]
  },
  {
   "cell_type": "code",
   "execution_count": 116,
   "metadata": {},
   "outputs": [
    {
     "data": {
      "text/plain": [
       "[350057, 182735, 173600, 163393, 159606, 103322, 76900, 67951, 62199, 62184]"
      ]
     },
     "execution_count": 116,
     "metadata": {},
     "output_type": "execute_result"
    }
   ],
   "source": [
    "words_with_fre[:10]"
   ]
  },
  {
   "cell_type": "markdown",
   "metadata": {},
   "source": [
    "常用词的出现频率断崖式下跌\n",
    "\n",
    "- 在大量的文本中，出现次数第二多的单词，\n",
    "- 它出现的概率是，出现频率最高的单词的1/2, \n",
    "- 出现频率第三高的单词，频率是最高的单词的 1/3， 1000 => 1/1000"
   ]
  },
  {
   "cell_type": "code",
   "execution_count": 117,
   "metadata": {},
   "outputs": [
    {
     "data": {
      "text/plain": [
       "[<matplotlib.lines.Line2D at 0x1cd5251ab70>]"
      ]
     },
     "execution_count": 117,
     "metadata": {},
     "output_type": "execute_result"
    },
    {
     "data": {
      "image/png": "[encoded data removed]",
      "text/plain": [
       "<Figure size 432x288 with 1 Axes>"
      ]
     },
     "metadata": {
      "needs_background": "light"
     },
     "output_type": "display_data"
    }
   ],
   "source": [
    "# 两次 log 操作后还是下降得很快\n",
    "plt.plot(np.log(np.log(words_with_fre)))"
   ]
  },
  {
   "cell_type": "markdown",
   "metadata": {},
   "source": [
    "相邻2个单词相连（用于计算相邻2个单词出现概率）"
   ]
  },
  {
   "cell_type": "code",
   "execution_count": 118,
   "metadata": {},
   "outputs": [],
   "source": [
    "_2_gram_words = [ \n",
    "   TOKENS[i] + TOKENS[i+1] for i in range(len(TOKENS)-1)\n",
    "]"
   ]
  },
  {
   "cell_type": "code",
   "execution_count": 119,
   "metadata": {},
   "outputs": [
    {
     "data": {
      "text/plain": [
       "['新华社照片', '照片，', '，东莞', '东莞（', '（广东', '广东）', '），', '，2017', '2017年', '年4']"
      ]
     },
     "execution_count": 119,
     "metadata": {},
     "output_type": "execute_result"
    }
   ],
   "source": [
    "_2_gram_words[:10]"
   ]
  },
  {
   "cell_type": "code",
   "execution_count": 120,
   "metadata": {},
   "outputs": [],
   "source": [
    "_2_gram_word_counts = Counter(_2_gram_words)"
   ]
  },
  {
   "cell_type": "markdown",
   "metadata": {},
   "source": [
    "2-gram langauge model "
   ]
  },
  {
   "cell_type": "code",
   "execution_count": 121,
   "metadata": {},
   "outputs": [],
   "source": [
    "def get_2_gram_count(word): \n",
    "   if word in _2_gram_word_counts: return _2_gram_word_counts[word] \n",
    "   else: \n",
    "       return _2_gram_word_counts.most_common()[-1][-1]"
   ]
  },
  {
   "cell_type": "code",
   "execution_count": 122,
   "metadata": {},
   "outputs": [],
   "source": [
    "def get_gram_count(word, wc): \n",
    "   if word in wc: return wc[word] \n",
    "   else: \n",
    "       return wc.most_common()[-1][-1]"
   ]
  },
  {
   "cell_type": "code",
   "execution_count": 123,
   "metadata": {},
   "outputs": [
    {
     "data": {
      "text/plain": [
       "3"
      ]
     },
     "execution_count": 123,
     "metadata": {},
     "output_type": "execute_result"
    }
   ],
   "source": [
    "get_gram_count('XXX',words_count)"
   ]
  },
  {
   "cell_type": "code",
   "execution_count": 124,
   "metadata": {},
   "outputs": [
    {
     "data": {
      "text/plain": [
       "1"
      ]
     },
     "execution_count": 124,
     "metadata": {},
     "output_type": "execute_result"
    }
   ],
   "source": [
    "get_gram_count('XXX', _2_gram_word_counts)"
   ]
  },
  {
   "cell_type": "code",
   "execution_count": 125,
   "metadata": {},
   "outputs": [],
   "source": [
    "# 2-gram langauge model \n",
    "def two_gram_model(sentence): \n",
    "   \n",
    "   tokens = cut(sentence) \n",
    "    \n",
    "   probability = 1 \n",
    "    \n",
    "   for i in range(len(tokens)-1): \n",
    "       word = tokens[i] \n",
    "       next_word = tokens[i+1] \n",
    "        \n",
    "       _two_gram_c = get_gram_count(word+next_word, _2_gram_word_counts) \n",
    "       _one_gram_c = get_gram_count(next_word, words_count) \n",
    "       pro =  _two_gram_c / _one_gram_c \n",
    "        \n",
    "       probability *= pro \n",
    "    \n",
    "   return probability   "
   ]
  },
  {
   "cell_type": "code",
   "execution_count": 126,
   "metadata": {},
   "outputs": [
    {
     "data": {
      "text/plain": [
       "1.104131257488056e-10"
      ]
     },
     "execution_count": 126,
     "metadata": {},
     "output_type": "execute_result"
    }
   ],
   "source": [
    "# 使用模型预测某句话的出现概率\n",
    "two_gram_model('贯彻落实党的十九大精神')"
   ]
  },
  {
   "cell_type": "code",
   "execution_count": 127,
   "metadata": {},
   "outputs": [
    {
     "data": {
      "text/plain": [
       "1.1006394961852739e-28"
      ]
     },
     "execution_count": 127,
     "metadata": {},
     "output_type": "execute_result"
    }
   ],
   "source": [
    "two_gram_model('推进国家治理体系和治理能力现代化的重大意义和总体要求')"
   ]
  },
  {
   "cell_type": "code",
   "execution_count": 128,
   "metadata": {},
   "outputs": [
    {
     "data": {
      "text/plain": [
       "6.889187957604122e-28"
      ]
     },
     "execution_count": 128,
     "metadata": {},
     "output_type": "execute_result"
    }
   ],
   "source": [
    "two_gram_model('推进国家治理体系和治理能力现代化的重大意义和大纲要求')"
   ]
  },
  {
   "cell_type": "code",
   "execution_count": 129,
   "metadata": {},
   "outputs": [
    {
     "data": {
      "text/plain": [
       "2.537191929295796e-26"
      ]
     },
     "execution_count": 129,
     "metadata": {},
     "output_type": "execute_result"
    }
   ],
   "source": [
    "two_gram_model('此外⾃本周6⽉12⽇起除⼩⽶⼿机6等15款机型')"
   ]
  },
  {
   "cell_type": "code",
   "execution_count": 130,
   "metadata": {},
   "outputs": [
    {
     "data": {
      "text/plain": [
       "5.489450605128323e-09"
      ]
     },
     "execution_count": 130,
     "metadata": {},
     "output_type": "execute_result"
    }
   ],
   "source": [
    "two_gram_model('前天早上吃晚饭的时候')"
   ]
  },
  {
   "cell_type": "markdown",
   "metadata": {},
   "source": [
    "比较两句话，判断哪句为真的可能性大"
   ]
  },
  {
   "cell_type": "code",
   "execution_count": 131,
   "metadata": {},
   "outputs": [],
   "source": [
    "need_compared = [ \n",
    "   \"这个人来自秦华⼤学 这个人来自清华⼤学\", \n",
    "   \"今天晚上请你吃大餐，我们⼀起吃日料 明天晚上请你吃大餐，我们⼀起吃苹果\", \n",
    "   \"真事⼀只好看的⼩猫 真是⼀只好看的⼩猫\", \n",
    "   \"今晚我去吃⽕锅 今晚⽕锅去吃我\", \n",
    "   \"洋葱奶昔来⼀杯 养乐多绿来⼀杯\"\n",
    "]"
   ]
  },
  {
   "cell_type": "code",
   "execution_count": 132,
   "metadata": {},
   "outputs": [
    {
     "name": "stdout",
     "output_type": "stream",
     "text": [
      "这个人来自秦华⼤学 is more possible\n",
      "---- 这个人来自秦华⼤学 with probility 1.617392805380646e-08\n",
      "---- 这个人来自清华⼤学 with probility 2.7886082851390446e-10\n",
      "今天晚上请你吃大餐，我们⼀起吃日料 is more possible\n",
      "---- 今天晚上请你吃大餐，我们⼀起吃日料 with probility 8.763017747014153e-24\n",
      "---- 明天晚上请你吃大餐，我们⼀起吃苹果 with probility 6.06437214326239e-26\n",
      "真是⼀只好看的⼩猫 is more possible\n",
      "---- 真事⼀只好看的⼩猫 with probility 6.74512508718887e-14\n",
      "---- 真是⼀只好看的⼩猫 with probility 3.500719920251023e-11\n",
      "今晚⽕锅去吃我 is more possible\n",
      "---- 今晚我去吃⽕锅 with probility 3.9443916315057427e-10\n",
      "---- 今晚⽕锅去吃我 with probility 2.7112761977062603e-07\n",
      "养乐多绿来⼀杯 is more possible\n",
      "---- 洋葱奶昔来⼀杯 with probility 1.0918508619070705e-06\n",
      "---- 养乐多绿来⼀杯 with probility 0.003236245954692557\n"
     ]
    }
   ],
   "source": [
    "for s in need_compared: \n",
    "   s1, s2 = s.split() \n",
    "   p1, p2 = two_gram_model(s1), two_gram_model(s2) \n",
    "    \n",
    "   better = s1 if p1 > p2 else s2 \n",
    "    \n",
    "   print('{} is more possible'.format(better)) \n",
    "   print('-'*4 + ' {} with probility {}'.format(s1, p1)) \n",
    "   print('-'*4 + ' {} with probility {}'.format(s2, p2))"
   ]
  },
  {
   "cell_type": "markdown",
   "metadata": {},
   "source": [
    "练习：结合第⼀种和第二种思路\n",
    "- ⽣成大量的语句，使用语言模型获得最像\"⼈话\"的!"
   ]
  },
  {
   "cell_type": "code",
   "execution_count": 133,
   "metadata": {},
   "outputs": [],
   "source": [
    "generate_sentences = {}\n",
    "# 100消时太久，改为10\n",
    "for i in range(10):\n",
    "    sentence = get_generation_by_gram(simple_grammar, target='sentence', stmt_split='=>')\n",
    "    generate_sentences[sentence] = two_gram_model(sentence)"
   ]
  },
  {
   "cell_type": "code",
   "execution_count": 144,
   "metadata": {},
   "outputs": [
    {
     "name": "stdout",
     "output_type": "stream",
     "text": [
      "['⼀个好看的篮球听着这个好看的桌⼦', '⼀个好看的蓝⾊的桌⼦听着⼀个蓝⾊的篮球', '这个好看的桌⼦看⻅这个蓝⾊的蓝⾊的好看的⼥⼈', '这个好看的好看的蓝⾊的⼩猫听着⼀个⼩⼩的好看的好看的篮球', '⼀个蓝⾊的蓝⾊的⼩猫看⻅⼀个好看的⼩猫', '⼀个好看的⼩猫看⻅⼀个⼩⼩的⼩猫', '这个蓝⾊的⼩⼩的篮球看着这个蓝⾊的篮球', '这个⼩⼩的篮球看⻅这个好看的⼩猫', '这个⼩⼩的蓝⾊的⼩猫坐在这个好看的蓝⾊的桌⼦', '⼀个好看的桌⼦看着这个蓝⾊的蓝⾊的⼥⼈', '⼀个蓝⾊的⼩⼩的好看的⼥⼈看着⼀个好看的⼩猫', '⼀个蓝⾊的⼥⼈看着⼀个好看的⼩猫', '这个蓝⾊的⼥⼈听着这个⼩⼩的桌⼦', '这个蓝⾊的蓝⾊的⼥⼈看⻅这个好看的蓝⾊的⼩猫', '⼀个好看的⼩⼩的篮球看着这个好看的好看的⼩猫', '⼀个⼩⼩的⼥⼈听着⼀个好看的蓝⾊的桌⼦', '这个好看的蓝⾊的蓝⾊的桌⼦看⻅⼀个⼩⼩的好看的⼩⼩的篮球', '⼀个好看的桌⼦坐在⼀个好看的蓝⾊的篮球', '⼀个好看的⼥⼈坐在这个蓝⾊的⼩⼩的蓝⾊的蓝⾊的桌⼦', '这个蓝⾊的好看的好看的⼥⼈坐在这个⼩⼩的蓝⾊的⼩⼩的好看的蓝⾊的蓝⾊的⼥⼈', '⼀个蓝⾊的好看的蓝⾊的⼩⼩的⼩猫坐在这个蓝⾊的桌⼦', '⼀个蓝⾊的篮球看着⼀个⼩⼩的蓝⾊的好看的⼩⼩的篮球', '这个⼩⼩的篮球看着⼀个⼩⼩的⼩⼩的蓝⾊的蓝⾊的蓝⾊的桌⼦', '这个蓝⾊的蓝⾊的⼩猫坐在⼀个好看的⼩⼩的⼥⼈', '⼀个⼩⼩的好看的⼥⼈看⻅⼀个蓝⾊的⼩⼩的蓝⾊的好看的桌⼦', '这个⼩⼩的蓝⾊的⼩猫坐在⼀个⼩⼩的好看的蓝⾊的蓝⾊的篮球', '这个⼩⼩的篮球听着⼀个好看的⼩猫', '⼀个好看的⼥⼈看着⼀个好看的⼩⼩的蓝⾊的⼩⼩的好看的好看的好看的蓝⾊的蓝⾊的⼥⼈', '这个蓝⾊的好看的蓝⾊的⼥⼈看⻅⼀个⼩⼩的蓝⾊的⼥⼈', '这个蓝⾊的好看的⼩⼩的⼩⼩的桌⼦看⻅这个好看的蓝⾊的好看的⼩猫', '⼀个蓝⾊的⼩猫坐在这个⼩⼩的桌⼦', '⼀个蓝⾊的好看的⼥⼈听着这个⼩⼩的好看的好看的⼩⼩的好看的篮球', '这个好看的蓝⾊的篮球看着⼀个⼩⼩的⼥⼈', '⼀个⼩⼩的⼥⼈坐在⼀个好看的桌⼦', '这个⼩⼩的好看的⼩猫看⻅⼀个⼩⼩的好看的蓝⾊的蓝⾊的蓝⾊的好看的好看的篮球', '这个⼩⼩的⼥⼈看着这个⼩⼩的⼩⼩的篮球', '⼀个好看的⼩⼩的⼥⼈听着⼀个蓝⾊的蓝⾊的蓝⾊的⼩猫', '这个蓝⾊的⼩猫看⻅⼀个⼩⼩的篮球', '⼀个好看的蓝⾊的蓝⾊的好看的⼩⼩的⼥⼈看⻅这个好看的⼩猫', '⼀个⼩⼩的蓝⾊的好看的好看的蓝⾊的篮球看⻅⼀个蓝⾊的蓝⾊的桌⼦', '⼀个好看的⼩⼩的桌⼦看着这个好看的好看的⼥⼈', '⼀个⼩⼩的⼩⼩的桌⼦看着⼀个好看的⼩⼩的⼥⼈', '这个蓝⾊的桌⼦坐在⼀个⼩⼩的⼩猫', '这个好看的蓝⾊的⼩⼩的桌⼦坐在⼀个⼩⼩的⼩⼩的⼩⼩的⼩猫', '这个⼩⼩的蓝⾊的好看的⼥⼈看⻅这个蓝⾊的桌⼦', '这个⼩⼩的⼩⼩的⼥⼈听着这个⼩⼩的⼩⼩的桌⼦', '这个蓝⾊的好看的⼩猫看着这个好看的⼩⼩的蓝⾊的⼥⼈', '⼀个⼩⼩的篮球看着这个⼩⼩的⼩⼩的篮球', '这个蓝⾊的蓝⾊的好看的桌⼦坐在⼀个蓝⾊的好看的篮球', '⼀个好看的篮球看⻅这个蓝⾊的桌⼦', '⼀个蓝⾊的⼩猫坐在这个⼩⼩的蓝⾊的篮球', '⼀个好看的⼩猫听着⼀个蓝⾊的篮球', '这个蓝⾊的⼩⼩的蓝⾊的蓝⾊的桌⼦看着⼀个⼩⼩的好看的篮球', '⼀个蓝⾊的好看的桌⼦看着这个蓝⾊的⼩⼩的蓝⾊的桌⼦', '这个蓝⾊的篮球看⻅⼀个蓝⾊的⼥⼈', '这个蓝⾊的篮球看着这个⼩⼩的桌⼦', '⼀个好看的好看的蓝⾊的好看的蓝⾊的蓝⾊的⼩猫听着⼀个好看的篮球', '这个⼩⼩的⼥⼈看⻅⼀个蓝⾊的篮球', '这个蓝⾊的⼩⼩的⼥⼈看⻅这个⼩⼩的⼥⼈', '这个蓝⾊的蓝⾊的蓝⾊的篮球听着⼀个好看的蓝⾊的桌⼦', '⼀个好看的蓝⾊的⼩猫看着这个好看的⼩猫', '这个好看的⼩猫坐在这个蓝⾊的⼩⼩的⼩猫', '⼀个好看的蓝⾊的好看的⼥⼈坐在这个⼩⼩的桌⼦', '⼀个⼩⼩的好看的⼥⼈听着⼀个好看的桌⼦', '⼀个蓝⾊的⼥⼈坐在这个⼩⼩的蓝⾊的⼩⼩的⼩⼩的⼥⼈', '这个⼩⼩的好看的⼥⼈看⻅⼀个好看的蓝⾊的好看的桌⼦', '⼀个蓝⾊的⼥⼈看着这个蓝⾊的蓝⾊的⼩猫', '⼀个蓝⾊的⼩⼩的⼥⼈听着⼀个蓝⾊的⼩⼩的桌⼦', '⼀个蓝⾊的⼥⼈看⻅这个蓝⾊的⼥⼈', '⼀个蓝⾊的好看的好看的⼥⼈看着这个蓝⾊的蓝⾊的篮球', '这个蓝⾊的篮球坐在这个⼩⼩的桌⼦', '⼀个蓝⾊的⼩猫坐在这个好看的⼩⼩的⼩⼩的蓝⾊的篮球', '⼀个⼩⼩的蓝⾊的篮球听着这个⼩⼩的⼩⼩的⼩猫', '这个蓝⾊的桌⼦听着⼀个蓝⾊的⼥⼈', '⼀个蓝⾊的好看的⼥⼈坐在⼀个好看的篮球', '这个好看的好看的篮球坐在这个好看的⼩⼩的桌⼦', '这个蓝⾊的篮球听着⼀个⼩⼩的⼩⼩的好看的⼥⼈', '⼀个⼩⼩的好看的⼩⼩的⼩猫坐在⼀个⼩⼩的篮球', '这个蓝⾊的蓝⾊的好看的桌⼦看⻅这个好看的好看的好看的⼩⼩的好看的蓝⾊的篮球', '⼀个好看的好看的篮球听着这个蓝⾊的⼩⼩的蓝⾊的好看的好看的⼩⼩的⼥⼈', '这个蓝⾊的⼥⼈听着⼀个蓝⾊的桌⼦', '这个蓝⾊的篮球听着⼀个⼩⼩的⼥⼈', '这个好看的蓝⾊的⼩⼩的⼩⼩的蓝⾊的⼩⼩的⼩猫坐在⼀个好看的⼥⼈', '⼀个蓝⾊的⼩⼩的桌⼦看着⼀个⼩⼩的好看的蓝⾊的蓝⾊的⼥⼈', '⼀个好看的⼩⼩的桌⼦看⻅⼀个好看的桌⼦', '这个好看的⼥⼈看⻅这个好看的⼥⼈', '这个⼩⼩的蓝⾊的⼥⼈听着⼀个⼩⼩的⼩⼩的⼥⼈', '这个蓝⾊的⼩⼩的⼩猫坐在这个⼩⼩的好看的蓝⾊的好看的篮球', '这个蓝⾊的⼩⼩的篮球看着⼀个好看的好看的⼩⼩的好看的⼩猫', '这个蓝⾊的⼥⼈看⻅⼀个好看的⼩猫', '这个好看的⼩猫听着⼀个⼩⼩的好看的篮球', '这个⼩⼩的⼩猫看着这个⼩⼩的⼥⼈', '这个好看的篮球看⻅这个⼩⼩的篮球', '⼀个⼩⼩的蓝⾊的桌⼦听着⼀个蓝⾊的⼩⼩的⼩⼩的⼩猫', '这个蓝⾊的⼥⼈坐在这个⼩⼩的⼩⼩的⼥⼈', '⼀个好看的⼩猫看着⼀个好看的⼩⼩的⼥⼈', '这个好看的桌⼦看着⼀个蓝⾊的⼩⼩的桌⼦', '这个⼩⼩的⼥⼈看着⼀个蓝⾊的⼩猫']\n",
      "\n",
      "最像人话的句子出现概率为：4.464403818707564e-18\n",
      "这个⼩⼩的⼩猫看着这个⼩⼩的⼥⼈\n"
     ]
    }
   ],
   "source": [
    "sentence_list = list(generate_sentences.keys())\n",
    "prob_list = list(generate_sentences.values())\n",
    "max_prob = max(prob_list)\n",
    "max_index = prob_list.index(max_prob)\n",
    "max_sentence = sentence_list[max_index]\n",
    "print(sentence_list)\n",
    "print('\\n最像人话的句子出现概率为：{}\\n{}'.format(max_prob,max_sentence))"
   ]
  },
  {
   "cell_type": "code",
   "execution_count": null,
   "metadata": {},
   "outputs": [],
   "source": [
    "## 第三种思维⽅式 基于搜索的 Search Problem Solving"
   ]
  },
  {
   "cell_type": "code",
   "execution_count": 36,
   "metadata": {},
   "outputs": [],
   "source": [
    "import re\n",
    "import math\n",
    "import networkx as nx\n",
    "import matplotlib.pyplot as plt\n",
    "%matplotlib inline\n",
    "plt.rcParams['font.sans-serif'] = ['SimHei']\n",
    "plt.rcParams['axes.unicode_minus'] = False\n",
    "from collections import defaultdict"
   ]
  },
  {
   "cell_type": "code",
   "execution_count": 146,
   "metadata": {},
   "outputs": [
    {
     "data": {
      "text/plain": [
       "['color', 'colour']"
      ]
     },
     "execution_count": 146,
     "metadata": {},
     "output_type": "execute_result"
    }
   ],
   "source": [
    "# 测试正则库\n",
    "l = \"color or colour\"\n",
    "pattern = re.compile(\"colou?r\")\n",
    "pattern.findall(l)"
   ]
  },
  {
   "cell_type": "code",
   "execution_count": 149,
   "metadata": {},
   "outputs": [
    {
     "data": {
      "text/plain": [
       "[]"
      ]
     },
     "execution_count": 149,
     "metadata": {},
     "output_type": "execute_result"
    }
   ],
   "source": [
    "re.findall(\"[A-Z]\",l)"
   ]
  },
  {
   "cell_type": "code",
   "execution_count": 27,
   "metadata": {},
   "outputs": [],
   "source": [
    "# 城市经纬度-源数据\n",
    "coordination_source = \"\"\"\n",
    "{name:'兰州', geoCoord:[103.73, 36.03]},\n",
    "//{name:'嘉峪关', geoCoord:[98.17, 39.47]},\n",
    "{name:'西宁', geoCoord:[101.74, 36.56]},\n",
    "{name:'成都', geoCoord:[104.06, 30.67]},\n",
    "{name:'石家庄', geoCoord:[114.48, 38.03]},\n",
    "{name:'贵阳', geoCoord:[106.71, 26.57]},\n",
    "{name:'武汉', geoCoord:[114.31, 30.52]},\n",
    "{name:'郑州', geoCoord:[113.65, 34.76]},\n",
    "{name:'济南', geoCoord:[117, 36.65]},\n",
    "{name:'南京', geoCoord:[118.78, 32.04]},\n",
    "{name:'合肥', geoCoord:[117.27, 31.86]},\n",
    "{name:'杭州', geoCoord:[120.19, 30.26]},\n",
    "{name:'南昌', geoCoord:[115.89, 28.68]},\n",
    "{name:'福州', geoCoord:[119.3, 26.08]},\n",
    "{name:'广州', geoCoord:[113.23, 23.16]},\n",
    "{name:'长沙', geoCoord:[113, 28.21]},\n",
    "{name:'海口', geoCoord:[110.35, 20.02]},\n",
    "{name:'沈阳', geoCoord:[123.38, 41.8]},\n",
    "{name:'长春', geoCoord:[125.35, 43.88]},\n",
    "{name:'哈尔滨', geoCoord:[126.63, 45.75]},\n",
    "{name:'太原', geoCoord:[112.53, 37.87]},\n",
    "{name:'西安', geoCoord:[108.95, 34.27]},\n",
    "//{name:'台湾', geoCoord:[121.30, 25.03]},\n",
    "{name:'北京', geoCoord:[116.46, 39.92]},\n",
    "{name:'上海', geoCoord:[121.48, 31.22]},\n",
    "{name:'重庆', geoCoord:[106.54, 29.59]},\n",
    "{name:'天津', geoCoord:[117.2, 39.13]},\n",
    "{name:'呼和浩特', geoCoord:[111.65, 40.82]},\n",
    "{name:'南宁', geoCoord:[108.33, 22.84]},\n",
    "//{name:'西藏', geoCoord:[91.11, 29.97]},\n",
    "{name:'拉萨', geoCoord:[102.73, 25.04]},\n",
    "{name:'银川', geoCoord:[106.27, 38.47]},\n",
    "{name:'乌鲁木齐', geoCoord:[87.68, 43.77]},\n",
    "{name:'香港', geoCoord:[114.17, 22.28]},\n",
    "{name:'澳门', geoCoord:[113.54, 22.19]}\"\"\""
   ]
  },
  {
   "cell_type": "code",
   "execution_count": 28,
   "metadata": {},
   "outputs": [
    {
     "name": "stdout",
     "output_type": "stream",
     "text": [
      "长春 (125.35, 43.88)\n"
     ]
    }
   ],
   "source": [
    "# line = \"\"\"{name:'兰州', geoCoord:[103.73, 36.03]},\"\"\"\n",
    "# line = \"\"\"//{name:'嘉峪关', geoCoord:[98.17, 39.47]},\"\"\"\n",
    "line = \"\"\"{name:'长春', geoCoord:[125.35, 43.88]},\"\"\"\n",
    "city = re.findall(\"name:'(\\w+)'\",line)[0] \n",
    "x_y = re.findall(\"geoCoord:\\[(\\d+.\\d+),\\s(\\d+.\\d+)\\]\",line)[0]\n",
    "x_y = tuple(map(float,x_y))\n",
    "print(city,x_y)"
   ]
  },
  {
   "cell_type": "code",
   "execution_count": 31,
   "metadata": {},
   "outputs": [],
   "source": [
    "# 生成城市经纬度字典\n",
    "def get_city_info(city_coordination): \n",
    "   city_location = {} \n",
    "   for line in city_coordination.split(\"\\n\"): \n",
    "       if line.startswith(\"//\"): continue \n",
    "       if line.strip() == \"\":continue \n",
    "       # print(line)     \n",
    "       city = re.findall(\"name:'(\\w+)'\",line)[0] \n",
    "       x_y = re.findall(\"geoCoord:\\[(\\d+.\\d+),\\s(\\d+.\\d+)\\]\",line)[0] \n",
    "       x_y = tuple(map(float,x_y)) \n",
    "       city_location[city] = x_y \n",
    "   return city_location"
   ]
  },
  {
   "cell_type": "code",
   "execution_count": 32,
   "metadata": {},
   "outputs": [
    {
     "data": {
      "text/plain": [
       "{'兰州': (103.73, 36.03),\n",
       " '西宁': (101.74, 36.56),\n",
       " '成都': (104.06, 30.67),\n",
       " '石家庄': (114.48, 38.03),\n",
       " '贵阳': (106.71, 26.57),\n",
       " '武汉': (114.31, 30.52),\n",
       " '郑州': (113.65, 34.76),\n",
       " '济南': (117.0, 36.65),\n",
       " '南京': (118.78, 32.04),\n",
       " '合肥': (117.27, 31.86),\n",
       " '杭州': (120.19, 30.26),\n",
       " '南昌': (115.89, 28.68),\n",
       " '福州': (119.3, 26.08),\n",
       " '广州': (113.23, 23.16),\n",
       " '长沙': (113.0, 28.21),\n",
       " '海口': (110.35, 20.02),\n",
       " '沈阳': (123.38, 41.8),\n",
       " '长春': (125.35, 43.88),\n",
       " '哈尔滨': (126.63, 45.75),\n",
       " '太原': (112.53, 37.87),\n",
       " '西安': (108.95, 34.27),\n",
       " '北京': (116.46, 39.92),\n",
       " '上海': (121.48, 31.22),\n",
       " '重庆': (106.54, 29.59),\n",
       " '天津': (117.2, 39.13),\n",
       " '呼和浩特': (111.65, 40.82),\n",
       " '南宁': (108.33, 22.84),\n",
       " '拉萨': (102.73, 25.04),\n",
       " '银川': (106.27, 38.47),\n",
       " '乌鲁木齐': (87.68, 43.77),\n",
       " '香港': (114.17, 22.28),\n",
       " '澳门': (113.54, 22.19)}"
      ]
     },
     "execution_count": 32,
     "metadata": {},
     "output_type": "execute_result"
    }
   ],
   "source": [
    "city_info = get_city_info(coordination_source)\n",
    "city_info"
   ]
  },
  {
   "cell_type": "code",
   "execution_count": 37,
   "metadata": {},
   "outputs": [
    {
     "data": {
      "image/png": "[encoded data removed]",
      "text/plain": [
       "<Figure size 432x288 with 1 Axes>"
      ]
     },
     "metadata": {},
     "output_type": "display_data"
    }
   ],
   "source": [
    "# 绘制城市地图\n",
    "city_graph = nx.Graph()\n",
    "city_graph.add_nodes_from(list(city_info.keys())) \n",
    "nx.draw(city_graph, city_info, with_labels=True, node_size=10)"
   ]
  },
  {
   "cell_type": "code",
   "execution_count": 38,
   "metadata": {},
   "outputs": [],
   "source": [
    "# 计算两地(经纬度)的地理距离\n",
    "def geo_distance(origin, destination): \n",
    "   \"\"\"\n",
    "   Calculate the Haversine distance.\n",
    "   Parameters\n",
    "   ----------\n",
    "   origin : tuple of float\n",
    "       (lat, long)\n",
    "   destination : tuple of float\n",
    "       (lat, long)\n",
    "   Returns\n",
    "   -------\n",
    "   distance_in_km : float\n",
    "   Examples\n",
    "   --------\n",
    "   >>> origin = (48.1372, 11.5756)  # Munich\n",
    "   >>> destination = (52.5186, 13.4083)  # Berlin\n",
    "   >>> round(distance(origin, destination), 1)\n",
    "   504.2\n",
    "   \"\"\" \n",
    "   lat1, lon1 = origin \n",
    "   lat2, lon2 = destination \n",
    "   radius = 6371  # km\n",
    "   dlat = math.radians(lat2 - lat1) \n",
    "   dlon = math.radians(lon2 - lon1) \n",
    "   a = (math.sin(dlat / 2) * math.sin(dlat / 2) + \n",
    "        math.cos(math.radians(lat1)) * math.cos(math.radians(lat2)) * \n",
    "        math.sin(dlon / 2) * math.sin(dlon / 2)) \n",
    "   c = 2 * math.atan2(math.sqrt(a), math.sqrt(1 - a)) \n",
    "   d = radius * c\n",
    "   return d\n",
    "# 计算两个城市的地理距离\n",
    "def get_city_distance(city1,city2): \n",
    "   return geo_distance(city_info[city1],city_info[city2])"
   ]
  },
  {
   "cell_type": "code",
   "execution_count": 39,
   "metadata": {},
   "outputs": [
    {
     "data": {
      "text/plain": [
       "153.5185697155768"
      ]
     },
     "execution_count": 39,
     "metadata": {},
     "output_type": "execute_result"
    }
   ],
   "source": [
    "get_city_distance(\"杭州\",\"上海\")"
   ]
  },
  {
   "cell_type": "code",
   "execution_count": 40,
   "metadata": {},
   "outputs": [],
   "source": [
    "# 建立城市间连接拓扑图\n",
    "threshold = 700   # defined the threshold\n",
    "def build_connection(city_info): \n",
    "   cities_connection = defaultdict(list) \n",
    "   cities = list(city_info.keys()) \n",
    "   for c1 in cities: \n",
    "       for c2 in cities: \n",
    "           if c1 == c2 : continue \n",
    "            \n",
    "           if get_city_distance(c1,c2) < threshold: \n",
    "               cities_connection[c1].append(c2) \n",
    "   return cities_connection"
   ]
  },
  {
   "cell_type": "code",
   "execution_count": 41,
   "metadata": {},
   "outputs": [],
   "source": [
    "# 建立城市间连接拓扑图\n",
    "cities_connection = build_connection(city_info)"
   ]
  },
  {
   "cell_type": "code",
   "execution_count": 42,
   "metadata": {},
   "outputs": [
    {
     "data": {
      "image/png": "[encoded data removed]",
      "text/plain": [
       "<Figure size 432x288 with 1 Axes>"
      ]
     },
     "metadata": {},
     "output_type": "display_data"
    }
   ],
   "source": [
    "# 绘制城市间连接拓扑图\n",
    "cities_connection_graph = nx.Graph(cities_connection)\n",
    "nx.draw(cities_connection_graph,city_info,with_labels=True,node_size=10)"
   ]
  },
  {
   "cell_type": "code",
   "execution_count": 43,
   "metadata": {},
   "outputs": [],
   "source": [
    "# 搜索导航路径-1\n",
    "def search_1(graph,start,destination): \n",
    "   pathes = [[start]] \n",
    "   visited = set() \n",
    "    \n",
    "   while pathes: \n",
    "       path = pathes.pop(0) \n",
    "       froniter = path[-1] \n",
    "        \n",
    "       if froniter in visited: continue \n",
    "            \n",
    "       successsors = graph[froniter] \n",
    "        \n",
    "       for city in successsors: \n",
    "           if city in path: continue  # check loop \n",
    "            \n",
    "           new_path = path+[city] \n",
    "            \n",
    "           pathes.append(new_path)  #bfs \n",
    "           #pathes = [new_path] + pathes #dfs \n",
    "            \n",
    "           if city == destination: \n",
    "               return new_path \n",
    "       visited.add(froniter)"
   ]
  },
  {
   "cell_type": "code",
   "execution_count": 45,
   "metadata": {},
   "outputs": [
    {
     "name": "stdout",
     "output_type": "stream",
     "text": [
      "['上海', '合肥', '香港']\n"
     ]
    }
   ],
   "source": [
    "new_path = search_1(cities_connection,\"上海\",\"香港\")\n",
    "print(new_path)"
   ]
  },
  {
   "cell_type": "markdown",
   "metadata": {},
   "source": [
    "Optimal search using variation of BFS"
   ]
  },
  {
   "cell_type": "code",
   "execution_count": 46,
   "metadata": {},
   "outputs": [],
   "source": [
    "def search_2(graph,start,destination,search_strategy): \n",
    "   pathes = [[start]] \n",
    "   #visited = set() \n",
    "   while pathes: \n",
    "       path = pathes.pop(0) \n",
    "       froniter = path[-1] \n",
    "       #if froniter in visited : continue \n",
    "       #if froniter == destination: \n",
    "       #    return path \n",
    "       successsors = graph[froniter] \n",
    "        \n",
    "       for city in successsors: \n",
    "           if city in path: continue  # check loop \n",
    "            \n",
    "           new_path = path+[city] \n",
    "            \n",
    "           pathes.append(new_path)  #bfs \n",
    "            \n",
    "       pathes = search_strategy(pathes) \n",
    "      # visited.add(froniter) \n",
    "       if pathes and (destination == pathes[0][-1]): \n",
    "           return pathes[0]   "
   ]
  },
  {
   "cell_type": "code",
   "execution_count": 47,
   "metadata": {},
   "outputs": [],
   "source": [
    "def sort_by_distance(pathes): \n",
    "   def get_distance_of_path(path): \n",
    "       distance = 0 \n",
    "       for i,_ in enumerate(path[:-1]): \n",
    "           distance += get_city_distance(path[i],path[i+1]) \n",
    "       return distance \n",
    "   return sorted(pathes,key=get_distance_of_path)"
   ]
  },
  {
   "cell_type": "code",
   "execution_count": 48,
   "metadata": {},
   "outputs": [],
   "source": [
    "# 测试\n",
    "def get_distance_of_path(path): \n",
    "   distance = 0 \n",
    "   for i,_ in enumerate(path[:-1]): \n",
    "       distance += get_city_distance(path[i],path[i+1]) \n",
    "   return distance"
   ]
  },
  {
   "cell_type": "code",
   "execution_count": 49,
   "metadata": {},
   "outputs": [
    {
     "data": {
      "text/plain": [
       "752.66259009181"
      ]
     },
     "execution_count": 49,
     "metadata": {},
     "output_type": "execute_result"
    }
   ],
   "source": [
    "get_distance_of_path([\"北京\",\"济南\",\"上海\"])"
   ]
  },
  {
   "cell_type": "code",
   "execution_count": 50,
   "metadata": {},
   "outputs": [
    {
     "data": {
      "text/plain": [
       "732.5085345714293"
      ]
     },
     "execution_count": 50,
     "metadata": {},
     "output_type": "execute_result"
    }
   ],
   "source": [
    "get_distance_of_path([\"北京\",\"天津\",\"上海\"])"
   ]
  },
  {
   "cell_type": "code",
   "execution_count": 51,
   "metadata": {},
   "outputs": [
    {
     "data": {
      "text/plain": [
       "['北京', '济南', '上海']"
      ]
     },
     "execution_count": 51,
     "metadata": {},
     "output_type": "execute_result"
    }
   ],
   "source": [
    "# 默认策略\n",
    "search_2(cities_connection,\"北京\",\"上海\",search_strategy=lambda x:x)"
   ]
  },
  {
   "cell_type": "code",
   "execution_count": 52,
   "metadata": {},
   "outputs": [
    {
     "data": {
      "text/plain": [
       "['北京', '天津', '上海']"
      ]
     },
     "execution_count": 52,
     "metadata": {},
     "output_type": "execute_result"
    }
   ],
   "source": [
    "# 搜索策略：根据距离排序\n",
    "search_2(cities_connection,\"北京\",\"上海\",search_strategy=sort_by_distance)"
   ]
  },
  {
   "cell_type": "code",
   "execution_count": 53,
   "metadata": {},
   "outputs": [
    {
     "data": {
      "text/plain": [
       "['上海', '福州', '香港']"
      ]
     },
     "execution_count": 53,
     "metadata": {},
     "output_type": "execute_result"
    }
   ],
   "source": [
    "# 搜索策略：根据距离排序\n",
    "search_2(cities_connection,\"上海\",\"香港\",search_strategy=sort_by_distance)"
   ]
  },
  {
   "cell_type": "markdown",
   "metadata": {},
   "source": [
    "## 第四种思维⽅式 - 基于机器学习 Machine Leanring based Model"
   ]
  },
  {
   "cell_type": "code",
   "execution_count": 54,
   "metadata": {},
   "outputs": [],
   "source": [
    "from sklearn.datasets import load_boston\n",
    "import random"
   ]
  },
  {
   "cell_type": "markdown",
   "metadata": {},
   "source": [
    "sklearn 加载波士顿房价数据集"
   ]
  },
  {
   "cell_type": "code",
   "execution_count": 55,
   "metadata": {},
   "outputs": [],
   "source": [
    "dataset = load_boston()"
   ]
  },
  {
   "cell_type": "code",
   "execution_count": 56,
   "metadata": {},
   "outputs": [],
   "source": [
    "x,y=dataset['data'],dataset['target']"
   ]
  },
  {
   "cell_type": "code",
   "execution_count": 57,
   "metadata": {},
   "outputs": [
    {
     "data": {
      "text/plain": [
       "(506, 13)"
      ]
     },
     "execution_count": 57,
     "metadata": {},
     "output_type": "execute_result"
    }
   ],
   "source": [
    "x.shape"
   ]
  },
  {
   "cell_type": "code",
   "execution_count": 58,
   "metadata": {},
   "outputs": [
    {
     "data": {
      "text/plain": [
       "(506,)"
      ]
     },
     "execution_count": 58,
     "metadata": {},
     "output_type": "execute_result"
    }
   ],
   "source": [
    "y.shape"
   ]
  },
  {
   "cell_type": "code",
   "execution_count": 59,
   "metadata": {},
   "outputs": [
    {
     "data": {
      "text/plain": [
       "array(['CRIM', 'ZN', 'INDUS', 'CHAS', 'NOX', 'RM', 'AGE', 'DIS', 'RAD',\n",
       "       'TAX', 'PTRATIO', 'B', 'LSTAT'], dtype='<U7')"
      ]
     },
     "execution_count": 59,
     "metadata": {},
     "output_type": "execute_result"
    }
   ],
   "source": [
    "dataset.feature_names"
   ]
  },
  {
   "cell_type": "code",
   "execution_count": 62,
   "metadata": {},
   "outputs": [
    {
     "name": "stdout",
     "output_type": "stream",
     "text": [
      "dict_keys(['data', 'target', 'feature_names', 'DESCR', 'filename'])\n"
     ]
    }
   ],
   "source": [
    "print(dataset.keys())"
   ]
  },
  {
   "cell_type": "code",
   "execution_count": 60,
   "metadata": {},
   "outputs": [
    {
     "data": {
      "text/plain": [
       "\".. _boston_dataset:\\n\\nBoston house prices dataset\\n---------------------------\\n\\n**Data Set Characteristics:**  \\n\\n    :Number of Instances: 506 \\n\\n    :Number of Attributes: 13 numeric/categorical predictive. Median Value (attribute 14) is usually the target.\\n\\n    :Attribute Information (in order):\\n        - CRIM     per capita crime rate by town\\n        - ZN       proportion of residential land zoned for lots over 25,000 sq.ft.\\n        - INDUS    proportion of non-retail business acres per town\\n        - CHAS     Charles River dummy variable (= 1 if tract bounds river; 0 otherwise)\\n        - NOX      nitric oxides concentration (parts per 10 million)\\n        - RM       average number of rooms per dwelling\\n        - AGE      proportion of owner-occupied units built prior to 1940\\n        - DIS      weighted distances to five Boston employment centres\\n        - RAD      index of accessibility to radial highways\\n        - TAX      full-value property-tax rate per $10,000\\n        - PTRATIO  pupil-teacher ratio by town\\n        - B        1000(Bk - 0.63)^2 where Bk is the proportion of blacks by town\\n        - LSTAT    % lower status of the population\\n        - MEDV     Median value of owner-occupied homes in $1000's\\n\\n    :Missing Attribute Values: None\\n\\n    :Creator: Harrison, D. and Rubinfeld, D.L.\\n\\nThis is a copy of UCI ML housing dataset.\\nhttps://archive.ics.uci.edu/ml/machine-learning-databases/housing/\\n\\n\\nThis dataset was taken from the StatLib library which is maintained at Carnegie Mellon University.\\n\\nThe Boston house-price data of Harrison, D. and Rubinfeld, D.L. 'Hedonic\\nprices and the demand for clean air', J. Environ. Economics & Management,\\nvol.5, 81-102, 1978.   Used in Belsley, Kuh & Welsch, 'Regression diagnostics\\n...', Wiley, 1980.   N.B. Various transformations are used in the table on\\npages 244-261 of the latter.\\n\\nThe Boston house-price data has been used in many machine learning papers that address regression\\nproblems.   \\n     \\n.. topic:: References\\n\\n   - Belsley, Kuh & Welsch, 'Regression diagnostics: Identifying Influential Data and Sources of Collinearity', Wiley, 1980. 244-261.\\n   - Quinlan,R. (1993). Combining Instance-Based and Model-Based Learning. In Proceedings on the Tenth International Conference of Machine Learning, 236-243, University of Massachusetts, Amherst. Morgan Kaufmann.\\n\""
      ]
     },
     "execution_count": 60,
     "metadata": {},
     "output_type": "execute_result"
    }
   ],
   "source": [
    "dataset['DESCR']"
   ]
  },
  {
   "cell_type": "code",
   "execution_count": 63,
   "metadata": {},
   "outputs": [],
   "source": [
    "# 第5列 - 'RM' 列数据\n",
    "X_rm = x[:,5]"
   ]
  },
  {
   "cell_type": "code",
   "execution_count": 64,
   "metadata": {},
   "outputs": [
    {
     "data": {
      "text/plain": [
       "<matplotlib.collections.PathCollection at 0x106275edcf8>"
      ]
     },
     "execution_count": 64,
     "metadata": {},
     "output_type": "execute_result"
    },
    {
     "data": {
      "image/png": "[encoded data removed]",
      "text/plain": [
       "<Figure size 432x288 with 1 Axes>"
      ]
     },
     "metadata": {
      "needs_background": "light"
     },
     "output_type": "display_data"
    }
   ],
   "source": [
    "# plot the RM with respect to y\n",
    "plt.scatter(X_rm,y)"
   ]
  },
  {
   "cell_type": "markdown",
   "metadata": {},
   "source": [
    "Gradient descent\n",
    "- Assume that the target funciton is a linear function"
   ]
  },
  {
   "cell_type": "code",
   "execution_count": 65,
   "metadata": {},
   "outputs": [],
   "source": [
    "#define target function\n",
    "def price(rm, k, b): \n",
    "   return k * rm + b"
   ]
  },
  {
   "cell_type": "code",
   "execution_count": 67,
   "metadata": {},
   "outputs": [],
   "source": [
    "# define mean-squre loss function \n",
    "def loss(y,y_hat): \n",
    "   return sum((y_i - y_hat_i)**2 for y_i, y_hat_i in zip(list(y),list(y_hat)))/len(list(y))"
   ]
  },
  {
   "cell_type": "code",
   "execution_count": 68,
   "metadata": {},
   "outputs": [],
   "source": [
    "# define partial derivative \n",
    "def partial_derivative_k(x, y, y_hat): \n",
    "   n = len(y) \n",
    "   gradient = 0 \n",
    "   for x_i, y_i, y_hat_i in zip(list(x),list(y),list(y_hat)): \n",
    "       gradient += (y_i-y_hat_i) * x_i \n",
    "   return -2/n * gradient\n",
    "def partial_derivative_b(y, y_hat): \n",
    "   n = len(y) \n",
    "   gradient = 0 \n",
    "   for y_i, y_hat_i in zip(list(y),list(y_hat)): \n",
    "       gradient += (y_i-y_hat_i) \n",
    "   return -2 / n * gradient"
   ]
  },
  {
   "cell_type": "code",
   "execution_count": 72,
   "metadata": {},
   "outputs": [
    {
     "name": "stdout",
     "output_type": "stream",
     "text": [
      "Iteration 0, the loss is 259764.83322246702, parameters k is 69.06311596499992 and b is 96.38399282783433\n",
      "Iteration 1000, the loss is 205.1001833579522, parameters k is -8.896278718666826 and b is 79.81924736625801\n",
      "Iteration 2000, the loss is 193.85946303892933, parameters k is -8.258619847177053 and b is 75.76302403479235\n",
      "Iteration 3000, the loss is 183.40112093370786, parameters k is -7.643552379049072 and b is 71.8505072861153\n",
      "Iteration 4000, the loss is 173.67070184261564, parameters k is -7.0502759309922824 and b is 68.07660578766242\n",
      "Iteration 5000, the loss is 164.61754076453076, parameters k is -6.478018476228573 and b is 64.43640858599146\n",
      "Iteration 6000, the loss is 156.19449909094197, parameters k is -5.926035339858922 and b is 60.92517871619096\n",
      "Iteration 7000, the loss is 148.3577191614699, parameters k is -5.393608229822769 and b is 57.53834703769822\n",
      "Iteration 8000, the loss is 141.06639590284877, parameters k is -4.880044302189306 and b is 54.27150628850712\n",
      "Iteration 9000, the loss is 134.28256436232311, parameters k is -4.384675259564089 and b is 51.120405350026026\n",
      "Iteration 10000, the loss is 127.9709020291769, parameters k is -3.9068564814380733 and b is 48.08094371512544\n",
      "Iteration 11000, the loss is 122.09854491510741, parameters k is -3.4459661853471033 and b is 45.14916615217453\n",
      "Iteration 12000, the loss is 116.63491643579752, parameters k is -3.00140461775042 and b is 42.32125755812379\n",
      "Iteration 13000, the loss is 111.55156820269963, parameters k is -2.572593273575342 and b is 39.59353799393671\n",
      "Iteration 14000, the loss is 106.82203189605048, parameters k is -2.1589741434123746 and b is 36.962457895908976\n",
      "Iteration 15000, the loss is 102.42168144784155, parameters k is -1.760008987381117 and b is 34.42459345664384\n",
      "Iteration 16000, the loss is 98.32760481715164, parameters k is -1.3751786347223234 and b is 31.976642169674566\n",
      "Iteration 17000, the loss is 94.51848469018935, parameters k is -1.0039823082043073 and b is 29.615418531933837\n",
      "Iteration 18000, the loss is 90.97448748386803, parameters k is -0.6459369724647851 and b is 27.337849898479323\n",
      "Iteration 19000, the loss is 87.67716007497116, parameters k is -0.300576705440152 and b is 25.14097248408111\n",
      "Iteration 20000, the loss is 84.60933371718835, parameters k is 0.03254790793588209 and b is 23.021927506467208\n",
      "Iteration 21000, the loss is 81.75503464572996, parameters k is 0.35387036055323384 and b is 20.977957466208494\n",
      "Iteration 22000, the loss is 79.09940090405517, parameters k is 0.6638087872268656 and b is 19.00640255840304\n",
      "Iteration 23000, the loss is 76.62860495963508, parameters k is 0.9627665088129052 and b is 17.104697211489253\n",
      "Iteration 24000, the loss is 74.32978170582561, parameters k is 1.2511325570474838 and b is 15.270366748684086\n",
      "Iteration 25000, the loss is 72.19096147496444, parameters k is 1.5292821807911727 and b is 13.501024167702452\n",
      "Iteration 26000, the loss is 70.2010077139001, parameters k is 1.7975773343378871 and b is 11.794367034566646\n",
      "Iteration 27000, the loss is 68.34955899743619, parameters k is 2.0563671484236563 and b is 10.148174487463983\n",
      "Iteration 28000, the loss is 66.62697507776664, parameters k is 2.3059883845481686 and b is 8.560304346753817\n",
      "Iteration 29000, the loss is 65.02428668898347, parameters k is 2.546765873200321 and b is 7.02869032736314\n",
      "Iteration 30000, the loss is 63.533148845299706, parameters k is 2.779012936558026 and b is 5.551339349943202\n",
      "Iteration 31000, the loss is 62.14579738981557, parameters k is 3.003031796212311 and b is 4.126328947288408\n",
      "Iteration 32000, the loss is 60.8550085675836, parameters k is 3.219113966446308 and b is 2.7518047626422386\n",
      "Iteration 33000, the loss is 59.65406141247545, parameters k is 3.4275406335808998 and b is 1.4259781366348494\n",
      "Iteration 34000, the loss is 58.53670275200271, parameters k is 3.628583021880641 and b is 0.14712377971233082\n",
      "Iteration 35000, the loss is 57.497114647877304, parameters k is 3.822502746496129 and b is -1.0864224729713896\n",
      "Iteration 36000, the loss is 56.52988410277938, parameters k is 4.009552153902093 and b is -2.276265827121403\n",
      "Iteration 37000, the loss is 55.629974875598094, parameters k is 4.189974650274225 and b is -3.4239546181455482\n",
      "Iteration 38000, the loss is 54.79270125839219, parameters k is 4.364005018232042 and b is -4.5309823259932225\n",
      "Iteration 39000, the loss is 54.0137036785311, parameters k is 4.531869722359988 and b is -5.598789518611061\n",
      "Iteration 40000, the loss is 53.288925998977994, parameters k is 4.693787203904319 and b is -6.628765726544698\n",
      "Iteration 41000, the loss is 52.61459439852286, parameters k is 4.8499681650292725 and b is -7.622251251125738\n",
      "Iteration 42000, the loss is 51.987197721996175, parameters k is 5.000615843002429 and b is -8.580538908597225\n",
      "Iteration 43000, the loss is 51.40346919814969, parameters k is 5.145926274666025 and b is -9.50487571244686\n",
      "Iteration 44000, the loss is 50.86036943001189, parameters k is 5.286088551538454 and b is -10.396464496137803\n",
      "Iteration 45000, the loss is 50.35507056915165, parameters k is 5.421285065877798 and b is -11.256465478347723\n",
      "Iteration 46000, the loss is 49.884941591446214, parameters k is 5.551691748027686 and b is -12.08599777275397\n",
      "Iteration 47000, the loss is 49.44753459768796, parameters k is 5.677478295354327 and b is -12.8861408443289\n",
      "Iteration 48000, the loss is 49.04057206769786, parameters k is 5.798808393072559 and b is -13.657935914040554\n",
      "Iteration 49000, the loss is 48.66193500158028, parameters k is 5.9158399272483795 and b is -14.40238731378682\n",
      "6.02872519025504 -15.120463793325927\n"
     ]
    }
   ],
   "source": [
    "#initialized parameters\n",
    "k = random.random() * 200 - 100  # -100 100\n",
    "b = random.random() * 200 - 100  # -100 100\n",
    "learning_rate = 0.0015\n",
    "iteration_num  = 50000\n",
    "losses = []\n",
    "# 迭代计算梯度和更新后的下一轮参数\n",
    "for i in range(iteration_num): \n",
    "    \n",
    "   price_use_current_parameters = [price(r, k, b) for r in X_rm]  # \\hat{y} \n",
    "    \n",
    "   current_loss = loss(y, price_use_current_parameters) \n",
    "   losses.append(current_loss) \n",
    "   if i % 1000 == 0:  \n",
    "       print(\"Iteration {}, the loss is {}, parameters k is {} and b is {}\".format(i,current_loss,k,b)) \n",
    "    \n",
    "   k_gradient = partial_derivative_k(X_rm, y, price_use_current_parameters) \n",
    "   b_gradient = partial_derivative_b(y, price_use_current_parameters) \n",
    "    \n",
    "   k = k + (-1 * k_gradient) * learning_rate \n",
    "   b = b + (-1 * b_gradient) * learning_rate\n",
    "best_k = k\n",
    "best_b = b"
   ]
  },
  {
   "cell_type": "code",
   "execution_count": 74,
   "metadata": {},
   "outputs": [
    {
     "name": "stdout",
     "output_type": "stream",
     "text": [
      "6.02872519025504 -15.120463793325927 48.30999162714287\n"
     ]
    }
   ],
   "source": [
    "print(best_k,best_b,losses[-1])"
   ]
  },
  {
   "cell_type": "code",
   "execution_count": 75,
   "metadata": {},
   "outputs": [
    {
     "data": {
      "text/plain": [
       "[<matplotlib.lines.Line2D at 0x10627a23be0>]"
      ]
     },
     "execution_count": 75,
     "metadata": {},
     "output_type": "execute_result"
    },
    {
     "data": {
      "image/png": "[encoded data removed]",
      "text/plain": [
       "<Figure size 432x288 with 1 Axes>"
      ]
     },
     "metadata": {
      "needs_background": "light"
     },
     "output_type": "display_data"
    }
   ],
   "source": [
    "# 损失函数大小，一开始直线下降\n",
    "plt.plot(list(range(iteration_num)),losses)"
   ]
  },
  {
   "cell_type": "code",
   "execution_count": 76,
   "metadata": {},
   "outputs": [
    {
     "data": {
      "text/plain": [
       "<matplotlib.collections.PathCollection at 0x10627750438>"
      ]
     },
     "execution_count": 76,
     "metadata": {},
     "output_type": "execute_result"
    },
    {
     "data": {
      "image/png": "[encoded data removed]",
      "text/plain": [
       "<Figure size 432x288 with 1 Axes>"
      ]
     },
     "metadata": {
      "needs_background": "light"
     },
     "output_type": "display_data"
    }
   ],
   "source": [
    "# 使用最好的参数预测回归结果\n",
    "# price(r, best_k, best_b)\n",
    "price_use_best_parameters = [price(r, best_k, best_b) for r in X_rm]\n",
    "plt.scatter(X_rm,y)\n",
    "plt.scatter(X_rm,price_use_current_parameters)"
   ]
  },
  {
   "cell_type": "code",
   "execution_count": null,
   "metadata": {},
   "outputs": [],
   "source": []
  }
 ],
 "metadata": {
  "kernelspec": {
   "display_name": "Python 3",
   "language": "python",
   "name": "python3"
  },
  "language_info": {
   "codemirror_mode": {
    "name": "ipython",
    "version": 3
   },
   "file_extension": ".py",
   "mimetype": "text/x-python",
   "name": "python",
   "nbconvert_exporter": "python",
   "pygments_lexer": "ipython3",
   "version": "3.6.9"
  }
 },
 "nbformat": 4,
 "nbformat_minor": 2
}
