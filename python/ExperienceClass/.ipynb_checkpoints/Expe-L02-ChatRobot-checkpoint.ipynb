{
 "cells": [
  {
   "cell_type": "markdown",
   "metadata": {},
   "source": [
    "# 调用【图灵机器人】接口写一个聊天机器人程序"
   ]
  },
  {
   "cell_type": "code",
   "execution_count": 1,
   "metadata": {},
   "outputs": [],
   "source": [
    "import json\n",
    "import urllib.request"
   ]
  },
  {
   "cell_type": "code",
   "execution_count": 2,
   "metadata": {},
   "outputs": [],
   "source": [
    "# 下面是 图灵机器人 接口的地址\n",
    "api_url = \"http://openapi.tuling123.com/openapi/api/v2\" \n",
    "\n",
    "# 下面是我们写的一段程序，程序能够调用上面的接口，将要和机器人讲的话输入，就输出机器人的回答：\n",
    "# 即 get_message(‘你是谁’)，可以得到结果：“我是机器人”"
   ]
  },
  {
   "cell_type": "code",
   "execution_count": 16,
   "metadata": {},
   "outputs": [],
   "source": [
    "# 你看，这就是一个函数。\n",
    "def get_message(message): \n",
    "   userid = 'chen9cd9c7' \n",
    "   # 提前注册用户名和密码\n",
    "   req = { \n",
    "   \"perception\": \n",
    "   { \n",
    "       \"inputText\": \n",
    "       { \n",
    "           \"text\": message \n",
    "       }, \n",
    "       \"selfInfo\": \n",
    "       { \n",
    "           \"location\": \n",
    "           { \n",
    "               \"city\": \"深圳\", \n",
    "               \"province\": \"广州\", \n",
    "               \"street\": \"XXX\" \n",
    "           } \n",
    "       } \n",
    "   }, \n",
    "   \"userInfo\":  \n",
    "   { \n",
    "       # \"apiKey\":  \"59944384781c4f3a8c319fad5cd343a4\", \n",
    "       \"apiKey\":  \"f50c9da915a0434988227175721e459f\", \n",
    "       \"userId\": userid \n",
    "   } \n",
    "   } \n",
    "   # 发送请求\n",
    "   req = json.dumps(req).encode('utf8') \n",
    "   http_post = urllib.request.Request(api_url, data=req, headers={'content-type': 'application/json'}) \n",
    "   # 获取响应\n",
    "   response = urllib.request.urlopen(http_post) \n",
    "   response_str = response.read().decode('utf8') \n",
    "   response_dic = json.loads(response_str) \n",
    "   print(response_dic)\n",
    "   results_text = response_dic['results'][0]['values']['text'] \n",
    "   return results_text"
   ]
  },
  {
   "cell_type": "code",
   "execution_count": 17,
   "metadata": {},
   "outputs": [
    {
     "name": "stdout",
     "output_type": "stream",
     "text": [
      "{'emotion': {'robotEmotion': {'a': 0, 'd': 0, 'emotionId': 0, 'p': 0}, 'userEmotion': {'a': 0, 'd': 0, 'emotionId': 0, 'p': 0}}, 'intent': {'actionName': '', 'code': 10004, 'intentName': ''}, 'results': [{'groupType': 1, 'resultType': 'text', 'values': {'text': '我可能要去睡回笼觉'}}]}\n"
     ]
    },
    {
     "data": {
      "text/plain": [
       "'我可能要去睡回笼觉'"
      ]
     },
     "execution_count": 17,
     "metadata": {},
     "output_type": "execute_result"
    }
   ],
   "source": [
    "get_message('早上好')"
   ]
  },
  {
   "cell_type": "code",
   "execution_count": 5,
   "metadata": {},
   "outputs": [
    {
     "name": "stdout",
     "output_type": "stream",
     "text": [
      "我：早上好\n",
      "                     小机器人: 你也早。\n",
      "我：你是谁\n",
      "                     小机器人: 我是开课吧智能小助手～\n",
      "我：你不是机器人吗\n",
      "                     小机器人: 我就是机器人啊\n",
      "我：你是谁家的机器人啊\n",
      "                     小机器人: 嘻嘻，我说是我家的你信吗？\n",
      "我：你好皮\n",
      "                     小机器人: 说话太深奥了，我脑子太简单了，嘿嘿。\n",
      "我：哈哈，终于等到你不会的了\n",
      "                     小机器人: 又到了看书的时间了。\n",
      "我：你怎么看\n",
      "                     小机器人: 我用眼看的\n",
      "我：你有眼睛吗\n",
      "                     小机器人: 眼睛是硬伤啊\n",
      "我：为什么是硬伤\n",
      "                     小机器人: 人生三大幻觉：手机在震动，她喜欢我，我可以回答你\n",
      "我：嗯，你可以回答我确实是幻觉\n",
      "                     小机器人: 你得先回答，你喜欢我什么？\n"
     ]
    }
   ],
   "source": [
    "# 对话十次 \n",
    "for i in range(10): # 从0 数到 9 \n",
    "   text_input = input('我：') \n",
    "   print('                     小机器人:', get_message(text_input))"
   ]
  },
  {
   "cell_type": "markdown",
   "metadata": {},
   "source": [
    "## 基于规则的对话机器人"
   ]
  },
  {
   "cell_type": "code",
   "execution_count": 6,
   "metadata": {},
   "outputs": [
    {
     "name": "stdout",
     "output_type": "stream",
     "text": [
      "我：在吗？\n",
      "\t\t\t小机器人： 在\n",
      "我：你在干嘛\n",
      "\t\t\t小机器人： 你在\n",
      "我：你是谁啊\n",
      "\t\t\t小机器人： 你是\n",
      "我：\n"
     ]
    }
   ],
   "source": [
    "text = input('我：')\n",
    "while text: \n",
    "   print('\\t\\t\\t小机器人：', text[:-2]) \n",
    "   text = input('我：')"
   ]
  },
  {
   "cell_type": "code",
   "execution_count": 8,
   "metadata": {},
   "outputs": [],
   "source": [
    "# 定义语法规则\n",
    "grammar = \"\"\"\n",
    "句子 => 名词短语 动词短语 \n",
    "名词短语 => 冠词 形容词* 名词\n",
    "形容词* => null | 形容词 形容词*\n",
    "动词短语 => 动词 名词短语\n",
    "冠词 =>  一个 | 这个\n",
    "名词 =>   男人 | 女人 |  篮球 | 桌子 | 小猫 \n",
    "动词 => 喜欢 | 看见\n",
    "形容词 =>   蓝色的 |  好看的 | 小小的 |  年轻的 \n",
    "\"\"\" \n",
    "# 用编程去解决语句的语法树  解析语句称为语法树 非常复杂的过程"
   ]
  },
  {
   "cell_type": "code",
   "execution_count": 9,
   "metadata": {},
   "outputs": [
    {
     "name": "stdout",
     "output_type": "stream",
     "text": [
      "我：早上好\n",
      "                       小机器人： 我去洗澡了～\n",
      "我：你是谁\n",
      "                       小机器人： 呵呵……\n",
      "我：你不是机器人吗\n",
      "                       小机器人： 我去洗澡了～\n",
      "我：你是谁家的机器人啊\n",
      "                       小机器人： 呵呵……\n",
      "我：你好皮\n",
      "                       小机器人： 这是禁止事项！\n",
      "我：哈哈，终于等到你不会的了\n",
      "                       小机器人： 我去洗澡了～\n",
      "我：你怎么看\n",
      "                       小机器人： 这是禁止事项！\n",
      "我：你有眼睛吗\n",
      "                       小机器人： 呵呵……\n",
      "我：为什么是硬伤\n",
      "                       小机器人： 呵呵……\n",
      "我：嗯，你可以回答我确实是幻觉\n",
      "                       小机器人： 呵呵……\n"
     ]
    }
   ],
   "source": [
    "import random \n",
    "# 哈喽，又见面啦函数～\n",
    "def get_message(in_put): \n",
    "   if '？' in in_put: \n",
    "       return random.choice(['你为什么不问问神奇海螺呢？', '不会百度吗？', '你管这些干嘛！'\n",
    "]) \n",
    "   else: \n",
    "       return random.choice(['这是禁止事项！', '呵呵……', '我去洗澡了～']) \n",
    "    \n",
    "# 同样调用上面的函数十次，就可以和机器人进行 十轮对话：\n",
    "for i in range(10):  \n",
    "   text_input = input('我：') \n",
    "   print('                       小机器人：', get_message(text_input))"
   ]
  },
  {
   "cell_type": "markdown",
   "metadata": {},
   "source": [
    "## 基于检索的对话机器人\n",
    "- 拥有一个很大的语料库\n",
    "- 计算问题的相似度\n",
    "- 排序找出最相似的问题"
   ]
  },
  {
   "cell_type": "markdown",
   "metadata": {},
   "source": [
    "## 基于生成的对话机器人\n",
    "- 基于规则生成\n",
    "- 基于概率生成"
   ]
  },
  {
   "cell_type": "code",
   "execution_count": 10,
   "metadata": {},
   "outputs": [],
   "source": [
    "import random \n",
    "grammar = \"\"\"\n",
    "句子 => 名词短语 动词短语 \n",
    "名词短语 => 冠词 形容词* 名词\n",
    "形容词* => null | 形容词 形容词*\n",
    "动词短语 => 动词 名词短语\n",
    "冠词 =>  一个 | 这个\n",
    "名词 =>   男人 | 女人 |  篮球 | 桌子 | 小猫 \n",
    "动词 => 喜欢 | 看见\n",
    "形容词 =>   蓝色的 |  好看的 | 小小的 |  年轻的 \n",
    "\"\"\" \n",
    "def parser(string_rule, gen='=>', split='|'):  \n",
    "   grammar_dict = {} \n",
    "   l = [] \n",
    "   for line in string_rule.split(\"\\n\"): \n",
    "       if not line: continue \n",
    "       stmt,expr = line.split(gen) \n",
    "       stmt = stmt.strip() \n",
    "       expr = [e.split() for e in expr.split(split)] \n",
    "       grammar_dict[stmt] = expr \n",
    "   return grammar_dict \n",
    "\n",
    "# generate 函数的递归定义\n",
    "def generate_from_grammar(grammar, target, gen='=>', split='|'): \n",
    "   def generate(target, grammar_dict): \n",
    "       if target not in grammar_dict: return target \n",
    "       expr = random.choice(grammar_dict[target]) \n",
    "       return ''.join([generate(e,grammar_dict) for e in expr if e != 'null']) \n",
    "   return generate(target, parser(grammar, gen=gen, split=split)) "
   ]
  },
  {
   "cell_type": "code",
   "execution_count": 12,
   "metadata": {},
   "outputs": [
    {
     "name": "stdout",
     "output_type": "stream",
     "text": [
      "这个蓝色的好看的小小的女人看见这个篮球\n",
      "这个小猫喜欢这个男人\n",
      "这个好看的小小的蓝色的女人喜欢这个女人\n",
      "一个年轻的好看的女人喜欢这个年轻的小猫\n",
      "一个男人喜欢一个篮球\n",
      "一个女人喜欢这个小猫\n",
      "这个蓝色的女人看见这个年轻的桌子\n",
      "一个蓝色的年轻的年轻的女人看见这个桌子\n",
      "这个年轻的篮球喜欢一个好看的桌子\n",
      "这个篮球喜欢这个小猫\n"
     ]
    }
   ],
   "source": [
    "for i in range(10):\n",
    "    sentence = generate_from_grammar(grammar, '句子', gen='=>')\n",
    "    print(sentence)"
   ]
  },
  {
   "cell_type": "code",
   "execution_count": null,
   "metadata": {},
   "outputs": [],
   "source": []
  }
 ],
 "metadata": {
  "kernelspec": {
   "display_name": "Python 3",
   "language": "python",
   "name": "python3"
  },
  "language_info": {
   "codemirror_mode": {
    "name": "ipython",
    "version": 3
   },
   "file_extension": ".py",
   "mimetype": "text/x-python",
   "name": "python",
   "nbconvert_exporter": "python",
   "pygments_lexer": "ipython3",
   "version": "3.6.9"
  }
 },
 "nbformat": 4,
 "nbformat_minor": 2
}
