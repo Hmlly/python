{
 "cells": [
  {
   "cell_type": "markdown",
   "metadata": {},
   "source": [
    "各位同学，大家好!  欢迎各位开始学习我们的人工智能课程。  \n",
    "这门课程假设大家不具备机器学习和人工智能的知识，但是希望大家具备初级的Python编程能力。  \n",
    "这门课程结束后，希望大家掌握Python语言以及人工智能基础知识，对CV，NLP，RS领域有一定深入的理解与编程能力。"
   ]
  },
  {
   "cell_type": "markdown",
   "metadata": {},
   "source": [
    "# 本次作业要求"
   ]
  },
  {
   "cell_type": "markdown",
   "metadata": {},
   "source": [
    "## 作业形式"
   ]
  },
  {
   "cell_type": "markdown",
   "metadata": {},
   "source": [
    "复现课程代码  \n",
    "完成课后作业"
   ]
  },
  {
   "cell_type": "markdown",
   "metadata": {},
   "source": [
    "## 作业提交方式"
   ]
  },
  {
   "cell_type": "markdown",
   "metadata": {},
   "source": [
    "完成填写此`jupyter`文件，提交至自己的github，或通过KKB作业平台提交附件"
   ]
  },
  {
   "cell_type": "markdown",
   "metadata": {},
   "source": [
    "## 作业截止时间"
   ]
  },
  {
   "cell_type": "markdown",
   "metadata": {},
   "source": [
    "每次课程作业都会在下次课程(2019年11月8日)进行讲解，请在一周内尽快提交。  \n",
    "此次作业批改截止时间：2019年11月15日"
   ]
  },
  {
   "cell_type": "markdown",
   "metadata": {},
   "source": [
    "# 完成以下问答和编程练习"
   ]
  },
  {
   "cell_type": "markdown",
   "metadata": {},
   "source": [
    "**理论部分**\n",
    "1. 验证多重继承的属性规则，请选择\n",
    "    - 就近原则 √\n",
    "    - 随机原则\n",
    "    - 类定义的先后原则\n",
    "\n",
    "参考资料：\n",
    "- [(转载)深入super，看Python如何解决钻石继承难题](https://www.cnblogs.com/czaiz/p/7772194.html)\n",
    "- [python 多重继承的事](https://www.jianshu.com/p/e188daac678c)\n",
    "\n",
    "```\n",
    "MRO(Method Resolution Order)也叫方法解析顺序，主要用于在多重继承时判断调的属性来自于哪个类，其使用了一种叫做C3的算法，其基本思想时在避免同一类被调用多次的前提下，使用广度优先和从左到右的原则去寻找需要的属性和方法。\n",
    "```\n",
    "- [The Python 2.3 Method Resolution Order](https://www.python.org/download/releases/2.3/mro/)"
   ]
  },
  {
   "cell_type": "code",
   "execution_count": 1,
   "metadata": {
    "collapsed": false
   },
   "outputs": [
    {
     "name": "stdout",
     "output_type": "stream",
     "text": [
      "A0\n",
      "1\n"
     ]
    }
   ],
   "source": [
    "class A0:\n",
    "    name = 'A0'\n",
    "    \n",
    "class A2(A0):\n",
    "    num = 2\n",
    "    \n",
    "class A1:\n",
    "    num = 1\n",
    "    \n",
    "class A3:\n",
    "    name = 'A3'\n",
    "    \n",
    "class A4(A1,A2,A3):\n",
    "    pass\n",
    " \n",
    "ins = A4()\n",
    "# L[A4] = A4 L[A1 A2 A3] = A4 A1 L[A2] A3 = A4 A1 A2 A0 A3\n",
    "print(ins.name) # 'A0'\n",
    "print(ins.num) # 1"
   ]
  },
  {
   "cell_type": "markdown",
   "metadata": {},
   "source": [
    "**编程实践部分**"
   ]
  },
  {
   "cell_type": "markdown",
   "metadata": {},
   "source": [
    "1. 完成ATM的类实现  \n",
    "将第二次课程的ATM机器改写成类实现"
   ]
  },
  {
   "cell_type": "code",
   "execution_count": 3,
   "metadata": {
    "collapsed": false
   },
   "outputs": [
    {
     "name": "stdout",
     "output_type": "stream",
     "text": [
      "========\n",
      "请选择操作\n",
      "1.查询余额\n",
      "2.存款\n",
      "3.取款\n",
      "4.退出\n",
      "1\n",
      "余额： 0 元\n",
      "========\n",
      "请选择操作\n",
      "1.查询余额\n",
      "2.存款\n",
      "3.取款\n",
      "4.退出\n",
      "2\n",
      "请输入存款金额（元）：100\n",
      "存款 100 元成功。\n",
      "========\n",
      "请选择操作\n",
      "1.查询余额\n",
      "2.存款\n",
      "3.取款\n",
      "4.退出\n",
      "3\n",
      "请输入取款金额（元）：200\n",
      "余额不足！\n",
      "========\n",
      "请选择操作\n",
      "1.查询余额\n",
      "2.存款\n",
      "3.取款\n",
      "4.退出\n",
      "100\n",
      "输入 100 为无效字符！\n",
      "========\n",
      "请选择操作\n",
      "1.查询余额\n",
      "2.存款\n",
      "3.取款\n",
      "4.退出\n",
      "3\n",
      "请输入取款金额（元）：100\n",
      "取款 100 元成功。\n",
      "========\n",
      "请选择操作\n",
      "1.查询余额\n",
      "2.存款\n",
      "3.取款\n",
      "4.退出\n",
      "1\n",
      "余额： 0 元\n",
      "========\n",
      "请选择操作\n",
      "1.查询余额\n",
      "2.存款\n",
      "3.取款\n",
      "4.退出\n",
      "5\n",
      "输入 5 为无效字符！\n",
      "========\n",
      "请选择操作\n",
      "1.查询余额\n",
      "2.存款\n",
      "3.取款\n",
      "4.退出\n",
      "a\n",
      "请输入正确的操作代码码[1/2/3/4]！\n",
      "输入 5 为无效字符！\n",
      "========\n",
      "请选择操作\n",
      "1.查询余额\n",
      "2.存款\n",
      "3.取款\n",
      "4.退出\n",
      "4\n",
      "操作结束，退出取款机。\n"
     ]
    }
   ],
   "source": [
    "# 作业2 实现 ATM 机器\n",
    "class ATM_Machine :\n",
    "    def __init__(self) :\n",
    "        # 余额\n",
    "        self.balance = 0\n",
    "        # 提示输入\n",
    "        self.prompts = '========\\n请选择操作\\n1.查询余额\\n2.存款\\n3.取款\\n4.退出\\n'\n",
    "    \n",
    "    # 查询余额\n",
    "    def get_balance(self) :\n",
    "        return self.balance\n",
    "    # 存款\n",
    "    def money_income(self) :\n",
    "        income = int(input('请输入存款金额（元）：'))\n",
    "        if income <= 0 :\n",
    "            print('存款金额应大于 0 元。')\n",
    "        else :\n",
    "            self.balance += income\n",
    "            print('存款',income,'元成功。')\n",
    "    # 取款\n",
    "    def money_outcome(self) :\n",
    "        outcome = int(input('请输入取款金额（元）：'))\n",
    "        if outcome <= 0 :\n",
    "            print('取款金额应大于 0 元。')\n",
    "        elif self.balance - outcome < 0 :\n",
    "            print('余额不足！')\n",
    "        else :\n",
    "            self.balance -= outcome\n",
    "            print('取款',outcome,'元成功。')\n",
    "    # 交互菜单\n",
    "    def menu(self): \n",
    "        input_char = 0\n",
    "        while input_char != 4 :\n",
    "            try:\n",
    "                input_char = int(input(self.prompts))\n",
    "            except Exception:\n",
    "                print('请输入正确的操作代码码[1/2/3/4]！')\n",
    "            # 查询余额\n",
    "            if input_char == 1 :\n",
    "                balance = self.get_balance()\n",
    "                print('余额：',balance,'元')\n",
    "            # 存款\n",
    "            elif input_char == 2 :\n",
    "                self.money_income()\n",
    "            # 取款\n",
    "            elif input_char == 3 :\n",
    "                self.money_outcome()\n",
    "            # 退出\n",
    "            elif input_char == 4 :\n",
    "                print('操作结束，退出取款机。')\n",
    "                break\n",
    "            # 其他字符\n",
    "            else :\n",
    "                print('输入',input_char,'为无效字符！')\n",
    "                \n",
    "# 建立实例\n",
    "atm = ATM_Machine()\n",
    "atm.menu()"
   ]
  },
  {
   "cell_type": "markdown",
   "metadata": {},
   "source": [
    "2. 练习会先提供一个李靖类，用以记录人物角色的战斗力。需要你创建一个子类哪吒类，提供属性和参数的修改。  \n",
    "要求： 在哪吒的初始化方法中，默认添加`['混天绫', '乾坤圈']` 两个装备,以及初始化战斗力为50."
   ]
  },
  {
   "cell_type": "code",
   "execution_count": 5,
   "metadata": {
    "collapsed": false
   },
   "outputs": [
    {
     "name": "stdout",
     "output_type": "stream",
     "text": [
      "[]\n",
      "60\n"
     ]
    }
   ],
   "source": [
    "# 代码不用修改，读懂后运行即可。\n",
    "class Lijing: # 李靖\n",
    "    # 初始化函数，为每个实例创建4个参数（其中后3个参数有默认值）\n",
    "    def __init__(self, name, weapons=[], power=10): \n",
    "        self.name = name\n",
    "        self.weapons = weapons\n",
    "        self.power = power\n",
    "\n",
    "    def count_fight(self, weapon, weapon_power):\n",
    "        self.weapons.append(weapon)\n",
    "        self.power += weapon_power  # 总战力=武器战力之和\n",
    "    \n",
    "lijing = Lijing('李靖')\n",
    "print(lijing.weapons)\n",
    "lijing.count_fight('七宝玲珑塔', 50)  # 七宝玲珑塔 战力 50\n",
    "print(lijing.power)"
   ]
  },
  {
   "cell_type": "markdown",
   "metadata": {},
   "source": [
    "## super()\n",
    "- super().method()\n",
    "- super(type,self)\n",
    "- super(type,self).method()\n",
    "# help(super)"
   ]
  },
  {
   "cell_type": "code",
   "execution_count": 4,
   "metadata": {
    "collapsed": false
   },
   "outputs": [
    {
     "name": "stdout",
     "output_type": "stream",
     "text": [
      "[]\n",
      "['混天绫', '乾坤圈']\n",
      "['七宝玲珑塔']\n",
      "60\n",
      "['混天绫', '乾坤圈', '火尖枪']\n",
      "90\n"
     ]
    }
   ],
   "source": [
    "class Lijing: # 李靖\n",
    "    # 初始化函数，为每个实例创建4个参数（其中后3个参数有默认值）\n",
    "    def __init__(self, name, weapons=[], power=10): \n",
    "        self.name = name\n",
    "        self.weapons = weapons\n",
    "        self.power = power\n",
    "\n",
    "    def count_fight(self, weapon, weapon_power):\n",
    "        self.weapons.append(weapon)\n",
    "        self.power += weapon_power  # 总战力=武器战力之和\n",
    "        \n",
    "# your code here        \n",
    "# 请你完成子类的定制（包括初始化方法和count_fight函数）\n",
    "# 哪吒\n",
    "class Nezha(Lijing):\n",
    "    def __init__(self, name, weapons=['混天绫', '乾坤圈'], power=50) :\n",
    "        super(Nezha,self).__init__(name,weapons,power)\n",
    "#         self.name = name\n",
    "#         self.weapons = weapons\n",
    "#         self.power = power\n",
    "    def count_fight(self, weapon, weapon_power):\n",
    "        super().count_fight(weapon, weapon_power)\n",
    "    \n",
    "# 通过两个实例，完成子类和父类的对比（可自行验证）\n",
    "lijing = Lijing('李靖')\n",
    "nezha = Nezha('哪吒')\n",
    "print(lijing.weapons)\n",
    "print(nezha.weapons)\n",
    "lijing.count_fight('七宝玲珑塔', 50)  # 七宝玲珑塔 战力 50\n",
    "print(lijing.weapons)\n",
    "print(lijing.power)\n",
    "nezha.count_fight('火尖枪', 40)  #\n",
    "print(nezha.weapons)\n",
    "print(nezha.power)"
   ]
  },
  {
   "cell_type": "code",
   "execution_count": null,
   "metadata": {
    "collapsed": true
   },
   "outputs": [],
   "source": []
  }
 ],
 "metadata": {
  "kernelspec": {
   "display_name": "Python 3",
   "language": "python",
   "name": "python3"
  },
  "language_info": {
   "codemirror_mode": {
    "name": "ipython",
    "version": 3
   },
   "file_extension": ".py",
   "mimetype": "text/x-python",
   "name": "python",
   "nbconvert_exporter": "python",
   "pygments_lexer": "ipython3",
   "version": "3.6.9"
  }
 },
 "nbformat": 4,
 "nbformat_minor": 4
}
