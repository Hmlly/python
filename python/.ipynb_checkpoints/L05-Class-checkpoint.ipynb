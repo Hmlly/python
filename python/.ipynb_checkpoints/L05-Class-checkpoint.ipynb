{
 "cells": [
  {
   "cell_type": "code",
   "execution_count": 4,
   "metadata": {
    "collapsed": false
   },
   "outputs": [
    {
     "name": "stdout",
     "output_type": "stream",
     "text": [
      "C:\\Anaconda3\\Scripts\\python3\n",
      "None\n"
     ]
    }
   ],
   "source": [
    "# 打印当前路径\n",
    "import os\n",
    "print(print(os.getcwd()))"
   ]
  },
  {
   "cell_type": "code",
   "execution_count": 3,
   "metadata": {
    "collapsed": false
   },
   "outputs": [
    {
     "name": "stdout",
     "output_type": "stream",
     "text": [
      "['C:\\\\Anaconda3\\\\envs\\\\python3\\\\python36.zip', 'C:\\\\Anaconda3\\\\envs\\\\python3\\\\DLLs', 'C:\\\\Anaconda3\\\\envs\\\\python3\\\\lib', 'C:\\\\Anaconda3\\\\envs\\\\python3', '', 'C:\\\\Anaconda3\\\\envs\\\\python3\\\\lib\\\\site-packages', 'C:\\\\Anaconda3\\\\envs\\\\python3\\\\lib\\\\site-packages\\\\win32', 'C:\\\\Anaconda3\\\\envs\\\\python3\\\\lib\\\\site-packages\\\\win32\\\\lib', 'C:\\\\Anaconda3\\\\envs\\\\python3\\\\lib\\\\site-packages\\\\Pythonwin', 'C:\\\\Anaconda3\\\\envs\\\\python3\\\\lib\\\\site-packages\\\\IPython\\\\extensions', 'C:\\\\Users\\\\sunsh\\\\.ipython']\n"
     ]
    }
   ],
   "source": [
    " # 打印当前环境变量\n",
    "import sys\n",
    "print(sys.path)"
   ]
  },
  {
   "cell_type": "markdown",
   "metadata": {
    "collapsed": true
   },
   "source": [
    "# 类"
   ]
  },
  {
   "cell_type": "code",
   "execution_count": 3,
   "metadata": {
    "collapsed": false
   },
   "outputs": [
    {
     "name": "stdout",
     "output_type": "stream",
     "text": [
      "<class 'str'> <class 'int'> <class 'list'> <class 'numpy.ndarray'> <class 'str'>\n"
     ]
    }
   ],
   "source": [
    "import numpy as np\n",
    "print(type('s'),type(1),type([1,2,3]),type(np.array([1,2,3])),type('sss'))"
   ]
  },
  {
   "cell_type": "markdown",
   "metadata": {},
   "source": [
    "## 类的实例（对象）Instance\n",
    "- 'apple' 'banama'都是 str 类的对象\n",
    "- 苹果、香蕉都是水果类的实例"
   ]
  },
  {
   "cell_type": "markdown",
   "metadata": {},
   "source": [
    "## 实物皆为对象\n",
    "- 类 高级 抽象\n",
    "- 实例/对象 具体化的概念\n",
    "\n",
    "## python 中的对象等于类和实例的集合\n",
    "- java/C++ 对象=实例"
   ]
  },
  {
   "cell_type": "code",
   "execution_count": 6,
   "metadata": {
    "collapsed": false
   },
   "outputs": [
    {
     "name": "stdout",
     "output_type": "stream",
     "text": [
      "0s "
     ]
    }
   ],
   "source": [
    "# 倒计时\n",
    "import time\n",
    "for i in range(4) :\n",
    "    time.sleep(1)\n",
    "    # '\\r' 将输出的光标重置到行首，end=' '打印结束换行符改为空格\n",
    "    print('\\r{}s'.format((3-i)),end=' ')"
   ]
  },
  {
   "cell_type": "markdown",
   "metadata": {},
   "source": [
    "## 类的属性和方法\n",
    "- 属性(attrabute)：描述事物的特有属性(what)，比如黑头发、黄皮肤 \n",
    "- 方法(method)：说明事物的动作/功能(how)，比如说中文、吃饺子"
   ]
  },
  {
   "cell_type": "code",
   "execution_count": 10,
   "metadata": {
    "collapsed": false
   },
   "outputs": [
    {
     "name": "stdout",
     "output_type": "stream",
     "text": [
      "去除字符串 两边的空格另一个字符串\n",
      "去除字符串 左边的空格    另一个字符串\n",
      "  去除字符串 右边的空格另一个字符串\n"
     ]
    }
   ],
   "source": [
    "# 字符串的strip()方法：去除字符串两边的空格\n",
    "print('  去除字符串 两边的空格    '.strip(),'另一个字符串',sep='')\n",
    "# 字符串的lstrip()方法：去除字符串两边的空格\n",
    "print('  去除字符串 左边的空格    '.lstrip(),'另一个字符串',sep='')\n",
    "# 字符串的rstrip()方法：去除字符串两边的空格\n",
    "print('  去除字符串 右边的空格    '.rstrip(),'另一个字符串',sep='')"
   ]
  },
  {
   "cell_type": "code",
   "execution_count": 11,
   "metadata": {
    "collapsed": false
   },
   "outputs": [
    {
     "name": "stdout",
     "output_type": "stream",
     "text": [
      "3\n"
     ]
    }
   ],
   "source": [
    "# 列表的属性\n",
    "print([1,2,3].__len__())"
   ]
  },
  {
   "cell_type": "markdown",
   "metadata": {},
   "source": [
    "## 类的语法\n",
    "```python\n",
    "class Class_name:\n",
    "    \"\"\"\n",
    "    类的说明\n",
    "    \"\"\"\n",
    "    # 变量\n",
    "    attribute = None\n",
    "    attribute2 = [1,2,3]\n",
    "    # 方法 固定写法 self 指向运行的实例对象（类似this）\n",
    "    def foo(self):\n",
    "        pass\n",
    "\n",
    "# 创建实例\n",
    "obj = Class_name()\n",
    "\n",
    "# 调用方法\n",
    "obj.foo()\n",
    "# 调用属性\n",
    "obj.attribute\n",
    "```"
   ]
  },
  {
   "cell_type": "code",
   "execution_count": 17,
   "metadata": {
    "collapsed": false
   },
   "outputs": [
    {
     "name": "stdout",
     "output_type": "stream",
     "text": [
      "foo_class\n",
      "foo\n",
      "<__main__.Sample_class object at 0x000001FE38410198>\n",
      "<class '__main__.Sample_class'>\n",
      "<__main__.Sample_class object at 0x000001FE38410198>\n"
     ]
    }
   ],
   "source": [
    "class Sample_class:\n",
    "    \"\"\"\n",
    "    Sample_class\n",
    "    \"\"\"\n",
    "    # 没有 self 参数，方法属于类（类似静态方法）\n",
    "    def show_class() :\n",
    "        print('foo_class')\n",
    "    # 有 self 参数，方法属于实例\n",
    "    def show(self) :\n",
    "        print('foo')\n",
    "    # 比较\n",
    "    def show2(self) :\n",
    "        print(self) # 指向类的实例object，表示对象的内存地址\n",
    "        print(self.__class__) # 指向类\n",
    "    # self 只是一个占位符，可以换成其他名字\n",
    "    def show3(b):\n",
    "        print(b)\n",
    "    \n",
    "# 调用类的方法    \n",
    "Sample_class.show_class()\n",
    "# 创建实例\n",
    "obj = Sample_class()\n",
    "# 调用实例的方法\n",
    "# TypeError: show() takes 0 positional arguments but 1 was given\n",
    "# def show()\n",
    "obj.show()\n",
    "obj.show2()\n",
    "obj.show3()"
   ]
  },
  {
   "cell_type": "markdown",
   "metadata": {},
   "source": [
    "## self 的使用\n",
    "- 只要在类中使用 def 定义方法，就需要把 self 作为第一个参数，调用时候会自动忽略\n",
    "- 类的方法内部想要使用类的属性或方法，必须使用 self.属性 或 self.方法"
   ]
  },
  {
   "cell_type": "code",
   "execution_count": 4,
   "metadata": {
    "collapsed": false
   },
   "outputs": [
    {
     "name": "stdout",
     "output_type": "stream",
     "text": [
      "李小龙\n",
      "李小龙吃饭，喜欢吃饺子\n"
     ]
    }
   ],
   "source": [
    "class Chinese :\n",
    "    eye = 'black'\n",
    "    name = '李小龙'\n",
    "    def eat(self) :\n",
    "        # NameError: name 'name' is not defined\n",
    "        # print(name + '吃饭，喜欢吃饺子')\n",
    "        # 必须使用 self 调用，self 指代实例化的对象\n",
    "        print(self.name + '吃饭，喜欢吃饺子')\n",
    "\n",
    "lixiaolong = Chinese()\n",
    "print(lixiaolong.name)\n",
    "lixiaolong.eat()"
   ]
  },
  {
   "cell_type": "markdown",
   "metadata": {},
   "source": [
    "## 类的方法和函数是有很多共通性的\n",
    "- 参数传递是一样的：接收位置参数，关键字参数，也支持默认参数\n",
    "- 初始化方法"
   ]
  },
  {
   "cell_type": "code",
   "execution_count": 5,
   "metadata": {
    "collapsed": false
   },
   "outputs": [
    {
     "name": "stdout",
     "output_type": "stream",
     "text": [
      "李小龙\n",
      "李小龙吃饭，喜欢吃面条\n"
     ]
    }
   ],
   "source": [
    "class Chinese :\n",
    "    eye = 'black'\n",
    "    name = '李小龙'\n",
    "    def eat(self, food='饺子') :\n",
    "        print(self.name + '吃饭，喜欢吃'+str(food))\n",
    "lixiaolong = Chinese()\n",
    "print(lixiaolong.name)\n",
    "lixiaolong.eat('面条')"
   ]
  },
  {
   "cell_type": "code",
   "execution_count": 15,
   "metadata": {
    "collapsed": false
   },
   "outputs": [
    {
     "name": "stdout",
     "output_type": "stream",
     "text": [
      "__init__ function is invoke!\n",
      "李小龙 color of eye is black\n",
      "李小龙 num of year is 2\n"
     ]
    }
   ],
   "source": [
    "class Chinese :\n",
    "    # 初始化方法\n",
    "    def __init__(self, name) :\n",
    "        print('__init__ function is invoke!')\n",
    "        # 属性在初始化方法中声明\n",
    "        self.name = str(name)\n",
    "        self.eye = 'black'\n",
    "        self.ear = 2\n",
    "        \n",
    "    # 普通方法\n",
    "    def body(self) :\n",
    "        print('%s color of eye is %s'%(self.name,self.eye))\n",
    "        print('%s num of year is %d'%(self.name,self.ear))\n",
    "    \n",
    "# 创建类的实例时，调用 __init__ 方法\n",
    "lixiaolong = Chinese('李小龙')\n",
    "lixiaolong.body()"
   ]
  },
  {
   "cell_type": "code",
   "execution_count": 14,
   "metadata": {
    "collapsed": false
   },
   "outputs": [
    {
     "name": "stdout",
     "output_type": "stream",
     "text": [
      "李小龙 color of eye is black\n",
      "李小龙 num of year is 2\n"
     ]
    }
   ],
   "source": [
    "class Chinese :\n",
    "    # 初始化方法\n",
    "    def __init__(self) :\n",
    "        pass\n",
    "        \n",
    "    # 普通方法\n",
    "    def get_eye(self, name, eye) :\n",
    "        print(name, 'color of eye is %s'%eye)\n",
    "        \n",
    "    # 普通方法    \n",
    "    def get_ear(self, name, ear) :\n",
    "        print(name, 'num of year is %d'%ear)\n",
    "        \n",
    "# 创建类的实例时，调用 __init__ 方法\n",
    "lixiaolong = Chinese()\n",
    "lixiaolong.get_eye('李小龙','black')\n",
    "lixiaolong.get_ear('李小龙',2)\n"
   ]
  },
  {
   "cell_type": "markdown",
   "metadata": {
    "collapsed": true
   },
   "source": [
    "## 面向对象特性\n",
    "** 封装 **\n",
    "- 类   函数(行为)的集合体\n",
    "```python\n",
    "class tools :\n",
    "    def foo()\n",
    "    def foo2()\n",
    "```\n",
    "- 实例 \n",
    "- 对象 \n",
    "- 属性 \n",
    "- 方法"
   ]
  },
  {
   "cell_type": "markdown",
   "metadata": {},
   "source": [
    "## 图书管理系统\n",
    "    - 查询所有书籍\n",
    "    - 添加书籍\n",
    "    - 借书\n",
    "    - 还书\n",
    "    - 退出系统\n",
    "细化类的封装功能"
   ]
  },
  {
   "cell_type": "code",
   "execution_count": 56,
   "metadata": {
    "collapsed": false
   },
   "outputs": [
    {
     "name": "stdout",
     "output_type": "stream",
     "text": [
      "\n",
      "            1. 查询\n",
      "            2. 捐书\n",
      "            3. 借书\n",
      "            4. 还书\n",
      "            5. 退出\n",
      "            \n",
      "请选择功能对应的数字：1\n",
      "书名:数学之美\t作者:吴军\t简介:AI的科普读物\t借阅状态:未借阅\t\n",
      "书名:三国演义\t作者:罗贯中\t简介:四大名著之一\t借阅状态:已借阅\t\n",
      "书名:长安十二时辰\t作者:马伯庸\t简介:古代侦探小说\t借阅状态:未借阅\t\n",
      "\n",
      "            1. 查询\n",
      "            2. 捐书\n",
      "            3. 借书\n",
      "            4. 还书\n",
      "            5. 退出\n",
      "            \n",
      "请选择功能对应的数字：a\n",
      "请输入正确的功能代码数字！\n",
      "书名:数学之美\t作者:吴军\t简介:AI的科普读物\t借阅状态:未借阅\t\n",
      "书名:三国演义\t作者:罗贯中\t简介:四大名著之一\t借阅状态:已借阅\t\n",
      "书名:长安十二时辰\t作者:马伯庸\t简介:古代侦探小说\t借阅状态:未借阅\t\n",
      "\n",
      "            1. 查询\n",
      "            2. 捐书\n",
      "            3. 借书\n",
      "            4. 还书\n",
      "            5. 退出\n",
      "            \n",
      "请选择功能对应的数字：5\n",
      "Thank you!\n"
     ]
    }
   ],
   "source": [
    "# 使用 'menu' 封装菜单\n",
    "# 书\n",
    "class Book :\n",
    "    def __init__(self,name,author,info,status=0) :\n",
    "        \"\"\"\n",
    "        书名 作者 简介 借阅状态\n",
    "        \"\"\"\n",
    "        self.name = name\n",
    "        self.author = author\n",
    "        self.info = info\n",
    "        self.status = status\n",
    "    # 格式化输出书的信息\n",
    "    def show_book_info(self) :\n",
    "        if self.status == 0 :\n",
    "            status = '未借阅'\n",
    "        else :\n",
    "            status = '已借阅'\n",
    "        print('书名:{}\\t作者:{}\\t简介:{}\\t借阅状态:{}\\t'.format(self.name,self.author,self.info,status))\n",
    "    # 重写 __str__() 方法，格式化输出书的信息\n",
    "    def __str__(self) :\n",
    "        if self.status == 0 :\n",
    "            status = '未借阅'\n",
    "        else :\n",
    "            status = '已借阅'\n",
    "        return ('书名:{}\\t作者:{}\\t简介:{}\\t借阅状态:{}\\t'.format(self.name,self.author,self.info,status))\n",
    "        \n",
    "# 测试-创建 Book 的实例\n",
    "# book = Book('三体','刘慈欣','科幻著作','未借阅')\n",
    "# book.show_book_info()\n",
    "# print(book)\n",
    "\n",
    "# 图书管理系统\n",
    "class BookManager :\n",
    "    def __init__(self):\n",
    "        book1 = Book('数学之美','吴军','AI的科普读物')\n",
    "        book2 = Book('三国演义','罗贯中','四大名著之一',1) # 已借阅\n",
    "        book3 = Book('长安十二时辰','马伯庸','古代侦探小说')\n",
    "        self.books = []\n",
    "        self.books.append(book1)\n",
    "        self.books.append(book2)\n",
    "        self.books.append(book3)\n",
    "        \n",
    "    def menu(self) :\n",
    "        \"\"\"\n",
    "        用来处理交互逻辑\n",
    "        \"\"\"\n",
    "        while True :\n",
    "            print(\"\"\"\n",
    "            1. 查询\n",
    "            2. 捐书\n",
    "            3. 借书\n",
    "            4. 还书\n",
    "            5. 退出\n",
    "            \"\"\")\n",
    "            try:\n",
    "                choice = int(input('请选择功能对应的数字：'))\n",
    "            except Exception :\n",
    "                print('请输入正确的功能代码数字！')\n",
    "            if choice == 1:\n",
    "                self.show_books()\n",
    "            elif choice == 2:\n",
    "                self.add_book()\n",
    "            elif choice == 3:\n",
    "                self.borrow_book()\n",
    "            elif choice == 4:\n",
    "                self.return_books()\n",
    "            elif choice == 5:\n",
    "                print('Thank you!')\n",
    "                break\n",
    "            else :\n",
    "                print('ERROR! 请重新输入')\n",
    "        pass\n",
    "    \n",
    "    # 添加书籍-捐书\n",
    "    def add_book(self):\n",
    "        new_name = input('请输入书籍名称：')\n",
    "        new_author = input('请输入书籍作者：')\n",
    "        new_info = input('请输入书籍简介：')\n",
    "        new_book = Book(new_name,new_author,new_info)\n",
    "        self.books.append(new_book)\n",
    "        print('save!')\n",
    "        pass\n",
    "    # 显示所有书籍\n",
    "    def show_books(self):\n",
    "        for book in self.books:\n",
    "            print(book)\n",
    "    # 借阅一本书\n",
    "    def borrow_book(self):\n",
    "        find_book = False\n",
    "        borrow_name = input('请输入借书名称：')\n",
    "        book = self.check_book(borrow_name)\n",
    "        if(book != None) :\n",
    "            if(book.status == 1) :\n",
    "                print('你来晚了，已经借阅出去了！')\n",
    "            else :\n",
    "                book.status = 1\n",
    "                print('借阅成功！')\n",
    "        else :\n",
    "            print('没有找到这本书！真北图书馆正在采购ing...')\n",
    "            \n",
    "    # 判断书籍是否在库存中，在就返回T=book，否则返回None\n",
    "    def check_book(self,name) :\n",
    "        for book in self.books :\n",
    "            if(book.name == name) :\n",
    "                return book\n",
    "        return None\n",
    "    \n",
    "    # 还书\n",
    "    def return_books(self):\n",
    "        name = input('请输入归还书籍名称：')\n",
    "        res = self.check_book(name)\n",
    "        if res :\n",
    "            if res.status == 1:\n",
    "                res.status = 0\n",
    "                print('归还成功，欢迎再次借阅！')\n",
    "            else :\n",
    "                print('书籍还未借阅出去！')\n",
    "        else:\n",
    "            print('不是本馆图书，请确认书籍名称！')\n",
    "        \n",
    "    \n",
    "# 建立图书馆实例\n",
    "bm = BookManager()\n",
    "bm.menu()"
   ]
  },
  {
   "cell_type": "markdown",
   "metadata": {},
   "source": [
    "## 面向对象特性\n",
    "** 继承 **\n",
    "```python\n",
    "class sub_class(father_class) :\n",
    "    pass\n",
    "```"
   ]
  },
  {
   "cell_type": "code",
   "execution_count": 40,
   "metadata": {
    "collapsed": false
   },
   "outputs": [
    {
     "name": "stdout",
     "output_type": "stream",
     "text": [
      "black\n",
      "吃饺子\n"
     ]
    }
   ],
   "source": [
    "# 父类\n",
    "class Chinese :\n",
    "    eye = 'black'\n",
    "    def eat(self) :\n",
    "        print('吃饺子')\n",
    "# 子类\n",
    "class Pekinger(Chinese) :\n",
    "    pass\n",
    "\n",
    "# 测试\n",
    "chenglong = Pekinger()\n",
    "print(chenglong.eye)\n",
    "chenglong.eat()"
   ]
  },
  {
   "cell_type": "markdown",
   "metadata": {},
   "source": [
    "## 判断一个对象是否是类的实例 isinstance() \n",
    "- 所有的类继承自 object\n",
    "- 多层级继承"
   ]
  },
  {
   "cell_type": "code",
   "execution_count": 42,
   "metadata": {
    "collapsed": false
   },
   "outputs": [
    {
     "name": "stdout",
     "output_type": "stream",
     "text": [
      "True\n",
      "True\n",
      "True\n",
      "True\n"
     ]
    }
   ],
   "source": [
    "# 判断一个对象是否是类的实例\n",
    "print(isinstance(1, int))\n",
    "print(isinstance(chenglong,Pekinger))\n",
    "print(isinstance(chenglong,Chinese))\n",
    "print(isinstance(chenglong,object))"
   ]
  },
  {
   "cell_type": "code",
   "execution_count": 43,
   "metadata": {
    "collapsed": false
   },
   "outputs": [
    {
     "name": "stdout",
     "output_type": "stream",
     "text": [
      "black\n",
      "吃饺子\n",
      "True\n",
      "True\n",
      "True\n"
     ]
    }
   ],
   "source": [
    "# 多层级继承\n",
    "class littleB(Pekinger) :\n",
    "    pass\n",
    "# 测试\n",
    "chenglong = littleB()\n",
    "print(chenglong.eye)\n",
    "chenglong.eat()\n",
    "print(isinstance(chenglong,littleB))\n",
    "print(isinstance(chenglong,Pekinger))\n",
    "print(isinstance(chenglong,Chinese))"
   ]
  },
  {
   "cell_type": "markdown",
   "metadata": {},
   "source": [
    "## 方法重写\n",
    "子类重写父类的方法"
   ]
  },
  {
   "cell_type": "code",
   "execution_count": 53,
   "metadata": {
    "collapsed": false
   },
   "outputs": [
    {
     "name": "stdout",
     "output_type": "stream",
     "text": [
      "我喜欢吃豆腐脑\n",
      "我喜欢吃咸豆花\n",
      "I am a Chinese.\n"
     ]
    }
   ],
   "source": [
    "# 子类重写父类的方法\n",
    "class Chinese :\n",
    "    def eat(self, food='豆腐脑') :\n",
    "        print('我喜欢吃%s'%food)\n",
    "    # 重写方法\n",
    "    def __str__(self) :\n",
    "        return 'I am a Chinese.'\n",
    "    \n",
    "class Pekinger(Chinese) :\n",
    "    # 间接对方法进行重写\n",
    "    def eat(self, taste='咸', food='豆花') :\n",
    "        # print('我喜欢吃{}{}'.format(taste,food))\n",
    "        Chinese.eat(self,taste+food)\n",
    "        \n",
    "# 测试\n",
    "dilireba = Chinese()\n",
    "luhan = Pekinger()\n",
    "dilireba.eat()\n",
    "luhan.eat()\n",
    "# dir(Chinese)\n",
    "# 重写 __str__() 方法，打印自定义内容\n",
    "print(dilireba)"
   ]
  },
  {
   "cell_type": "markdown",
   "metadata": {},
   "source": [
    "## 多重继承 \n",
    "在python中一个类能继承自不止一个父类，这叫做python的多重继承（Multiple Inheritance ）"
   ]
  },
  {
   "cell_type": "code",
   "execution_count": 54,
   "metadata": {
    "collapsed": false
   },
   "outputs": [
    {
     "name": "stdout",
     "output_type": "stream",
     "text": [
      "black\n",
      "吃饺子\n",
      "True\n",
      "True\n",
      "True\n",
      "True\n"
     ]
    }
   ],
   "source": [
    "# 父类\n",
    "class Chinese :\n",
    "    eye = 'black'\n",
    "    def eat(self) :\n",
    "        print('吃饺子')\n",
    "# 子类\n",
    "class Pekinger(Chinese) :\n",
    "    pass\n",
    "\n",
    "class Baoding(Chinese) :\n",
    "    pass\n",
    "\n",
    "# 多重继承\n",
    "class littleB(Pekinger,Baoding) :\n",
    "    pass\n",
    "\n",
    "# 测试\n",
    "chenglong = littleB()\n",
    "print(chenglong.eye)\n",
    "chenglong.eat()\n",
    "print(isinstance(chenglong,littleB))\n",
    "print(isinstance(chenglong,Pekinger))\n",
    "print(isinstance(chenglong,Baoding))\n",
    "print(isinstance(chenglong,Chinese))"
   ]
  },
  {
   "cell_type": "markdown",
   "metadata": {},
   "source": [
    "# 异常\n",
    "异常处理能保证代码在出现错误时继续运行\n",
    "```python\n",
    "try:\n",
    "    # codde here\n",
    "    # may error\n",
    "except Exception:\n",
    "    # error dealt\n",
    "```"
   ]
  },
  {
   "cell_type": "code",
   "execution_count": 55,
   "metadata": {
    "collapsed": false
   },
   "outputs": [
    {
     "name": "stdout",
     "output_type": "stream",
     "text": [
      "\n",
      "            1. 查询\n",
      "            2. 捐书\n",
      "            3. 借书\n",
      "            4. 还书\n",
      "            5. 退出\n",
      "            \n",
      "请选择功能对应的数字：1\n",
      "\n",
      "            1. 查询\n",
      "            2. 捐书\n",
      "            3. 借书\n",
      "            4. 还书\n",
      "            5. 退出\n",
      "            \n",
      "请选择功能对应的数字：2\n",
      "\n",
      "            1. 查询\n",
      "            2. 捐书\n",
      "            3. 借书\n",
      "            4. 还书\n",
      "            5. 退出\n",
      "            \n",
      "请选择功能对应的数字：aa\n",
      "请输入正确的功能代码数字：\n",
      "\n",
      "            1. 查询\n",
      "            2. 捐书\n",
      "            3. 借书\n",
      "            4. 还书\n",
      "            5. 退出\n",
      "            \n",
      "请选择功能对应的数字：5\n"
     ]
    }
   ],
   "source": [
    "# 异常处理\n",
    "info = \"\"\"\n",
    "            1. 查询\n",
    "            2. 捐书\n",
    "            3. 借书\n",
    "            4. 还书\n",
    "            5. 退出\n",
    "            \"\"\"\n",
    "action = 0\n",
    "while action != 5 :\n",
    "    print(info)\n",
    "    try:\n",
    "        action = int(input('请选择功能对应的数字：'))\n",
    "    except Exception :\n",
    "        print('请输入正确的功能代码数字！')"
   ]
  },
  {
   "cell_type": "markdown",
   "metadata": {},
   "source": [
    "## 抛出异常进行类型检查\n",
    "python本身不进行类型检查，需要手动抛出异常，进行类型检查"
   ]
  },
  {
   "cell_type": "code",
   "execution_count": 59,
   "metadata": {
    "collapsed": false
   },
   "outputs": [
    {
     "name": "stdout",
     "output_type": "stream",
     "text": [
      "未成年人\n"
     ]
    },
    {
     "ename": "Exception",
     "evalue": "('Invalide age!', 'aaa')",
     "output_type": "error",
     "traceback": [
      "\u001b[1;31m---------------------------------------------------------------------------\u001b[0m",
      "\u001b[1;31mException\u001b[0m                                 Traceback (most recent call last)",
      "\u001b[1;32m<ipython-input-59-7ff840f5ecad>\u001b[0m in \u001b[0;36m<module>\u001b[1;34m\u001b[0m\n\u001b[0;32m     10\u001b[0m \u001b[1;31m# 测试\u001b[0m\u001b[1;33m\u001b[0m\u001b[1;33m\u001b[0m\u001b[1;33m\u001b[0m\u001b[0m\n\u001b[0;32m     11\u001b[0m \u001b[0mis_adult\u001b[0m\u001b[1;33m(\u001b[0m\u001b[1;36m12\u001b[0m\u001b[1;33m)\u001b[0m\u001b[1;33m\u001b[0m\u001b[1;33m\u001b[0m\u001b[0m\n\u001b[1;32m---> 12\u001b[1;33m \u001b[0mis_adult\u001b[0m\u001b[1;33m(\u001b[0m\u001b[1;34m'aaa'\u001b[0m\u001b[1;33m)\u001b[0m\u001b[1;33m\u001b[0m\u001b[1;33m\u001b[0m\u001b[0m\n\u001b[0m",
      "\u001b[1;32m<ipython-input-59-7ff840f5ecad>\u001b[0m in \u001b[0;36mis_adult\u001b[1;34m(age)\u001b[0m\n\u001b[0;32m      2\u001b[0m \u001b[1;32mdef\u001b[0m \u001b[0mis_adult\u001b[0m\u001b[1;33m(\u001b[0m\u001b[0mage\u001b[0m\u001b[1;33m)\u001b[0m\u001b[1;33m:\u001b[0m\u001b[1;33m\u001b[0m\u001b[1;33m\u001b[0m\u001b[0m\n\u001b[0;32m      3\u001b[0m     \u001b[1;32mif\u001b[0m \u001b[1;32mnot\u001b[0m \u001b[0misinstance\u001b[0m\u001b[1;33m(\u001b[0m\u001b[0mage\u001b[0m\u001b[1;33m,\u001b[0m\u001b[0mint\u001b[0m\u001b[1;33m)\u001b[0m \u001b[1;32mor\u001b[0m \u001b[0mage\u001b[0m \u001b[1;33m<\u001b[0m \u001b[1;36m1\u001b[0m\u001b[1;33m:\u001b[0m\u001b[1;33m\u001b[0m\u001b[1;33m\u001b[0m\u001b[0m\n\u001b[1;32m----> 4\u001b[1;33m         \u001b[1;32mraise\u001b[0m \u001b[0mException\u001b[0m\u001b[1;33m(\u001b[0m\u001b[1;34m'Invalide age!'\u001b[0m\u001b[1;33m,\u001b[0m\u001b[0mage\u001b[0m\u001b[1;33m)\u001b[0m\u001b[1;33m\u001b[0m\u001b[1;33m\u001b[0m\u001b[0m\n\u001b[0m\u001b[0;32m      5\u001b[0m     \u001b[1;31m# 异常抛出后，后面代码不再执行\u001b[0m\u001b[1;33m\u001b[0m\u001b[1;33m\u001b[0m\u001b[1;33m\u001b[0m\u001b[0m\n\u001b[0;32m      6\u001b[0m     \u001b[1;32mif\u001b[0m \u001b[0mage\u001b[0m \u001b[1;33m>=\u001b[0m \u001b[1;36m18\u001b[0m\u001b[1;33m:\u001b[0m\u001b[1;33m\u001b[0m\u001b[1;33m\u001b[0m\u001b[0m\n",
      "\u001b[1;31mException\u001b[0m: ('Invalide age!', 'aaa')"
     ]
    }
   ],
   "source": [
    "# 抛出异常\n",
    "def is_adult(age):\n",
    "    if not isinstance(age,int) or age < 1:\n",
    "        raise Exception('Invalide age!',age)\n",
    "    # 异常抛出后，后面代码不再执行\n",
    "    if age >= 18:\n",
    "        print('成年人')\n",
    "    else :\n",
    "        print('未成年人')\n",
    "# 测试\n",
    "is_adult(12)\n",
    "is_adult('aaa')"
   ]
  },
  {
   "cell_type": "markdown",
   "metadata": {},
   "source": [
    "## 变量作用域\n",
    "- nonlocal \n",
    "- global"
   ]
  },
  {
   "cell_type": "code",
   "execution_count": 62,
   "metadata": {
    "collapsed": false
   },
   "outputs": [
    {
     "name": "stdout",
     "output_type": "stream",
     "text": [
      "After local assignment:  test spam\n",
      "After nonlocal assignment:  nonlocal spam\n",
      "After global assignment:  nonlocal spam\n",
      "In global scope:  global spam\n"
     ]
    }
   ],
   "source": [
    "def scope_test() :\n",
    "    def do_local() :\n",
    "        # 在函数内可以访问\n",
    "        spam = 'local spam'\n",
    "    def do_nolocal() :\n",
    "        # 在外部函数中可以访问\n",
    "        nonlocal spam\n",
    "        spam = 'nonlocal spam'\n",
    "    def do_global() :\n",
    "        # 在全局作用域中可以访问\n",
    "        global spam\n",
    "        spam = 'global spam'\n",
    "    # 测试    \n",
    "    spam = 'test spam'\n",
    "    do_local()\n",
    "    print('After local assignment: ',spam)\n",
    "    do_nolocal()\n",
    "    print('After nonlocal assignment: ',spam)\n",
    "    do_global()\n",
    "    print('After global assignment: ',spam)\n",
    "    \n",
    "# 测试\n",
    "scope_test()\n",
    "print('In global scope: ',spam)"
   ]
  },
  {
   "cell_type": "code",
   "execution_count": null,
   "metadata": {
    "collapsed": true
   },
   "outputs": [],
   "source": []
  }
 ],
 "metadata": {
  "kernelspec": {
   "display_name": "Python 3",
   "language": "python",
   "name": "python3"
  },
  "language_info": {
   "codemirror_mode": {
    "name": "ipython",
    "version": 3
   },
   "file_extension": ".py",
   "mimetype": "text/x-python",
   "name": "python",
   "nbconvert_exporter": "python",
   "pygments_lexer": "ipython3",
   "version": "3.6.9"
  }
 },
 "nbformat": 4,
 "nbformat_minor": 0
}
