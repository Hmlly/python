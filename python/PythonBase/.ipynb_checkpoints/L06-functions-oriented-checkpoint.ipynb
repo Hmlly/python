{
 "cells": [
  {
   "cell_type": "markdown",
   "metadata": {},
   "source": [
    "# 函数高阶：面向函数编程\n",
    "## 格式化输出\n",
    "- python2.6 之前 '%'\n",
    "- python2.6 之后 str.format 功能更强大，可替代'%'\n",
    "- python3.6 之后增加 f-string 字符串语法\n",
    "    - 字符串前加 u：unicode\n",
    "    - 字符串前加 r：不转义"
   ]
  },
  {
   "cell_type": "code",
   "execution_count": 7,
   "metadata": {
    "collapsed": false
   },
   "outputs": [
    {
     "name": "stdout",
     "output_type": "stream",
     "text": [
      "123abc\n",
      "abc123\n",
      "Python3.6的新功能是_:新增功能实例\n",
      "D:\\AI\\Python0基础入门\n",
      "这是一行中文\n"
     ]
    }
   ],
   "source": [
    "print('{1}{0}'.format('abc',123))\n",
    "print('{name}{age}'.format(name='abc',age=123))\n",
    "info = '新增功能实例'\n",
    "print(f'Python3.6的新功能是_:{info}')\n",
    "file = r'D:\\AI\\Python0基础入门'\n",
    "print(file)\n",
    "content = u'这是一行中文'\n",
    "print(content)"
   ]
  },
  {
   "cell_type": "markdown",
   "metadata": {},
   "source": [
    "### 数字格式"
   ]
  },
  {
   "cell_type": "code",
   "execution_count": null,
   "metadata": {
    "collapsed": true
   },
   "outputs": [],
   "source": [
    "print('{:.2f}'.format(3.1415926))"
   ]
  },
  {
   "cell_type": "code",
   "execution_count": null,
   "metadata": {
    "collapsed": true
   },
   "outputs": [],
   "source": []
  },
  {
   "cell_type": "code",
   "execution_count": null,
   "metadata": {
    "collapsed": true
   },
   "outputs": [],
   "source": []
  },
  {
   "cell_type": "code",
   "execution_count": null,
   "metadata": {
    "collapsed": true
   },
   "outputs": [],
   "source": []
  },
  {
   "cell_type": "markdown",
   "metadata": {},
   "source": [
    "## 高阶函数\n",
    "- map/reduce\n",
    "- filter\n",
    "- sorted"
   ]
  },
  {
   "cell_type": "code",
   "execution_count": 11,
   "metadata": {
    "collapsed": false
   },
   "outputs": [
    {
     "name": "stdout",
     "output_type": "stream",
     "text": [
      "[1, 4, 9, 16, 25, 36]\n",
      "[1, 4, 9, 16, 25, 36]\n"
     ]
    }
   ],
   "source": [
    "# 计算列表元素的乘方\n",
    "l = [1,2,3,4,5,6]\n",
    "# 列表解析\n",
    "l2 = [i**2 for i in l]\n",
    "print(l2)\n",
    "# 定义函数\n",
    "def func(i):\n",
    "    return i**2\n",
    "# 将函数 func 作为参数传入 map\n",
    "print(list(map(func,l)))"
   ]
  },
  {
   "cell_type": "code",
   "execution_count": 17,
   "metadata": {
    "collapsed": false
   },
   "outputs": [
    {
     "data": {
      "text/plain": [
       "12"
      ]
     },
     "execution_count": 17,
     "metadata": {},
     "output_type": "execute_result"
    }
   ],
   "source": [
    "# 随机计算2个数字的+-*/\n",
    "from random import choice\n",
    "\n",
    "def compute(func,x,y):\n",
    "    return func(x,y)\n",
    "\n",
    "def add(x,y):\n",
    "    return x+y\n",
    "def minus(x,y):\n",
    "    return x-y\n",
    "def multiply(x,y):\n",
    "    return x*y\n",
    "def divide(x,y):\n",
    "    return x/y\n",
    "\n",
    "# 定义函数列表\n",
    "functions = [add,minus,multiply,divide]\n",
    "# 随机选择一个函数\n",
    "operation = choice(functions)\n",
    "x,y=6,2\n",
    "# 将函数作为参数传入\n",
    "compute(operation,x,y)"
   ]
  },
  {
   "cell_type": "markdown",
   "metadata": {},
   "source": [
    "## map: 将可迭代对象的所有元素进行相同的函数处理"
   ]
  },
  {
   "cell_type": "code",
   "execution_count": 18,
   "metadata": {
    "collapsed": false
   },
   "outputs": [
    {
     "name": "stdout",
     "output_type": "stream",
     "text": [
      "Help on class map in module builtins:\n",
      "\n",
      "class map(object)\n",
      " |  map(func, *iterables) --> map object\n",
      " |  \n",
      " |  Make an iterator that computes the function using arguments from\n",
      " |  each of the iterables.  Stops when the shortest iterable is exhausted.\n",
      " |  \n",
      " |  Methods defined here:\n",
      " |  \n",
      " |  __getattribute__(self, name, /)\n",
      " |      Return getattr(self, name).\n",
      " |  \n",
      " |  __iter__(self, /)\n",
      " |      Implement iter(self).\n",
      " |  \n",
      " |  __new__(*args, **kwargs) from builtins.type\n",
      " |      Create and return a new object.  See help(type) for accurate signature.\n",
      " |  \n",
      " |  __next__(self, /)\n",
      " |      Implement next(self).\n",
      " |  \n",
      " |  __reduce__(...)\n",
      " |      Return state information for pickling.\n",
      "\n"
     ]
    }
   ],
   "source": [
    "help(map)"
   ]
  },
  {
   "cell_type": "code",
   "execution_count": 1,
   "metadata": {
    "collapsed": false
   },
   "outputs": [
    {
     "name": "stdout",
     "output_type": "stream",
     "text": [
      "[(1, 2)]\n",
      "[(3, 4)]\n"
     ]
    },
    {
     "data": {
      "text/plain": [
       "[None, None]"
      ]
     },
     "execution_count": 1,
     "metadata": {},
     "output_type": "execute_result"
    }
   ],
   "source": [
    "l = [(1,2),(3,4)]\n",
    "def foo(*vars):\n",
    "    _sum = []\n",
    "    for var in vars:\n",
    "        _sum.append(var)\n",
    "    return _sum\n",
    "    \n",
    "result = map(foo,l)\n",
    "[print(i) for i in result]"
   ]
  },
  {
   "cell_type": "code",
   "execution_count": 2,
   "metadata": {
    "collapsed": false
   },
   "outputs": [],
   "source": [
    "l = [2,3,4,56,789,1234]\n",
    "[str(i) for i in l]\n",
    "result = map(str,l)\n",
    "# it = iter(result)\n",
    "# while(next(it)):\n",
    "#     print(next(it))"
   ]
  },
  {
   "cell_type": "code",
   "execution_count": 5,
   "metadata": {
    "collapsed": false
   },
   "outputs": [
    {
     "name": "stdout",
     "output_type": "stream",
     "text": [
      "2 4 5\n"
     ]
    }
   ],
   "source": [
    "# 将输入字符串数组转换成int 数组\n",
    "list1 = '1 2 3 4 5' # input() # 1 2 3 4 5\n",
    "list2 = '4 7 8 2 5' # input() # 4 7 8 2 5\n",
    "list1 = list1.split()\n",
    "list2 = list2.split()\n",
    "list1 = map(int,list1)\n",
    "list2 = map(int,list2)\n",
    "union = set(list1) & set(list2)\n",
    "union = list(union)\n",
    "result = list(map(str,union))\n",
    "print(' '.join(result))"
   ]
  },
  {
   "cell_type": "code",
   "execution_count": 6,
   "metadata": {
    "collapsed": false
   },
   "outputs": [
    {
     "name": "stdout",
     "output_type": "stream",
     "text": [
      "a*b*c*d\n"
     ]
    }
   ],
   "source": [
    "print('*'.join(['a','b','c','d']))"
   ]
  },
  {
   "cell_type": "markdown",
   "metadata": {},
   "source": [
    "## reduce\n",
    "- map 所有元素用同一个函数处理\n",
    "- reduce 所有元素用同一个函数嵌套递归"
   ]
  },
  {
   "cell_type": "code",
   "execution_count": 7,
   "metadata": {
    "collapsed": false
   },
   "outputs": [
    {
     "data": {
      "text/plain": [
       "104"
      ]
     },
     "execution_count": 7,
     "metadata": {},
     "output_type": "execute_result"
    }
   ],
   "source": [
    "from functools import reduce\n",
    "l = [23,6,7,45,23]\n",
    "def add(x,y):\n",
    "    return x+y\n",
    "# add(23,add(45,add(7,add(6,23))))))\n",
    "reduce(add,l)"
   ]
  },
  {
   "cell_type": "code",
   "execution_count": 10,
   "metadata": {
    "collapsed": false
   },
   "outputs": [
    {
     "data": {
      "text/plain": [
       "3567"
      ]
     },
     "execution_count": 10,
     "metadata": {},
     "output_type": "execute_result"
    }
   ],
   "source": [
    "# 拼成3567\n",
    "l = [3,5,6,7]\n",
    "def foo(x,y):\n",
    "    return x*10+y\n",
    "# int(''.join(map(str,l)))\n",
    "reduce(foo,l)"
   ]
  },
  {
   "cell_type": "markdown",
   "metadata": {},
   "source": [
    "## filter 过滤器\n",
    "自定义规则，筛选列表中的元素"
   ]
  },
  {
   "cell_type": "code",
   "execution_count": 11,
   "metadata": {
    "collapsed": false
   },
   "outputs": [
    {
     "name": "stdout",
     "output_type": "stream",
     "text": [
      "Help on class filter in module builtins:\n",
      "\n",
      "class filter(object)\n",
      " |  filter(function or None, iterable) --> filter object\n",
      " |  \n",
      " |  Return an iterator yielding those items of iterable for which function(item)\n",
      " |  is true. If function is None, return the items that are true.\n",
      " |  \n",
      " |  Methods defined here:\n",
      " |  \n",
      " |  __getattribute__(self, name, /)\n",
      " |      Return getattr(self, name).\n",
      " |  \n",
      " |  __iter__(self, /)\n",
      " |      Implement iter(self).\n",
      " |  \n",
      " |  __new__(*args, **kwargs) from builtins.type\n",
      " |      Create and return a new object.  See help(type) for accurate signature.\n",
      " |  \n",
      " |  __next__(self, /)\n",
      " |      Implement next(self).\n",
      " |  \n",
      " |  __reduce__(...)\n",
      " |      Return state information for pickling.\n",
      "\n"
     ]
    }
   ],
   "source": [
    "help(filter)"
   ]
  },
  {
   "cell_type": "code",
   "execution_count": 21,
   "metadata": {
    "collapsed": false
   },
   "outputs": [
    {
     "name": "stdout",
     "output_type": "stream",
     "text": [
      "['Lisa', 'Bob', 'Mike']\n",
      "['Lisa', 'Bob', 'Mike']\n"
     ]
    }
   ],
   "source": [
    "# 判断列表中元素是否为空 None '' ' '\n",
    "def isEmpty(objects):\n",
    "    new_list = []\n",
    "    for obj in objects:\n",
    "        if obj != None and obj != '' and obj != ' ':\n",
    "            new_list.append(obj)\n",
    "    return new_list\n",
    "\n",
    "names = ['Lisa','Bob',None,'',' ','Mike']\n",
    "result = isEmpty(names)\n",
    "print(result)\n",
    "\n",
    "# 自定义过滤器\n",
    "def isEmpty(obj):\n",
    "    return obj != None and obj != '' and obj != ' '\n",
    "result = list(filter(isEmpty,names))\n",
    "print(result)"
   ]
  },
  {
   "cell_type": "markdown",
   "metadata": {},
   "source": [
    "## sorted 自定义排序"
   ]
  },
  {
   "cell_type": "code",
   "execution_count": 17,
   "metadata": {
    "collapsed": false
   },
   "outputs": [
    {
     "name": "stdout",
     "output_type": "stream",
     "text": [
      "Help on built-in function sorted in module builtins:\n",
      "\n",
      "sorted(iterable, /, *, key=None, reverse=False)\n",
      "    Return a new list containing all items from the iterable in ascending order.\n",
      "    \n",
      "    A custom key function can be supplied to customize the sort order, and the\n",
      "    reverse flag can be set to request the result in descending order.\n",
      "\n"
     ]
    }
   ],
   "source": [
    "help(sorted)"
   ]
  },
  {
   "cell_type": "code",
   "execution_count": 41,
   "metadata": {
    "collapsed": false
   },
   "outputs": [
    {
     "name": "stdout",
     "output_type": "stream",
     "text": [
      "[-12, 0, 1, 5, 12, 18]\n",
      "[-12, 0, 1, 5, 12, 18]\n"
     ]
    }
   ],
   "source": [
    "l = [1,5,18,-12,12,0]\n",
    "print(sorted(l))\n",
    "def custom_sort(x,y):\n",
    "    if x>y:\n",
    "        return -1\n",
    "    elif x<y:\n",
    "        return 1\n",
    "    else:\n",
    "        return 0\n",
    "# python 2.x\n",
    "# print(sorted(l,custom_sort))\n",
    "# TypeError: must use keyword argument for key function\n",
    "# python 3.x cmp_to_key\n",
    "# NameError: name 'cmp_to_key' is not defined\n",
    "from functools import cmp_to_key\n",
    "print(sorted(l,key=cmp_to_key(custom_sort),reverse=True))\n",
    "# python 3.4.3 的版本中已经没有cmp函数，被operator模块代替\n",
    "# from operator import le\n",
    "# le(1,2)\n",
    "# print(sorted(l,key=lambda a:a))"
   ]
  },
  {
   "cell_type": "markdown",
   "metadata": {},
   "source": [
    "## 匿名函数与lambda表达式\n",
    "匿名函数的实现形式就是 lambda 表达式\n",
    "```\n",
    "    def add(x,y): return x+y\n",
    "的lambda表达式为\n",
    "    lambda x,y : x+y\n",
    "```\n",
    "- 强大且简单，简化代码，且不影响可读性\n",
    "- 多次使用：将lambda赋值"
   ]
  },
  {
   "cell_type": "code",
   "execution_count": 42,
   "metadata": {
    "collapsed": false
   },
   "outputs": [
    {
     "data": {
      "text/plain": [
       "(3, 3)"
      ]
     },
     "execution_count": 42,
     "metadata": {},
     "output_type": "execute_result"
    }
   ],
   "source": [
    "def add(x,y): return x+y\n",
    "# 函数的 lambda 表达式，返回一个函数\n",
    "add_lambda = lambda x,y : x+y\n",
    "add(1,2),add_lambda(1,2)"
   ]
  },
  {
   "cell_type": "markdown",
   "metadata": {},
   "source": [
    "## 函数参数使用匿名函数-lambda表达式\n",
    "- 可结合 lambda 和 pandas 进行数据处理"
   ]
  },
  {
   "cell_type": "code",
   "execution_count": 43,
   "metadata": {
    "collapsed": false
   },
   "outputs": [
    {
     "data": {
      "text/plain": [
       "15"
      ]
     },
     "execution_count": 43,
     "metadata": {},
     "output_type": "execute_result"
    }
   ],
   "source": [
    "reduce(lambda x,y:x+y,[1,2,3,4,5])"
   ]
  },
  {
   "cell_type": "markdown",
   "metadata": {},
   "source": [
    "## 练习 - 字典排序\n",
    "- 按 key 排序\n",
    "- 按 value 排序\n",
    "\n",
    "使用 lambda 和 sorted \n",
    "[python的sorted函数对字典按key排序和按value排序](https://www.cnblogs.com/dylan-wu/p/6041465.html)"
   ]
  },
  {
   "cell_type": "code",
   "execution_count": 45,
   "metadata": {
    "collapsed": false
   },
   "outputs": [
    {
     "name": "stdout",
     "output_type": "stream",
     "text": [
      "[(0, 'f'), (1, 'e'), (2, 'd'), (3, 'c'), (4, 'b'), (5, 'a')]\n",
      "[(5, 'a'), (4, 'b'), (3, 'c'), (2, 'd'), (1, 'e'), (0, 'f')]\n"
     ]
    }
   ],
   "source": [
    "mydict = {0:'f',1:'e',2:'d',3:'c',4:'b',5:'a'}\n",
    "# 按key排序\n",
    "print(sorted(mydict.items(),key=lambda item:item[0]))\n",
    "# 按value排序\n",
    "print(sorted(mydict.items(),key=lambda item:item[1]))"
   ]
  },
  {
   "cell_type": "markdown",
   "metadata": {},
   "source": [
    "## 装饰器\n",
    "- 增强函数的功能，又不想改动函数代码\n",
    "- 在代码运行期间动态增加功能\n",
    "- 动态规划"
   ]
  },
  {
   "cell_type": "code",
   "execution_count": 55,
   "metadata": {
    "collapsed": true
   },
   "outputs": [],
   "source": [
    "@log\n",
    "def add_user(name):\n",
    "    # print('add_user is invoke!')\n",
    "    print('add user',name)\n",
    "@log\n",
    "def remove_user(name):\n",
    "    # print('remove_user is invoke!')\n",
    "    print('remove user',name)"
   ]
  },
  {
   "cell_type": "code",
   "execution_count": 56,
   "metadata": {
    "collapsed": false
   },
   "outputs": [],
   "source": [
    "from datetime import datetime\n",
    "def log(func):\n",
    "    def wrapper(*ars,**kw):\n",
    "        print('calling function:',func.__name__,'\\t at ',datetime.now()) # add code\n",
    "        return func(*ars,**kw)\n",
    "    return wrapper"
   ]
  },
  {
   "cell_type": "code",
   "execution_count": 57,
   "metadata": {
    "collapsed": false
   },
   "outputs": [
    {
     "name": "stdout",
     "output_type": "stream",
     "text": [
      "calling function: add_user \t at  2019-11-08 22:28:06.313977\n",
      "add user chen\n",
      "calling function: remove_user \t at  2019-11-08 22:28:06.313977\n",
      "remove user chen\n"
     ]
    }
   ],
   "source": [
    "add_user('chen')\n",
    "remove_user('chen')"
   ]
  },
  {
   "cell_type": "markdown",
   "metadata": {},
   "source": [
    "## @staticmethod 类的静态函数声明\n",
    "可以通过对象调用，不需要传额外参数"
   ]
  },
  {
   "cell_type": "code",
   "execution_count": 64,
   "metadata": {
    "collapsed": false
   },
   "outputs": [
    {
     "name": "stdout",
     "output_type": "stream",
     "text": [
      "eat is invoke of <class '__main__.Chinese'>\n"
     ]
    }
   ],
   "source": [
    "class Chinese :\n",
    "    def info() :\n",
    "        print('This is a static function.')\n",
    "    def eat(self):\n",
    "        print('eat is invoke of',type(self))\n",
    "        \n",
    "lixiaolong = Chinese()\n",
    "# TypeError: info() takes 0 positional arguments but 1 was given\n",
    "# lixiaolong.info() # 不能调用\n",
    "lixiaolong.eat()"
   ]
  },
  {
   "cell_type": "code",
   "execution_count": 65,
   "metadata": {
    "collapsed": false
   },
   "outputs": [
    {
     "name": "stdout",
     "output_type": "stream",
     "text": [
      "This is a static function.\n",
      "eat is invoke of <class 'type'>\n"
     ]
    }
   ],
   "source": [
    "class Chinese :\n",
    "    @staticmethod\n",
    "    def info() :\n",
    "        print('This is a static function.')\n",
    "    @classmethod\n",
    "    def eat(self):\n",
    "        print('eat is invoke of',type(self))\n",
    "        \n",
    "lixiaolong = Chinese()\n",
    "# 对象可以调用 @staticmethod\n",
    "lixiaolong.info() \n",
    "lixiaolong.eat()"
   ]
  },
  {
   "cell_type": "markdown",
   "metadata": {
    "collapsed": true
   },
   "source": [
    "## 正则表达式"
   ]
  },
  {
   "cell_type": "code",
   "execution_count": 74,
   "metadata": {
    "collapsed": false
   },
   "outputs": [],
   "source": [
    "import re\n",
    "# help(re)"
   ]
  },
  {
   "cell_type": "code",
   "execution_count": 68,
   "metadata": {
    "collapsed": false
   },
   "outputs": [
    {
     "name": "stdout",
     "output_type": "stream",
     "text": [
      "foo\n",
      "None\n"
     ]
    }
   ],
   "source": [
    "res = re.match('foo','foolish')\n",
    "# 返回的可能是多个结果\n",
    "print(res.group())\n",
    "res = re.match('fee','foolish')\n",
    "print(res)"
   ]
  },
  {
   "cell_type": "code",
   "execution_count": 70,
   "metadata": {
    "collapsed": false
   },
   "outputs": [
    {
     "name": "stdout",
     "output_type": "stream",
     "text": [
      "None\n"
     ]
    }
   ],
   "source": [
    "res = re.search('foo','foolish')\n",
    "res = re.search('fee','foolish')\n",
    "print(res.group()) if res is not None else print('None')"
   ]
  },
  {
   "cell_type": "code",
   "execution_count": 71,
   "metadata": {
    "collapsed": false
   },
   "outputs": [
    {
     "name": "stdout",
     "output_type": "stream",
     "text": [
      "bat\n",
      "c3po\n"
     ]
    }
   ],
   "source": [
    "# 匹配多个字符串 |\n",
    "res = re.match('bat|bit|bet','bat')\n",
    "print(res.group()) if res is not None else print('None')\n",
    "# 匹配多个字符 []\n",
    "res = re.match('[cd][34][pq][op]','c3po')\n",
    "print(res.group()) if res is not None else print('None')"
   ]
  },
  {
   "cell_type": "code",
   "execution_count": 81,
   "metadata": {
    "collapsed": false
   },
   "outputs": [
    {
     "name": "stdout",
     "output_type": "stream",
     "text": [
      "['1289456888', '599933366']\n"
     ]
    }
   ],
   "source": [
    "res = re.findall('[1-9][0-9]{4,}','我的QQ号有1289456888和599933366')\n",
    "print(res)"
   ]
  },
  {
   "cell_type": "code",
   "execution_count": 79,
   "metadata": {
    "collapsed": false
   },
   "outputs": [
    {
     "name": "stdout",
     "output_type": "stream",
     "text": [
      "Help on function findall in module re:\n",
      "\n",
      "findall(pattern, string, flags=0)\n",
      "    Return a list of all non-overlapping matches in the string.\n",
      "    \n",
      "    If one or more capturing groups are present in the pattern, return\n",
      "    a list of groups; this will be a list of tuples if the pattern\n",
      "    has more than one group.\n",
      "    \n",
      "    Empty matches are included in the result.\n",
      "\n"
     ]
    }
   ],
   "source": [
    "help(re.findall)"
   ]
  },
  {
   "cell_type": "markdown",
   "metadata": {
    "collapsed": true
   },
   "source": [
    "## 文件处理\n",
    "文件的读写操作"
   ]
  },
  {
   "cell_type": "code",
   "execution_count": 92,
   "metadata": {
    "collapsed": false
   },
   "outputs": [],
   "source": [
    "# help(open)"
   ]
  },
  {
   "cell_type": "code",
   "execution_count": 87,
   "metadata": {
    "collapsed": false
   },
   "outputs": [
    {
     "name": "stdout",
     "output_type": "stream",
     "text": [
      "['1234567\\n', 'hello world\\n']\n",
      "1234567\n",
      "\n"
     ]
    }
   ],
   "source": [
    "path = r'D:\\AI\\PycharmProjects\\datas\\mydata.txt'\n",
    "file = open(path,'r',encoding='utf-8')\n",
    "# 返回列表，每行是一个元素\n",
    "line_list = file.readlines()\n",
    "print(line_list)\n",
    "print(line_list[0])\n",
    "file.close()"
   ]
  },
  {
   "cell_type": "code",
   "execution_count": 85,
   "metadata": {
    "collapsed": false
   },
   "outputs": [
    {
     "name": "stdout",
     "output_type": "stream",
     "text": [
      "1234567\n",
      "\n",
      "hello world\n",
      "\n"
     ]
    }
   ],
   "source": [
    "# 使用 with open 省略 close\n",
    "with open(path) as file:\n",
    "    for line in file.readlines() :\n",
    "        print(line)"
   ]
  },
  {
   "cell_type": "code",
   "execution_count": 102,
   "metadata": {
    "collapsed": false
   },
   "outputs": [],
   "source": [
    "## 写文件\n",
    "import os\n",
    "path_w = r'D:\\AI\\PycharmProjects\\datas\\mydata_out.txt'\n",
    "if not os.path.exists(path_w):\n",
    "    file = open(path_w,'w')\n",
    "else:\n",
    "    file = open(path_w,'a')\n",
    "for line in line_list:\n",
    "    file.write(line)\n",
    "file.close()"
   ]
  },
  {
   "cell_type": "code",
   "execution_count": 107,
   "metadata": {
    "collapsed": false
   },
   "outputs": [
    {
     "data": {
      "text/html": [
       "<div>\n",
       "<style scoped>\n",
       "    .dataframe tbody tr th:only-of-type {\n",
       "        vertical-align: middle;\n",
       "    }\n",
       "\n",
       "    .dataframe tbody tr th {\n",
       "        vertical-align: top;\n",
       "    }\n",
       "\n",
       "    .dataframe thead th {\n",
       "        text-align: right;\n",
       "    }\n",
       "</style>\n",
       "<table border=\"1\" class=\"dataframe\">\n",
       "  <thead>\n",
       "    <tr style=\"text-align: right;\">\n",
       "      <th></th>\n",
       "      <th>key</th>\n",
       "      <th>value</th>\n",
       "    </tr>\n",
       "  </thead>\n",
       "  <tbody>\n",
       "    <tr>\n",
       "      <th>0</th>\n",
       "      <td>hello</td>\n",
       "      <td>world</td>\n",
       "    </tr>\n",
       "    <tr>\n",
       "      <th>1</th>\n",
       "      <td>1234</td>\n",
       "      <td>5678</td>\n",
       "    </tr>\n",
       "  </tbody>\n",
       "</table>\n",
       "</div>"
      ],
      "text/plain": [
       "     key  value\n",
       "0  hello  world\n",
       "1   1234   5678"
      ]
     },
     "execution_count": 107,
     "metadata": {},
     "output_type": "execute_result"
    }
   ],
   "source": [
    "import pandas as pd\n",
    "path_csv = r'D:\\AI\\PycharmProjects\\datas\\mydata.csv'\n",
    "file = pd.read_csv(path_csv)\n",
    "file.head()"
   ]
  },
  {
   "cell_type": "code",
   "execution_count": null,
   "metadata": {
    "collapsed": true
   },
   "outputs": [],
   "source": []
  }
 ],
 "metadata": {
  "kernelspec": {
   "display_name": "Python 3",
   "language": "python",
   "name": "python3"
  },
  "language_info": {
   "codemirror_mode": {
    "name": "ipython",
    "version": 3
   },
   "file_extension": ".py",
   "mimetype": "text/x-python",
   "name": "python",
   "nbconvert_exporter": "python",
   "pygments_lexer": "ipython3",
   "version": "3.6.9"
  }
 },
 "nbformat": 4,
 "nbformat_minor": 0
}
