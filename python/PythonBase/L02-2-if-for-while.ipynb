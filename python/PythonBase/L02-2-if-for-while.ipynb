{
 "cells": [
  {
   "cell_type": "markdown",
   "metadata": {},
   "source": [
    "# if判断\n",
    "\n",
    "## if 语法\n",
    "\n",
    "```\n",
    "if 条件 :\n",
    "    # some code\n",
    "else :\n",
    "    # other code\n",
    "```"
   ]
  },
  {
   "cell_type": "markdown",
   "metadata": {},
   "source": [
    "## 缩进表示层级\n",
    "``` \n",
    " python要求缩进格式统一\n",
    " jupyter 将 Tab 转换为 4 个空格 \n",
    " notepad++ 不会将 Tab 转换成空格\n",
    " 报错：代码缩进不统一\n",
    " ```"
   ]
  },
  {
   "cell_type": "code",
   "execution_count": 3,
   "metadata": {},
   "outputs": [
    {
     "name": "stdout",
     "output_type": "stream",
     "text": [
      "adult\n",
      "please enter -2\n"
     ]
    }
   ],
   "source": [
    "age = 18\n",
    "# 缩进 4 个空格，要求缩进格式统一\n",
    "# jupyter 将 Tab 转换为 4 个空格 \n",
    "# notepad++ 不会将 Tab 转换成空格\n",
    "# 报错：代码缩进不统一\n",
    "# 缩进表示层级在 if-else 条件下\n",
    "if age>=18 :\n",
    "    print('adult')\n",
    "else :\n",
    "    print('no enter!')\n",
    "    print('please enter - 1')\n",
    "# 不缩进的代码与 if-else 在同一层级\n",
    "print('please enter -2')"
   ]
  },
  {
   "cell_type": "markdown",
   "metadata": {},
   "source": [
    "## 多层 if 判断"
   ]
  },
  {
   "cell_type": "code",
   "execution_count": 4,
   "metadata": {},
   "outputs": [
    {
     "name": "stdout",
     "output_type": "stream",
     "text": [
      "及格\n"
     ]
    }
   ],
   "source": [
    "# 90以上 优秀\n",
    "# 80-90 良好\n",
    "# 60-80 及格\n",
    "# 60以下 不及格\n",
    "score = 71\n",
    "if score >= 90:\n",
    "    print('优秀')\n",
    "else:\n",
    "    if score >= 80 :\n",
    "        print('良好')\n",
    "    else :\n",
    "        if score >=60:\n",
    "            print('及格')\n",
    "        else :\n",
    "            print('不及格')"
   ]
  },
  {
   "cell_type": "markdown",
   "metadata": {},
   "source": [
    "## elif 减少层级缩进"
   ]
  },
  {
   "cell_type": "code",
   "execution_count": 5,
   "metadata": {},
   "outputs": [
    {
     "name": "stdout",
     "output_type": "stream",
     "text": [
      "不及格\n"
     ]
    }
   ],
   "source": [
    "score = 12\n",
    "if score >= 90:\n",
    "    print('优秀')\n",
    "elif score >= 80 :\n",
    "    print('良好')\n",
    "elif score >=60:\n",
    "    print('及格')\n",
    "else :\n",
    "    print('不及格')"
   ]
  },
  {
   "cell_type": "markdown",
   "metadata": {},
   "source": []
  },
  {
   "cell_type": "code",
   "execution_count": 6,
   "metadata": {},
   "outputs": [
    {
     "name": "stdout",
     "output_type": "stream",
     "text": [
      "哪吒\n",
      "哪吒 已加入到list中， ['哆啦A梦', '哪吒', '死侍', '死侍', '死侍', '死侍', '死侍', '哪吒', '哪吒']\n",
      "哪吒 并不是第一次阅读\n"
     ]
    }
   ],
   "source": [
    "# 字典\n",
    "artic1_clicked = ['哆啦A梦','哪吒','死侍','死侍','死侍','死侍','死侍','哪吒']\n",
    "artic1_readers = set(artic1_clicked)\n",
    "# 新阅读点击\n",
    "new_click = input()\n",
    "# 加入点击列表\n",
    "artic1_clicked.append(new_click)\n",
    "print(new_click, '已加入到list中，', artic1_clicked)\n",
    "# 判断是否新用户\n",
    "if new_click in artic1_readers:\n",
    "    print(new_click, '并不是第一次阅读')\n",
    "else :\n",
    "    print(new_click, '第一次阅读')"
   ]
  },
  {
   "cell_type": "code",
   "execution_count": 19,
   "metadata": {},
   "outputs": [
    {
     "name": "stdout",
     "output_type": "stream",
     "text": [
      "当前点击历史： ['罗小黑']\n",
      "当前所有用户： {'罗小黑'}\n",
      "当前用户点击次数： {'罗小黑': 1}\n",
      "罗小黑\n",
      "罗小黑 不是第一次阅读\n",
      "当前点击历史： ['罗小黑', '罗小黑']\n",
      "当前所有用户： {'罗小黑'}\n",
      "当前用户点击次数： {'罗小黑': 2}\n"
     ]
    }
   ],
   "source": [
    "# 新的点击历史、用户集合 和 用户点击次数字典\n",
    "his = ['罗小黑'] # list()\n",
    "# all_users = set('罗小黑')\n",
    "# {'黑', '小', '罗'}\n",
    "all_users = {'罗小黑'}\n",
    "user_read = {'罗小黑':1}\n",
    "print('当前点击历史：',his)\n",
    "print('当前所有用户：', all_users)\n",
    "print('当前用户点击次数：', user_read)\n",
    "# 新的点击\n",
    "reader = input()\n",
    "his.append(reader)\n",
    "if reader in all_users :\n",
    "    print(reader, '不是第一次阅读')\n",
    "    times = user_read[reader]\n",
    "    user_read[reader] = times + 1\n",
    "    \n",
    "else :\n",
    "    print(reader, '是第一次阅读')\n",
    "    all_users.add(reader)\n",
    "    user_read[reader] = 1\n",
    "print('当前点击历史：',his)\n",
    "print('当前所有用户：', all_users)\n",
    "print('当前用户点击次数：', user_read)"
   ]
  },
  {
   "cell_type": "markdown",
   "metadata": {},
   "source": [
    "## 作业\n",
    "1. 利用 if 判断一个年份是否是闰年"
   ]
  },
  {
   "cell_type": "markdown",
   "metadata": {},
   "source": [
    "# for 定长循环\n",
    "\n",
    "语法："
   ]
  },
  {
   "cell_type": "code",
   "execution_count": null,
   "metadata": {},
   "outputs": [],
   "source": [
    "    for 变量 in 列表 : # 叫号\n",
    "        pass      # 当前就诊的人，注意 4 个空格缩进 \n",
    "将每个格子里的东西拿出来"
   ]
  },
  {
   "cell_type": "markdown",
   "metadata": {},
   "source": [
    "## 通过 index 访问列表元素"
   ]
  },
  {
   "cell_type": "code",
   "execution_count": 29,
   "metadata": {},
   "outputs": [
    {
     "name": "stdout",
     "output_type": "stream",
     "text": [
      "0\n",
      "张一 到\n",
      "1\n",
      "张二 到\n",
      "2\n",
      "张三 到\n",
      "3\n",
      "张四 到\n",
      "4\n",
      "张五 到\n",
      "end\n"
     ]
    }
   ],
   "source": [
    "class_1 = ['张一','张二','张三','张四','张五']\n",
    "## 通过 index 访问列表元素\n",
    "for index in range(len(class_1)) :\n",
    "    print(index)\n",
    "    print(class_1[index], '到')\n",
    "print('end')"
   ]
  },
  {
   "cell_type": "markdown",
   "metadata": {},
   "source": [
    "## 直接获取列表元素"
   ]
  },
  {
   "cell_type": "code",
   "execution_count": 30,
   "metadata": {},
   "outputs": [
    {
     "name": "stdout",
     "output_type": "stream",
     "text": [
      "张一 到\n",
      "张二 到\n",
      "张三 到\n",
      "张四 到\n",
      "张五 到\n",
      "end\n"
     ]
    }
   ],
   "source": [
    "## 直接获取列表元素\n",
    "for i in class_1 :\n",
    "    print(i, '到')\n",
    "print('end')"
   ]
  },
  {
   "cell_type": "markdown",
   "metadata": {},
   "source": [
    "## 定长循环"
   ]
  },
  {
   "cell_type": "code",
   "execution_count": 28,
   "metadata": {},
   "outputs": [
    {
     "name": "stdout",
     "output_type": "stream",
     "text": [
      "0\n",
      "1\n",
      "2\n",
      "3\n",
      "4\n",
      "5\n",
      "6\n"
     ]
    }
   ],
   "source": [
    "# 遍历下标\n",
    "for i in range(7) :\n",
    "    print(i)\n",
    "    # 通过 index some code "
   ]
  },
  {
   "cell_type": "markdown",
   "metadata": {},
   "source": [
    "## while '当'型循环，按条件循环\n",
    "\n",
    "语法："
   ]
  },
  {
   "cell_type": "code",
   "execution_count": null,
   "metadata": {},
   "outputs": [],
   "source": [
    "while 条件 :\n",
    "    # 条件为真，执行此代码块\n",
    "    pass    # 一般在这里进行某些操作，然后修改条件"
   ]
  },
  {
   "cell_type": "code",
   "execution_count": 34,
   "metadata": {},
   "outputs": [
    {
     "name": "stdout",
     "output_type": "stream",
     "text": [
      "8\n"
     ]
    }
   ],
   "source": [
    "num = 0\n",
    "i = 0\n",
    "while num != 4 :\n",
    "    i += 1\n",
    "    if i% 2 == 0 :\n",
    "        num += 1\n",
    "print(i)"
   ]
  },
  {
   "cell_type": "code",
   "execution_count": 35,
   "metadata": {},
   "outputs": [
    {
     "name": "stdout",
     "output_type": "stream",
     "text": [
      "0\n",
      "1\n",
      "2\n",
      "3\n",
      "4\n",
      "5\n"
     ]
    }
   ],
   "source": [
    "i = 0\n",
    "while i <= 5 :\n",
    "    print(i)\n",
    "    i += 1"
   ]
  },
  {
   "cell_type": "code",
   "execution_count": 40,
   "metadata": {},
   "outputs": [
    {
     "name": "stdout",
     "output_type": "stream",
     "text": [
      "a\n",
      "输入为：\n",
      "v\n",
      "输入为：\n",
      "c\n",
      "输入为：\n",
      "\n"
     ]
    }
   ],
   "source": [
    "text = input()\n",
    "# 不为空\n",
    "# while text != '':\n",
    "while text:\n",
    "    print('输入为：')\n",
    "    text = input()"
   ]
  },
  {
   "cell_type": "markdown",
   "metadata": {},
   "source": [
    "## break/continue 在 if/while 循环中怎么使用"
   ]
  },
  {
   "cell_type": "code",
   "execution_count": 88,
   "metadata": {},
   "outputs": [
    {
     "name": "stdout",
     "output_type": "stream",
     "text": [
      "0 到!\n",
      "1 到!\n",
      "2 到!\n",
      "3 到!\n",
      "\n",
      "点名结束！\n"
     ]
    }
   ],
   "source": [
    "class_1 = ['张一','张二','张三','张四','张五']\n",
    "for i in range(0,10) :\n",
    "    if i== 4 :\n",
    "        print();\n",
    "        break;\n",
    "    else :\n",
    "        print(i,'到!')\n",
    "print('点名结束！')"
   ]
  },
  {
   "cell_type": "markdown",
   "metadata": {},
   "source": [
    "# 作业\n",
    "\n",
    "## 作业1 实现一周的记账功能\n",
    "\n",
    "首先记录输入的7天输入，然后记录输入的7天支出。\n",
    "然后打印以下内容：\n",
    "- 7天的收入(list)\n",
    "- 7天的支出(list)\n",
    "- 每天的节余(dict)\n",
    "- 最终的节余"
   ]
  },
  {
   "cell_type": "code",
   "execution_count": 78,
   "metadata": {},
   "outputs": [
    {
     "name": "stdout",
     "output_type": "stream",
     "text": [
      "请输入第 1 天的收入：\n",
      "23\n",
      "请输入第 2 天的收入：\n",
      "34\n",
      "请输入第 3 天的收入：\n",
      "45\n",
      "请输入第 4 天的收入：\n",
      "560\n",
      "请输入第 5 天的收入：\n",
      "780\n",
      "请输入第 6 天的收入：\n",
      "8900\n",
      "请输入第 7 天的收入：\n",
      "90.4\n",
      "------------------------------\n",
      "请输入第 1 天的支出：\n",
      "12\n",
      "请输入第 2 天的支出：\n",
      "23\n",
      "请输入第 3 天的支出：\n",
      "34\n",
      "请输入第 4 天的支出：\n",
      "500\n",
      "请输入第 5 天的支出：\n",
      "600\n",
      "请输入第 6 天的支出：\n",
      "5.6\n",
      "请输入第 7 天的支出：\n",
      "120.4\n",
      "------------------------------\n",
      "第 1 天的收入为： 23.0\n",
      "第 2 天的收入为： 34.0\n",
      "第 3 天的收入为： 45.0\n",
      "第 4 天的收入为： 560.0\n",
      "第 5 天的收入为： 780.0\n",
      "第 6 天的收入为： 8900.0\n",
      "第 7 天的收入为： 90.4\n",
      "------------------------------\n",
      "第 1 天的支出为： 12.0\n",
      "第 2 天的支出为： 23.0\n",
      "第 3 天的支出为： 34.0\n",
      "第 4 天的支出为： 500.0\n",
      "第 5 天的支出为： 600.0\n",
      "第 6 天的支出为： 5.6\n",
      "第 7 天的支出为： 120.4\n",
      "------------------------------\n",
      "第 1 天的节余为： 11.00\n",
      "第 2 天的节余为： 11.00\n",
      "第 3 天的节余为： 11.00\n",
      "第 4 天的节余为： 60.00\n",
      "第 5 天的节余为： 180.00\n",
      "第 6 天的节余为： 8894.40\n",
      "第 7 天的节余为： -30.00\n",
      "------------------------------\n",
      "最终的节余是： 9137.40\n"
     ]
    }
   ],
   "source": [
    "# 作业1 实现一周的记账功能\n",
    "income_list = []\n",
    "outcome_list = []\n",
    "input_value = 0\n",
    "# 记录输入的7天收入\n",
    "for i in range(days) :\n",
    "    # input_value = float(input('请输入第',i+1,'天的收入：'))\n",
    "    print('请输入第',i+1,'天的收入：')\n",
    "    input_value = float(input())\n",
    "    income_list.append(input_value)\n",
    "print('------------------------------')\n",
    "# 记录输入的7天支出\n",
    "for i in range(days) :\n",
    "    # # input_value = float(input('请输入第',i+1,'天的支出：'))\n",
    "    print('请输入第',i+1,'天的支出：')\n",
    "    input_value = float(input())\n",
    "    outcome_list.append(input_value)    \n",
    "print('------------------------------')\n",
    "# 打印7天的收入\n",
    "# for i in income_list:\n",
    "#     print(i)\n",
    "for i in range(days) :\n",
    "    print('第',i+1,'天的收入为：',income_list[i])\n",
    "print('------------------------------')\n",
    "# 打印7天的支出\n",
    "for i in range(days) :\n",
    "    print('第',i+1,'天的支出为：',outcome_list[i])\n",
    "print('------------------------------')\n",
    "# 打印每天的节余\n",
    "for i in range(days) :\n",
    "    print('第',i+1,'天的节余为：','%.2f'%(income_list[i]-outcome_list[i]))\n",
    "print('------------------------------')\n",
    "# 打印最终的节余\n",
    "savings = 0\n",
    "for i in range(days) :\n",
    "    savings += (income_list[i]-outcome_list[i])\n",
    "print('最终的节余是：', '%.2f'%savings)\n",
    "\n",
    "# 另一种方法\n",
    "for i in range(7)\n",
    "    balances[i] = income_list[i]-outcome_list[i]\n",
    "# 字典的迭代\n",
    "for day, balance in balances.item() :\n",
    "    print('周', day+1, '的节余为：',balance)\n",
    "print('最终的节余为：',sum(balances))\n"
   ]
  },
  {
   "cell_type": "markdown",
   "metadata": {},
   "source": [
    "## 作业2 实现 ATM 机器\n",
    "\n",
    "- 查询余额\n",
    "- 存款\n",
    "- 取款\n",
    "- 退出"
   ]
  },
  {
   "cell_type": "code",
   "execution_count": 84,
   "metadata": {},
   "outputs": [
    {
     "name": "stdout",
     "output_type": "stream",
     "text": [
      "========\n",
      "请选择操作\n",
      "1.查询余额\n",
      "2.存款\n",
      "3.取款\n",
      "4.退出\n",
      "1\n",
      "余额： 0 元\n",
      "========\n",
      "请选择操作\n",
      "1.查询余额\n",
      "2.存款\n",
      "3.取款\n",
      "4.退出\n",
      "2\n",
      "请输入存款金额（元）：1000\n",
      "存款 1000 元成功。\n",
      "========\n",
      "请选择操作\n",
      "1.查询余额\n",
      "2.存款\n",
      "3.取款\n",
      "4.退出\n",
      "3\n",
      "请输入取款金额（元）：1200\n",
      "余额不足！\n",
      "========\n",
      "请选择操作\n",
      "1.查询余额\n",
      "2.存款\n",
      "3.取款\n",
      "4.退出\n",
      "800\n",
      "输入 800 为无效字符！\n",
      "========\n",
      "请选择操作\n",
      "1.查询余额\n",
      "2.存款\n",
      "3.取款\n",
      "4.退出\n",
      "3\n",
      "请输入取款金额（元）：800\n",
      "取款 800 元成功。\n",
      "========\n",
      "请选择操作\n",
      "1.查询余额\n",
      "2.存款\n",
      "3.取款\n",
      "4.退出\n",
      "1\n",
      "余额： 200 元\n",
      "========\n",
      "请选择操作\n",
      "1.查询余额\n",
      "2.存款\n",
      "3.取款\n",
      "4.退出\n",
      "4\n",
      "操作结束，退出取款机。\n"
     ]
    }
   ],
   "source": [
    "# 作业2 实现 ATM 机器\n",
    "# 余额\n",
    "balance = 0\n",
    "# 提示输入\n",
    "prompts = '========\\n请选择操作\\n1.查询余额\\n2.存款\\n3.取款\\n4.退出\\n'\n",
    "input_char = 0\n",
    "while input_char != 4 :\n",
    "    input_char = int(input(prompts))\n",
    "    # 查询余额\n",
    "    if input_char == 1 :\n",
    "        print('余额：',balance,'元')\n",
    "    # 存款\n",
    "    elif input_char == 2 :\n",
    "        income = int(input('请输入存款金额（元）：'))\n",
    "        if income <= 0 :\n",
    "            print('存款金额应大于 0 元。')\n",
    "        else :\n",
    "            balance += income\n",
    "            print('存款',income,'元成功。')\n",
    "    # 取款\n",
    "    elif input_char == 3 :\n",
    "        outcome = int(input('请输入取款金额（元）：'))\n",
    "        if outcome <= 0 :\n",
    "            print('取款金额应大于 0 元。')\n",
    "        elif balance - outcome < 0 :\n",
    "            print('余额不足！')\n",
    "        else :\n",
    "            balance -= outcome\n",
    "            print('取款',outcome,'元成功。')\n",
    "    # 退出\n",
    "    elif input_char == 4 :\n",
    "        print('操作结束，退出取款机。')\n",
    "    # 其他字符\n",
    "    else :\n",
    "        print('输入',input_char,'为无效字符！')"
   ]
  },
  {
   "cell_type": "markdown",
   "metadata": {},
   "source": [
    "## 作业3 词汇表生成及统计\n",
    "```\n",
    "输入一段文本：\n",
    "\n",
    "经过分词后得到以下单词，通过空格分隔。\n",
    "text = '...'\n",
    "\n",
    "将文本生成词汇表(单词list)，单词对应ID的dict，以及ID对应单词的dict。\n",
    "程序盒子：\n",
    "    首先将文本转换成单词列表，再得到统计的单词表（去重），然后得到单词-ID相互对应的字典。\n",
    "\n",
    "效果如下：\n",
    "    vocab = {'大家','中国','捍卫',...}\n",
    "    word2id = {'大家':0,'中国':1,'捍卫':2,...}\n",
    "    id2word = {0:'大家',1:'中国',2:'捍卫',...}\n",
    "```"
   ]
  },
  {
   "cell_type": "code",
   "execution_count": 93,
   "metadata": {},
   "outputs": [
    {
     "name": "stdout",
     "output_type": "stream",
     "text": [
      "vocab = {'巨浪', '着', '特殊', '接受', '实力', '在', '大家', '解读', '详细', '洲际', '弹道导弹', '特约', '参阅', '广受', '揭幕', '形象', '相较', '方阵', '其他', '三款', '历史', '来', '上午', '系统', '1.5', '又', '被', '究竟', '亮剑', '和平', '国威', '阅', '主战', '东风', '高超音速', '盛大举行', '这', '于', '与', '而', '赋予', '队伍', '基石', '万人', '的', '呢', '向', '不断', '方队', '个', '之', '以', '相关', '国产', '59', '首都北京', '全国', '公开', '传闻', '了', '展示', '阅兵式', '领域', '怎样', '二潜射', '庆祝', '装备', '关注', '17', '军事', '中国', '成立', '备受', '其中', '\"', '年', '？', '首度', '十月', '专家', '。', '不怒', '台受', '地位', '580', '全球', '自威', '捍卫', '国', '亮相', '震撼', '首次', '力量', '终于', '近些年来', '，', '重器', '多年', '因', '其', '公众', '使命', '本报', '各自', '现役', '人民', '承担', '并', '2019', '皆', '世界', '大国', '彰显', '40%', '期待', '检阅', '如何', '41', '意志', '一日', '中华人民共和国', '阅兵', '武器装备', '武器', '为', '70', '周年'}\n",
      "\n",
      "word2id = {'巨浪': 0, '着': 1, '特殊': 2, '接受': 3, '实力': 4, '在': 5, '大家': 6, '解读': 7, '详细': 8, '洲际': 9, '弹道导弹': 10, '特约': 11, '参阅': 12, '广受': 13, '揭幕': 14, '形象': 15, '相较': 16, '方阵': 17, '其他': 18, '三款': 19, '历史': 20, '来': 21, '上午': 22, '系统': 23, '1.5': 24, '又': 25, '被': 26, '究竟': 27, '亮剑': 28, '和平': 29, '国威': 30, '阅': 31, '主战': 32, '东风': 33, '高超音速': 34, '盛大举行': 35, '这': 36, '于': 37, '与': 38, '而': 39, '赋予': 40, '队伍': 41, '基石': 42, '万人': 43, '的': 44, '呢': 45, '向': 46, '不断': 47, '方队': 48, '个': 49, '之': 50, '以': 51, '相关': 52, '国产': 53, '59': 54, '首都北京': 55, '全国': 56, '公开': 57, '传闻': 58, '了': 59, '展示': 60, '阅兵式': 61, '领域': 62, '怎样': 63, '二潜射': 64, '庆祝': 65, '装备': 66, '关注': 67, '17': 68, '军事': 69, '中国': 70, '成立': 71, '备受': 72, '其中': 73, '\"': 74, '年': 75, '？': 76, '首度': 77, '十月': 78, '专家': 79, '。': 80, '不怒': 81, '台受': 82, '地位': 83, '580': 84, '全球': 85, '自威': 86, '捍卫': 87, '国': 88, '亮相': 89, '震撼': 90, '首次': 91, '力量': 92, '终于': 93, '近些年来': 94, '，': 95, '重器': 96, '多年': 97, '因': 98, '其': 99, '公众': 100, '使命': 101, '本报': 102, '各自': 103, '现役': 104, '人民': 105, '承担': 106, '并': 107, '2019': 108, '皆': 109, '世界': 110, '大国': 111, '彰显': 112, '40%': 113, '期待': 114, '检阅': 115, '如何': 116, '41': 117, '意志': 118, '一日': 119, '中华人民共和国': 120, '阅兵': 121, '武器装备': 122, '武器': 123, '为': 124, '70': 125, '周年': 126}\n",
      "\n",
      "id2word = {0: '巨浪', 1: '着', 2: '特殊', 3: '接受', 4: '实力', 5: '在', 6: '大家', 7: '解读', 8: '详细', 9: '洲际', 10: '弹道导弹', 11: '特约', 12: '参阅', 13: '广受', 14: '揭幕', 15: '形象', 16: '相较', 17: '方阵', 18: '其他', 19: '三款', 20: '历史', 21: '来', 22: '上午', 23: '系统', 24: '1.5', 25: '又', 26: '被', 27: '究竟', 28: '亮剑', 29: '和平', 30: '国威', 31: '阅', 32: '主战', 33: '东风', 34: '高超音速', 35: '盛大举行', 36: '这', 37: '于', 38: '与', 39: '而', 40: '赋予', 41: '队伍', 42: '基石', 43: '万人', 44: '的', 45: '呢', 46: '向', 47: '不断', 48: '方队', 49: '个', 50: '之', 51: '以', 52: '相关', 53: '国产', 54: '59', 55: '首都北京', 56: '全国', 57: '公开', 58: '传闻', 59: '了', 60: '展示', 61: '阅兵式', 62: '领域', 63: '怎样', 64: '二潜射', 65: '庆祝', 66: '装备', 67: '关注', 68: '17', 69: '军事', 70: '中国', 71: '成立', 72: '备受', 73: '其中', 74: '\"', 75: '年', 76: '？', 77: '首度', 78: '十月', 79: '专家', 80: '。', 81: '不怒', 82: '台受', 83: '地位', 84: '580', 85: '全球', 86: '自威', 87: '捍卫', 88: '国', 89: '亮相', 90: '震撼', 91: '首次', 92: '力量', 93: '终于', 94: '近些年来', 95: '，', 96: '重器', 97: '多年', 98: '因', 99: '其', 100: '公众', 101: '使命', 102: '本报', 103: '各自', 104: '现役', 105: '人民', 106: '承担', 107: '并', 108: '2019', 109: '皆', 110: '世界', 111: '大国', 112: '彰显', 113: '40%', 114: '期待', 115: '检阅', 116: '如何', 117: '41', 118: '意志', 119: '一日', 120: '中华人民共和国', 121: '阅兵', 122: '武器装备', 123: '武器', 124: '为', 125: '70', 126: '周年'}\n"
     ]
    }
   ],
   "source": [
    "# 作业3 词汇表生成及统计\n",
    "text = '2019 年 十月 一日 上午 ， 庆祝 中华人民共和国 成立 70 周年 阅兵式 在 首都北京 盛大举行 ， 59 个 阅兵 方阵 ， 580 台受 阅 装备 ， 1.5 万人 的 参阅 队伍 接受 了 全国 人民 的 检阅 。 阅兵 装备 方队 展示 的 武器装备 皆 为 国产 现役 主战 装备 ， 40% 为 首次 展示 。 其中 近些年来 广受 全球 关注 的 东风 41 洲际 弹道导弹 ， 巨浪 二潜射 弹道导弹 ， 东风 17 高超音速 武器 系统 终于 揭幕 亮剑 ， 以 \" 不怒 自威 \" 的 形象 向 世界 展示 中国 捍卫 和平 的 意志 与 力量 。 相较 于 其他 首度 公开 亮相 的 武器装备 ， 这 三款 武器 多年 来 传闻 不断 ， 备受 关注 ， 并 因 其 \" 大国 基石 \" 的 地位 而 被 公众 赋予 特殊 的 期待 ， 这 三款 武器装备 实力 究竟 如何 ， 又 各自 承担 着 怎样 的 历史 \" 使命 \" 呢 ？ 本报 特约 相关 领域 军事 专家 ， 为 大家 详细 解读 这 三款 彰显 国威 ， 震撼 世界 的 国 之 重器 。'\n",
    "# 字符串分割\n",
    "result = text.split(' ') \n",
    "# 集合去重\n",
    "vocab = set(result)\n",
    "print('vocab =', vocab)\n",
    "# 创建空字典\n",
    "word2id = dict()\n",
    "id2word = dict()\n",
    "# 将集合中的元素添加到字典\n",
    "index = 0\n",
    "for word in vocab:\n",
    "    word2id[word] = index\n",
    "    id2word[index] = word\n",
    "    index += 1\n",
    "# 打印结果\n",
    "print('\\nword2id =', word2id)\n",
    "print('\\nid2word =', id2word)"
   ]
  },
  {
   "cell_type": "code",
   "execution_count": 97,
   "metadata": {},
   "outputs": [
    {
     "name": "stdout",
     "output_type": "stream",
     "text": [
      "呢 45\n"
     ]
    }
   ],
   "source": [
    "# 第二种方法\n",
    "# '\\' 表示同一行\n",
    "text =  '2019 年 十月 一日 上午 ， 庆祝 中华人民共和国 成立 70 周年 阅兵式 在 首都北京 盛大举行 ， 59 个 \\\n",
    "阅兵 方阵 ， 580 台受 阅 装备 ， 1.5 万人 的 参阅 队伍 接受 了 全国 人民 的 检阅 。 阅兵 装备 方队 展示 \\\n",
    "的 武器装备 皆 为 国产 现役 主战 装备 ， 40% 为 首次 展示 。 其中 近些年来 广受 全球 关注 的 东风 41 洲\\\n",
    "际 弹道导弹 ， 巨浪 二潜射 弹道导弹 ， 东风 17 高超音速 武器 系统 终于 揭幕 亮剑 ， 以 \" 不怒 自威 \" 的 \\\n",
    "形象 向 世界 展示 中国 捍卫 和平 的 意志 与 力量 。 相较 于 其他 首度 公开 亮相 的 武器装备 ， 这 三款 武\\\n",
    "器 多年 来 传闻 不断 ， 备受 关注 ， 并 因 其 \" 大国 基石 \" 的 地位 而 被 公众 赋予 特殊 的 期待 ， 这 \\\n",
    "三款 武器装备 实力 究竟 如何 ， 又 各自 承担 着 怎样 的 历史 \" 使命 \" 呢 ？ 本报 特约 相关 领域 军事 专\\\n",
    "家 ， 为 大家 详细 解读 这 三款 彰显 国威 ， 震撼 世界 的 国 之 重器 。'\n",
    "# 字符串分割，生成列表\n",
    "result = text.split(' ') \n",
    "# 集合去重，再转换成列表\n",
    "vocab = list(set(result))\n",
    "# 生成 iteratable ID，用于 zip 组合\n",
    "ids = range(len(vocab))\n",
    "# zip 组合创建字典\n",
    "word2id = dict(zip(vocab,ids))\n",
    "id2word = dict(zip(ids,vocab))\n",
    "# 测试字典一致性\n",
    "key = 45\n",
    "print(id2word[45],word2id[id2word[45]])\n",
    "# 打印结果\n",
    "# print('vocab =', vocab)\n",
    "# print('\\nword2id =', word2id)\n",
    "# print('\\nid2word =', id2word)"
   ]
  },
  {
   "cell_type": "markdown",
   "metadata": {},
   "source": [
    "## 作业4 判断一个年份是否是闰年"
   ]
  },
  {
   "cell_type": "code",
   "execution_count": 85,
   "metadata": {},
   "outputs": [
    {
     "name": "stdout",
     "output_type": "stream",
     "text": [
      "请输入年份[输入 q 退出]：2019\n",
      "2019 不是闰年\n",
      "请输入年份[输入 q 退出]：2016\n",
      "2016 是闰年\n",
      "请输入年份[输入 q 退出]：2000\n",
      "2000 是闰年\n",
      "请输入年份[输入 q 退出]：1900\n",
      "1900 不是闰年\n",
      "请输入年份[输入 q 退出]：q\n"
     ]
    }
   ],
   "source": [
    "# 作业4 判断一个年份是否是闰年\n",
    "while True :\n",
    "    year = input('请输入年份[输入 q 退出]：')\n",
    "    if year == 'q' :\n",
    "        break;\n",
    "    year = int(year)\n",
    "    if year % 100 == 0 :\n",
    "        if year % 400 != 0 :\n",
    "            print(year, '不是闰年')\n",
    "        else :\n",
    "            print(year, '是闰年')\n",
    "    elif year % 4 == 0 :\n",
    "        print(year, '是闰年')\n",
    "    else :\n",
    "        print(year, '不是闰年')"
   ]
  },
  {
   "cell_type": "code",
   "execution_count": 87,
   "metadata": {},
   "outputs": [
    {
     "name": "stdout",
     "output_type": "stream",
     "text": [
      "请输入年份[输入 q 退出]：2019\n",
      "2019 不是闰年\n",
      "请输入年份[输入 q 退出]：2016\n",
      "2016 是闰年\n",
      "请输入年份[输入 q 退出]：2000\n",
      "2000 是闰年\n",
      "请输入年份[输入 q 退出]：1900\n",
      "1900 不是闰年\n",
      "请输入年份[输入 q 退出]：q\n"
     ]
    }
   ],
   "source": [
    "# 作业4 判断一个年份是否是闰年\n",
    "while True :\n",
    "    year = input('请输入年份[输入 q 退出]：')\n",
    "    if year == 'q' :\n",
    "        break;\n",
    "    year = int(year)\n",
    "    if (year % 400 == 0) or ((year % 4 == 0) & (year % 100 != 0)) :\n",
    "        print(year, '是闰年')\n",
    "    else :\n",
    "        print(year, '不是闰年')"
   ]
  },
  {
   "cell_type": "code",
   "execution_count": null,
   "metadata": {},
   "outputs": [],
   "source": []
  }
 ],
 "metadata": {
  "kernelspec": {
   "display_name": "Python 3",
   "language": "python",
   "name": "python3"
  },
  "language_info": {
   "codemirror_mode": {
    "name": "ipython",
    "version": 3
   },
   "file_extension": ".py",
   "mimetype": "text/x-python",
   "name": "python",
   "nbconvert_exporter": "python",
   "pygments_lexer": "ipython3",
   "version": "3.7.3"
  }
 },
 "nbformat": 4,
 "nbformat_minor": 2
}
