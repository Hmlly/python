{
 "cells": [
  {
   "cell_type": "markdown",
   "metadata": {},
   "source": [
    "# 函数\n",
    "\n",
    "## 封装\n",
    "\n",
    "定义一个功能，把具体的实现过程等细节包裹隐藏起来，不需要给使用者操心。\n",
    "这样就抽象成了一个模块。\n",
    "- 解放使用者的注意力（不用关心实现细节）\n",
    "- 可复用性\n",
    "\n",
    "## 将【判断一个年份是否是闰年】封装成函数"
   ]
  },
  {
   "cell_type": "code",
   "execution_count": 5,
   "metadata": {},
   "outputs": [
    {
     "name": "stdout",
     "output_type": "stream",
     "text": [
      "1916是闰年\n"
     ]
    }
   ],
   "source": [
    "# 定义函数\n",
    "# 形式参数：用来占位置 year\n",
    "def isleap(year) :\n",
    "    if (year % 4) == 0 and (year % 100) != 0 or (year % 400) == 0 :\n",
    "        print('{0}是闰年'.format(year))\n",
    "    else :\n",
    "        print('{0}不是闰年'.format(year))\n",
    "\n",
    "# 调用函数\n",
    "# 实参：函数调用时传入的真正参数 1916\n",
    "isleap(1916)"
   ]
  },
  {
   "cell_type": "code",
   "execution_count": null,
   "metadata": {},
   "outputs": [],
   "source": [
    "# 函数返回值\n",
    "def isleap(year) :\n",
    "    result = False\n",
    "    if (year % 4) == 0 and (year % 100) != 0 or (year % 400) == 0 :\n",
    "        result = True\n",
    "        # print('{0}是闰年'.format(year))\n",
    "    else :\n",
    "        result = False\n",
    "        # print('{0}不是闰年'.format(year))\n",
    "    return result\n",
    "\n",
    "# 中文场景调用\n",
    "year = 2001 # 用户输入\n",
    "result = isleap(year)\n",
    "if result :\n",
    "    print(year, '是闰年')\n",
    "else :\n",
    "    print(year, '不是闰年')\n",
    "# 用户修改网站语言为英文\n",
    "year = 2001 # 用户输入\n",
    "result = isleap(year)\n",
    "if result :\n",
    "    print(year, 'is leap year')\n",
    "else :\n",
    "    print(year, 'is not leap year')\n",
    "    "
   ]
  },
  {
   "cell_type": "markdown",
   "metadata": {},
   "source": [
    "## 函数语法"
   ]
  },
  {
   "cell_type": "code",
   "execution_count": null,
   "metadata": {},
   "outputs": [],
   "source": [
    "def 函数名(参数): # parameters is optional\n",
    "    # some code \n",
    "    pass # 占位代码，表示什么都不用执行\n",
    "    # or return something\n",
    "    [return] "
   ]
  },
  {
   "cell_type": "code",
   "execution_count": 10,
   "metadata": {},
   "outputs": [
    {
     "name": "stdout",
     "output_type": "stream",
     "text": [
      "This is a functioin sample！\n",
      "Welcom your learning python！\n",
      "This is a functioin sample！\n",
      "Welcom your learning python！\n",
      "This is a functioin sample！\n",
      "Welcom your learning python！\n",
      "None\n"
     ]
    }
   ],
   "source": [
    "# 无参数函数\n",
    "def hello() :\n",
    "    print('This is a functioin sample！')\n",
    "    print('Welcom your learning python！')\n",
    "    \n",
    "# 调用函数\n",
    "hello()\n",
    "hello()\n",
    "\n",
    "# 打印返回值，为空\n",
    "# None = Null = nul\n",
    "result = hello()\n",
    "print(result)  "
   ]
  },
  {
   "cell_type": "markdown",
   "metadata": {},
   "source": [
    "## 空 和 无 不是一个概念\n",
    "\n",
    "- 厕所里只剩下一个卷纸桶，表示 Null ，没有纸（有指针，指针指向的地址为Null）\n",
    "- 如果连卷纸桶都没有，表示 None（就没有指针）。"
   ]
  },
  {
   "cell_type": "code",
   "execution_count": 12,
   "metadata": {},
   "outputs": [
    {
     "name": "stdout",
     "output_type": "stream",
     "text": [
      "1\n",
      "2\n",
      "3\n",
      "[None, None, None]\n"
     ]
    }
   ],
   "source": [
    "result = [print(i) for i in [1,2,3]]\n",
    "print(result)"
   ]
  },
  {
   "cell_type": "code",
   "execution_count": 11,
   "metadata": {},
   "outputs": [
    {
     "name": "stdout",
     "output_type": "stream",
     "text": [
      "False\n"
     ]
    }
   ],
   "source": [
    "# Null list\n",
    "obj = []\n",
    "# Null != None\n",
    "print(obj == None)"
   ]
  },
  {
   "cell_type": "markdown",
   "metadata": {},
   "source": [
    "## 函数可以有多个返回值"
   ]
  },
  {
   "cell_type": "code",
   "execution_count": 13,
   "metadata": {},
   "outputs": [
    {
     "name": "stdout",
     "output_type": "stream",
     "text": [
      "('周一', '周二', '周三', '周四', '周五')\n"
     ]
    }
   ],
   "source": [
    "# 定义函数，返回工作日\n",
    "def getworkdays() :\n",
    "    return '周一','周二','周三','周四','周五'\n",
    "# 调用函数\n",
    "# 返回多个值自动组成一个元组\n",
    "# 元组语法不一定要带上圆括号\n",
    "result = getworkdays()\n",
    "print(result)"
   ]
  },
  {
   "cell_type": "code",
   "execution_count": 14,
   "metadata": {},
   "outputs": [
    {
     "name": "stdout",
     "output_type": "stream",
     "text": [
      "[0, 2, 4, 6, 8]\n"
     ]
    }
   ],
   "source": [
    "# 定义函数，返回小于limit的所有偶数列表\n",
    "def getoddnums(limit) :\n",
    "    # 列表解析，for 循环后面还可以跟 if 判断\n",
    "    return [i for i in range(limit) if i % 2 == 0]\n",
    "# 调用函数\n",
    "result = getoddnums(10)\n",
    "print(result)"
   ]
  },
  {
   "cell_type": "code",
   "execution_count": 19,
   "metadata": {},
   "outputs": [
    {
     "name": "stdout",
     "output_type": "stream",
     "text": [
      "('Tom', 20, 'cat', ['book', 'Jerry'])\n",
      "Tom 20 cat ['book', 'Jerry']\n",
      "<class 'str'> <class 'int'> <class 'str'> <class 'list'>\n"
     ]
    }
   ],
   "source": [
    "# 定义函数，返回多个不同类型的值\n",
    "def getinfo() :\n",
    "    return 'Tom', 20, 'cat', ['book', 'Jerry']\n",
    "# 1. 使用一个变量获取返回值，返回值自动组成一个元组\n",
    "result = getinfo()\n",
    "print(result)\n",
    "# 2. 使用多个变量获取返回值\n",
    "# 可以理解为元组的【解包】，解包得到的变量数必须与元组中的元素一一对应\n",
    "name, age, category,likes = getinfo()\n",
    "# ValueError: too many values to unpack (expected 3)\n",
    "# name, age, category = getinfo()\n",
    "print(name, age, category,likes)\n",
    "print(type(name), type(age), type(category),type(likes))"
   ]
  },
  {
   "cell_type": "markdown",
   "metadata": {},
   "source": [
    "## 数据的元组解包定义方式\n",
    "\n",
    "zip 组包的逆向运算"
   ]
  },
  {
   "cell_type": "code",
   "execution_count": 20,
   "metadata": {},
   "outputs": [
    {
     "name": "stdout",
     "output_type": "stream",
     "text": [
      "1 2\n",
      "1 2\n",
      "1 2\n"
     ]
    }
   ],
   "source": [
    "a = 1\n",
    "b = 2\n",
    "print(a,b)\n",
    "# 元组定义方式\n",
    "a,b = 1,2\n",
    "print(a,b)\n",
    "# 1,2 等价于 (1,2)\n",
    "# a 和 b 分别获得元组解包后的元素 1 和 2\n",
    "a,b = (1,2)\n",
    "print(a,b)"
   ]
  },
  {
   "cell_type": "markdown",
   "metadata": {},
   "source": [
    "## 函数的传参\n",
    "\n",
    "- 位置参数要在关键字参数之前！"
   ]
  },
  {
   "cell_type": "code",
   "execution_count": 24,
   "metadata": {},
   "outputs": [
    {
     "name": "stdout",
     "output_type": "stream",
     "text": [
      "Lisa 您的年纪为 12 未满18周岁！\n",
      "Lock 欢迎您！\n",
      "Tim 您的年纪为 17 未满18周岁！\n",
      "Tim 您的年纪为 17 未满18周岁！\n"
     ]
    }
   ],
   "source": [
    "# 函数定义，是否允许进入酒吧\n",
    "# 形式参数 name age\n",
    "def bar(name, age) :\n",
    "    if age > 18 :\n",
    "        print(name,'欢迎您！')\n",
    "    else :\n",
    "        print(name,'您的年纪为',age,'未满18周岁！')\n",
    "# 函数调用\n",
    "# 2 个位置参数 'Lisa',12\n",
    "bar('Lisa',12)\n",
    "# 1个位置参数'Lock'，1个关键字参数(key-value) age = 29\n",
    "bar('Lock',age = 29)\n",
    "# 2 个关键字参数 name = 'Tim', age = 17\n",
    "bar(name = 'Tim', age = 17)\n",
    "# 关键字参数顺序可颠倒\n",
    "bar(age = 17, name = 'Tim')\n",
    "# 前面用了关键字参数，后面用位置参数，会报错\n",
    "# SyntaxError: positional argument follows keyword argument\n",
    "# bar(name = 'Locio', 19)"
   ]
  },
  {
   "cell_type": "markdown",
   "metadata": {},
   "source": [
    "## 函数注释写在函数定义中，使用带格式文本"
   ]
  },
  {
   "cell_type": "code",
   "execution_count": null,
   "metadata": {},
   "outputs": [],
   "source": [
    "def template(arg1, arg2) :\n",
    "    \"\"\"\n",
    "    This is an introduction of function.\n",
    "    arg1:\n",
    "    arg2:\n",
    "    return:\n",
    "    \"\"\"\n",
    "    # some codes\n",
    "    pass"
   ]
  },
  {
   "cell_type": "markdown",
   "metadata": {},
   "source": [
    "## 函数的默认参数\n",
    "\n",
    "- 默认参数要在位置参数后面"
   ]
  },
  {
   "cell_type": "code",
   "execution_count": 25,
   "metadata": {},
   "outputs": [
    {
     "name": "stdout",
     "output_type": "stream",
     "text": [
      "今日午餐：\n",
      "主食： 米饭\n",
      "菜品： 宫保鸡丁\n",
      "甜点： 老北京酸奶\n",
      "下午茶： 咖啡\n",
      "**********\n",
      "今日午餐：\n",
      "主食： 米饭\n",
      "菜品： 宫保鸡丁\n",
      "甜点： 老北京酸奶\n",
      "下午茶： 金桔柠檬\n",
      "**********\n",
      "今日午餐：\n",
      "主食： 米饭\n",
      "菜品： 宫保鸡丁\n",
      "甜点： 老北京酸奶\n",
      "下午茶： None\n"
     ]
    }
   ],
   "source": [
    "# 函数定义\n",
    "# 默认参数要在位置参数后面\n",
    "def mylunch(food, dish, desert, tea='咖啡') :\n",
    "    print('今日午餐：')\n",
    "    print('主食：',food)\n",
    "    print('菜品：',dish)\n",
    "    print('甜点：',desert)\n",
    "    print('下午茶：',tea)    \n",
    "# 函数调用\n",
    "# 不传递默认参数，默认参数采用默认值\n",
    "mylunch('米饭','宫保鸡丁','老北京酸奶')\n",
    "print('*'*10)\n",
    "# 传递默认参数，默认参数使用传递值\n",
    "mylunch('米饭','宫保鸡丁','老北京酸奶','金桔柠檬')\n",
    "print('*'*10)\n",
    "# 默认参数可以传递 None(无)\n",
    "mylunch('米饭','宫保鸡丁','老北京酸奶',tea=None)\n"
   ]
  },
  {
   "cell_type": "markdown",
   "metadata": {},
   "source": [
    "## 参数解包*\n",
    "\n",
    "- *参数，接收不定长参数列表（类似传递指针）"
   ]
  },
  {
   "cell_type": "code",
   "execution_count": 28,
   "metadata": {},
   "outputs": [
    {
     "name": "stdout",
     "output_type": "stream",
     "text": [
      "午餐包括： 汉堡\n",
      "午餐包括： 可乐\n",
      "**********\n",
      "午餐包括： 汉堡\n",
      "午餐包括： 可乐\n",
      "午餐包括： 炸鸡\n",
      "午餐包括： 火腿\n"
     ]
    }
   ],
   "source": [
    "# 定义函数，对参数 *foods 解包\n",
    "def mylunch(*foods) :\n",
    "    for food in foods :\n",
    "        print('午餐包括：',food)\n",
    "# 传递2个参数\n",
    "mylunch('汉堡','可乐')\n",
    "print('*'*10)\n",
    "# 传递4个参数\n",
    "mylunch('汉堡','可乐','炸鸡','火腿')"
   ]
  },
  {
   "cell_type": "markdown",
   "metadata": {},
   "source": [
    "## enumerate 函数\n",
    "\n",
    "- 遍历时返回元素index和元素\n",
    "- 优化对变长参数的遍历"
   ]
  },
  {
   "cell_type": "code",
   "execution_count": 33,
   "metadata": {},
   "outputs": [
    {
     "name": "stdout",
     "output_type": "stream",
     "text": [
      "----------\n",
      "formal arg1: File\n",
      "formal arg2: default_parameter\n",
      "----------\n",
      "formal arg1: File\n",
      "formal arg2: Edit\n",
      "----------\n",
      "formal arg1: File\n",
      "formal arg2: Edit\n",
      "3 th args: View\n",
      "4 th args: Run\n",
      "----------\n",
      "formal arg1: File\n",
      "formal arg2: Edit\n",
      "3 th args: View\n",
      "4 th args: Run\n",
      "5 th args: Kernel\n"
     ]
    }
   ],
   "source": [
    "# 函数定义\n",
    "def dictVarArgs(arg1, arg2='default_parameter',*args) :\n",
    "    \"\"\"\n",
    "    This function is a sample of input parameters.\n",
    "    \"\"\"\n",
    "    print('-'*10)\n",
    "    print('formal arg1:',arg1)\n",
    "    print('formal arg2:',arg2)\n",
    "#     for index in range(len(args)):\n",
    "#         print(index+3,'th args:',args[index])\n",
    "# enumerate 优化\n",
    "    for index, arg in enumerate(args) :\n",
    "        print(index+3,'th args:',arg)\n",
    "        \n",
    "# 函数调用\n",
    "dictVarArgs('File')\n",
    "dictVarArgs('File','Edit')\n",
    "dictVarArgs('File','Edit','View','Run')\n",
    "dictVarArgs('File','Edit','View','Run','Kernel')"
   ]
  },
  {
   "cell_type": "markdown",
   "metadata": {},
   "source": [
    "## **参数 \n",
    "\n",
    "- 匹配传入的 key=value 参数"
   ]
  },
  {
   "cell_type": "code",
   "execution_count": 36,
   "metadata": {},
   "outputs": [
    {
     "name": "stdout",
     "output_type": "stream",
     "text": [
      "----------\n",
      "formal arg1: 10\n",
      "formal arg2: default_parameter\n",
      "class_no \t: nlp5\n",
      "type_no \t: formal\n",
      "due_date \t: 2020-01-01\n"
     ]
    }
   ],
   "source": [
    "# 函数定义\n",
    "def dictVarArgs(arg1, arg2='default_parameter',**args) :\n",
    "    \"\"\"\n",
    "    This function is a sample of input parameters.\n",
    "    \"\"\"\n",
    "    print('-'*10)\n",
    "    print('formal arg1:',arg1)\n",
    "    print('formal arg2:',arg2)\n",
    "    for k,v in args.items() :\n",
    "        print(k,'\\t:',v)\n",
    "# 函数调用\n",
    "# arg1    10\n",
    "# arg2    'default_parameter'\n",
    "# ars     (class_no='nlp5',type_no='formal',due_date='2020-01-01')\n",
    "dictVarArgs(10, class_no='nlp5',type_no='formal',due_date='2020-01-01')\n"
   ]
  },
  {
   "cell_type": "markdown",
   "metadata": {},
   "source": [
    "## 函数嵌套"
   ]
  },
  {
   "cell_type": "code",
   "execution_count": 37,
   "metadata": {},
   "outputs": [
    {
     "name": "stdout",
     "output_type": "stream",
     "text": [
      "欢迎来到KKB！\n",
      "您已下单： 可乐\n",
      "您已下单： 汉堡\n"
     ]
    }
   ],
   "source": [
    "# 常规函数\n",
    "def hello() :\n",
    "    print('欢迎来到KKB！')\n",
    "    \n",
    "def order(*foods) :\n",
    "    for food in foods :\n",
    "        print('您已下单：',food)\n",
    "\n",
    "hello()\n",
    "order('可乐','汉堡')"
   ]
  },
  {
   "cell_type": "code",
   "execution_count": 38,
   "metadata": {},
   "outputs": [
    {
     "name": "stdout",
     "output_type": "stream",
     "text": [
      "欢迎来到KKB！\n",
      "您已下单： 可乐\n",
      "您已下单： 汉堡\n"
     ]
    }
   ],
   "source": [
    "# 函数嵌套\n",
    "def order_kbbr(*foods) :\n",
    "    # 嵌套函数定义\n",
    "    def hello_kkb() :\n",
    "        print('欢迎来到KKB！')\n",
    "    # 嵌套函数调用\n",
    "    hello_kkb()\n",
    "    # 常规语句\n",
    "    for food in foods :\n",
    "        print('您已下单：',food)\n",
    "\n",
    "order_kbbr('可乐','汉堡')"
   ]
  },
  {
   "cell_type": "markdown",
   "metadata": {},
   "source": [
    "## 函数变量使用范围"
   ]
  },
  {
   "cell_type": "code",
   "execution_count": 41,
   "metadata": {},
   "outputs": [],
   "source": [
    "def func() :\n",
    "    list_in_func = [1,2,3]\n",
    "# 函数内的局部变量不能在函数外使用\n",
    "# NameError: name 'list_in_func' is not defined\n",
    "# print(list_in_func)"
   ]
  },
  {
   "cell_type": "markdown",
   "metadata": {},
   "source": [
    "## 函数定义在使用之前\n",
    "例子-找到数组中的最大、最小和平均值"
   ]
  },
  {
   "cell_type": "code",
   "execution_count": 47,
   "metadata": {},
   "outputs": [
    {
     "name": "stdout",
     "output_type": "stream",
     "text": [
      "请输入第1天的收入：12\n",
      "请输入第2天的收入：23\n",
      "请输入第3天的收入：34\n",
      "请输入第4天的收入：45\n",
      "请输入第5天的收入：56\n",
      "请输入第6天的收入：67\n",
      "请输入第7天的收入：78\n",
      "------------------------------\n",
      "请输入第1天的支出：47\n",
      "请输入第2天的支出：78\n",
      "请输入第3天的支出：-12\n",
      "请输入第4天的支出：-40\n",
      "请输入第5天的支出：456.9\n",
      "请输入第6天的支出：37.45\n",
      "请输入第7天的支出：-12.5\n",
      "------------------------------\n",
      "收入的最大值 78.0\n",
      "收入的最小值 12.0\n",
      "收入的和 315.0\n",
      "收入的平均 45.0\n",
      "支出的最大值 456.9\n",
      "支出的最小值 -40.0\n",
      "支出的和 554.85\n",
      "支出的平均 79.26428571428572\n"
     ]
    }
   ],
   "source": [
    "# 定义函数\n",
    "# 找到数组中的最大值\n",
    "def find_max(numbers) :\n",
    "    _max = numbers[0]\n",
    "    for num in numbers :\n",
    "        if num > _max :\n",
    "            _max = num\n",
    "    return _max\n",
    "# 找到数组中的最小值\n",
    "def find_min(numbers) :\n",
    "    _min = numbers[0]\n",
    "    for num in numbers :\n",
    "        if num < _min :\n",
    "            _min = num\n",
    "    return _min\n",
    "# 计算数组中所有元素的和\n",
    "def compute_sum(numbers) :\n",
    "    _sum = 0\n",
    "    for num in numbers :\n",
    "        _sum += num\n",
    "    return _sum\n",
    "# 计算数组中所有元素的平均值\n",
    "def compute_avg(numbers) :\n",
    "    _sum = compute_sum(numbers)\n",
    "    _avg = _sum / len(numbers)\n",
    "    return _avg\n",
    "\n",
    "# 作业1 实现一周的记账功能\n",
    "days = 7\n",
    "income_list = []\n",
    "outcome_list = []\n",
    "balances = dict()\n",
    "\n",
    "# 记录输入的7天收入\n",
    "for i in range(days) :\n",
    "    input_value = float(input('请输入第'+str(i+1)+'天的收入：'))\n",
    "    income_list.append(input_value)\n",
    "print('------------------------------')\n",
    "# 记录输入的7天支出\n",
    "for i in range(days) :\n",
    "    input_value = float(input('请输入第'+str(i+1)+'天的支出：'))\n",
    "    outcome_list.append(input_value)    \n",
    "print('------------------------------')\n",
    "# 记录7天的节余\n",
    "for i in range(7) :\n",
    "    balances[i] = income_list[i]-outcome_list[i]\n",
    "# 打印\n",
    "print('收入的最大值',find_max(income_list))\n",
    "print('收入的最小值',find_min(income_list))\n",
    "print('收入的和',compute_sum(income_list))\n",
    "print('收入的平均',compute_avg(income_list))\n",
    "print('支出的最大值',find_max(outcome_list))\n",
    "print('支出的最小值',find_min(outcome_list))\n",
    "print('支出的和',compute_sum(outcome_list))\n",
    "print('支出的平均',compute_avg(outcome_list))"
   ]
  },
  {
   "cell_type": "code",
   "execution_count": null,
   "metadata": {},
   "outputs": [],
   "source": []
  }
 ],
 "metadata": {
  "kernelspec": {
   "display_name": "Python 3",
   "language": "python",
   "name": "python3"
  },
  "language_info": {
   "codemirror_mode": {
    "name": "ipython",
    "version": 3
   },
   "file_extension": ".py",
   "mimetype": "text/x-python",
   "name": "python",
   "nbconvert_exporter": "python",
   "pygments_lexer": "ipython3",
   "version": "3.7.3"
  }
 },
 "nbformat": 4,
 "nbformat_minor": 2
}
