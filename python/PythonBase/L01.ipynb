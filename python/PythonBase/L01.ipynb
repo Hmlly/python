{
 "cells": [
  {
   "cell_type": "markdown",
   "metadata": {},
   "source": [
    "使用python完成计算器"
   ]
  },
  {
   "cell_type": "code",
   "execution_count": 20,
   "metadata": {},
   "outputs": [
    {
     "data": {
      "text/plain": [
       "6.0"
      ]
     },
     "execution_count": 20,
     "metadata": {},
     "output_type": "execute_result"
    }
   ],
   "source": [
    "6/3*3"
   ]
  },
  {
   "cell_type": "markdown",
   "metadata": {},
   "source": [
    "# print() input()"
   ]
  },
  {
   "cell_type": "code",
   "execution_count": 1,
   "metadata": {},
   "outputs": [
    {
     "name": "stdout",
     "output_type": "stream",
     "text": [
      "你好\n"
     ]
    }
   ],
   "source": [
    "print('你好')"
   ]
  },
  {
   "cell_type": "code",
   "execution_count": 2,
   "metadata": {},
   "outputs": [
    {
     "name": "stdout",
     "output_type": "stream",
     "text": [
      "在吗？\n"
     ]
    }
   ],
   "source": [
    "print('在吗？')"
   ]
  },
  {
   "cell_type": "code",
   "execution_count": 3,
   "metadata": {},
   "outputs": [
    {
     "name": "stdout",
     "output_type": "stream",
     "text": [
      "吃饭吗\n"
     ]
    }
   ],
   "source": [
    "print('吃饭吗')"
   ]
  },
  {
   "cell_type": "code",
   "execution_count": 6,
   "metadata": {},
   "outputs": [
    {
     "name": "stdout",
     "output_type": "stream",
     "text": [
      "在吗？\n",
      "吃饭吗\n",
      "走吗？\n"
     ]
    }
   ],
   "source": [
    "print('在吗？')\n",
    "print('吃饭吗')\n",
    "print('走吗？')"
   ]
  },
  {
   "cell_type": "code",
   "execution_count": 7,
   "metadata": {},
   "outputs": [
    {
     "name": "stdout",
     "output_type": "stream",
     "text": [
      "你好\n"
     ]
    },
    {
     "data": {
      "text/plain": [
       "'你好'"
      ]
     },
     "execution_count": 7,
     "metadata": {},
     "output_type": "execute_result"
    }
   ],
   "source": [
    "input()"
   ]
  },
  {
   "cell_type": "markdown",
   "metadata": {},
   "source": [
    "## 输入字符串裁剪"
   ]
  },
  {
   "cell_type": "code",
   "execution_count": 10,
   "metadata": {},
   "outputs": [
    {
     "name": "stdout",
     "output_type": "stream",
     "text": [
      "吃饭吗？\n",
      "吃饭\n"
     ]
    }
   ],
   "source": [
    "text = input()\n",
    "print(text[:-2])"
   ]
  },
  {
   "cell_type": "code",
   "execution_count": 13,
   "metadata": {},
   "outputs": [
    {
     "name": "stdout",
     "output_type": "stream",
     "text": [
      "hello world\n",
      "hello world\n",
      "hello world\n"
     ]
    }
   ],
   "source": [
    "text = input()\n",
    "print(text)\n",
    "print(text)"
   ]
  },
  {
   "cell_type": "code",
   "execution_count": 14,
   "metadata": {},
   "outputs": [
    {
     "name": "stdout",
     "output_type": "stream",
     "text": [
      "please input your name: \n",
      "sunshia\n",
      "sunshia\n",
      "你好\n"
     ]
    }
   ],
   "source": [
    "print('please input your name: ')\n",
    "name = input()\n",
    "print(name)\n",
    "print('你好')"
   ]
  },
  {
   "cell_type": "markdown",
   "metadata": {},
   "source": [
    "## input() 输入提示"
   ]
  },
  {
   "cell_type": "code",
   "execution_count": 30,
   "metadata": {},
   "outputs": [
    {
     "name": "stdout",
     "output_type": "stream",
     "text": [
      "please input your number1: 2.5\n",
      "please input your number2: 2\n",
      "<class 'float'>\n",
      "5.0\n"
     ]
    }
   ],
   "source": [
    "num1 = input('please input your number1: ')\n",
    "num2 = input('please input your number2: ')\n",
    "#num1 = int(num1)\n",
    "#num2 = int(num2)\n",
    "num1 = float(num1)\n",
    "num2 = float(num2)\n",
    "print(type(num1))\n",
    "# num10 = 10\n",
    "# print(type(num10))\n",
    "# string = '这是一段文本'\n",
    "# print(type(string))\n",
    "num3 = num1 * num2\n",
    "print(num3)"
   ]
  },
  {
   "cell_type": "markdown",
   "metadata": {},
   "source": [
    "# 数据类型：str int float bool"
   ]
  },
  {
   "cell_type": "code",
   "execution_count": 31,
   "metadata": {},
   "outputs": [
    {
     "name": "stdout",
     "output_type": "stream",
     "text": [
      "<class 'int'>\n",
      "<class 'float'>\n",
      "<class 'str'>\n"
     ]
    }
   ],
   "source": [
    "num_int = 2\n",
    "print(type(num_int))\n",
    "num_float = 3.4\n",
    "print(type(num_float))\n",
    "words = '何来o'\n",
    "print(type(words))"
   ]
  },
  {
   "cell_type": "markdown",
   "metadata": {},
   "source": [
    "## 布尔类型"
   ]
  },
  {
   "cell_type": "code",
   "execution_count": 33,
   "metadata": {},
   "outputs": [
    {
     "name": "stdout",
     "output_type": "stream",
     "text": [
      "<class 'bool'>\n",
      "<class 'bool'>\n"
     ]
    }
   ],
   "source": [
    "three_is_a_num = True\n",
    "tree_is_a_num = False\n",
    "print(type(three_is_a_num))\n",
    "print(type(tree_is_a_num))"
   ]
  },
  {
   "cell_type": "markdown",
   "metadata": {},
   "source": [
    "# 字符串操作\n",
    "```\n",
    " + - * /\n",
    " + 字符串拼接\n",
    " * 字符串赋值\n",
    "```"
   ]
  },
  {
   "cell_type": "code",
   "execution_count": 34,
   "metadata": {},
   "outputs": [
    {
     "name": "stdout",
     "output_type": "stream",
     "text": [
      "please input your name: anna\n",
      "anna你好\n"
     ]
    }
   ],
   "source": [
    "name = input('please input your name: ')\n",
    "string = name + '你好'\n",
    "print(string)\n"
   ]
  },
  {
   "cell_type": "code",
   "execution_count": 35,
   "metadata": {},
   "outputs": [
    {
     "data": {
      "text/plain": [
       "'xiaomingxiaomingxiaomingxiaoming'"
      ]
     },
     "execution_count": 35,
     "metadata": {},
     "output_type": "execute_result"
    }
   ],
   "source": [
    "'xiaoming'*4"
   ]
  },
  {
   "cell_type": "markdown",
   "metadata": {},
   "source": [
    "## 转义字符\n",
    "```\n",
    "\\ 多行代码\n",
    "\\n 在字符串中表示换行\n",
    "```"
   ]
  },
  {
   "cell_type": "code",
   "execution_count": 43,
   "metadata": {},
   "outputs": [
    {
     "name": "stdout",
     "output_type": "stream",
     "text": [
      "甲：吃饭去吗？乙：去！\n",
      "甲：吃饭去吗？\n",
      "乙：去！\n"
     ]
    }
   ],
   "source": [
    "print('甲：吃饭去吗？\\\n",
    "乙：去！')\n",
    "print('甲：吃饭去吗？\\n乙：去！')"
   ]
  },
  {
   "cell_type": "code",
   "execution_count": 42,
   "metadata": {},
   "outputs": [
    {
     "data": {
      "text/plain": [
       "60"
      ]
     },
     "execution_count": 42,
     "metadata": {},
     "output_type": "execute_result"
    }
   ],
   "source": [
    "3*4*\\\n",
    "5"
   ]
  },
  {
   "cell_type": "code",
   "execution_count": 45,
   "metadata": {},
   "outputs": [
    {
     "name": "stdout",
     "output_type": "stream",
     "text": [
      "甲：吃饭去吗？\n",
      "乙：去！\n"
     ]
    }
   ],
   "source": [
    "# 按原本格式输出\n",
    "string = '''甲：吃饭去吗？\n",
    "乙：去！'''\n",
    "print(string)"
   ]
  },
  {
   "cell_type": "code",
   "execution_count": 46,
   "metadata": {},
   "outputs": [
    {
     "name": "stdout",
     "output_type": "stream",
     "text": [
      "\n",
      "    へ　　　　　／|\n",
      "　　/＼7　　∠＿/\n",
      "　 /　│　　 ／　／\n",
      "　│　Z ＿,＜　／　　 /`ヽ\n",
      "　│　　　　　ヽ　　 /　　〉\n",
      "　 Y　　　　　`　 /　　/\n",
      "　ｲ●　､　●　　⊂⊃〈　　/\n",
      "　()　 へ　　　　|　＼〈\n",
      "　　>ｰ ､_　 ィ　 │ ／／\n",
      "　 / へ　　 /　ﾉ＜| ＼＼\n",
      "　 ヽ_ﾉ　　(_／　 │／／\n",
      "　　7　　　　　　　|／\n",
      "　　＞―r￣￣`ｰ―＿\n"
     ]
    }
   ],
   "source": [
    "pikachu = '''\n",
    "    へ　　　　　／|\n",
    "　　/＼7　　∠＿/\n",
    "　 /　│　　 ／　／\n",
    "　│　Z ＿,＜　／　　 /`ヽ\n",
    "　│　　　　　ヽ　　 /　　〉\n",
    "　 Y　　　　　`　 /　　/\n",
    "　ｲ●　､　●　　⊂⊃〈　　/\n",
    "　()　 へ　　　　|　＼〈\n",
    "　　>ｰ ､_　 ィ　 │ ／／\n",
    "　 / へ　　 /　ﾉ＜| ＼＼\n",
    "　 ヽ_ﾉ　　(_／　 │／／\n",
    "　　7　　　　　　　|／\n",
    "　　＞―r￣￣`ｰ―＿'''\n",
    "print(pikachu)"
   ]
  },
  {
   "cell_type": "code",
   "execution_count": 50,
   "metadata": {},
   "outputs": [
    {
     "name": "stdout",
     "output_type": "stream",
     "text": [
      "zhangsan\thello\n",
      "lisi\thello\n"
     ]
    }
   ],
   "source": [
    "# 制表符 \\t\n",
    "name1 = 'zhangsan'\n",
    "hi1 = 'hello'\n",
    "name2 = 'lisi'\n",
    "hi2 = 'hello'\n",
    "print(name1+'\\t'+hi1)\n",
    "print(name2+'\\t'+hi2)"
   ]
  },
  {
   "cell_type": "markdown",
   "metadata": {},
   "source": [
    "# 运算符"
   ]
  },
  {
   "cell_type": "code",
   "execution_count": 57,
   "metadata": {},
   "outputs": [
    {
     "name": "stdout",
     "output_type": "stream",
     "text": [
      "25\n",
      "125\n"
     ]
    }
   ],
   "source": [
    "# 乘方\n",
    "print(5**2)\n",
    "print(5**3)"
   ]
  },
  {
   "cell_type": "code",
   "execution_count": 58,
   "metadata": {},
   "outputs": [
    {
     "data": {
      "text/plain": [
       "2"
      ]
     },
     "execution_count": 58,
     "metadata": {},
     "output_type": "execute_result"
    }
   ],
   "source": [
    "# 整除\n",
    "8//3"
   ]
  },
  {
   "cell_type": "code",
   "execution_count": 60,
   "metadata": {},
   "outputs": [
    {
     "data": {
      "text/plain": [
       "2"
      ]
     },
     "execution_count": 60,
     "metadata": {},
     "output_type": "execute_result"
    }
   ],
   "source": [
    "# 求余\n",
    "8 % 3"
   ]
  },
  {
   "cell_type": "code",
   "execution_count": 67,
   "metadata": {},
   "outputs": [
    {
     "name": "stdout",
     "output_type": "stream",
     "text": [
      "True\n",
      "True\n",
      "True\n",
      "False\n"
     ]
    }
   ],
   "source": [
    "# 布尔运算符\n",
    "# 非0 为真\n",
    "print(bool(1))\n",
    "print(bool(2))\n",
    "print(bool(-1))\n",
    "# 0 为假\n",
    "print(bool(0))\n"
   ]
  },
  {
   "cell_type": "code",
   "execution_count": 65,
   "metadata": {},
   "outputs": [
    {
     "name": "stdout",
     "output_type": "stream",
     "text": [
      "True\n",
      "False\n",
      "False\n",
      "False\n",
      "True\n",
      "True\n"
     ]
    }
   ],
   "source": [
    "# 逻辑运算符\n",
    "print(True and True)\n",
    "print(True and False)\n",
    "print(False and False)\n",
    "\n",
    "print(False or False)\n",
    "print(True or False)\n",
    "print(True or True)"
   ]
  },
  {
   "cell_type": "code",
   "execution_count": 70,
   "metadata": {},
   "outputs": [
    {
     "name": "stdout",
     "output_type": "stream",
     "text": [
      "1 - a 不等于 b\n",
      "2 - a 不等于 b\n",
      "2 - a 大于等于 b\n",
      "2 - a 大于 b\n",
      "2 - a 小于等于 b\n",
      "2 - a 小于 b\n"
     ]
    }
   ],
   "source": [
    "# 比较运算符\n",
    "a = 21\n",
    "b = 10\n",
    "c = 0\n",
    "if(a == b):\n",
    "    print('1 - a 等于 b')\n",
    "else:\n",
    "    print('1 - a 不等于 b')\n",
    "if(a != b):\n",
    "    print('2 - a 不等于 b')\n",
    "else:\n",
    "    print('2 - a 等于 b')\n",
    "if(a < b):\n",
    "    print('2 - a 小于 b')\n",
    "else:\n",
    "    print('2 - a 大于等于 b')\n",
    "if(a > b) :\n",
    "    print('2 - a 大于 b')\n",
    "else :\n",
    "    print('2 - a 小于等于 b')\n",
    "# 修改a和b的值\n",
    "a = 5\n",
    "b = 20\n",
    "if(a <= b):\n",
    "    print('2 - a 小于等于 b')\n",
    "else:\n",
    "    print('2 - a 大于 b')\n",
    "if(a >= b) :\n",
    "    print('2 - a 大于等于 b')\n",
    "else :\n",
    "    print('2 - a 小于 b')"
   ]
  },
  {
   "cell_type": "code",
   "execution_count": 73,
   "metadata": {},
   "outputs": [
    {
     "name": "stdout",
     "output_type": "stream",
     "text": [
      "101\n",
      "100\n",
      "200\n",
      "100.0\n"
     ]
    }
   ],
   "source": [
    "# 其他运算符\n",
    "clicked = 100\n",
    "clicked += 1\n",
    "# 注释\n",
    "# clicked = clicked + 1\n",
    "print(clicked)\n",
    "clicked -= 1\n",
    "print(clicked)\n",
    "clicked *= 2\n",
    "print(clicked)\n",
    "clicked /= 2\n",
    "print(clicked)"
   ]
  },
  {
   "cell_type": "code",
   "execution_count": 75,
   "metadata": {},
   "outputs": [
    {
     "name": "stdout",
     "output_type": "stream",
     "text": [
      "0\n",
      "1\n"
     ]
    }
   ],
   "source": [
    "# 测试\n",
    "print(2 // 3 and 1)\n",
    "# = 0 and 1\n",
    "# = 0\n",
    "print(10 % 3 == 3 or (True - False))\n",
    "# = 1 == 3 or (1-0)\n",
    "# = 0 or 1\n",
    "# = 1\n",
    "\n",
    "# exp1 or exp2 短路性质\n",
    "# exp1 为真，则不计算 exp2"
   ]
  },
  {
   "cell_type": "markdown",
   "metadata": {},
   "source": [
    "# 变量标识符命名规则\n",
    "- 第一个字符必须是字符或下划线 _ \n",
    "- 剩下的字符可以是字母，数字或下划线 _\n",
    "- 大小写敏感"
   ]
  },
  {
   "cell_type": "code",
   "execution_count": 79,
   "metadata": {},
   "outputs": [
    {
     "name": "stdout",
     "output_type": "stream",
     "text": [
      "alpha\n",
      "gamma\n",
      "1\n",
      "2\n"
     ]
    }
   ],
   "source": [
    "_text = 'alpha'\n",
    "# 错误命名\n",
    "# 2text = 'beta'\n",
    "text_this_one = 'gamma'\n",
    "print(_text)\n",
    "print(text_this_one)\n",
    "# 区分大小写\n",
    "time2 = 1\n",
    "Time2 = 2\n",
    "print(time2)\n",
    "print(Time2)"
   ]
  },
  {
   "cell_type": "code",
   "execution_count": 80,
   "metadata": {},
   "outputs": [
    {
     "name": "stdout",
     "output_type": "stream",
     "text": [
      "Python 关键字：\n",
      "\n",
      "Here is a list of the Python keywords.  Enter any keyword to get more help.\n",
      "\n",
      "False               class               from                or\n",
      "None                continue            global              pass\n",
      "True                def                 if                  raise\n",
      "and                 del                 import              return\n",
      "as                  elif                in                  try\n",
      "assert              else                is                  while\n",
      "async               except              lambda              with\n",
      "await               finally             nonlocal            yield\n",
      "break               for                 not                 \n",
      "\n"
     ]
    }
   ],
   "source": [
    "print('Python 关键字：')\n",
    "help('keywords')"
   ]
  },
  {
   "cell_type": "markdown",
   "metadata": {},
   "source": [
    "MarkDown语法"
   ]
  },
  {
   "cell_type": "markdown",
   "metadata": {},
   "source": [
    "# 1级标题\n",
    "\n",
    "*倾斜字体*\n",
    "_倾斜字体_\n",
    "\n",
    "## 2级标题\n",
    "**加粗字体**\n",
    "__加粗字体__\n",
    "\n",
    "[超链接](http://coding.net)\n",
    "\n",
    "![图片名](/path/to/img.jpg \"Optional title\")\n",
    "\n",
    "表格"
   ]
  },
  {
   "cell_type": "markdown",
   "metadata": {},
   "source": [
    "First Header | Second Header | Third Header\n",
    ":----------- | :-----------: | -----------:\n",
    "Left         | Center        | Right\n",
    "Left         | Center        | Right"
   ]
  },
  {
   "cell_type": "markdown",
   "metadata": {},
   "source": [
    "引用\n",
    "> 这是第一级引用。\n",
    ">\n",
    "> > 这是第二级引用。\n",
    ">\n",
    "> 现在回到第一级引用。"
   ]
  },
  {
   "cell_type": "markdown",
   "metadata": {},
   "source": [
    "无序列表\n",
    "- Red\n",
    "- Green\n",
    "- Blue"
   ]
  },
  {
   "cell_type": "markdown",
   "metadata": {},
   "source": [
    "有序列表\n",
    "1. Red\n",
    "2. Green\n",
    "3. Blue"
   ]
  },
  {
   "cell_type": "markdown",
   "metadata": {},
   "source": [
    "复选框\n",
    "- [ ] 不勾选\n",
    "- [x] 勾选"
   ]
  },
  {
   "cell_type": "markdown",
   "metadata": {},
   "source": [
    "引用代码\n",
    ">```ruby\n",
    ">require 'redcarpet'\n",
    ">markdown = Redcarpet.new(\"Hello World!\")\n",
    ">puts markdown.to_html\n",
    ">```"
   ]
  },
  {
   "cell_type": "markdown",
   "metadata": {},
   "source": [
    "# 分隔线\n",
    "\n",
    "这是分隔线上部分内容\n",
    "\n",
    "----\n",
    "这是分隔线下部分内容"
   ]
  },
  {
   "cell_type": "markdown",
   "metadata": {},
   "source": [
    "# 作业1\n",
    "输入半径，自动计算圆的面积 "
   ]
  },
  {
   "cell_type": "code",
   "execution_count": 1,
   "metadata": {},
   "outputs": [
    {
     "name": "stdout",
     "output_type": "stream",
     "text": [
      "Please input the radius of circle: 3.5\n",
      "The area of circle with radius 3.5 is: 38.4845100\n"
     ]
    }
   ],
   "source": [
    "# import math\n",
    "# print(math.pi)\n",
    "Pi = 3.141592653589793\n",
    "radius = input('Please input the radius of circle: ')\n",
    "radius2 = float(radius)**2\n",
    "area = Pi*radius2\n",
    "print('The area of circle with radius',radius,'is:','%.7f'%area)"
   ]
  },
  {
   "cell_type": "code",
   "execution_count": 103,
   "metadata": {},
   "outputs": [
    {
     "name": "stdout",
     "output_type": "stream",
     "text": [
      "False\n",
      "True\n",
      "True\n",
      "True\n"
     ]
    }
   ],
   "source": [
    "## 关系运算符\n",
    "a = 1\n",
    "print(a is int)\n",
    "print(a is not str)\n",
    "## 成员运算符\n",
    "numlist = {1,2,3,4,5}\n",
    "print(1 in numlist) \n",
    "print(6 not in numlist)"
   ]
  },
  {
   "cell_type": "markdown",
   "metadata": {},
   "source": [
    "## "
   ]
  }
 ],
 "metadata": {
  "kernelspec": {
   "display_name": "Python 3",
   "language": "python",
   "name": "python3"
  },
  "language_info": {
   "codemirror_mode": {
    "name": "ipython",
    "version": 3
   },
   "file_extension": ".py",
   "mimetype": "text/x-python",
   "name": "python",
   "nbconvert_exporter": "python",
   "pygments_lexer": "ipython3",
   "version": "3.7.3"
  }
 },
 "nbformat": 4,
 "nbformat_minor": 2
}
